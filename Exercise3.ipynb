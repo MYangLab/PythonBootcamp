{
 "cells": [
  {
   "cell_type": "markdown",
   "metadata": {},
   "source": [
    "## Exercise 3.1: Is that true?\n",
    "Use the following format to evaluate whether the objects presented below (x) are True or False. Before testing it in the script, try to guess for yourself whether it is True or False. \n",
    "```python\n",
    "query = x #fill in blank\n",
    "if query:\n",
    "    print ('Query',query,'is true')\n",
    "else:\n",
    "    print ('Query',query,'is false')\n",
    "```\n",
    "\n",
    "```python\n",
    "query = \"\" ##the empty string\n",
    "query = []\n",
    "query = {}\n",
    "query = [[]]\n",
    "query =  0\n",
    "query = [0]\n",
    "query = [0][0] ##also-- what is this? Print out the value of [0][0] and [1][0] before doing the truth test)\n",
    "query = [[ ]] [0]\n",
    "```"
   ]
  },
  {
   "cell_type": "markdown",
   "metadata": {
    "collapsed": true
   },
   "source": [
    "## Exercise 3.2: My Pet Gene Finder ---\n",
    "Write your first gene-finding program: have the user enter a string of six nucleotides. If the length of the string is not six, tell the user to input another string. If it is, and the six nucleotide sequence contains 'ATG,' print the position where it is found. If 'ATG' appears multiple times, print only the location of the first instance. If the string does not contain 'ATG', print -1."
   ]
  },
  {
   "cell_type": "markdown",
   "metadata": {},
   "source": [
    "## Exercise 3.3: Memory issues\n",
    "\n",
    "Consider the lines of code below. What do you expect to be printed in each case. Then, run the code in a new cell - is it what you would expect? Which one is odd to you and why? Can you search online and figure out why you are getting the output you observe?\n",
    "```python\n",
    "x=5\n",
    "y=5\n",
    "print (x is y)\n",
    "\n",
    "x=10000\n",
    "y=10000\n",
    "print (x is y)\n",
    "``` \n",
    "*HINT: If you are having a difficult time finding a good answer while internet searching (but please take the time to try yourself first!), click [here](https://stackoverflow.com/questions/132988/is-there-a-difference-between-and-is-in-python). The Stack Overflow is an online forum to ask coding questions, and often my source for answers on why weird things are occurring in my code. Almost every question you can think of has been answered in some form of the internet - the trick is knowing the right combination of words to type into your search engine. For me I searched \"is in python\" and the first entry was the above link.*\n"
   ]
  },
  {
   "cell_type": "markdown",
   "metadata": {},
   "source": [
    "## Exercise 3.4: Baby's first FASTA parser ---\n",
    "Write your first FASTA parser: from a series of user inputs, you wish to create a dictionary keyed by gene IDs with values corresponding to their sequence. A FASTA file has the following format:\n",
    "```\n",
    ">gene1  \n",
    "ATAGCAGTTAGC  \n",
    "TTAGCAGCAGTT  \n",
    "ATAGCGCA  \n",
    ">gene2  \n",
    "ATGACGACGATT  \n",
    "TTGACGACTAGG  \n",
    "ACAGCC  \n",
    ">gene3  \n",
    "AGATGCCCCCTT  \n",
    "...\n",
    "```\n",
    "\n",
    "The [Wikipedia article](https://en.wikipedia.org/wiki/FASTA_format) does a pretty good job describing this format of sharing sequence data, if you haven't seen it before. \n",
    "\n",
    "A. While you will learn about handling files soon, for now, assume that this file is being typed in by the user -- their first input will be '>gene1', their second will be 'ATAGCAGTTAGC', and so on. Ask the user for input 6 times (3 genes and 3 corresponding sequences), entered in the order: gene, sequence, gene, sequence, etc. Your dictionary should have keys 'gene1', 'gene2', and 'gene3' (note the absence of the '>' symbol) and the sequences of those genes as values.\n",
    "\n",
    "B. Above, I asked for three entries (six inputs). How would you change your code to make this more flexible?\n"
   ]
  },
  {
   "cell_type": "markdown",
   "metadata": {},
   "source": [
    "## Exercise 3.5: Where are those bases? ---\n",
    "In the lesson, we introduced the script below.\n",
    "\n",
    "Go through each line and comment what is occurring. At the nested **for loop**, can you keep track of what is happening? Write out to yourself what is occurring for the first few iterations. Use **print()** and **break** to print what each variable is for the first few iterations and check it against what you thought to make sure you really understand. \n"
   ]
  },
  {
   "cell_type": "code",
   "execution_count": 1,
   "metadata": {},
   "outputs": [
    {
     "name": "stdout",
     "output_type": "stream",
     "text": [
      "The total number of basepairs is: 540\n",
      "For base A, the maximum distance between As is 10\n",
      "For base G, the maximum distance between Gs is 22\n",
      "For base C, the maximum distance between Cs is 100\n",
      "For base T, the maximum distance between Ts is 16\n"
     ]
    }
   ],
   "source": [
    "##Example 2 from Lesson 3: using the sequence of nucleotide bases from before, \n",
    "##what is the longest unbroken distance (number of base pairs) separating \n",
    "##two of the exact same nucleotide base. \n",
    "\n",
    "seq = ('TTACCCGGGGTTAAAGTTGAATATTAAGGAGTGTAGTAGTACGAATAAACCGGCTCGAAC'\n",
    "       'TATTACCTTTAGGAAATTTAAGTTTAAGTAGGAAGAAAAAATAAAAAAGTTAAAGAAGAA'\n",
    "       'GGAGGATATAATTAAAGTTTTATAAATATAGAGAAGGTAAAAGAAGCGTTAGAAAAATGG'\n",
    "       'ATATTAATCTTAGAAAAGATTAATATAATAAAAGACTTTAAATTTACCTTTCGCAAACTT'\n",
    "       'AATAGAGAATTTATAAGTATTGTAAAGGAATTCGTCCTATATTAAAAGAAAAATTGAAGG'\n",
    "       'AGGAAAATAAATTAATAAATATTAGAATATAAAATAATTATAAAAGAAGTATAGAAGATA'\n",
    "       'TACTAGGAGTAGTTTAAGTACCGAATAGTATCGAATTAAAGGGAATTTATTAAAGCTATA'\n",
    "       'ATAAAAAAGAAGAGGATTATTATAAAGGCTTAATAGGCTACGTAGTACAATAGTATTACC'\n",
    "       'GAAGCTTCGAAGAATCTAAATCGATTCTAATTATTAGAATAATAGGCTTGGATCCGAAGT')\n",
    "\n",
    "basepos = {base:[] for base in \"AGCT\"}\n",
    "\n",
    "for pos,base in enumerate(seq): \n",
    "    basepos[base].append(pos)\n",
    "\n",
    "diffs = {base:{} for base in \"AGCT\"}\n",
    "\n",
    "for base in basepos:\n",
    "    for index,pos in enumerate(basepos[base]):\n",
    "        if index == 0: continue\n",
    "        numposbtwn = pos-basepos[base][index-1]\n",
    "        if numposbtwn in diffs[base]:\n",
    "            diffs[base][numposbtwn]+=1\n",
    "        else:\n",
    "            diffs[base][numposbtwn]=1\n",
    "\n",
    "print (\"The total number of basepairs is:\", len(seq))\n",
    "\n",
    "for i in diffs: \n",
    "    print (f\"For base {i}, the maximum distance between {i}s is {max(diffs[i].keys())}\")\n",
    "       "
   ]
  },
  {
   "cell_type": "markdown",
   "metadata": {},
   "source": [
    "## Exercise 3.6. All Roads Lead to Rome \n",
    "Adapted from [Learning Python](http://www.amazon.com/gp/product/1449355730/ref=pd_lpo_sbs_dp_ss_1?pf_rd_p=1944687762&pf_rd_s=lpo-top-stripe-1&pf_rd_t=201&pf_rd_i=0596002815&pf_rd_m=ATVPDKIKX0DER&pf_rd_r=0H4E3BSC5ZC5HMJAKM5Z)\n",
    "\n",
    "A coworker (who obviously is not a native Python speaker) hands you the following code (below), which tests if 2^x (the xth power of 2) is in a list 'L'.\n",
    "\n",
    "As is, the script does not follow normal Python coding techniques. Follow the steps below to improve it.  \n",
    "A) Rewrite this code with a **while**/**else** loop to eliminate the 'found' flag and the final **if** statement.  \n",
    "B) Rewrite the example to use a **for**/**else** loop to eliminate the explicit list indexing logic.  \n",
    "C) Remove the loop completely by rewriting the examples using an expression with **in** (HINT: try the line `print (2 in [1,2,3])` )\n",
    "D) Use a **for** loop and the list **append** method to generate the list 'L' instead of typing it by hand.  \n",
    "E) Use a list comprehension and the exponentiation operator to generate the list 'L' in one line (10\\**3 is 1000). \n"
   ]
  },
  {
   "cell_type": "code",
   "execution_count": 2,
   "metadata": {},
   "outputs": [
    {
     "name": "stdout",
     "output_type": "stream",
     "text": [
      "at index 5\n"
     ]
    }
   ],
   "source": [
    "L = [1,2,4,8,16,32,64]\n",
    "x = 5\n",
    " \n",
    "found = i = 0\n",
    "while not found and i < len(L):\n",
    "    #check if 2 to the power\n",
    "    #of x is in the list\n",
    "    if 2 ** x == L[i]:\n",
    "        found = 1\n",
    "    else:\n",
    "        i = i+1\n",
    "if found:\n",
    "    print ('at index', i)\n",
    "else:\n",
    "    print (x, 'not found')"
   ]
  },
  {
   "cell_type": "markdown",
   "metadata": {},
   "source": [
    "## Exercise 3.7: Dictionary of dictionaries\n",
    "A) You want to store sequence information from a human, mouse, and rat. Each species has a set of gene names corresponding to a set of sequences-- make a dictionary that has keys 'human', 'mouse', and 'rat', with each key having as a value a dictionary with gene names as keys and sequences as values.\n",
    "\n",
    "The data are:\n",
    "Human genes:\n",
    "'TallnessGene' has sequence 'AATAGCAG'\n",
    "'SmartnessGene' has sequence 'TGACGGA'\n",
    "\n",
    "Mouse genes:\n",
    "'FuzzynessGene' has sequence 'CCCCCCA'\n",
    "'BeadyLittleEyesGene' has sequence 'ATAGCGC'\n",
    "\n",
    "Rat genes:\n",
    "'FuzzynessGene' has sequence 'CCCTCCA'\n",
    "'BiggerThanMouseGene' has sequence 'GGACAATT'\n",
    "\n",
    "B) Using the 'keys' method, print the names of the human genes.\n",
    "\n",
    "C) Print out the sequence of FuzzynessGene in rat and mouse.\n",
    "\n",
    "D) Print the third nucleotide of the human tallness gene.\n"
   ]
  },
  {
   "cell_type": "markdown",
   "metadata": {},
   "source": [
    "## Exercise 3.8: Run Lola run!\n",
    "\n",
    "Make three lists and from them make a list of lists:\n",
    "```python\n",
    "run1 = [2,3,5,5]\n",
    "run2 = [2,2,4,5]\n",
    "run3 = [3,3,4,6]\n",
    "listOfRuns = [run1,run2,run3]\n",
    "```\n",
    "a) Alter the first element of run1. Has anything happened to listOfRuns?\n",
    "\n",
    "b) Specify listOfRuns similarly, but using copies of run1, run2, and run3 instead of the lists themselves. Now, alter the first element of run1 and see what has happened to listOfRuns. What happened?\n"
   ]
  },
  {
   "cell_type": "markdown",
   "metadata": {},
   "source": [
    "## Exercise 3.9: Multiplying Lists ---\n",
    "\n",
    "Use \\* (multiplication) to create a list of three empty lists. Use the append method to add the element \"i belong first!\" to the first list of the list of lists. Print out the list of lists. What has happened? \n"
   ]
  },
  {
   "cell_type": "markdown",
   "metadata": {},
   "source": [
    "## Exercise 3.10: Nested Loops\n",
    "In Exercise 3.7, you created a dictionary of dictionaries for:\n",
    "```\n",
    "Human genes:\n",
    "'TallnessGene' has sequence 'AATAGCAG'\n",
    "'SmartnessGene' has sequence 'TGACGGA'\n",
    "\n",
    "Mouse genes:\n",
    "'FuzzynessGene' has sequence 'CCCCCCA'\n",
    "'BeadyLittleEyesGene' has sequence 'ATAGCGC'\n",
    "\n",
    "Rat genes:\n",
    "'FuzzynessGene' has sequence 'CCCTCCA'\n",
    "'BiggerThanMouseGene' has sequence 'GGACAATT'\n",
    "```\n",
    "\n",
    "A. Using the dictionary, recreate the above text using **for loops**.\n",
    "\n",
    "B. Also using **for loops**, make a new dictionary where you assign the REVERSE COMPLEMENT of the nucleotide sequence for each gene. If you're not sure what a reverse complement is, look [here](http://bioweb.uwlax.edu/GenWeb/Molecular/Seq_Anal/Reverse_Comp/reverse_comp.html)."
   ]
  }
 ],
 "metadata": {
  "kernelspec": {
   "display_name": "Python 3 (ipykernel)",
   "language": "python",
   "name": "python3"
  },
  "language_info": {
   "codemirror_mode": {
    "name": "ipython",
    "version": 3
   },
   "file_extension": ".py",
   "mimetype": "text/x-python",
   "name": "python",
   "nbconvert_exporter": "python",
   "pygments_lexer": "ipython3",
   "version": "3.9.13"
  }
 },
 "nbformat": 4,
 "nbformat_minor": 1
}
