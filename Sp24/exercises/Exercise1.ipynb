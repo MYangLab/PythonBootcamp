{
 "cells": [
  {
   "cell_type": "markdown",
   "metadata": {},
   "source": [
    "## Exercise 1.1: Organizing and reviewing Linux (Linux Question)\n",
    "A. Confirm that you have a folder/directory in `/scratch/myang_shared/lab/PythonBootcamp/Sp24/students/` with your first name as the folder name. What Linux commands can you use to check this folder exists? \n",
    "\n",
    "B. Use `chmod -R 754 /scratch/myang_shared/lab/PythonBootcamp/Sp24/students/yourfirstname/` to change the permissions of your personal directory. Look up 'chmod 754' - what does this command do? What other Linux command allows you to check the permissions of your personal directory?\n",
    "\n",
    "C. Make sure you have an `exercises/` folder, a `lessons/` folder, and a `resources/` folder in your personal directory, and that you have a personal 'Lesson1.ipynb' and 'Exercise1.ipynb' in the `lessons/` and `exercises/` folders, respectively. For any that you do not have, make that directory or file, preferably using Linux commands such as `cp`. \n",
    "\n",
    "D. From the `SGDPinfo.txt` file from Lesson 1, find the Han and French - use Linux commands to determine the number of samples for each, the region they are from, and number of males and females, and who contributed their information. "
   ]
  },
  {
   "cell_type": "markdown",
   "metadata": {},
   "source": [
    "## Exercise 1.2: Downloading files and determining information (Linux Question) - Bio edition\n",
    "Let's look at a data file of some genomic information, and see what we can pull out. We will look at a file containing information about different features in the genome of a yeast organism called *S. cerevisiae*. Each feature is provided an ID, a label on the type of feature, and other data related to the feature. \n",
    "\n",
    "A. Let's download the data file. Enter your `resources/` folder. Then, type `curl http://sgd-archive.yeastgenome.org/curation/chromosomal_feature/SGD_features.tab > SGD_features.tab`. Use `man` to look up what `curl` does. \n",
    "\n",
    "Below is a description of what is in this TAB file. There's probably a lot you don't understand - it's okay! Part of learning informatics well is not just the coding, but learning about the files you need to use. You can't just learn code - you have to make the effort to understand the data as well. Below, I show the 16 column types for the data file. Use the information provided on the columns to help you figure out the answers to B-E. \n",
    "\n",
    "**Columns within sgd_features.tab:**\n",
    "1. primary standfor gene database id (sgdid) (mandatory)\n",
    "2. feature type (mandatory)\n",
    "3. feature qualifier (optional)\n",
    "4. feature name (optional)\n",
    "5. standard gene name (optional)\n",
    "6. alias (optional, multiples separated by |)\n",
    "7. parent feature name (optional)\n",
    "8. secondary sgdid (optional, multiples separated by |)\n",
    "9. chromosome (optional)\n",
    "10. start_coordinate (optional)\n",
    "11. stop_coordinate (optional)\n",
    "12. strand (optional)\n",
    "13. genetic position (optional)\n",
    "14. coordinate version (optional)\n",
    "15. sequence version (optional)\n",
    "16. description (optional)\n",
    "\n",
    "B. How many rows are in the data file?\n",
    "\n",
    "C. Count the total number of ORFs, or open reading frames (each ORF refers to one gene). How many ORFs are in the file (i.e., how many genes are in the *S. cerevisiae* genome? \n",
    "\n",
    "D. Count only verified ORFs. Count only uncharacterized ORFs.\n",
    "\n",
    "E. What other types of ORFs are in this file? For this, you may want to use the `sort -u` command, which will sort the input alphabetically, then take only unique lines.\n"
   ]
  },
  {
   "cell_type": "markdown",
   "metadata": {},
   "source": [
    "## Exercise 1.3: Downloading files and determining information (Linux Question) - Geog edition¶\n",
    "\n",
    "A. Go to this [NOAA PAGE](https://www.ncei.noaa.gov/access/monitoring/climate-at-a-glance/city) and download csv files of annual maximum temperature, minimum temperature, and precipitation time-series data for Richmond, VA between 1895-2023 and upload them to your `resources` folder. You can do this by manually downloading the file and then uploading it to the server like we worked through in Lesson 1, but I will walk us through an easier way for 'Precipitation' and then you will do the same for 'Maximum Temperature and 'Minimum Temperature.'\n",
    "\n",
    "On NOAA City Time Series page, choose:\n",
    "Parameter: Precipitation\n",
    "Time Scale: 12-Month\n",
    "Month: December\n",
    "Start year: 1895\n",
    "End year: 2023\n",
    "State: Virginia\n",
    "City: Richmond\n",
    "\n",
    "Then hit `Plot.`\n",
    "\n",
    "Under the plot, there are three buttons. Right click on the `csv` button and click, `Copy link address.` \n",
    "\n",
    "Then, in your `resources` folder, we're going to use the [`wget`](https://www.hostinger.com/tutorials/wget-command-examples/) [command](https://unix.stackexchange.com/questions/47434/what-is-the-difference-between-curl-and-wget). \n",
    "To get a file from a webpage and store that file w a specific file name, the format is:\n",
    "`wget -O specificFileName.csv http://webpagefile.com/`\n",
    "\n",
    "So for us, that would be:\n",
    "\n",
    "\n",
    "```bash\n",
    "wget -O rvaPrecip.csv https://www.ncei.noaa.gov/access/monitoring/climate-at-a-glance/city/time-series/USW00013740/pcp/12/12/1895-2023.csv?base_prd=true&begbaseyear=1991&endbaseyear=2020 \n",
    "```\n",
    "**Note: you may have to hit enter twice with the above command**\n",
    "\n",
    "B. Download the minimum temperature and maximum temperature data into your `resources` file as well.\n",
    "\n",
    "C. Using the Linux commands you learned in Lesson 1, for each file, tell me how many years of data there are, if there are any years that do not have data, and the units for each of these variables.\n",
    "\n",
    "D. Using Linux's wc command, figure out how many lines of data there are in each file.\n"
   ]
  },
  {
   "cell_type": "markdown",
   "metadata": {},
   "source": [
    "## Exercise 1.4: Temperature confusion (Python Question)\n",
    "A. Americans are a bit silly and use the Fahrenheit system, unlike most of the rest of the world. Thus, we often have trouble understanding the temperature when written in Celsius. Write me a script where you set a variable to a temperature in Celsius and it prints out the temperature in Fahrenheit. Then, write me a second script where it does the reverse. (Do this in a cell in the notebook)\n",
    "\n",
    "B. Write these two scripts to two files labeled *C2F.py* and *F2C.py*. Run these two programs through the Terminal."
   ]
  },
  {
   "cell_type": "markdown",
   "metadata": {},
   "source": [
    "## Exercise 1.5: Reflection\n",
    "\n",
    "You've finished all exercises! Take a moment to jot down some questions/comments to yourself - consider the following:\n",
    "\n",
    "1. What do you feel comfortable with?\n",
    "2. What are questions you still have?\n",
    "3. What types of problems would you like more of?\n",
    "4. About how long did these four exercises take you? "
   ]
  }
 ],
 "metadata": {
  "kernelspec": {
   "display_name": "Python 3 (ipykernel)",
   "language": "python",
   "name": "python3"
  },
  "language_info": {
   "codemirror_mode": {
    "name": "ipython",
    "version": 3
   },
   "file_extension": ".py",
   "mimetype": "text/x-python",
   "name": "python",
   "nbconvert_exporter": "python",
   "pygments_lexer": "ipython3",
   "version": "3.9.13"
  }
 },
 "nbformat": 4,
 "nbformat_minor": 1
}
