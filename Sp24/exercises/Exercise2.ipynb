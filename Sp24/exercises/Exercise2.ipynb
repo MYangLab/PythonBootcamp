{
 "cells": [
  {
   "cell_type": "markdown",
   "metadata": {},
   "source": [
    "## Exercise 2.1: The Greeter\n",
    "A. Write a program that asks for the user's name and tells them hello. Try it first in a cell but then write it to a file and execute it in the Terminal.\n",
    "\n",
    "B. Add on to the script, making it ask for your year of birth. Make the script compute your age and print it in the following format: \n",
    "```\n",
    "Since you were born in 1988, your age is 28.\n",
    "```"
   ]
  },
  {
   "cell_type": "markdown",
   "metadata": {
    "collapsed": true
   },
   "source": [
    "## Exercise 2.2: Numbers, numbers everywhere\n",
    "A. Write a script where you input five numbers. Print out their sum and mean. Try to use the `list` datatype in your script. \n",
    "\n",
    "B. Now try to break your script - what errors can you come up with? Google one error that comes up, and explain what the error means. \n",
    "\n",
    "C. Take this list of numbers: \n",
    "```python\n",
    "mylst = [0,1,2,3,4,5,6,7,8,9]\n",
    "```\n",
    "Using slicing, print a list of only even numbers, only odd numbers, and only numbers divisible by four. \n",
    "\n",
    "D. CHALLENGE: Let's revisit the script you wrote in part A. Instead of just inputting five numbers, first ask the user to specify a number of digits (e.g. 1-digit numbers, 2-digit numbers, etc.). Then, ask the user to supply five numbers of that many digits separated by spaces. Parse these numbers out, and calculate sum and mean as in part A. Try doing this without using any additional variables! (Use only the one that contains the string that you read in - this will need advanced slicing skills!)"
   ]
  },
  {
   "cell_type": "markdown",
   "metadata": {},
   "source": [
    "## Exercise 2.3: FIREfest (GEO)\n",
    "\n",
    "Here, you will write Python code to download and work with data on fire occurrence in California between 1992 and 2015 provided by the United States Forest Service. \n",
    "\n",
    "The file you will use is `ca-fires-1992-2015-gt-100-acres.csv` which is in `/scratch/myang_shared/lab/PythonBootcamp/Sp24/resources`.\n",
    "The dataset contains one record for every fire greater than 100 acres that occurred between 1992 and 2015 in California.\n",
    "The dataset has columns for the size of the fire (acres) and for the year and month of the fire, along with other details about the cause, reporting agency, county name, etc. \n",
    "\n",
    "A. On Linux/in the terminal, copy the csv file into your own folder.\n",
    "\n",
    "B. In your notebook, make sure you have import the pandas package. \n",
    "\n",
    "C. Import the downloaded .csv file into a pandas dataframe.\n",
    "\n",
    "D. Print the first 5 records of the dataframe.\n",
    "\n",
    "E. Print the last 5 records of the dataframe.\n",
    "\n",
    "F. Using [.describe](https://pandas.pydata.org/docs/reference/api/pandas.DataFrame.describe.html) get the number of rows and columns, column names and data types in this dataframe.\n",
    "\n",
    "G. [Create a new column in your dataframe](https://pandas.pydata.org/docs/getting_started/intro_tutorials/05_add_columns.html) that contains fire_size in hectares instead of acres. Name the column fire_size_hectares. Hectares is a standard international unit that represents 10,000 square meters. 1 hectare = 2.47105 acres.\n",
    "\n",
    "H. Display the mean, minimum, and maximum values for fire size across the entire dataset.\n",
    "\n",
    "I. Calculate the maximum fire size in hectares for each year in the dataset and save this output to a new dataframe.\n",
    "\n",
    "J. Reset the index of the dataframe created in the previous question (i.e. return row index to range starting at [0]).\n",
    "\n",
    "K. Create a figure with of maximum fire size per year. For your title and labels, be sure to think about the following pieces of information that could help someone easily interpret the plot:\n",
    "* geographic coverage or extent of data.\n",
    "* duration or temporal extent of the data.\n",
    "* what was actually measured and/or represented by the data.\n",
    "* units of measurement.\n",
    "\n",
    "L. Does the maximum size of fires appear to be increasing over time in California?\n",
    "\n",
    "M.  You can group a dataframe by two (or more) columns using the syntax:\n",
    "```python \n",
    "dataframe.groupby([\"column1-name\",\"column2-name\"])\n",
    "```\n",
    "Calculate the max fire size in hectares for each year and grouped by the cause column. Use head or tail to make sure your dataset looks like you want it toook. \n",
    "Ideally, your final dataframe will look something like this:\n",
    "`\n",
    "\n",
    "\t     year \tcause \tfire_size_hectares\n",
    "         1992 \tArson \t25899.921086`\n",
    "  \n",
    "N. According to this dataset, how many fires greater than 100 acres occurred between 1992 and 2015 in California?"
   ]
  },
  {
   "cell_type": "markdown",
   "metadata": {},
   "source": [
    "## Exercise 2.4: Examining the amino acid sequences of the protein LeuT (BIO)\n",
    "Your boss has asked you to do a small bioinformatics project on the protein LeuT (pdb code 2Q6H), which is the neurotransmitter responsible for transporting antidepressants. Every protein is made of a string of molecules known as amino acids, and we want to examine how many and what types of amino acids are present in the protein LeuT. \n",
    "\n",
    "First, we need the data file storing the information on the protein LeuT. Protein Databank (PDB) structure files containing the amino acid sequence are stored at http://www.rcsb.org/. While we have provided the PDB file under `resources/` for you copy into your folder, try and see if you can download the file yourself! Use the pdb code (2Q6H) to find the file at the RCSB website. After searching the code, on the resulting page, use Download Files >> PDB Format (don't use the one with the 'gz' option) to download the PDB file onto your computer. __Then, move the structure file into your `resources/` directory using Jupyter Notebook's upload option.__\n",
    "\n",
    "We don't know how to open files in Python yet that don't have a spreadsheet format, so to help you out, we have provided a script (see below) that will read in a file and save the amino acid sequence to a list called `protSeq1` and a dictionary called `protSeq2`. I have commented the code, but there are many things in here you haven't learned yet.\n",
    "\n",
    "Using the code below, you can access the `protSeq1` and `protSeq2` variables (you may need to rewrite the file path if you get an error and it says you can't find the file - it should work if you set it up like I did in your `resources/` folder). We ended the script with a `print` statement so you can see an ordered list of amino acids for the LeuT protein. \n",
    "\n",
    "A. Uncomment the last `print` statement and run the script. Examine the list that results from `protSeq1`. Explain what datatype is stored in the list. \n",
    "\n",
    "B. Add code to the script to calculate how many amino acids are in the protein (i.e. the total number of elements in the list). \n",
    "\n",
    "C. Now adjust the `print` statement so that you print `protSeq2`. What data is shown in this dictionary?\n",
    "\n",
    "D. Run the code in the cell after you make the `protSeq1` and `protSeq2` variables. Explain what each of the four rows are doing, and compare the functions used to what you learned in Lesson 2. Note that there are differences! Determine what new things this script shows you. \n",
    "\n",
    "E. Analyze the graph - what amino acid is most frequent in LeuT? Least frequent? (For Bio kids, are there are any patterns to the types of amino acids that are most or least frequent?)"
   ]
  },
  {
   "cell_type": "code",
   "execution_count": null,
   "metadata": {},
   "outputs": [],
   "source": [
    "#initialize list to store sequence\n",
    "protSeq1 = []\n",
    "protSeq2={}\n",
    "#open pdb file\n",
    "f1 = open('../resources/2q6h.pdb', 'r') ##Look one path back from your Jupyter Notebook for a resources/ folder that has the 2Q6H.pdb file\n",
    "#loop over lines in file\n",
    "for next in f1:\n",
    "    #identify lines that contain sequences\n",
    "    if next[:6] == 'SEQRES':\n",
    "        #strip away white space and\n",
    "        #convert line into list\n",
    "        line = next.strip().split()\n",
    "        #delete descriptor information\n",
    "        #at beginning of each line\n",
    "        del line[:4]\n",
    "        #loop over amino acids in line\n",
    "        for aa in line:\n",
    "            #add to sequence list\n",
    "            protSeq1.append(aa)\n",
    "            #add to sequence dictionary\n",
    "            if aa not in protSeq2: protSeq2[aa]=1\n",
    "            else: protSeq2[aa]+=1\n",
    "#close file\n",
    "f1.close()\n",
    "\n",
    "#print (protSeq1)"
   ]
  },
  {
   "cell_type": "code",
   "execution_count": null,
   "metadata": {},
   "outputs": [],
   "source": [
    "import pandas as pd\n",
    "import matplotlib.pyplot as plt\n",
    "df1 = pd.Series(data=protSeq1)\n",
    "df1.value_counts().plot(kind='bar')"
   ]
  },
  {
   "cell_type": "markdown",
   "metadata": {},
   "source": [
    "## Optional Additional Exploration: Sets, sets, sets!\n",
    "\n",
    "This lesson, you learned about many ways to group data. Here is one more, using the datatype `Sets`.  Like a set in mathematics, it has a bunch of elements with no repeats.  To build a set, you pass in a list, and it will automatically remove duplicates.\n",
    "```python\n",
    "myset = set([1,1,2,3,5,8])\n",
    "\n",
    "set([8, 1, 2, 3, 5])\n",
    "```\n",
    "\n",
    "Google \"python Sets\" and see if you can learn a bit more about them. They have many methods and we will learn a few. \n",
    "\n",
    "Take the following two sets:\n",
    "```python\n",
    "beijing_unis = {\"Beida\",\"CAS\",\"Qinghua\",\"Renmin\"}\n",
    "china_unis = {\"Beida\",\"CAS\",\"Qinghua\",\"Renmin\",\"Jilin\",\"Fudan\"}\n",
    "```\n",
    "Can you figure out how to get the union of these two sets? The intersection? The Chinese universities that are not in Beijing? Look up the methods associated with Sets, and consider using the **??** option when using Jupyter notebooks to see details on different methods. \n"
   ]
  }
 ],
 "metadata": {
  "kernelspec": {
   "display_name": "Python 3 (ipykernel)",
   "language": "python",
   "name": "python3"
  },
  "language_info": {
   "codemirror_mode": {
    "name": "ipython",
    "version": 3
   },
   "file_extension": ".py",
   "mimetype": "text/x-python",
   "name": "python",
   "nbconvert_exporter": "python",
   "pygments_lexer": "ipython3",
   "version": "3.9.13"
  }
 },
 "nbformat": 4,
 "nbformat_minor": 1
}
