{
 "cells": [
  {
   "cell_type": "markdown",
   "metadata": {},
   "source": [
    "## Exercise 3.1: Run Lola run!\n",
    "\n",
    "Make three lists and from them make a list of lists:\n",
    "```python\n",
    "run1 = [2,3,5,5]\n",
    "run2 = [2,2,4,5]\n",
    "run3 = [3,3,4,6]\n",
    "listOfRuns = [run1,run2,run3]\n",
    "```\n",
    "a) Alter the first element of run1. Has anything happened to listOfRuns?\n",
    "\n",
    "b) Specify listOfRuns similarly, but using copies of run1, run2, and run3 instead of the lists themselves. Now, alter the first element of run1 and see what has happened to listOfRuns. What happened?\n",
    "\n",
    "c) Use \\* (multiplication) to create a list of three empty lists. Use the append method to add the element \"i belong first!\" to the first list of the list of lists. Print out the list of lists. What has happened? \n",
    "\n",
    "**You may find it useful to put your code into the [code visualization tool](http://people.csail.mit.edu/pgbovine/python/tutor.html#mode=visualize) introduced in Lesson 3 to see what has happened.**"
   ]
  },
  {
   "cell_type": "markdown",
   "metadata": {},
   "source": [
    "## Exercise 3.2. All Roads Lead to Rome \n",
    "Adapted from [Learning Python](http://www.amazon.com/gp/product/1449355730/ref=pd_lpo_sbs_dp_ss_1?pf_rd_p=1944687762&pf_rd_s=lpo-top-stripe-1&pf_rd_t=201&pf_rd_i=0596002815&pf_rd_m=ATVPDKIKX0DER&pf_rd_r=0H4E3BSC5ZC5HMJAKM5Z)\n",
    "\n",
    "A coworker (who obviously is not a native Python speaker) hands you the following code (below), which tests if 2^x (the xth power of 2) is in a list 'L'.\n",
    "\n",
    "As is, the script does not follow normal Python coding techniques. Follow the steps below to improve it.  \n",
    "A) Rewrite this code with a **while**/**else** loop to eliminate the 'found' flag and the final **if** statement. \n",
    "\n",
    "B) Rewrite the example to use a **for**/**else** loop to eliminate the explicit list indexing logic.  \n",
    "\n",
    "C) Remove the loop completely by rewriting the examples using an expression with **in** (HINT: try the line `print (2 in [1,2,3])` )\n",
    "\n",
    "D) Use a **for** loop and the list **append** method to generate the list 'L' instead of typing it by hand.  \n",
    "\n",
    "E) Use a list comprehension and the exponentiation operator to generate the list 'L' in one line (10\\**3 is 1000). \n"
   ]
  },
  {
   "cell_type": "code",
   "execution_count": null,
   "metadata": {},
   "outputs": [],
   "source": [
    "L = [1,2,4,8,16,32,64]\n",
    "x = 5\n",
    " \n",
    "found = i = 0\n",
    "while not found and i < len(L):\n",
    "    #check if 2 to the power\n",
    "    #of x is in the list\n",
    "    if 2 ** x == L[i]:\n",
    "        found = 1\n",
    "    else:\n",
    "        i = i+1\n",
    "if found:\n",
    "    print ('at index', i)\n",
    "else:\n",
    "    print (x, 'not found')"
   ]
  },
  {
   "cell_type": "markdown",
   "metadata": {},
   "source": [
    "## Exercise 3.3 Nested Dictionaries and Loops - Geog Edition\n",
    "\n",
    "There are two directories in `..lab/PythonBootcampSp24/resources/Ex3_Geo`, a San Diego directory and Sonoma directory. In each directory are `csv` files that can be opened with **pandas** as a dataframe. These files contain the average monthly temperature for two locations: San Diego, CA and Sonoma, CA (obvs). Each file contains the average monthly temperature for a year between 1999 and 2003.\n",
    "\n",
    "For this problem, you are going to use nested for loops to get the data from each of the files and find the average January temperature between 1999-2003 at each site.\n",
    "\n",
    "Your end result should be two variables that represent the average January temperature for each site. \n",
    "\n",
    "For looping/looking through directories, we'll use the [**os**](https://www.geeksforgeeks.org/os-module-python-examples/) package. I've started that code for you, but you all seem v. good at googling/chat-gpting so have at it!\n",
    "\n",
    "There are a lot of different ways to do this! Have *fun?*!\n"
   ]
  },
  {
   "cell_type": "code",
   "execution_count": 2,
   "metadata": {},
   "outputs": [],
   "source": [
    "# Spoiler alert\n",
    "# Jan Mean Temp in SD, CA between 1999-2003: 65.52 deg F\n",
    "# Jan Mean Temp in Sonoma, CA between 1999-2003: 56.82 deg F\n",
    "\n",
    "# Don't forget to import pandas\n",
    "import pandas as pd\n",
    "import os\n",
    "\n",
    "rootdir = '/scratch/myang_shared/lab/PythonBootcamp/Sp24/resources/Ex3_Geo'\n",
    "# put your code below!"
   ]
  },
  {
   "cell_type": "markdown",
   "metadata": {},
   "source": [
    "## Exercise 3.4: Nested Dictionaries and Loops - Bio Edition\n",
    "\n",
    "A) You want to store sequence information from a human, mouse, and rat. Each species has a set of gene names corresponding to a set of sequences-- initialize e a dictionary  that has keys 'human', 'mouse', and 'rat', with each key having as a value a dictionary with gene names as keys and sequences as values. \n",
    "\n",
    "```\n",
    "Human genes:\n",
    "'TallnessGene' has sequence 'AATAGCAG'\n",
    "'SmartnessGene' has sequence 'TGACGGA'\n",
    "\n",
    "Mouse genes:\n",
    "'FuzzynessGene' has sequence 'CCCCCCA'\n",
    "'BeadyLittleEyesGene' has sequence 'ATAGCGC'\n",
    "\n",
    "Rat genes:\n",
    "'FuzzynessGene' has sequence 'CCCTCCA'\n",
    "'BiggerThanMouseGene' has sequence 'GGACAATT'\n",
    "```\n",
    "\n",
    "B) Using the 'keys' method, print the names of the human genes.\n",
    "\n",
    "C) Print out the sequence of FuzzynessGene in rat and mouse.\n",
    "\n",
    "D) Print the third nucleotide of the human tallness gene.\n",
    "\n",
    "E) Using the dictionary, recreate the above text using **for loops**.\n",
    "\n",
    "F) Also using **for loops**, make a new dictionary where you assign the REVERSE COMPLEMENT of the nucleotide sequence for each gene. If you're not sure what a reverse complement is, look [here](http://bioweb.uwlax.edu/GenWeb/Molecular/Seq_Anal/Reverse_Comp/reverse_comp.html)."
   ]
  },
  {
   "cell_type": "markdown",
   "metadata": {},
   "source": [
    "## OPTIONAL Exercise 3.5: Memory issues\n",
    "\n",
    "Consider the lines of code below. What do you expect to be printed in each case. Then, run the code in a new cell - is it what you would expect? Which one is odd to you and why? Can you search online and figure out why you are getting the output you observe?\n",
    "```python\n",
    "x=5\n",
    "y=5\n",
    "print (x is y)\n",
    "\n",
    "x=10000\n",
    "y=10000\n",
    "print (x is y)\n",
    "``` \n",
    "*HINT: If you are having a difficult time finding a good answer while internet searching (but please take the time to try yourself first!), click [here](https://stackoverflow.com/questions/132988/is-there-a-difference-between-and-is-in-python). The Stack Overflow is an online forum to ask coding questions, and often my source for answers on why weird things are occurring in my code. Almost every question you can think of has been answered in some form of the internet - the trick is knowing the right combination of words to type into your search engine. For me I searched \"is in python\" and the first entry was the above link.*\n"
   ]
  },
  {
   "cell_type": "code",
   "execution_count": null,
   "metadata": {},
   "outputs": [],
   "source": [
    "x=5\n",
    "y=5\n",
    "print(x is y)\n",
    "\n",
    "x=10000\n",
    "y=10000\n",
    "print(x) \n",
    "print(y) \n",
    "print(x == y)"
   ]
  }
 ],
 "metadata": {
  "kernelspec": {
   "display_name": "Python 3 (ipykernel)",
   "language": "python",
   "name": "python3"
  },
  "language_info": {
   "codemirror_mode": {
    "name": "ipython",
    "version": 3
   },
   "file_extension": ".py",
   "mimetype": "text/x-python",
   "name": "python",
   "nbconvert_exporter": "python",
   "pygments_lexer": "ipython3",
   "version": "3.9.13"
  }
 },
 "nbformat": 4,
 "nbformat_minor": 1
}
