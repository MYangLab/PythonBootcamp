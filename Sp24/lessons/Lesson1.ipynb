{
 "cells": [
  {
   "cell_type": "markdown",
   "metadata": {},
   "source": [
    "# Lesson 1: Introduction to Computing <a name='home' />\n",
    "\n",
    "Welcome to this Python workshop. Dr. Mel Yang has been running this Python Bootcamp for years, and now Dr. Steph Spera is bringing some geography to the mix. Over the semester, you will learn the basics of python, with examples that include biological (mostly genetics) and geography content (mostly physical geography).  This course is going to be presented in jupyter notebook, which we'll talk about later! \n",
    "\n",
    "Many of these lessons are directly taken or adapted from a Python bootcamp at UC Berkeley that Dr. Yang helped to teach from 2012-2016. She has also taught these lessons the summer of 2017 at the Institute of Vertebrate Paleontology and Paleoanthropology at the Chinese Academy of Sciences and has been tinkering with this throughout her time at UR with her students. Dr. Spera is bringing some of her own working knowledge, and some lessons based on resources from CU-Boulder and the University of Wisconsin. We ask that the biology students be open to learning some geography, geography students be open to learning some biology, and everyone just embrace learning and flexibility. \n",
    "\n",
    "## Lesson 1 Topics:\n",
    "- <a href=#bookmark1>1. Expectations for the course</a> \n",
    "- <a href=#bookmark2>2. Navigating Linux</a> \n",
    "- <a href=#bookmark3>3. Jupyter Notebooks</a> \n",
    "- <a href=#bookmark4>4. Writing in Python</a> \n",
    "- <a href=#bookmark5>5. Comprehension Checks</a> \n",
    "- <a href=#bookmark6>6. Appendix 1: yourfirstname_jupyter.sh: Format of Slurm Script to run Jupyter Notebook</a> \n",
    "- <a href=#bookmark7>7. Appendix 2: Common Errors Running Jupyter Notebook through Slurm</a> \n"
   ]
  },
  {
   "cell_type": "markdown",
   "metadata": {},
   "source": [
    "## 1. Expectations for working through these lessons <a name='bookmark1' />\n",
    "\n",
    "The idea behind these lessons is to create an environment for you to intensively work on developing your python programming skills and give you a crash course in the basics of the language. By the end of the course, you will not be an expert on python, but you should be able to write simple scripts and have the groundwork and general vocabulary to effectively use the internet and/or other resources to teach you fancier tricks. Most importantly, if you have a science question, you should to start envisioning what ways you can write code that will help you arrive at an answer. \n",
    "\n",
    "Keep in mind - learning to code is like learning a new language. It takes lots of practice, and it continuously feels hard and unintuitive until suddenly, it starts sticking. Just keep trying and **asking questions**--it will get easier and easier!\n",
    "\n",
    "Some potentially useful python references include:\n",
    "- [Linux cheat sheet](https://cheatography.com/davechild/cheat-sheets/linux-command-line/)\n",
    "- [Style guide for Python](http://www.python.org/dev/peps/pep-0008/)\n",
    "- [Learn Python](https://www.learnpython.org/) \n",
    "- [Python Website (documentation)](https://docs.python.org/3/index.html)\n",
    "- [Python Code Visualization](http://www.pythontutor.com/visualize.html#mode=edit)\n",
    "\n",
    "Click through some of these links, perhaps bookmark them - note what each of them are useful for, so you can use these as needed throughout the class. For instance, the Python Code Visualization will likely be useful as you start learning to use for loops in Python - they help walk you through the logic of how a computer goes through the code. Learn Python is another resource for learning Python - if you don't understand something here, finding a reading on that topic there may help. \n",
    "\n",
    "A half-credit course should take about 3-5 hours of your time, including the hour we meet. We expect you come to the lab every Friday having done the Lesson or the Exercises and be ready with questions.\n",
    "\n",
    "<a href=#home>Return to Top</a> "
   ]
  },
  {
   "cell_type": "markdown",
   "metadata": {},
   "source": [
    "## 2. Navigating Linux <a name='bookmark2' />\n",
    "\n",
    "Before we touch any python, we have to go over Linux. Linux is an open-source operating system (similar to Windows or a macOS). It manages hardware resources, facilitates communication between softtware and hardware, and provides a user interface for interactions. It is WIDELY used, particularly when servers and clusters are involved.\n",
    "\n",
    "The shell is the the way you interact with your operating system. Most of you are used to the graphical user interface (GUI) you see when you turn on a computer - clicking the Start button allows you to access a folder, which contains files that you double click to open within the relevant default application. However, there is a command line user interface (CLI) that is very useful as well. Both Linux and Mac operating systems use the CLI **Terminal**, in which we use the Linux language for navigation. In Windows operating system, this CLI is the **Command Prompt**, which uses a different language. However, Windows 10 and higher now have a Terminal software installed that uses Linux. If you have an older Windows interface, installation of other CLIs like cygwin or MobaXTerm will allow you to use UNIX in a Windows computer - let us know if you need this. \n",
    "\n",
    "The next vital piece in writing python code is a text editor. Python code is usually written to a text file ending in \".py\", and then you can use the Linux commands to access and run the python script from your shell (Terminal). Sometimes, you may also want to use an interpreter, or a program that allows you to directly execute commands without calling on a script you save to file. Here, we will gain familiarity with the Linux language, and below, learn how to use Jupyter Notebooks. \n",
    "\n",
    "During this semester, we will work from UR's remote cluster, *Spydur*. It is ideal because you should not need any new software (unless you have an old version of Windows, which we can deal with), and all you do need is an internet connection, and if you're off campus, UR's VPN. \n",
    "\n",
    "To get started, we want to make sure you are a user on the Spydur cluster and can access the directory `/scratch/myang_shared/lab/`. In the next section, you will see if you can log into Spydur and access the directory. "
   ]
  },
  {
   "cell_type": "markdown",
   "metadata": {},
   "source": [
    "### 2.1 Logging into Spydur\n",
    "\n",
    "To log into Spydur, we will just the Linux command `ssh`. \n",
    "\n",
    "In either Terminal (on Macs) or using 'Windows Powershell' (on Windows computers), type the following to log into Spydur (`ssh`), move into the class folder (`cd`), and make a directory for yourself within which you make another directory for the Python Bootcamp (`mkdir`). After each command (e.g. `ssh username@spydur`), hit enter to run it. \n",
    "\n",
    "You should have been informed your username, but if you aren't sure, please let us know. \n",
    "\n",
    "```bash\n",
    "ssh username@spydur\n",
    "cd /scratch/myang_shared/lab/PythonBootcamp/Sp24/students/\n",
    "mkdir yourfirstname\n",
    "cd yourfirstname\n",
    "pwd\n",
    "```\n",
    "\n",
    "`pwd` stands for 'Print Working Directory', which is a handy command because it is very easy to get lost in directories. If you did this correctly, the screen should have printed, `/scratch/myang_shared/lab/PythonBootcamp/Sp24/students/yourfirstname`. If the commands above did not work, please contact your instructor (Yang for bio kids, Spera for geog kids).\n"
   ]
  },
  {
   "cell_type": "markdown",
   "metadata": {},
   "source": [
    "### 2.2 Useful Linux commands\n",
    "\n",
    "Sometimes it is hard to tell if you're actually logged into a cluster (or server) or not. The typical way to tell is to look at the bottom text in the Terminal -  it is of the form: `< username >@< whatever computer >`. If you're on Spydur, it should say `yourusername@spydur`. If you're not on Spydur, you might be on the Terminal on your personal computer - it's always good to check!\n",
    "\n",
    "Type `pwd`. From `pwd`, you get a file path indicating the set of folders leading to your current directory. \n",
    "Type `cd ~/` then type `pwd`.\n",
    "If it says `/home/yourusername/`, that means you're in your home directory, which is private to you. Note here that `cd` means change directory, and `~/` indicates your home directory. \n",
    "\n",
    "For the Python Bootcamp, we're working from a shared folder (`/scratch/myang_shared/lab/PythonBootcamp/Sp24/students/yourfirstname`), so any of us could hop over and take a look at what someone else did. \n",
    "\n",
    "If you were navigating as you normally would on your computer, you would have to click on each of these folders, from left to right, to end up in the folder the Terminal is waiting in (your 'working directory'). In the terminal window, you can type commands to do the same thing your mouse would do when you left or right click on the folder. Below are some of the major commands. \n",
    "\n",
    "* **pwd**   = print working directory \n",
    "* **ls**    = list all files/folders in the directory\n",
    "* **cd**    = change the working directory (type the filepath to the requested directory)\n",
    "* **echo**  = print to screen whatever string follows the command\n",
    "* **mkdir** = make a new directory\n",
    "* **rmdir** = remove a directory (can only be done if the directory is empty)\n",
    "* **cat**   = print all contents of a file to screen\n",
    "* **rm**    = remove a file\n",
    "* **cp**    = copy a file (to a new filename and/or directory)\n",
    "* **mv**    = move a file (rename file or move to a different directory)\n",
    "* **head**  = print the first few lines of file to Terminal (default = 10)\n",
    "* **tail**  = print the last few lines of file to Terminal (default = 10)\n",
    "* **grep**  = search for an expression and print line(s) containing that expression\n",
    "* **cut**   = print certain columns of the file (based on delimiter or by character)\n",
    "* **less**  = opens a file within the Terminal screen as a text file (use q to exit)\n",
    "* **man**   = gives manual for UNIX command you include after 'man'\n",
    "\n",
    "\n",
    "Logged into Spydur, try the following:  \n",
    "\n",
    "```bash\n",
    "cd /scratch/myang_shared/lab/PythonBootcamp/Sp24/students/yourfirstname  ## Change into your folder in our shared directory on Spydur\n",
    "pwd                   ## Where are you now in your computer directory?\n",
    "mkdir Lesson1/\n",
    "cd Lesson1/           ##Check and make sure you are in your Lesson1/ directory. \n",
    "\n",
    "# In your Lesson 1 Directory, \n",
    "echo hello\n",
    "echo hello > hello.txt     ## '>' indicates rather than print to screen, print to the specified file. \n",
    "cat hello.txt         \n",
    "ls -lrth                  ##ls is all you need, but '-lrth' orders them to show your most recent file, with additional info\n",
    "echo \"how are you\" > hello.txt \n",
    "cat hello.txt              ## What happened?\n",
    "echo \"I am excited to learn Linux\" >> hello.txt\n",
    "cat hello.txt             #how is > different from >>\n",
    "\n",
    "mkdir testdir\n",
    "ls -lrth testdir\n",
    "echo \"Let's fill the test directory\" > testdir/testfile.txt  ##Note above that I made a new file but without being in the new folder testdir/. This is because I indicated I wanted to make the file in the testdir/ folder. \n",
    "ls -lrth testdir/\n",
    "\n",
    "cat testdir/testfile.txt\n",
    "rm testdir/testfile.txt   ##You will likely get a prompt asking if you want to do this - Spydur checks in, your computer probably won't!\n",
    "rmdir testdir/     ##This will work if there are no files inside\n",
    "ls\n",
    "\n",
    "cp hello.txt hello_copy.txt\n",
    "mkdir practice/\n",
    "mv hello.txt practice/\n",
    "cat hello.txt ##Note now that you will get an error, because you have moved the hello.txt file outside of your Lesson1/ directory.\n",
    "cat practice/hello.txt\n",
    "cp hello_copy.txt practice/hello_copy2.txt\n",
    "ls -lrth practice/\n",
    "```\n",
    "\n",
    "#### Important: Be very careful with rm and rmdir and the '>' sign. You can easily delete an important document, and these deleted documents are not saved in your Trash or Recycle Bin! \n"
   ]
  },
  {
   "cell_type": "markdown",
   "metadata": {},
   "source": [
    "\n",
    "### 2.3 Reading through files\n",
    "\n",
    "In `/scratch/myang_shared/lab/PythonBootcamp/Sp24/lessons/` exists a file called `SGDP.txt`. Using Linux commands, make a directory in your directory (`/scratch/myang_shared/lab/PythonBootcamp/Sp24/students/yourfirstname/`) called `resources/`. Copy this file into your own `resources/` directory (`/scratch/myang_shared/lab/PythonBootcamp/Sp24/students/yourfirstname/resources/`. Rename this file ```SGDPinfo.txt```.\n",
    "\n",
    "Earlier, we used `cat` to quickly look at the contents of our files. We can use `head` though, instead. `head` means to print the beginning of the file - it's default is to print the first 10 lines. For instance, if you were to write two filenames after `head`, you would get both files printed to screen in order by filenames.\n",
    "\n",
    "```bash\n",
    "cd /scratch/myang_shared/lab/PythonBootcamp/Sp24/students/yourfirstname/Lesson1/\n",
    "head ../resources/SGDPinfo.txt hello_copy.txt    ##The ../ is a quickhand way of saying 'look backwards one directory'. Note that SGDPinfo.txt and hello.txt are NOT in the same directory.  \n",
    "cd ../resources/\n",
    "```\n",
    "\n",
    "Try the above code, but use `cat` instead of `head`? A problem with looking at files through cat is that it is difficult to view large files printed to Terminal. `head` and `tail` allow you to look at the head or tail of the file, seeing a much smaller set of information on your screen. \n",
    "\n",
    "```bash\n",
    "head -n2 SGDPinfo.txt\n",
    "tail -n2 SGDPinfo.txt\n",
    "```\n",
    "\n",
    "What do you think the `-n2` did? Each command has multiple options - typing `man head` allows you to see a manual indicating what the command `head` can do. \n",
    "\n",
    "There are times, though, when you might want to look at the whole file. Another command you can use is `less`, which opens the file within the Terminal, allowing you to look through the document one screen at a time. It opens from the top of the file, and you use arrow keys to scroll up and down. The space bar allows you to move a screen's worth of text, allowing faster scrolling. The default is word wrapping, but you can use '-S' to chop the long lines (thus you would need left and right arrow keys to view the long sentences). Typing /word will search for 'word' in the file and highlight wherever it appears. Type 'q' to exit.\n",
    "\n",
    "```bash\n",
    "less SGDPinfo.txt\n",
    "```\n",
    "\n",
    "We can also search through the content these files using `grep`. \n",
    "\n",
    "```bash\n",
    "grep Dinka SGDPinfo.txt\n",
    "```\n",
    "*Note to geography kids, Dr. Yang studies human evolution which is super cool. You can find out more about the Dinka people [here](https://nalrc.indiana.edu/doc/brochures/dinka.pdf).*\n",
    "\n",
    "**From the SGDPinfo.txt file, what information can you find on the Dinka? What other line from the file might be useful to help you parse what you are reading?**\n",
    "\n",
    "\n"
   ]
  },
  {
   "cell_type": "markdown",
   "metadata": {},
   "source": [
    "\n",
    "Many of the commands listed above have sub-options that you may find useful. Here, we will illustrate a few commonly used ones and run through how to get more information on these options using `man`. Remember that above I said that `man` is a command that allows you to read the manual for the Linux command in question.\n",
    "\n",
    "```bash\n",
    "ls -lrth\n",
    "man ls\n",
    "```\n",
    "\n",
    "Here, the '-l' option uses the long listing format. That is, more detail is provided. The '-l' option also includes the file sizes, but they are just very large numbers. Adding '-h' makes this human-readable. Here, that means it switches these size output so that they are based on K (kilobytes), M (megabytes), G (gigabytes) and T (terabytes) for easy reading. \n",
    "'-t' sorts your files by time, from most recently edited to the oldest edited. Since the filenames are printed to screen, we normally read the end of the printed string--thus, we reverse the order using '-r', printing from the oldest edited to the most recently edited. \n",
    "\n",
    "`grep` has an option to determine the line number for a term you are searching - use `man` to research `grep`. \n",
    "\n",
    "**Can you figure out which line numbers are the ones for Dinka?**"
   ]
  },
  {
   "cell_type": "markdown",
   "metadata": {},
   "source": [
    "Return to the `SGDPinfo.txt` file using `less`. Now type `Shift + G`. This will bring you to the end of the file. Note that there's lots of blank space here. It isn't a problem here, but sometimes it can be a problem, so let's try to get rid of it. \n",
    "\n",
    "Make a copy of your file, just in case you mess something up. (e.g. `SGDPinfo_orig.txt`) and then use the internet to find out how to go about getting rid of the extra space. If you are are stuck, you can try typing \"remove blank lines text file linux\" into google. \n",
    "\n",
    "Look around and try a few commands - see if they work. \n",
    "\n",
    "If you're having trouble, try this [link](https://serverfault.com/questions/252921/how-to-remove-empty-blank-lines-from-a-file-in-unix-including-spaces) and ask me for a clue - I got one of these to work. \n",
    "\n",
    "**What did you type to make the new file with no blank lines?**"
   ]
  },
  {
   "cell_type": "markdown",
   "metadata": {},
   "source": [
    "One more command to explore - `cut`\n",
    "\n",
    "Try the following:\n",
    "\n",
    "```bash\n",
    "cut -f2 SGDPinfo.txt\n",
    "cut -c15 SGDPinfo.txt\n",
    "```\n",
    "\n",
    "**Using what you see and `man`, what is `cut` is doing?**"
   ]
  },
  {
   "cell_type": "markdown",
   "metadata": {},
   "source": [
    "### 2.4 Pipes\n",
    ">(the one above the backslash \\ key)\n",
    "\n",
    "Piping with | connects Linux commands, allowing the output of one command to \"flow through the pipe\" to another. This lets you chain programs together, such that each one only needs to worry about one step of the process (either generating, filtering, or modifying data), without knowing or caring where it came from or where it's going to.\n",
    "\n",
    "```bash\n",
    "env\n",
    "```\n",
    "\n",
    "The `env` command returns a list of environment variables.  We won't go over what they mean here, but rather we're using this to demonstrate that some commands might return too much text to usefully view in the terminal.\n",
    "\n",
    "However, you can use the | character to direct the output to another program to show just portion.  \n",
    "For example, the head command to show just the first few lines:\n",
    "\n",
    "\n",
    "```bash\n",
    "env | head\n",
    "```\n",
    "\n",
    "Or, so you were just trying to find the value of the HOME variable.  You could use grep to isolate just this portion.\n",
    "\n",
    "```bash\n",
    "env | grep HOME\n",
    "```\n",
    "\n",
    "**Back to `SGDPinfo.txt`, can you find the lines for Dinka and only list the column with their SGDP_ID? (that is, combining `grep` and `cut` using `|`).**\n"
   ]
  },
  {
   "cell_type": "markdown",
   "metadata": {},
   "source": [
    "### 2.5 Wildcards\n",
    "\n",
    "The star functions as a \"wild-card\" character that matches any number of characters. From your `Lesson1/` directory:\n",
    "\n",
    "```bash\n",
    "ls -lrth\n",
    "ls -lrth *txt\n",
    "```\n",
    "\n",
    "The star can go anywhere in a list of arguments you're supplying, even in the middle of words! There are [other wildcards you can use](https://en.wikibooks.org/wiki/A_Quick_Introduction_to_Unix/Wildcards) but * is the most common."
   ]
  },
  {
   "cell_type": "markdown",
   "metadata": {},
   "source": [
    "### 2.6 Linux special characters\n",
    "There are many special characters in Linux - this [link](https://www.oreilly.com/library/view/learning-the-bash/1565923472/ch01s09.html) has a pretty comprehensive table. Note that it is best to avoid using these characters except for their specified function, but if you need to include them in a command, e.g. `echo`, you can use single quotes and it should realize you are using them as regular characters.\n",
    "\n",
    "```\n",
    "echo \"hi!\" #This will give you an error. --> -bash: !\": event not found\n",
    "echo 'hi!' #This will work!\n",
    "```"
   ]
  },
  {
   "cell_type": "markdown",
   "metadata": {},
   "source": [
    "### 2.7 Permissions\n",
    "\n",
    "Unlike the computers you are used to, Linux doesn't automatically know what to do with files (e.g. It won't know to use Word to open a .docx document), and it doesn't even know whether a file is data or a program (and as we'll see with the programs we write, it might be different things at different times).\n",
    "\n",
    "The first thing that controls a file is the file's permissions. You can control who can read, write, and execute (run as a program) each of your files. This command lists the permissions. In your Lesson1 directory, type:\n",
    "\n",
    "```bash\n",
    "ls -lrth\n",
    "```\n",
    "\n",
    "You should see a bunch of letters in the first column. \n",
    "* The first letter tells you whether it is a directory.\n",
    "* The next set of letters tell you if a file is readable (r), writable (w), or executable (x).\n",
    "* The 2nd-4th letters tell you what *your* permissions are.\n",
    "* The 5th-7th tell you what your group's permissions are.\n",
    "* And the last three tell you what everyone else's permissions are. \n",
    "\n",
    "Linux was designed to be a multi-user operating system, so even if you're the only one who uses the computer, it maintains the distinction for you, versus your group, versus everyone else.\n",
    "\n",
    "You can see what groups you are in by typing: \n",
    "```\n",
    "groups yourusername\n",
    "```\n",
    "If you're in Dr. Yang's lab and on Spydur, you should see 'yanglab' as one of your groups. If you can't access a file, it's likely because your group doesn't have access. \n",
    "\n",
    "Type `ls -lrth /scratch/myang_shared/` and look at the `data/` folder - you should see there that your group has read and executable permissions, but no writing permissions. This means you can read and copy data from this folder, and run scripts from this folder if they exist, but you cannot make a file to put in this folder, or directly edit a file in this folder. Dr. Yang does this to make sure the large datasets we download and include can't accidentally be overwritten (except by her!). "
   ]
  },
  {
   "cell_type": "markdown",
   "metadata": {},
   "source": [
    "In your `Lesson1/` folder. Can you figure out what the script below does? Copy it into your Terminal. \n",
    "\n",
    "```\n",
    "echo \"grep Dinka ../resources/SGDPinfo.txt | cut -f2\" > testscript.sh\n",
    "```\n",
    "\n",
    "Let's see the permissions and try to execute the file - for a shell script (typically ending in .sh), you usually run it by putting `./` in front. \n",
    "\n",
    "```\n",
    "ls -l testscript.sh\n",
    "./testscript.sh\n",
    "```\n",
    "\n",
    "You should see something like the following:\n",
    "\n",
    "```\n",
    "(base) m1-bio-myang:Lesson1 myang$ ls -l testscript.sh \n",
    "-rw-r--r--  1 myang  staff  47 May 24 12:42 testscript.sh\n",
    "\n",
    "(base) m1-bio-myang:Lesson1 myang$ ./testscript.sh\n",
    "-bash: ./testscript.sh: Permission denied\n",
    "```\n",
    "\n",
    "This indicates that you, the user, doesn't have permission to run, or execute, this file, as shown through the `ls -l` command. But, we can change permissions using `chmod` of the format: chmod [flags] [filename]\n",
    "\n",
    "Try the following:\n",
    "```bash\n",
    "chmod +x testscript.sh\n",
    "ls -l testscript.sh\n",
    "```\n",
    "\n",
    "**Now, try running the `testscript.sh` file and see what happens. And just like that, you've made and executed your first Linux script! **\n",
    "\n",
    "Along with running scripts, we usually want to designate whether folders are completely private, viewable only, viewable by a group or anyone on the cluster, or with full edit permissions by a group or anyone on the cluster. \n",
    "\n",
    "For your folders in our shared directory, we want everyone in our group to be able to look in your folders, but we want only you to have edit permissions, so no one else accidentally deletes a file in your folder as they're learning. To do this, do the following:\n",
    "```bash\n",
    "cd  /scratch/myang_shared/lab/PythonBootcamp/Sp24/students ## Make sure you're in the common lab/ directory\n",
    "chmod  754  yourfirstname/ ##The numbers adjust the permission settings on your folder titled 'yourfirstname/'\n",
    "```\n",
    "\n",
    "To better understand '754', you can visit [this link](https://chmodcommand.com/chmod-2754/). Basically, it sets permissions so that the group will have read and execute access, and anyone else on the cluster will have view access. \n"
   ]
  },
  {
   "cell_type": "markdown",
   "metadata": {},
   "source": [
    "### 2.8 Shortcuts!\n",
    "\n",
    "The *very* last Linux thing Dr. Spera wanted to do was to set shortcuts, because she is a very lazy typer. But feel free to skip this part, or ask to do this together when we meet as a group.  \n",
    "\n",
    "Whenever you log into Spydur, you log into your `home` directory, i.e. `/home/<yourusername>`. Only you have access to this directory, and if you type `cd ~/` from any other directory, it will get you back there. This means, though, that everytime you want to access the PythonBootcamp directory, you have to sit and type `cd /scratch/myang_shared/lab/PythonBootcamp/Sp24/students/yourfirstname/`. So, let's create a shortcut, that will allow us to eliminate some of that typing. \n",
    "\n",
    "In your home directory, you have a 'secret'/'hidden' file called a [.bashrc file](https://www.digitalocean.com/community/tutorials/bashrc-file-in-linux). You can find more info at that link, but it basically is a hidden file that is executed everytime you log into Spydur. To show hidden files, in your `home` directory, type `ls -a`.\n",
    "\n",
    "Now type `cat ~/.bashrc`. The last line of the file should say something like:\n",
    "```bash\n",
    "# User specific aliases and functions\n",
    "```\n",
    "\n",
    "So, every time you log into Sypdur, it runs the code in the .bashrc file. We can add a line that will set a short variable name to the Linux command that you want, in this case, a line that allows us to create a shorthand to getting into the shared `PythonBootcamp` directory. \n",
    "\n",
    "```bash\n",
    "# We're going to use the visual interface (vi) to edit our .bashrc file\n",
    "vi .bashrc\n",
    "# click on the I key, for insert\n",
    "# using the arrow keys, navigate to the end of the file\n",
    "# after '# User specific aliases and functions' line, hit enter\n",
    "#type\n",
    "alias pygroup='cd /scratch/myang_shared/lab/PythonBootcamp/Sp24/'\n",
    "#hit the Esc key to get out of the insert mode\n",
    "#type\n",
    ":wq #to write your edits to the file and quit vi\n",
    "```\n",
    "\n",
    "If this worked, whenever you log into Spydur, you can type 'pygroup' (or you can name it whatever else you makes sense, but do use *python* as a shortcut!) and it will take you automatically to the `/scratch/myang_shared/lab/PythonBootcamp'` directory. Let's test it out.\n",
    "\n",
    "Type `source ~/.bashrc` to have Spydur read the updated .bashrc without logging into Spydur from a new Terminal window. Then, try typing `pygroup`, followed by `pwd` - see if your working directory is the `PythonBootcamp/Sp24/` directory.\n",
    "\n",
    "You can find more info on editing on vi [on this website from maybe 1997 which is still relevant](https://www.cs.colostate.edu/helpdocs/vi.html)\n",
    "\n",
    "<a href=#home>Return to Top</a> "
   ]
  },
  {
   "cell_type": "markdown",
   "metadata": {},
   "source": [
    "## 3. Jupyter Notebooks  <a name='bookmark3' />\n",
    "\n",
    "You are currently reading information in a [Jupyter notebook](http://jupyter-notebook.readthedocs.io/en/latest/). A notebook is like a document, but it is specific to Jupyter. It's like a Word docx or a Google Doc. The .docx file extension is specific to Word, the Google Doc is specific to Google Drive, the notebook (with .ipynb filehandle) is specific to Jupyter. You can open and read the files using other programs, but it works best in Jupyter, just like .docx work best with Word and Google Docs work best in Google Drive. (*Geography kids, you will be excited to know that ArcGIS Pro also utilized these [notebooks](https://pro.arcgis.com/en/pro-app/3.1/arcpy/get-started/pro-notebooks.htm)*) \n",
    "\n",
    "Jupyter notebooks are useful because you can take your own notes in it (like what you see right now), you can use it as an interpreter - i.e. run code), AND you can write files directly to folders and then go to the Terminal to run the script. Lots of options! Jupyter notebook can also be used as a shell (i.e. you can also run Linux commands), making it a powerful one stop shop for all the main tools you use to begin coding.\n",
    "\n",
    "The first thing we have to do, then, is learn how to access these notebooks.\n",
    "\n"
   ]
  },
  {
   "cell_type": "markdown",
   "metadata": {},
   "source": [
    "### 3.1 Accessing Jupyter Notebooks on Spydur\n",
    "\n",
    "We created a script (found in `/scratch/myang_shared/`) for each student that will initate a Jupyter Notebook on one of Dr. Yang's compute nodes. The following lets you find this script and submit the job that has the code which initiates a jupyter notebook.\n",
    "\n",
    "On Spydur, use the following code:\n",
    "\n",
    "```bash\n",
    "cd /scratch/myang_shared/\n",
    "ls -lrth *.sh\n",
    "qsub yourfirstname_jupyter.sh\n",
    "less yourfirstname_jupyter.sh\n",
    "```\n",
    "\n",
    "*For more info on what's in that `yourfirstname_juypyter.sh` file, see the appendix below.*\n",
    "\n",
    "After running Jupyter Notebook using `qsub`, check your job is running by typing `squeue`. \n",
    "This should show a row where you see 'yourname-jn', as that is the job name we set above. \n",
    "The job should be on partition yang2, which is associated with the node spdr60, and your unique job ID for the submission is on the far left.\n",
    "\n",
    "To figure out the commands you need to open Jupyter Notebook, look at the recent files in the /scratch/myang_shared/ directory, find the most recent output file from your Jupyter Notebook job submission (it should say firstname_jupyter.o######), and print out the file information. Note the .o##### file with the largest number (i.e. the latest job). \n",
    "\n",
    "```bash\n",
    "ls -lrth\n",
    "cat yourfirstname_jupyter.sh.o####\n",
    "```\n",
    "\n",
    "Follow the instructions written in the output file. \n",
    "The ouput file should tell you to open a brand new Terminal window **NOT connected to Spydur** and paste the SSH Tunnel (which should look something like `ssh -N -f -L ####:localhost:#### username@spydur`). \n",
    "Then open Google Chrome and paste localhost:#### to see your Spydur account from an internet browser.\n",
    "\n",
    "***IMPORTANT BELOW***\n",
    "***This is where we were running into trouble in class today, 1/19/2024***\n",
    "If it asks for a token:\n",
    "```bash\n",
    "ls -lrth\n",
    "cat yourfirstname_jupyter.sh.e####\n",
    "```\n",
    "Use the arrow keys to go to the bottom of the file and copy and paste the url that begins with 'http://127.0.0.1:...' into your browser. That should work, and you should be able to navigate around the directories then through your browser.\n",
    "The next time you log in, it should be okay if you just follow the steps above in the *jupyter.sh.o#####* file,\n",
    "\n",
    "Back on the server, you can set up a password for Juypter Notebook so no token is needed.\n",
    "To save a JN password, on the cluster:\n",
    "* Type `jupyter notebook --generate-config`\n",
    "* Type `jupyter notebook password`\n",
    "Set your password, and make it easy to remember. \n",
    "Hopefully it will either just remember you, or you can use your set password.\n",
    "\n",
    "***Back to regularly scheduled programming***\n",
    "Once you're on Jupyter Notebook, you can click through any directories contained within /scratch/myang_shared/, such as your PythonBootcamp folder. You can also click New --> Terminal (top left corner) to open a Terminal window in your browser.\n",
    "\n",
    "What opens is a web-based user interface with the files in the directory you opened in terminal (or your home directory when opening through Anaconda Navigator). Going to the top right and clicking \"New\" followed by \"Python 3\" under 'Notebook' will open your first jupyter notebook (ends in .ipynb). \n",
    "\n",
    "If you're stuck here, please contact your instructor for help.\n",
    "\n",
    "While we do not explore all of the functions of the notebook, we highlight some of the basics here so you can navigate and write in these notebooks easily. \n",
    "\n",
    "* Each of these squares where we can write text is called a cell. By default each cell is a python interpreter. Going to \"Cell\"->\"Cell Type\"->\"Markdown\" turns it into a text displayer, allowing you to write just plain notes, as this cell current does. We will not be teaching all the different options for Markdown, but [this page](http://nestacms.com/docs/creating-content/markdown-cheat-sheet) provides some of the formatting you might be interested in.\n",
    "\n",
    "* The top bar includes many different options. While the notebook usually automatically saves periodically, you have a 'save option', followed by options to insert new cells, move cells around, and run the cells. Holding Shift+Enter will also run the active cell. You can also switch the cell format in the dropdown box. \n",
    "\n",
    "* Magic commands: One useful aspect of the notebook are [magic commands](https://ipython.org/ipython-doc/3/interactive/magics.html). We'll see magic commands in just a bit.\n",
    "\n",
    "* Last but not least, the default is that the cell treats what you type as if you wrote Python commands. For the final section of the day, we will begin to start writing in python!\n",
    "\n",
    "Other things to note:\n",
    "* The easiest way of accessing the notebook on Spydur is how it is described above. There are also ways to install Jupyter Notebook on your computer - installing [Anaconda](https://www.anaconda.com/download) is probably the easiest way to do this smoothly. \n",
    "\n",
    "* Note that on Spydur, you set a time in the Jupyter Notebook script you ran (remember `qsub yourname_jupyter.sh`?). The default we put in is 12 hours, but you can use `vi` to go in and edit the time if you want. \n",
    "\n",
    "* If you want to cancel the notebook on Spydur, type `squeue`, you will see a list of running jobs, like what is pasted below:\n",
    "```\n",
    "64513     yang2 jupyter-    myang  R      23:53      1 spdr60\n",
    "```\n",
    "This says the job is in the partition 'yang2' (also called spdr60), has run for ~24 minutes, and the job's ID # is 64513. \n",
    "You can type `scancel JOBIDNUMBER` to stop Jupyter Notebook from running. If you do this, but you want to restart it, you must go to `/scratch/myang_shared/` and restart the job using `qsub`. \n",
    "\n",
    "* ArcGIS Pro has it's own embedded version of Jupyter Notebook.\n",
    "\n",
    "* Always remember that on a local Terminal on your computer, you will need to put in `ssh -NfL localhost:####:localhost:#### yourusername@spydur` to connect the notebook to your computer's browser. \n"
   ]
  },
  {
   "cell_type": "markdown",
   "metadata": {},
   "source": [
    "### 3.2 Magic Commands: %%writefile and %%bash\n",
    "\n",
    "One cool thing mentioned above are magic commands, which take the form `%%command`. Open a new Python3 Jupyter notebook and type this in a cell, and it will do as the magic command asks. \n",
    "\n",
    "There's two you'll learn now, `%%writefile` and `%%bash`."
   ]
  },
  {
   "cell_type": "code",
   "execution_count": 2,
   "metadata": {},
   "outputs": [
    {
     "name": "stdout",
     "output_type": "stream",
     "text": [
      "Writing /scratch/myang_shared/lab/PythonBootcamp/Sp24/students/steph/Lesson1/testscript1.sh\n"
     ]
    }
   ],
   "source": [
    "%%writefile /scratch/myang_shared/lab/PythonBootcamp/Sp24/students/steph/Lesson1/testscript1.sh\n",
    "\n",
    "for i in 1 2 3; do\n",
    "    echo ${i}\n",
    "done"
   ]
  },
  {
   "cell_type": "markdown",
   "metadata": {},
   "source": [
    "Adjust the path in the cell above to fit your computer and get to your `Lesson1` folder. Then to run this cell, click within the cell so your cursor is there and type < Shift > + < Enter >. \n",
    "\n",
    "If it runs without error, you should see:\n",
    "\n",
    "```Writing /scratch/myang_shared/lab/PythonBootcamp/Sp24/students/steph/Lesson1/testscript1.sh```\n",
    "\n",
    "This indicates a new, called `testscript1.sh` file was created with the indicated text in the given file in the given folder.\n",
    "\n",
    "We can see if this is true by going to the `Lesson1/` folder and seeing if the new shell script is there. Did you find it?\n",
    "\n",
    "Now let's try to run the file.\n",
    "\n",
    "Remember to change permissions through Terminal.\n",
    "Then, type `./testscript.sh` to run the file.\n",
    "What happens?\n",
    "\n",
    "Try editing the above file to make it do something else - perhaps add the number four to the output. Try to look up on google how to loop over many more numbers - perhaps 1-100. Tweak the above file (maybe make a new cell and give it a different name so you don't lose the current one) based on some suggested ideas (ask for help if you need it!) to produce 1-100. \n",
    "\n",
    "Loops are complicated, and here we looked at a Linux loop. In a future lesson, we'll dive into 'for loops', but using Python."
   ]
  },
  {
   "cell_type": "code",
   "execution_count": null,
   "metadata": {},
   "outputs": [],
   "source": [
    "%%writefile /scratch/myang_shared/lab/PythonBootcamp/Sp24/students/steph/Lesson1/file1_writefromnotebook.txt\n",
    "\n",
    "I am writing this file from within the notebook.\n",
    "\n",
    "I can write whatever I want and it will be written to a text file in the specified folder. \n",
    "\n",
    "If I don't write a filepath, this text file will be written into the home directory of the notebook.\n",
    "\n",
    "Note that the '~' indicates my HOME directory - it can replace /home/myang/, which is the home directory of my computer.\n"
   ]
  },
  {
   "cell_type": "markdown",
   "metadata": {},
   "source": [
    "When you write code, you are writing them into a text file - above I show some written notes that I saved to `file1_writefromnotebook.txt`. "
   ]
  },
  {
   "cell_type": "markdown",
   "metadata": {},
   "source": [
    "Now let's look at `%%bash`. Run the following command. Remember, to run the following cell, click within the cell so your cursor is there and type < Shift > + < Enter >. "
   ]
  },
  {
   "cell_type": "code",
   "execution_count": null,
   "metadata": {},
   "outputs": [],
   "source": [
    "%%bash\n",
    "## This allows you to treat the cell as a Terminal screen, and you can use UNIX commands\n",
    "for i in 1 2 3; do\n",
    "    echo ${i}\n",
    "done"
   ]
  },
  {
   "cell_type": "markdown",
   "metadata": {},
   "source": [
    "Note it does exactly what the Terminal does! You can't navigate between folders here as easily, but for quick looks at files, I often use %%bash so I can see the file out put right next to where I might be writing my script (and not have to switch back and forth as much). \n",
    "\n",
    "Note that the `##` allows me to write comments into these Code cell. Using a `#` to comment out code is typical across a majority of coding languages\n",
    "\n",
    "It doesn't have to be as complicated as a for loop - below I check the folder this notebook is in, as well as what else is also in the folder. "
   ]
  },
  {
   "cell_type": "code",
   "execution_count": null,
   "metadata": {},
   "outputs": [],
   "source": [
    "%%bash\n",
    "\n",
    "pwd\n",
    "\n",
    "ls"
   ]
  },
  {
   "cell_type": "markdown",
   "metadata": {},
   "source": [
    "#### Other useful commands for reference\n",
    "\n",
    "1. **gzip** - Used for zipping/unzipping files that end in .gz\n",
    "2. **tar** - Used for bundling/unbundlind archives that in in .tar\n",
    "3. **find** - Search for files that match a pattern\n",
    "4. **wget** - Download a file from the internet\n",
    "\n",
    "<a href=#home>Return to Top</a> "
   ]
  },
  {
   "cell_type": "markdown",
   "metadata": {},
   "source": [
    "## 4. Writing in Python <a name='bookmark4' />\n",
    "### 4.1 You're ready to begin.\n",
    "\n",
    "This entire lesson, you've learned about the Terminal, writing with the Linux language, and gotten a brief intro into Jupyter notebooks. Now onto python. We will begin with the simple command:\n"
   ]
  },
  {
   "cell_type": "code",
   "execution_count": null,
   "metadata": {},
   "outputs": [],
   "source": [
    "print (\"hello world\")\n"
   ]
  },
  {
   "cell_type": "markdown",
   "metadata": {},
   "source": [
    "As you can see, when I typed\n",
    "```python\n",
    "print (\"hello world\")\n",
    "```\n",
    "and pressed Shift+Enter, the notebook processed what I wrote in the cell and output it below the cell. Here, I used `print` to call the string \"hello world\". `print` is similar to `echo` in Linux - it tells you to print to screen whatever comes after the command inside the parantheses. We're using Python 3, which always requires the (). Python 2 didn't require this, so you may see answers online that drop the () - we'll get an error message if we forget to put the () there. \n",
    "\n",
    "However, you can also run these python scripts outside of the notebook. Below, we write \n",
    "```python\n",
    "print (\"hello world\")\n",
    "```\n",
    "into a text file using the magic command %%writefile and then run it through the Terminal. Typically, python scripts are saved with the subscript \".py\" to indicate it is a python script.\n",
    "\n",
    "Name the file `myfirstscript.py`."
   ]
  },
  {
   "cell_type": "code",
   "execution_count": null,
   "metadata": {},
   "outputs": [],
   "source": [
    "%%writefile /scratch/myang_shared/lab/PythonBootcamp/Sp24/students/steph/Lesson1/myfirstscript.py\n",
    "print (\"hello world\")\n"
   ]
  },
  {
   "cell_type": "markdown",
   "metadata": {},
   "source": [
    "And then run it - remember to adjust all the paths to be set to your directory!\n"
   ]
  },
  {
   "cell_type": "code",
   "execution_count": null,
   "metadata": {},
   "outputs": [],
   "source": [
    "%%bash\n",
    "\n",
    "python /scratch/myang_shared/lab/PythonBootcamp/Sp24/students/steph/Lesson1/myfirstscript.py\n",
    "##You can also do this directly in Terminal\n"
   ]
  },
  {
   "cell_type": "markdown",
   "metadata": {},
   "source": [
    "### 4.2 Variables\n",
    "\n",
    "Computer programming is useful because it allows the programmer to tell the computer to perform operations that are too boring, tedious, or difficult for the programmer to do by hand. A useful computer program needs to be able to interact with the user, perform operations on changing sets of data, and make decisions about how to proceed based on conditions specific to each instance of its execution. To achieve these tasks, computer programs employ variables.\n",
    "\n",
    "Variables in computer science are different from algebraic variables, just like algebraic variables are different from statistical variables or experimental variables. In Python, a variable is a datum with a human-readable name which is assigned a given value. Variables can be reassigned to different values as the logic of the program dictates (variables have variable values, hence variables). \n",
    "\n",
    "In Python, everything and every type of data, from numbers and text to vectors and functions, are called **objects**, and objects are stored in memory. Technically, the values of variables in Python are the memory address of these objects.  Variables point (reference) at data (objects). **It is often easier to think of variables as 'storing' values, though some situtations will require understanding of the more technical memory-based definition.**\n",
    "\n",
    "Python programs use variables to store parameters taken in from the user, the execution environment, or the data your program is being called upon to process.\n",
    "\n",
    "These variables are named whatever you like, so long as they follow a few basic but important rules:\n",
    "\n",
    "1. Python variable names are case-sensitive, so Var and var are different variables.\n",
    "\n",
    "2. Though variable names can contain letters, numbers and underscores ( _ ), they MUST start with a letter (a-z).\n",
    "\n",
    "3. Variable names, CANNOT contain spaces or special non-alphanumeric characters.\n",
    "\n",
    "4. Variables can also not be any of the following words that already have special meaning in python:"
   ]
  },
  {
   "cell_type": "markdown",
   "metadata": {},
   "source": [
    "    and    assert   break    class      continue   def      del      elif\n",
    "    else   except   exec     finally    for        from     global   if\n",
    "    import in       is       lambda     not        or       pass     print\n",
    "    raise  return   try      while      yield\n"
   ]
  },
  {
   "cell_type": "markdown",
   "metadata": {},
   "source": [
    "For the most part, ipython will remind you that these words are off-limits by coloring these words in helpful ways when you type them.\n",
    "\n",
    "\n",
    "Here are some invalid python variable names: **1sample, sampleA.1, class**\n",
    "\n",
    "And here are some good alternatives: **sample_1, SampleA1, bootcamp_class**"
   ]
  },
  {
   "cell_type": "markdown",
   "metadata": {},
   "source": [
    "\n",
    "Variables can reference (store) many different types of objects. Today we'll talk about three types of objects: integers, floating point (i.e. decimal) numbers, and strings.\n",
    "\n",
    "Run the following example, through which we'll explore a few properties of variables:"
   ]
  },
  {
   "cell_type": "code",
   "execution_count": null,
   "metadata": {},
   "outputs": [],
   "source": [
    "# by the way, lines starting with the pound sign (#)\n",
    "# makes them comments, ignored by the interpreter\n",
    " \n",
    "s = 'hello world'\n",
    "i = 42\n",
    "f = 3.14159\n",
    "print(s)\n",
    "print('the variable s is type',type(s))\n",
    " \n",
    "print(i)\n",
    "print('the variable i is type',type(i))\n",
    " \n",
    "print(f)\n",
    "print('the variable f is type',type(f))\n"
   ]
  },
  {
   "cell_type": "markdown",
   "metadata": {},
   "source": [
    "\n",
    " In general, variables are assigned by typing the name you want to use, followed by a single equals sign, then the value you'd like to store. This is the same whether the variable you're assigning is an object of type str (a character string), int (whole number), float (non-integer real number), or any number of other fancier things you'll be using in the next two weeks.\n",
    " \n",
    " \n",
    "While (as your program tells you with the handy `type()` function) **i** is currently an integer, that doesn't mean it cannot change. You can easily reassign i to be anything that takes your fancy, including the value of another variable. You would do this with a statement such as the following:"
   ]
  },
  {
   "cell_type": "code",
   "execution_count": null,
   "metadata": {},
   "outputs": [],
   "source": [
    "i = s\n",
    " \n",
    "print(i)\n",
    "print('the variable i is now type',type(i))\n"
   ]
  },
  {
   "cell_type": "markdown",
   "metadata": {},
   "source": [
    "There are plenty of cases where this is exactly what you want to do, but bear in mind that once a variable is re-assigned to a new value, the old value is lost forever.\n",
    "\n",
    "As an example, consider the case where (for some reason) you want to swap the values of two variables s and i. The first step might appear to be a line very much like the i = s statement above, but if you do this, the value of i is lost forever, meaning you can never assign it to s. This may seem like a rather abstract problem but you'll encounter similar situations more often than you might think."
   ]
  },
  {
   "cell_type": "markdown",
   "metadata": {},
   "source": [
    "### 4.3 Numerical operations\n",
    "\n",
    "Numerical values can be subjected to a wide variety of operations. While the full list is quite extensive (see [this link](http://docs.python.org/lib/typesnumeric.html) for the full workup), the most common operations should be familiar. And, there are also python packages (which we'll get into soon), like [numpy](https://numpy.org/), which help us with all sorts of fancy numerical operations. \n",
    "\n",
    "\n",
    "Note below that standard mathematical order of operations applies, but it's far easier ... and safer ... to explicitly order compound operations using parentheses."
   ]
  },
  {
   "cell_type": "code",
   "execution_count": null,
   "metadata": {},
   "outputs": [],
   "source": [
    "i = 42\n",
    "f = 3.14159\n",
    " \n",
    "# addition uses the plus sign (+)\n",
    "sum = i + f\n",
    "# subtraction uses the minus sign (-)\n",
    "diff = i - f\n",
    "# multiplication uses the asterisk (*)\n",
    "prod = i * f\n",
    "# division uses the slash (/)\n",
    "quo = i / f\n",
    "# and exponents use a double-asterisk (**)\n",
    "pow = i ** f\n",
    " \n",
    "print ('sum',sum)\n",
    "print ('diff',diff)\n",
    "print ('prod',prod)\n",
    "print ('quo',quo)\n",
    "print ('pow',pow)\n",
    " \n",
    "x = 5\n",
    "print (\"x = \", x)\n",
    "x = x + 1\n",
    "print (\"now x is one more than before = \", x)\n",
    "x += 1\n",
    "print (\"now x is one more than before = \", x)\n"
   ]
  },
  {
   "cell_type": "markdown",
   "metadata": {},
   "source": [
    "Before we end, here are a few more functions related to thinking about the type of the variable you are using. Perhaps you have an integer but you'd rather treat it as a floating number (with decimals), or turn it into a string. You can use coercion functions such as:\n",
    "```python\n",
    "int()\n",
    "float()\n",
    "str()\n",
    "``` \n",
    "to turn an object into an integer, floating number, or string, respectively."
   ]
  },
  {
   "cell_type": "code",
   "execution_count": null,
   "metadata": {},
   "outputs": [],
   "source": [
    "x_int = 5\n",
    "y_flt = 10.2\n",
    "z_str ='4'\n",
    "\n",
    "x_str = str(x_int)\n",
    "x_flt = float(x_int)\n",
    "\n",
    "y_int = int(y_flt)\n",
    "y_str = str(y_flt)\n",
    "\n",
    "z_int = int(z_str)\n",
    "z_flt = float(z_str)\n",
    "\n",
    "print('x:', x_int, x_str, x_flt)\n",
    "print('y:', y_int, y_str, y_flt)\n",
    "print('z:', z_int, z_str, z_flt)\n",
    " \n",
    "# What happens when you uncomment the code below?\n",
    "#result = x_int+y_flt+z_int; print (result, type(result))  # What happens when you add floats and integers?\n",
    "#result = x_int+y_int+z_int; print (result, type(result))  # What happens when you add all integers?\n",
    "#result = x_int+y_flt+z_str; print (result, type(result))  # What happens when you add a string to numbers?\n",
    "#result = x_str+y_str+z_str; print (result, type(result))  # What happens when you add all strings?"
   ]
  },
  {
   "cell_type": "markdown",
   "metadata": {},
   "source": [
    "<a href=#home>Return to Top</a> "
   ]
  },
  {
   "cell_type": "markdown",
   "metadata": {},
   "source": [
    "## 5. Comprehension check  <a name='bookmark5' />\n",
    "\n",
    "Most weeks we'll have short comprehension check questions at the end of our lessons. Before class on Friday, try and do the following: \n",
    "1. In your Lesson 1 folder make a new directory called 'Test'\n",
    "2. Make a copy of your `file1_writefromnotebook.txt` file and put it in that directory\n",
    "3. Using Jupyter Notebook, write a new python file, called `ILTFY.py` in your Lesson 1 directory, that will print the words, \"I love that for you.\" (To test it out, on Terminal, type `python ILTFY.py` to see if the command works!)\n"
   ]
  },
  {
   "cell_type": "markdown",
   "metadata": {},
   "source": [
    "We will end Lesson 1 here. Come in on Friday ready with questions and you'll move on to Exercise 1 next week."
   ]
  },
  {
   "cell_type": "markdown",
   "metadata": {},
   "source": [
    "<a href=#home>Return to Top</a> "
   ]
  },
  {
   "cell_type": "markdown",
   "metadata": {},
   "source": [
    "## Appendix 1 - yourfirstname_jupyter.sh  <a name='bookmark6' />\n",
    "\n",
    "The details of your `yourfirstname_jupyter.sh` file are below if they are of interest. You can type `cat yourfirstname_jupyter.sh` to see for yourself. What this file does is tell Spydur to use the partition **yang2** (one of Dr. Yang's personal compute nodes on Spydur), using 5 CPUs and 10 GB of memory. In this example, Dr. Yang's default port number is **8890**. For each of your Jupyter Notebook scripts, I set a default port number, which is bookmarked on Slack under `#python_bootcamp`. Unless your port is taken by someone else, this number will generally be what you use. Any Jupyter Notebook accessed on Spydur from a remote computer at the same time must use a unique port.\n",
    "\n",
    "```bash\n",
    "#!/bin/bash\n",
    "#SBATCH --account=myang\n",
    "#SBATCH --nodes=1\n",
    "#SBATCH --ntasks=1\n",
    "#SBATCH --cpus-per-task=5\n",
    "#SBATCH --mem=10G\n",
    "#SBATCH --time=12:05:00\n",
    "#SBATCH --job-name=mel-jn\n",
    "#SBATCH --partition=yang2\n",
    "\n",
    "# get tunneling info\n",
    "XDG_RUNTIME_DIR=\"\"\n",
    "node=$(hostname -s)\n",
    "user=$(whoami)\n",
    "cluster=\"spydur\"\n",
    "port=8895\n",
    "\n",
    "# print tunneling instructions jupyter-log\n",
    "echo -e \"\n",
    "Command to create ssh tunnel:\n",
    "ssh -N -f -L ${port}:${node}:${port} ${user}@${cluster}\n",
    "\n",
    "Use a Browser on your local machine to go to:\n",
    "localhost:${port}  (prefix w/ https:// if using password)\n",
    "\"\n",
    "\n",
    "# Run Jupyter\n",
    "jupyter-notebook --no-browser --port=${port} --ip=${node}\n",
    "```\n",
    "\n",
    "<a href=#home>Return to Top</a> "
   ]
  },
  {
   "cell_type": "markdown",
   "metadata": {},
   "source": [
    "## Appendix 2 - Common Problems Running Jupyter  <a name='bookmark7' />\n",
    "\n",
    "### A. 'Address already in use' (after running the `ssh -N -f -L` command)\n",
    "\n",
    "After you submit the job to run your Jupyter Notebook on Spydur (using `qsub`), you next open a Terminal on your laptop to 'tunnel' to your Jupyter Notebook job using `ssh -N -f -L ####:spdr59:#### username@spydur`. However, sometimes, you accidentally run the tunneling command more than once. If you do, this may cause an error where the Terminal screen prints out something similar to the following: \n",
    "\n",
    "```\n",
    "bind [127.0.0.1]:8890: Address already in use\n",
    "channel_setup_fwd_listener_tcpip: cannot listen to port: 8890\n",
    "Could not request local forwarding.\n",
    "```\n",
    "\n",
    "If this happens, you want to reset kill all current jobs on your laptop using `ssh -N -f -L` and redo the process. \n",
    "\n",
    "To do this, enter `ps aux | grep spydur` on the Terminal screen NOT logged into Spydur. You should see a list of all jobs on your laptop that have the term 'spydur' in it (you will probably see more than one). Find the rows with the `ssh -N -f -L` command, and look for the number in the second column (usually about five digits). This number is the associated job ID. To kill these jobs, type `kill ##### ##### #####`, where the numbers are the Job IDs for all the rows containing `ssh -N -f -L`. \n",
    "\n",
    "Type `ps aux | grep spydur` to confirm those jobs are no longer present. If successful, go back and repeat `ssh -N -f -L ####:spdr59:#### username@spydur`, making sure to only do it once. If you don't get the same 'Address already in use' error, then you should be good to log into Spydur from your Browser!\n",
    "\n",
    "### A. Browser not loading but everything else seemed to work\n",
    "\n",
    "Every once in a while, you'll log in, `qsub` will work with no problems, `ssh -N -f -L` will work with no problems, but your browser just won't load Jupyter Notebook. First, on the Terminal signed into Spydur, type `squeue` and confirm there is a job running for your Jupyter Notebook. If not, but `qsub` worked, then it may be the case that Spydur is super busy, and your Jupyter Notebook job is still waiting to be run. If you do see your job running, however, take a look in the **yourfirstname_jupyter.sh.e####** file correlated to your job. If the port number in the link does not match the default port number you have, it's likely that another Spydur user was using your port number, so your job switched to a new port number. If so, identify the new port number in the **yourfirstname_jupyter.sh.e####** file, and run `ssh -N -f -L ####:spdr59:#### username@spydur` with the new port number on your other Terminal screen. The next time you login and run Jupyter Notebook, you should assume your port number is back to the default port number. But you can always check the new **yourfirstname_jupyter.sh.e####** to confirm. \n",
    "\n",
    "Every once in a while, you hit `qsub` too many times and you ended up running more than one Jupyter Notebook. This usually isn't a problem, as your initial notebook with the default port is still running. But you might have multiple **yourfirstname_jupyter.sh.e####** files, which may get confusing. However, if you see multiple Jupyter Notebook jobs running when you check `squeue`, you can always type `scancel #####` where your number if the Job ID of your Jupyter Notebook. This will kill the Jupyter Notebook job running on Spydur. \n",
    "\n",
    "<a href=#home>Return to Top</a> "
   ]
  }
 ],
 "metadata": {
  "kernelspec": {
   "display_name": "Python 3 (ipykernel)",
   "language": "python",
   "name": "python3"
  },
  "language_info": {
   "codemirror_mode": {
    "name": "ipython",
    "version": 3
   },
   "file_extension": ".py",
   "mimetype": "text/x-python",
   "name": "python",
   "nbconvert_exporter": "python",
   "pygments_lexer": "ipython3",
   "version": "3.9.13"
  }
 },
 "nbformat": 4,
 "nbformat_minor": 1
}
