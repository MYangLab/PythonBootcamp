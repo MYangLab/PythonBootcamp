{
 "cells": [
  {
   "cell_type": "markdown",
   "metadata": {},
   "source": [
    "# Lesson 3: Tests, Loops and Escapes <a name='home' />\n",
    "\n",
    "Last time we used Python to learn about types of data and ways to work with classic data types such as strings, lists, and dictionaries. We also explored libraries such as `pandas` and `matplotlib`, so you could see how quickly datasets can be analyzed and developed into useful visualizations. \n",
    "\n",
    "Table of Contents:\n",
    "- <a href=#bookmark0>0. Online sources for more Python and Overview.</a> \n",
    "- <a href=#bookmark1>1. The Syntax of IF.</a> \n",
    "- <a href=#bookmark2>2. The Nature of Truth.</a> \n",
    "- <a href=#bookmark3>3. for loops.</a> \n",
    "- <a href=#bookmark4>4. Informative Interlude: Mutable and Immutable Objects.</a> \n",
    "- <a href=#bookmark5>5. enumerate().</a> \n",
    "- <a href=#bookmark6>6. while loops.</a> \n",
    "- <a href=#bookmark7>7. Escaping Loops.</a> \n",
    "- <a href=#bookmark8>8. List and dictionary comprehensions</a> \n",
    "- <a href=#bookmark9>9. Nested Structures</a> \n",
    "\n",
    "## 0. Online sources for more Python and Overview\n",
    "\n",
    "There are many resources online for learning Python, and we go very quickly through the basics. If you want more places to look for Python tutorials and lessons, these are links that others have previously shared with us - if you have one to share, let us know and we will add them on. \n",
    "1. [Python3](https://docs.python.org/3/tutorial/index.html) - This is the official Python3 tutorial, and documentation on Python 3 can be found on this website.\n",
    "2. [ChatGPT](https://realpython.com/chatgpt-coding-mentor-python/) - ChatGPT is supposed to be great for troubleshooting code, and this article describes how to use ChatGPT as a mentor. \n",
    "3. https://www.tutorialspoint.com/python/\n",
    "4. https://wiki.python.org/moin/BeginnersGuide/Programmers (many links)\n",
    "5. https://wiki.python.org/moin/ChineseLanguage (links to Chinese tutorials)\n",
    "\n",
    "The main goal of today's lesson is to give you the tools for automating your code to run over large amounts of data, and provide conditional statements that will let you do different things to your data depending on your conditions. The major grammatical structure we will use involves the following:\n",
    "\n",
    "1. **if**\n",
    "2. **for**\n",
    "3. **while**\n",
    "\n",
    "The objective, when you begin programming, is to make the computer do your work for you. Instead of normalizing that microarray data or computing that crystal structure fit with a pocket calculator and a bucket of coffee, you want to be able to say, 'Computer, do my work,' and then have it done. Of course, you'd have to say it a little more clearly than that -- for instance, to pick out over-expressed membrane proteins from microarray data, you could tell the computer that for each gene in the genome:\n",
    "\n",
    "\"If the protein is located in the membrane, tell me if that protein's expression level under a given set of experimental conditions [stored in column 2, for example] is 5-fold or more greater than the expression level under control conditions [stored in column 4, for example].\"\n",
    "\n",
    "orrr \n",
    "\n",
    "\"If the [National Land Cover Dataset](https://www.usgs.gov/centers/eros/science/national-land-cover-database#data) pixel has a value between 21-24, reclassify it as simply, 'developed.'\"\n",
    "\n",
    "    Q: What's the magic word in each of these questions?\n",
    "\n",
    "    A: if\n",
    "\n",
    "The **if statement** is one of the most fundamental components of programming, and it is found in some form or another in every general-purpose programming language (and nearly all specialized ones, too). It simply tells the computer to execute a block of code if a given statement is true. If the statement is false, the code is skipped. Although the concept is simple, conditional statements like **if** allow your programs to make decisions on their own.\n",
    "\n",
    "Now, how can we ask the above question about every protein in our dataset of 5, or 20, or 10,000 proteins? Or, we have a raster with over 10,000 pixels? \n",
    "\n",
    "The really great thing about computers is their ability to do things over and over again really quickly, without getting bored. It's easy for us to do stuff on a handful of data points, but more than a couple dozen (or two, depending on how much patience we have) and we'd really start wishing the computer was doing it for us. (Prof Spera's favorite mental game with ArcGIS is: \"Do I click all the buttons 40 times, or do I take the time to code it?\" And usually, when she chooses 'click the buttons 40 times' she wishes she's coded it because she will inevitably be redoing whatever she did more than once).\n",
    "\n",
    "Every programming language has a way to do this, looping over a section of code multiple times. Python has two kinds of loops: the **for** loop and the **while** loop.\n",
    "\n",
    "In principle, anything you can do with one you should be able to do with the other somehow, but it's often a lot cleaner to pick the appropriate one for the situation. Hopefully once you've seen how each one works, it will be reasonably obvious which one is best for any given job at hand.\n",
    "\n",
    "With the **if** statement, you can now introduce logic into your scripts, and with **for** and **while** loops, you introduce repetition into your scripts. By the end of today's lesson, you will have the foundational core to write code for almost anything you can imagine (though perhaps not with the greatest efficiency...that will come!). "
   ]
  },
  {
   "cell_type": "markdown",
   "metadata": {},
   "source": [
    "# 1. The Syntax of *if*  <a name='bookmark1' />\n",
    "In Python, we construct our **if** statements with this general form:\n",
    "\n",
    "```python\n",
    "if < whatever statement whose condition must be True>:\n",
    "    execute code\n",
    "    execute more code\n",
    "```\n",
    "\n",
    "The key pieces of syntax here are the **if**, the condition that we would like to evaluate (note: the condition is expressed within angle brackets **<>** for emphasis in this example, but angle brackets are not used in real code), the colon **:** that signifies the end of the logical test, and the indentation for the things to do below the first line of the statement."
   ]
  },
  {
   "cell_type": "code",
   "execution_count": 1,
   "metadata": {},
   "outputs": [
    {
     "name": "stdout",
     "output_type": "stream",
     "text": [
      "30. that's hot.\n"
     ]
    }
   ],
   "source": [
    "temperature = 30\n",
    "\n",
    "if temperature > 25:\n",
    "    print(f\"{temperature}. that's hot.\")"
   ]
  },
  {
   "cell_type": "markdown",
   "metadata": {},
   "source": [
    "We will discuss what makes things **True** in a minute, but for now we should focus on the syntax. Look at the code above. Beyond the **if** and **\":\"**, Python will execute all of the following indented code. Indentation is the signal to the interpreter that this block of code is under the control of the **if** statement. \n",
    "\n",
    "Try changing the temperature in the code above to '5'. Note that the **print** statement did not occur because the statement was printed *only if* the temperature is above 30C. \n",
    "\n",
    "Speaking of decision making, we could use this syntax to write a program that spares us the trouble of deciding where I can eat each each day. The scenario is \"I need a script that will help me decide what I can eat today.\" To plan out this code, I think about the steps I need.\n",
    "\n",
    "1. A method of indicating how much money I have.\n",
    "2. Different outcomes for each of my conditions.\n",
    "3. A means to communicate the outcome.\n",
    "\n",
    "Below is the first go of my code. It is going to throw an error at me."
   ]
  },
  {
   "cell_type": "code",
   "execution_count": null,
   "metadata": {},
   "outputs": [],
   "source": [
    "wallet = input(\"How much money is in my wallet? \") \n",
    "\n",
    "##What is my error? Try a few numbers, what happens?\n",
    "##What did I change in the next cell to avoid this error?\n",
    "\n",
    "print (f\"I have ${wallet}.\")\n",
    "\n",
    "if wallet < 15:\n",
    "    fooditem = 'D-Hall'\n",
    "    \n",
    "if wallet >= 15:\n",
    "    fooditem = 'Organic Krush'\n",
    " \n",
    "print (f\"We are eating at {fooditem} today.\")"
   ]
  },
  {
   "cell_type": "markdown",
   "metadata": {},
   "source": [
    "What's the error above? It should say:\n",
    "\n",
    "```python\n",
    "TypeError: '<' not supported between instances of 'str' and 'int'\n",
    "```\n",
    "\n",
    "This is because the input you give is a number, but Python reads it in as a `string`. It can't compare a string to a number for equality, so it spits out an error saying something is wrong with the data type. \n",
    "\n",
    "Brainstorm how you would fix this code to make it work before moving on. \n",
    "\n",
    "Below is another version where I changed my conditions and how I printed the final outcome. "
   ]
  },
  {
   "cell_type": "code",
   "execution_count": null,
   "metadata": {},
   "outputs": [],
   "source": [
    "wallet = input(\"How much money is in my wallet? \") \n",
    "\n",
    "wallet=int(wallet)\n",
    "\n",
    "print (f\"I have ${wallet}.\")\n",
    "\n",
    "if wallet < 15:\n",
    "    fooditem = 'D-Hall'\n",
    "    \n",
    "if wallet >= 15:\n",
    "    fooditem = 'Organic Krush'\n",
    " \n",
    "print (f\"We are eating at {fooditem} today.\")"
   ]
  },
  {
   "cell_type": "markdown",
   "metadata": {},
   "source": [
    "Hopefully you made the same or a similar fix! We said that whatever was input into the script had to be changed to the `int` type, which is a number that is now comparable for an equality condition. Note that while this works better, it's not perfect - if you put in characters, you'd now get an error because they can't be converted to integers. But we won't worry about that and just put in digits!\n",
    "\n",
    "Notice that though all the code above works great, the result is nonsensical - if you had $20, you most certainly could eat anywhere on campus - this type of error is a **logical error**. Logical errors are errors that do not break the code - that is, the rules of coding are not broken, but your output is not what you intended. The mistake in these cases are often due to a mistake in the reasoning on how the program is working. These errors are much harder to solve because there are no handy errors to let us know something is wrong! We'll learn more about how to build in error troubleshooting in a later lesson, but a good first step is printing your variables out a lot, and testing whether what gets printed matches what you would have expected based on your understanding of the code. \n",
    "\n",
    "**The key to coding is a deep understanding of what you are coding.** \n",
    "\n",
    "Bio kids: If you need to go from the DNA sequence to the translated amino acid sequence, you need to have a deep understanding of complementary base pairing, the redundancy for amino acid coding, how alternative splicing works, and how to recognize a gene! You may be converting from one sequence to another in code, but whether your final result is BIOLOGICALLY MEANINGFUL will always be rooted in your understanding of biology. Thus, computation is a methodological skill that assists in answering your biological questions - don't forget that! While you may spend a lot of time figuring out code, it's just as important to remember you spent valuable time developing the question and background the code is being developed for. \n",
    "\n",
    "Geog kids: If you need to iterate through hundreds of satellite data rasters and do complex raster calcuations like calcuating NDVI to back out a rough estimate of land-surface emissivity so you can look at thermal Landsat data because you're interested in the urban heat island, you need to fully understand the how NDVI is connected to emissivity, and how that connects to measured temperature. Or else, you could write all this code and not know if your results are meaningful.\n"
   ]
  },
  {
   "cell_type": "markdown",
   "metadata": {},
   "source": [
    "Let's go back to our food example, we might want this to be a bit more generalized. For instance, D-hall became more expensive (inflation!)? We would have to change multiple numbers here. A good catchall is the **else** statement, which says if an **if** statement is not satisfied, then do this other command:\n",
    "\n",
    "```python\n",
    "if wallet > 0: \n",
    "    print (\"I have money to eat!\")\n",
    "else: \n",
    "    print (\"My eyes feast but my stomach growls.\")\n",
    "```\n",
    "\n",
    "Furthermore, we might have more conditions we want to add then just two. This uses the term **elif** (standing for \"else if\"), which allows the inclusion of multiple conditional statements. When using **elif**, each conditional statement is run through in order. Thus, if two conditional statements overlapped (i.e., x<5 and x<6), then it would only execute the commands related to the first conditional statement in the script. "
   ]
  },
  {
   "cell_type": "code",
   "execution_count": 1,
   "metadata": {},
   "outputs": [
    {
     "name": "stdout",
     "output_type": "stream",
     "text": [
      "How much money is in my wallet? 300\n",
      "I have $300.00.\n",
      "We are eating off campus today.\n"
     ]
    }
   ],
   "source": [
    "wallet = float(input(\"How much money is in my wallet? \"))\n",
    "\n",
    "print (f\"I have ${wallet:.2f}.\")\n",
    "\n",
    "if wallet < 10:\n",
    "    fooditem = 'a banana stolen from d-hall yesterday'\n",
    "elif wallet < 15:    \n",
    "    fooditem = 'at D-Hall'\n",
    "elif wallet < 100:\n",
    "    fooditem = 'at Organic Krush'\n",
    "else: \n",
    "    fooditem = \"off campus\"\n",
    " \n",
    "print (f\"We are eating {fooditem} today.\")"
   ]
  },
  {
   "cell_type": "markdown",
   "metadata": {},
   "source": [
    "Now we have a script we can use every morning to determine what we can eat! All our decision making problems are solved, right?"
   ]
  },
  {
   "cell_type": "markdown",
   "metadata": {},
   "source": [
    "## Knowledge Check\n",
    "\n",
    "Write code below that will print \"it is above freezing out\" if the temperature is above freezing, \"it is below freezing out\" if the tempeature is below freezing\", and \"it's literally freezing out\" if the temperature is 0C.  "
   ]
  },
  {
   "cell_type": "code",
   "execution_count": 3,
   "metadata": {},
   "outputs": [
    {
     "name": "stdout",
     "output_type": "stream",
     "text": [
      "What's the temperature - IN C-40\n",
      "it's cold\n"
     ]
    }
   ],
   "source": [
    "# write your freezing code here\n",
    "temp = int(input(\"What's the temperature - IN C\"))\n",
    "\n",
    "if temp > 0: \n",
    "    print(\"it is above freezing out\")\n",
    "elif temp == 0:\n",
    "    print(\"it is literally freezing\")\n",
    "else:\n",
    "    print(\"it's cold\")\n"
   ]
  },
  {
   "cell_type": "markdown",
   "metadata": {},
   "source": [
    "<a href=#home>Return to Top</a> "
   ]
  },
  {
   "cell_type": "markdown",
   "metadata": {},
   "source": [
    "# 2. The Nature of Truth  <a name='bookmark2' />\n",
    "\n",
    "What is truth, anyway? Here, we have covered some simple conditional statements the program checks for \"truth\"."
   ]
  },
  {
   "cell_type": "code",
   "execution_count": null,
   "metadata": {},
   "outputs": [],
   "source": [
    "wallet = float(input(\"How much money is in my wallet? \"))\n",
    "\n",
    "print (f\"I have ${wallet:.2f}.\")\n",
    "\n",
    "if wallet < 10: print (\"less than\")\n",
    "if wallet >= 10: print (\"greater than or equal to\")\n",
    "if wallet != 10: print (\"not equal to\")\n",
    "if wallet == 10: print (\"equal to\")"
   ]
  },
  {
   "cell_type": "markdown",
   "metadata": {},
   "source": [
    "These logical operators (**==,!=,>=,<=,>,<**) evaluates whether the value of the two operands on either side are equal or not, and if they are, the statement evaluates to **True**. To learn more about operators, [go here](http://www.tutorialspoint.com/python/python_basic_operators.htm)."
   ]
  },
  {
   "cell_type": "code",
   "execution_count": null,
   "metadata": {},
   "outputs": [],
   "source": [
    "wallet = 5\n",
    "\n",
    "x1 = wallet < 10\n",
    "x2 = wallet == 15\n",
    "\n",
    "print ('x1', x1)\n",
    "print ('x2', x2)"
   ]
  },
  {
   "cell_type": "markdown",
   "metadata": {},
   "source": [
    "These equality statements mean either **True** or **False**, and if you were to set them to a variable, they would have the value of **True** or **False**.\n",
    "\n",
    "Truth has a formal meaning in Python, as it does in all programming languages, and it extends to more than just equality statements. \n",
    "\n",
    "In short:\n",
    "\n",
    "Any nonzero number, nonempty object, and the special object **True** are things Python believes to be **True**.\n",
    "Zero numbers, empty objects, and the special objects **None** and **False** are things Python believes to be **False**. \n",
    "\n",
    "The function **bool** will tell you whether your object is **True** or **False** \n",
    "\n",
    "```python\n",
    "bool(object)\n",
    "```\n"
   ]
  },
  {
   "cell_type": "code",
   "execution_count": null,
   "metadata": {},
   "outputs": [],
   "source": [
    "## After running the code, \n",
    "## try substituting 1 with each of the following: ['a'], '123', 0, []\n",
    "\n",
    "myobject = 1\n",
    "if bool(myobject) == False: print (myobject, \"is False!\")\n",
    "if bool(myobject) == True: print (myobject, \"is True!\")"
   ]
  },
  {
   "cell_type": "markdown",
   "metadata": {},
   "source": [
    "## 2.1 *and*, *or*, and *not*\n",
    "\n",
    "Finally, what if we want to evaluate more than one **if** statement at once? The Boolean operators **and**, **or**, and **not** can help us out. The operator **and** will only return **True** if both accompanying statements are **True**, while **or** will return **True** if either accompanying statement is **True**. **not** returns the inverse of the logical value of the statement given.\n"
   ]
  },
  {
   "cell_type": "code",
   "execution_count": null,
   "metadata": {},
   "outputs": [],
   "source": [
    "true_statement = 'truth itself' # non-empty strings are true\n",
    "false_statement = '' # empty strings are false\n",
    " \n",
    "print (true_statement, bool(true_statement))\n",
    "print (false_statement, bool(false_statement))\n",
    "print ()\n",
    "\n",
    "if true_statement and false_statement: ##if both are True\n",
    "    print (\"'and', This should not print.\")\n",
    "    print ()\n",
    "else:\n",
    "    print (\"'and', This should print because one is False and both need to be True.\")\n",
    "    print ()\n",
    " \n",
    "if true_statement or false_statement: ##if at least one is True\n",
    "    print (\"'or', This should print because one variable is True.\")\n",
    "    print ()\n",
    " \n",
    "if not false_statement:  ##if not True == False\n",
    "    print (\"'not', This should print because 'not' false_statement is True.\")\n",
    "    print ()\n",
    " \n",
    "if not (true_statement and false_statement): ##if none or one is False, then the \"and\" statement is False, so \"not\" of it is True\n",
    "    print (\"'not' + 'and', This should print because one variable is False, so 'not' False is True.\")\n",
    "    print ()"
   ]
  },
  {
   "cell_type": "markdown",
   "metadata": {},
   "source": [
    "If statements (and for loops below) are so vital to writing code, that we snuck in an introduction last lesson, because it is so hard to construct exercises without them. Do you remember the following?"
   ]
  },
  {
   "cell_type": "code",
   "execution_count": 4,
   "metadata": {},
   "outputs": [
    {
     "name": "stdout",
     "output_type": "stream",
     "text": [
      "transposons\n"
     ]
    }
   ],
   "source": [
    "topic = {'Jennifer':'crispr','Barbara':'transposons','Ruth':'blood groups',\n",
    "           'Janaki':'plants','Ruby':'cancer'}\n",
    "\n",
    "if 'Barbara' in topic: print (topic['Barbara'])\n",
    "if 'Charles' in topic: print (topic['Charles'])"
   ]
  },
  {
   "cell_type": "markdown",
   "metadata": {},
   "source": [
    "Here, we used the if statement in reference to lists/dictionaries using in. For a dictionary as above, it asks if 'Barbara' or 'Charles' are in the list of keys belonging to favorites. This includes:\n",
    "\n",
    "```\n",
    "topickeys = ['Jennifer', 'Barbara', 'Ruth', 'Janaki', 'Ruby']\n",
    "'Charles' is not in the topickeys list but 'Barbara' is in the list, and thus\n",
    "\n",
    "bool('Charles' in favorites)  = ??\n",
    "bool('Barbara' in favorites) = ??\n",
    "\n",
    "```\n",
    "\n",
    "Thus, in lists and dictionaries, you use **in** or **not in** for your conditional statements."
   ]
  },
  {
   "cell_type": "code",
   "execution_count": 5,
   "metadata": {},
   "outputs": [
    {
     "name": "stdout",
     "output_type": "stream",
     "text": [
      "using in\n",
      "False\n",
      "True\n",
      "\n",
      "using not in\n",
      "True\n",
      "False\n",
      "\n",
      "using in and not in with if statements\n",
      "Charles does not exist in topic\n"
     ]
    }
   ],
   "source": [
    "topic = {'Jennifer':'crispr','Barbara':'transposons','Ruth':'blood groups',\n",
    "           'Janaki':'plants','Ruby':'cancer'}\n",
    "\n",
    "print (\"using in\")\n",
    "print (bool('Charles' in topic))\n",
    "print (bool('Barbara' in topic))\n",
    "print ()\n",
    "\n",
    "print (\"using not in\")\n",
    "print (bool('Charles' not in topic))\n",
    "print (bool('Barbara' not in topic))\n",
    "print ()\n",
    "\n",
    "print ('using in and not in with if statements')\n",
    "if 'Charles' not in topic: print ('Charles does not exist in topic') \n",
    "elif 'Charles' in topic: print ('Charles does exist in topic')\n",
    "else: print ('This should not print anything, as the top two catches all conditions')"
   ]
  },
  {
   "cell_type": "markdown",
   "metadata": {},
   "source": [
    "## Knowledge Check\n",
    "Use the following format to evaluate whether the objects presented below (x) are True or False. Before testing it in a script, try to guess for yourself whether it is True or False. \n",
    "```python\n",
    "query = x #fill in blank\n",
    "if query:\n",
    "    print ('Query',query,'is true')\n",
    "else:\n",
    "    print ('Query',query,'is false')\n",
    "```\n",
    "\n",
    "```python\n",
    "query = \"\" ##the empty string\n",
    "query = []\n",
    "query = {}\n",
    "query = [[]]\n",
    "query =  0\n",
    "query = [0]\n",
    "query = [0][0] ##also-- what is this? Print out the value of [0][0] and [1][0] before doing the truth test)\n",
    "query = [[ ]] [0]\n",
    "```"
   ]
  },
  {
   "cell_type": "code",
   "execution_count": 18,
   "metadata": {},
   "outputs": [
    {
     "name": "stdout",
     "output_type": "stream",
     "text": [
      "Query [1] is true\n"
     ]
    }
   ],
   "source": [
    "query = [1] #fill in blank\n",
    "if query:\n",
    "    print ('Query',query,'is true')\n",
    "else:\n",
    "    print ('Query',query,'is false')\n",
    "\n",
    "    query = \"\" ##the empty string\n",
    "query = []\n",
    "query = {}\n",
    "query = [[]]\n",
    "query =  0\n",
    "query = [0]\n",
    "query = [0][0] ##also-- what is this? Print out the value of [0][0] and [1][0] before doing the truth test)\n",
    "query = [[ ]] [0]"
   ]
  },
  {
   "cell_type": "markdown",
   "metadata": {},
   "source": [
    "## Knowledge Check x2\n",
    "\n",
    "Let's go back to the weather. Write code below that helps us decide what to do. If it's raining, or the wind is greater than 8 m/s (8 m/s  [17 mph] is the limit for a \"fresh breeze\", or *navakka tuuli* in Finnish - they're a robust people), print, \"Just stay home.\" But, if it's not raining or windy, print, \"Go out and enjoy the weather.\"\n",
    "\n",
    "The code has been started for you below"
   ]
  },
  {
   "cell_type": "code",
   "execution_count": null,
   "metadata": {},
   "outputs": [],
   "source": [
    "# useful variables\n",
    "weather = \"rain\"\n",
    "wind_speed = 9"
   ]
  },
  {
   "cell_type": "markdown",
   "metadata": {},
   "source": [
    "<a href=#home>Return to Top</a> "
   ]
  },
  {
   "cell_type": "markdown",
   "metadata": {},
   "source": [
    "# 3. *for* loops  <a name='bookmark3' />\n",
    "\n",
    "The **for** loop allows you to perform the same actions multiple times, but with different data each time (some languages have an equivalent construct and call it a for each loop). We also used this concept before when talking about lists, we just didn't explain what was going on:"
   ]
  },
  {
   "cell_type": "code",
   "execution_count": null,
   "metadata": {},
   "outputs": [],
   "source": [
    "names = {'Jennifer': 'Doudna', 'Barbara': 'McClintock', 'Ruth': 'Moore', 'Janaki': 'Ammal', 'Ruby': 'Hirose'}\n",
    "topic = {'Jennifer':'crispr','Barbara':'transposons','Ruth':'blood groups',\n",
    "           'Janaki':'plants','Ruby':'cancer'}\n",
    "\n",
    "keys = names.keys()\n",
    "\n",
    "for x in keys: \n",
    "    print (f\"{x} {names[x]}'s topic of study is {topic[x]}.\")"
   ]
  },
  {
   "cell_type": "markdown",
   "metadata": {},
   "source": [
    "The general syntax here is that \n",
    "1. **for** goes through each item in the list (or tuple or dictionary) after the **in**, \n",
    "2. the item is stored in the variable name before **in**, \n",
    "3. the code after the colon (usually on next line) is executed, assuming the variable is the stored item. \n",
    "4. Once it's done all that code, it gets a new element from the list, and repeats.\n",
    "\n",
    "Just like an **if** statement, if you want to do more than one thing inside the loop, you can start a new block of indented lines after the colon, and then when you're done with the code you want to run every time, go back to the original indentation. \n",
    "\n",
    "```python\n",
    "for VARIABLE_NAME in CONTAINER:\n",
    "    DO_SOMETHING\n",
    "    DO_SOMETHING_ELSE\n",
    "    ....\n",
    " \n",
    "# is the same as\n",
    " \n",
    "VARIABLE_NAME = CONTAINER[0]\n",
    "DO_SOMETHING\n",
    "DO_SOMETHING_ELSE\n",
    " \n",
    "VARIABLE_NAME = CONTAINER[1]\n",
    "DO_SOMETHING\n",
    "DO_SOMETHING_ELSE\n",
    " \n",
    "VARIABLE_NAME = CONTAINER[2]\n",
    "DO_SOMETHING\n",
    "DO_SOMETHING_ELSE\n",
    "...\n",
    "# and so on\n",
    "```\n",
    "\n",
    "I'm sure you can imagine how frustrating it is to manually write out each set of commands again and again for each element in your list. The **for loop** greatly simplifies and shortens your code, allowing for easier reading, editing, and avoidance of errors. Combined with the **if** statement, this allows for easy organization of code and short scripts with a powerful ability to run through large blocks of data. \n",
    "\n",
    "The following is an example of a script including ***for loops and if statements***. See if you can comment what is happening with the for loop and each conditional statement. "
   ]
  },
  {
   "cell_type": "code",
   "execution_count": 19,
   "metadata": {},
   "outputs": [
    {
     "name": "stdout",
     "output_type": "stream",
     "text": [
      "The Xia dynasty began 2070 BCE.\n",
      "The Shang dynasty began 1600 BCE.\n",
      "The Zhou dynasty began 1046 BCE.\n",
      "The Qin dynasty began 221 BCE.\n",
      "The Han dynasty began 206 BCE.\n",
      "The Three Kingdoms period began 220 BCE.\n",
      "The Jin dynasty began 265 AD.\n",
      "The Northern and Southern dynasties began 420 AD.\n",
      "The Sui dynasty began 581 AD.\n",
      "The Tang dynasty began 618 AD.\n"
     ]
    }
   ],
   "source": [
    "##based on wikipedia (https://en.wikipedia.org/wiki/Dynasties_in_Chinese_history)\n",
    "earlydynasties = [\"Xia\",\"Shang\",\"Zhou\",\"Qin\",\"Han\",\"Three Kingdoms\",\"Jin\",\n",
    "                  \"Northern and Southern\",\"Sui\",\"Tang\"]\n",
    "startdate = [-2070,-1600,-1046,-221,-206,-220,265,420,581,618]\n",
    "\n",
    "for dynasty in earlydynasties:\n",
    "    dynastyindex = earlydynasties.index(dynasty)\n",
    "    \n",
    "    if startdate[dynastyindex] < 0: \n",
    "        startdatevalue = -startdate[dynastyindex]\n",
    "        datename = \"BCE\"\n",
    "    else: \n",
    "        startdatevalue = startdate[dynastyindex]\n",
    "        datename = \"AD\"\n",
    "        \n",
    "    if dynasty == \"Three Kingdoms\": whattype = \"period\"\n",
    "    elif dynasty == \"Northern and Southern\": whattype = \"dynasties\"\n",
    "    else: whattype = \"dynasty\"\n",
    "        \n",
    "    print (f\"The {dynasty} {whattype} began {startdatevalue} {datename}.\")"
   ]
  },
  {
   "cell_type": "markdown",
   "metadata": {},
   "source": [
    "Finally, `range()` is a useful function for iterating over numbers."
   ]
  },
  {
   "cell_type": "code",
   "execution_count": 20,
   "metadata": {},
   "outputs": [
    {
     "name": "stdout",
     "output_type": "stream",
     "text": [
      "range(0, 4)\n",
      "number: 0\n",
      "number: 1\n",
      "number: 2\n",
      "number: 3\n"
     ]
    }
   ],
   "source": [
    "mylst=range(4)\n",
    "print (mylst)\n",
    "\n",
    "for x in mylst:\n",
    "    print ('number:', x)"
   ]
  },
  {
   "cell_type": "markdown",
   "metadata": {},
   "source": [
    "## 3.1 Mutating lists with loops\n",
    "When we were discussing lists, we said that they were mutable. We showed that in a couple of ways, such as using the **sort()** method. \n",
    "\n",
    "It is reasonable to think that code such as\n",
    "```python\n",
    "li = [1,2,3]\n",
    "for x in li:\n",
    "    x = x + 42\n",
    "```\n",
    "would change the list **li** to contain [43,44,45]. However, ***this is not the case***, as shown in the cell below."
   ]
  },
  {
   "cell_type": "code",
   "execution_count": 22,
   "metadata": {},
   "outputs": [
    {
     "name": "stdout",
     "output_type": "stream",
     "text": [
      "before loop: [1, 2, 3]\n",
      "43\n",
      "44\n",
      "45\n",
      "after loop: [1, 2, 3]\n"
     ]
    }
   ],
   "source": [
    "li = [1,2,3]\n",
    "print ('before loop:', li)\n",
    "for x in li:\n",
    "    x = x + 42\n",
    "    print(x)\n",
    "print ('after loop:', li)"
   ]
  },
  {
   "cell_type": "markdown",
   "metadata": {},
   "source": [
    "To actually update the **for loop**, we instead can do: \n",
    "```python\n",
    "li1 = [1,2,3]\n",
    "for x in range( len(li1) ):\n",
    "    li1[x] = li1[x] + 42\n",
    "```\n",
    "Now, we are directly updating the list!"
   ]
  },
  {
   "cell_type": "code",
   "execution_count": 23,
   "metadata": {},
   "outputs": [
    {
     "name": "stdout",
     "output_type": "stream",
     "text": [
      "'li1' before loop: [1, 2, 3]\n",
      "'li1' after loop: [43, 44, 45]\n"
     ]
    }
   ],
   "source": [
    "li1 = [1,2,3]\n",
    "print (\"'li1' before loop:\", li1)\n",
    "for x in range( len(li1) ):\n",
    "    li1[x] = li1[x] + 42\n",
    "print (\"'li1' after loop:\", li1)"
   ]
  },
  {
   "cell_type": "markdown",
   "metadata": {},
   "source": [
    "In the above, it is important to think about what you are updating. In the first example, you were updating `x`, but `x` was reset each time in the **for loop**. In the second example, you were updating the element in the list at the index of interest - thus your list changed. "
   ]
  },
  {
   "cell_type": "markdown",
   "metadata": {},
   "source": [
    "## Knowledge Check\n",
    "\n",
    "Write a for loop with an **elif statement** below to change the list of students' first names to include their home department"
   ]
  },
  {
   "cell_type": "code",
   "execution_count": null,
   "metadata": {},
   "outputs": [],
   "source": [
    "students = [\"eli\", \"flora\", \"gloria\", \"katie\", \"marian\", \"marlo\", \"matteo\", \"mia\", \"michelle\"]\n",
    "#so many m names, btw\n",
    "\n",
    "#goal output\n",
    "#students = [\"eli-geo\", \"flora-bio\", \"gloria-bio-geo\", \"katie-geo\", \"marian-bio\", \"marlo-bio\", \"matteo-geo\", \"mia-geo\", \"michelle-bio\"]"
   ]
  },
  {
   "cell_type": "markdown",
   "metadata": {},
   "source": [
    "<a href=#home>Return to Top</a> "
   ]
  },
  {
   "cell_type": "markdown",
   "metadata": {},
   "source": [
    "# 4. Informative Interlude: Mutable and Immutable Objects  <a name='bookmark4' />\n",
    "When we say that something is *mutable*, we mean that we can change the value without destroying the original data structure. To understand what this means, let's first discuss things that are *immutable*, such as strings and integers."
   ]
  },
  {
   "cell_type": "code",
   "execution_count": null,
   "metadata": {},
   "outputs": [],
   "source": [
    "x=5\n",
    "print(x)\n",
    "## We can't make 5=10, but we can reassign x so x=10.\n",
    "x=10\n",
    "print(x)"
   ]
  },
  {
   "cell_type": "markdown",
   "metadata": {},
   "source": [
    "The string or integer or float is immutable. For each variable where we assign a string or integer, you cannot change the string or integer - instead, when you make a change, you are reassigning a 'new' string or integer to the same variable. \n",
    "\n",
    "For lists and dictionaries, which can get very large, it can be inefficient to always recreate the entire list or dictionary with a few elements changed. Python in fact does not delete the list or dictionary and overwrite a variable with a new similar, but slightly updated list or dictionary. Instead, when we do \n",
    "```python\n",
    "x=[1,2,3]\n",
    "x[1]='a'\n",
    "x=[1,'a',3]\n",
    "```\n",
    "Python is only changing the portion of the list that was updated from a 2 to an 'a'. This means that instead of having to make resource-consuming copies of our data, we can change the mutable variables directly. Lists and dictionaries are mutable; tuples and strings are not."
   ]
  },
  {
   "cell_type": "code",
   "execution_count": null,
   "metadata": {},
   "outputs": [],
   "source": [
    "S = 'Spam'\n",
    "print (S)\n",
    " \n",
    "S = 'z' + S[1:]\n",
    "print (S)"
   ]
  },
  {
   "cell_type": "code",
   "execution_count": null,
   "metadata": {},
   "outputs": [],
   "source": [
    "# Let's make a list\n",
    "a = ['a', 'b', 'c', 'd']\n",
    "b = a\n",
    "print (a, \"is the original value of 'a'\")\n",
    "print (b, \"is the original value of 'b'\")\n",
    "print () # prints an empty line just so it looks nice below\n",
    "\n",
    "b[1] = 'Y'\n",
    "print (a, \"is the value of 'a'\")\n",
    "print (b, \"is the value of 'b'\")\n"
   ]
  },
  {
   "cell_type": "markdown",
   "metadata": {},
   "source": [
    "Above, we only changed an index in the list `b` but both `a` and `b` were updated. What happened? \n",
    "\n",
    "When any object is instantiated (created) and assigned to a variable, what is actually happening is that the variable 'points' to where the object is located. It remembers the 'address' of the object and when you refer to a variable, the variable points to where the object is stored using the saved 'address' and retrieves the object for use. For immutable objects like strings and tuples, this subtlety does not matter much, as each time they are altered, you are actually overwriting the entire variable, and the variable points to an entirely new object (that may look identical to the previous one). \n",
    "\n",
    "For mutable objects, however, this subtlety is important. For \n",
    "```python\n",
    "a = ['a', 'b', 'c', 'd']\n",
    "a=b\n",
    "```\n",
    "what is actually happening is that you are saying `b` will remember the same address to an object as for `a`. That is, `a` and `b` both point to the exact same object! Thus, if you use one variable to update the mutable object, then all variables pointing to the same object will display the updated object, \n",
    "\n",
    "A metaphor is thinking of python's memory as a giant warehouse full of stuff, and in the front office of that warehouse is a catalog telling the names of all the stuff, and where each thing is. When you make a new variable, Python does two things: it puts that new thing into the warehouse (it instantiates an object), and it updates the catalog with a new entry (it stores the address of the object in your variable). When you make a copy of a variable (`a=b`), Python simply puts a new card in the warehouse catalogue with the address of the same object.\n",
    "\n",
    "In the following example, we use **is**, which is different from **==** in that it asks whether the two variables are referring to the exact same object. \n",
    "\n"
   ]
  },
  {
   "cell_type": "markdown",
   "metadata": {},
   "source": [
    "## Knowledge Check\n",
    "\n",
    "**Try running the following code through this [code visualization](http://people.csail.mit.edu/pgbovine/python/tutor.html#mode=visualize), which may help to wrap your head around what is happening here.**\n"
   ]
  },
  {
   "cell_type": "code",
   "execution_count": null,
   "metadata": {},
   "outputs": [],
   "source": [
    "# Lists are mutable\n",
    "a = [1, 2, 3]\n",
    "b = [1, 2, 3]\n",
    "c = a\n",
    "\n",
    "print ('a is b', a is b)\n",
    "print ('a is c', a is c)\n",
    "print ()\n",
    "\n",
    "c[0]='o'\n",
    "print (a)\n",
    "print (b)\n",
    "print (c)"
   ]
  },
  {
   "cell_type": "markdown",
   "metadata": {},
   "source": [
    "<a href=#home>Return to Top</a> "
   ]
  },
  {
   "cell_type": "markdown",
   "metadata": {},
   "source": [
    "# 5. enumerate()  <a name='bookmark5' />\n",
    "\n",
    "Before we continue, I wanted to point out a helpful function, `enumerate`. Above, to get the correct **range**, we used a somewhat awkward function within a function:\n",
    "`for x in range( len(li1) ):`"
   ]
  },
  {
   "cell_type": "code",
   "execution_count": null,
   "metadata": {},
   "outputs": [],
   "source": [
    "li1 = [1,2,3]\n",
    "print (\"'li1' before loop:\", li1)\n",
    "for x in range( len(li1) ):\n",
    "    li1[x] = li1[x] + 42\n",
    "print (\"'li1' after loop:\", li1)"
   ]
  },
  {
   "cell_type": "markdown",
   "metadata": {},
   "source": [
    "We can change this to: `for x,val in enumerate(li1):`"
   ]
  },
  {
   "cell_type": "markdown",
   "metadata": {},
   "source": [
    "`enumerate` is a useful function that acts on lists. It returns two objects, the index of the element in the list, and the element itself. See below for two examples."
   ]
  },
  {
   "cell_type": "code",
   "execution_count": null,
   "metadata": {},
   "outputs": [],
   "source": [
    "li1 = [1,2,3]\n",
    "print (\"'li1' before loop:\", li1)\n",
    "for x,val in enumerate(li1):\n",
    "    li1[x] = li1[x] + 42\n",
    "print (\"'li1' after loop:\", li1)"
   ]
  },
  {
   "cell_type": "markdown",
   "metadata": {},
   "source": [
    "The following code from the start of the for loop section on Chinese dynasties has been updated to use `enumerate`. "
   ]
  },
  {
   "cell_type": "code",
   "execution_count": null,
   "metadata": {},
   "outputs": [],
   "source": [
    "##switched to using enumerate!\n",
    "\n",
    "##based on wikipedia (https://en.wikipedia.org/wiki/Dynasties_in_Chinese_history)\n",
    "earlydynasties = [\"Xia\",\"Shang\",\"Zhou\",\"Qin\",\"Han\",\"Three Kingdoms\",\"Jin\",\n",
    "                  \"Northern and Southern\",\"Sui\",\"Tang\"]\n",
    "startdate = [-2070,-1600,-1046,-221,-206,-220,265,420,581,618]\n",
    "\n",
    "for dynastyindex,dynasty in enumerate(earlydynasties):\n",
    "    #dynastyindex = earlydynasties.index(dynasty)\n",
    "    \n",
    "    if startdate[dynastyindex] < 0: \n",
    "        startdatevalue = -startdate[dynastyindex]\n",
    "        datename = \"BCE\"\n",
    "    else: \n",
    "        startdatevalue = startdate[dynastyindex]\n",
    "        datename = \"AD\"\n",
    "        \n",
    "    if dynasty == \"Three Kingdoms\": whattype = \"period\"\n",
    "    elif dynasty == \"Northern and Southern\": whattype = \"dynasties\"\n",
    "    else: whattype = \"dynasty\"\n",
    "        \n",
    "    print (f\"The {dynasty} {whattype} began {startdatevalue} {datename}.\")           "
   ]
  },
  {
   "cell_type": "markdown",
   "metadata": {},
   "source": [
    "## Knowledge Check\n"
   ]
  },
  {
   "cell_type": "markdown",
   "metadata": {},
   "source": [
    "Take your list of student names (copied into your code block below to get you started) and print them out so that you list them in order of appearance in the list. Your output should look like the following:\n",
    "\n",
    "    0 eli\n",
    "    1 flora\n",
    "    2 gloria\n",
    "    3 katie\n",
    "    4 marian\n",
    "    5 marlo\n",
    "    6 matteo\n",
    "    7 mia\n",
    "    8 michelle"
   ]
  },
  {
   "cell_type": "code",
   "execution_count": null,
   "metadata": {},
   "outputs": [],
   "source": [
    "students = [\"eli\", \"flora\", \"gloria\", \"katie\", \"marian\", \"marlo\", \"matteo\", \"mia\", \"michelle\"]    "
   ]
  },
  {
   "cell_type": "markdown",
   "metadata": {},
   "source": [
    "<a href=#home>Return to Top</a> "
   ]
  },
  {
   "cell_type": "markdown",
   "metadata": {},
   "source": [
    "# 6. *while* loops  <a name='bookmark6' />\n",
    "The rough format of a **while** loop is similar to a **for** loop: there's a colon at the end of the first line, and an indented block of code that gets run every time through. Despite this general similarity, **while** acts a little differently than a **for** loop. Instead of giving a list of items to iterate over, a **while** loop continues until the statement between **while** and the colon no longer has truthiness (e.g. False, (), [], '', etc).\n",
    "\n",
    "Be careful as it is VERY VERY EASY to make a while loop that never ends - in these cases, the only way to break the script is to interrupt the kernel (Ctrl+C when working on the Terminal, the square symbol at the top when on Jupyter Notebook). Sometimes if you were printing a lot to the screen or adding a lot to a list or dictionary, this may cause your notebook to crash or freeze - this is because the memory has filled up. If this happens on Terminal, use Ctrl+C to get the command to stop running. If this happens on Jupyter Notebook, click the square symbol at the top, and you may want to reset the kernel using the circular arrow symbol. \n",
    "\n",
    "The following script uses the **while** statement to remove the first dynasty in the list. The while loop continues until it's given an empty list, which would mean `False`, thus breaking the while loop. "
   ]
  },
  {
   "cell_type": "code",
   "execution_count": null,
   "metadata": {},
   "outputs": [],
   "source": [
    "earlydynasties = [\"Xia\",\"Shang\",\"Zhou\",\"Qin\",\"Han\",\"Three Kingdoms\",\"Jin\",\n",
    "                  \"Northern and Southern\",\"Sui\",\"Tang\"]\n",
    "startdate = [-2070,-1600,-1046,-221,-206,-220,265,420,581,618]\n",
    "\n",
    "numdynasties = 0\n",
    "while earlydynasties:\n",
    "    print (earlydynasties)\n",
    "    earlydynasties = earlydynasties[1:]\n",
    "    numdynasties += 1\n",
    "    \n",
    "print ()\n",
    "print (f\"There are {numdynasties} dynasties listed.\")"
   ]
  },
  {
   "cell_type": "markdown",
   "metadata": {},
   "source": [
    "## Knowledge Check\n",
    "The following code shows a while loop in action. Note the question in the comment, and explain why that line is important. Try commenting out that line - what happens? Be ready to use our tips above to use your notebook again. "
   ]
  },
  {
   "cell_type": "code",
   "execution_count": null,
   "metadata": {},
   "outputs": [],
   "source": [
    "num=0\n",
    "\n",
    "while num<5:\n",
    "    print (num)\n",
    "    num += 1 ##THIS LINE IS VERY VERY IMPORTANT TO NOT CRASH YOUR NOTEBOOK! Why?\n"
   ]
  },
  {
   "cell_type": "markdown",
   "metadata": {},
   "source": [
    "<a href=#home>Return to Top</a> "
   ]
  },
  {
   "cell_type": "markdown",
   "metadata": {},
   "source": [
    "# 7. Escaping loops  <a name='bookmark7' />\n",
    "Occasionally, you might want to get out of a loop before the truth statement is met (with a **while** loop) or you've gone through every element (with a **for** loop). In fact, some loops are designed such that the control condition at the top of the loop is never met! You can modify the default flow of the loop using **break** and **continue**. The keyword **break** ends the loop right where you are, while the keyword **continue** goes back to the top of the loop (bringing in the next item in the list if it's a **for** loop)."
   ]
  },
  {
   "cell_type": "code",
   "execution_count": null,
   "metadata": {},
   "outputs": [],
   "source": [
    "while True:\n",
    "    number = input(\"Number to test for primeness: \")\n",
    "    \n",
    "    # Quit if nothing is entered.\n",
    "    if number == '':\n",
    "        break\n",
    "    else:\n",
    "        # Convert the entry into a float from a string\n",
    "        number = float(number)\n",
    "    \n",
    "    # Prime numbers are >1 by definition.\n",
    "    # If a number <= 1 is entered, stop and start over.\n",
    "    if number <= 1:\n",
    "        print ('Please enter a number greater than 1')\n",
    "        continue\n",
    "    \n",
    "    prime = True\n",
    "    x = 2\n",
    "    while x < number:\n",
    "        # Use module to test if x is a divisor of number\n",
    "        # if so, the number is not prime, stop the search\n",
    "        if number % x == 0:\n",
    "            print ('Not prime,', x, 'is a factor')\n",
    "            prime = False\n",
    "            break\n",
    "        x = x + 1\n",
    "        \n",
    "    if prime:\n",
    "    #else:\n",
    "        print (number, 'is prime!')"
   ]
  },
  {
   "cell_type": "markdown",
   "metadata": {},
   "source": [
    "In this second example there are two loops. The top **while** loop will run until the user enters a blank input, but will otherwise constantly ask the user for numbers to test. If the number entered is <=1, we don't even bother checking for divisors and the loop goes back to the **while** logical expression.\n",
    "\n",
    "In the second loop, if the user enters a number >1, we assume the number is prime, then check every integer between 1 and 'number' to see if it's a divisor. If we find a divisor, we know that 'number' is not prime, so set 'prime' to **False**, then use **break** to stop checking the rest of the integers. Lastly, if 'prime' is still set to **True**, we report that the number is prime.\n",
    "\n",
    "You can also use **else** to check whether a **for** or **while** loop finished normally without hitting a **break**. Just like an **if** statement the **else** should be at the same level of indentation as the **for** or **while**, have a colon, and then a block of code to run. This eliminates the need for the 'prime' flag. "
   ]
  },
  {
   "cell_type": "markdown",
   "metadata": {},
   "source": [
    "## Knowledge Check\n",
    "\n",
    "Can you think of something that can break the code? Do you have ideas for how to fix the code to account for more possible inputs?"
   ]
  },
  {
   "cell_type": "markdown",
   "metadata": {},
   "source": [
    "<a href=#home>Return to Top</a> "
   ]
  },
  {
   "cell_type": "markdown",
   "metadata": {},
   "source": [
    "# 8. List and dictionary comprehensions  <a name='bookmark8' />\n",
    "\n",
    "Often we'll want to change every item in a list or dictionary in a systematic way. \n",
    "\n",
    "## 8.1 **List Comprehensions**\n",
    "\n",
    "For example, we may want to add one to each of a list of integers:\n",
    "```python\n",
    "a = range(10) ## a = [0,1,2,3,4,5,6,7,8,9]\n",
    "for i, x in enumerate(a):\n",
    "    a[i] = (x + 1)\n",
    "## a = [1,2,3,4,5,6,7,8,9,10]\n",
    "```\n",
    "This is a totally acceptable way to solve this problem. However, because it is very common to commit the same operation on every member of a list, Python provides for us a shortcut that is both syntactically more concise, and computationally optimized to be much, much faster. It's called list comprehension, and it works like this:\n",
    "\n",
    "```python\n",
    "a = range(10) ## a = [0,1,2,3,4,5,6,7,8,9]\n",
    "a = [ x + 1 for x in a ]\n",
    "## a = [1,2,3,4,5,6,7,8,9,10]\n",
    "```\n",
    "A list comprehension is bracketed by [] and has the for loop command at the beginning, followed by the for loop. \n",
    "\n",
    "```python\n",
    "[ my_command for x in my_initial_list if satisfies_condition ]\n",
    "or\n",
    "[ my_command if satisfies_condition else my_new_command for x in my_initial_list ]\n",
    "or\n",
    "[ my_command for x in my_initial_list if satisfies_condition ]\n",
    "```"
   ]
  },
  {
   "cell_type": "code",
   "execution_count": null,
   "metadata": {},
   "outputs": [],
   "source": [
    "a = range(10) ## a = [0,1,2,3,4,5,6,7,8,9]\n",
    "\n",
    "a = [ x + 1 for x in range(10) if x % 2==0]\n",
    "#a = [ x + 1 if x % 2==0 else 0 for x in range(10)]\n",
    "\n",
    "print (a)"
   ]
  },
  {
   "cell_type": "markdown",
   "metadata": {},
   "source": [
    "## 8.2 **Dictionary Comprehensions**\n",
    "\n",
    "By extension, dictionary comprehensions follow a parallel syntax. This can be very handy for creating 'empty' dictionaries that you want to fill later:\n",
    "```python\n",
    "# Without a comprehension\n",
    "base_frequencies = {}\n",
    "for base in 'ATCG':\n",
    "    base_frequencies[base] = 0\n",
    "\n",
    "base_frequencies = {'A': 0, 'C': 0, 'T': 0, 'G': 0}\n",
    "```\n",
    "\n",
    "However, like with list comprehensions, there are shorter code we can write:\n",
    "\n",
    "```python\n",
    "##With a comprehension\n",
    "base_frequencies = {base:0 for base in 'ATCG'}\n",
    "\n",
    "base_frequencies = {'A': 0, 'C': 0, 'T': 0, 'G': 0}\n",
    "```\n",
    "\n",
    "How would we count up the number of each nucleotide base within a sequence? What fraction of the sequence is each nucleotide base type?"
   ]
  },
  {
   "cell_type": "code",
   "execution_count": null,
   "metadata": {},
   "outputs": [],
   "source": [
    "seq = ('TTACCCGGGGTTAAAGTTGAATATTAAGGAGTGTAGTAGTACGAATAAACCGGCTCGAAC'\n",
    "       'TATTACCTTTAGGAAATTTAAGTTTAAGTAGGAAGAAAAAATAAAAAAGTTAAAGAAGAA'\n",
    "       'GGAGGATATAATTAAAGTTTTATAAATATAGAGAAGGTAAAAGAAGCGTTAGAAAAATGG'\n",
    "       'ATATTAATCTTAGAAAAGATTAATATAATAAAAGACTTTAAATTTACCTTTCGCAAACTT'\n",
    "       'AATAGAGAATTTATAAGTATTGTAAAGGAATTCGTCCTATATTAAAAGAAAAATTGAAGG'\n",
    "       'AGGAAAATAAATTAATAAATATTAGAATATAAAATAATTATAAAAGAAGTATAGAAGATA'\n",
    "       'TACTAGGAGTAGTTTAAGTACCGAATAGTATCGAATTAAAGGGAATTTATTAAAGCTATA'\n",
    "       'ATAAAAAAGAAGAGGATTATTATAAAGGCTTAATAGGCTACGTAGTACAATAGTATTACC'\n",
    "       'GAAGCTTCGAAGAATCTAAATCGATTCTAATTATTAGAATAATAGGCTTGGATCCGAAGT'\n",
    "       )\n",
    "\n",
    "base_counts = {base:0 for base in 'ATCG'}\n",
    "print (base_counts)\n",
    "\n",
    "# Count up all the bases\n",
    "for base in seq:\n",
    "    base_counts[base] += 1\n",
    "print ('base counts:', base_counts)\n",
    "\n",
    "# Let's calculate the percent of each base in the sequence - here we get the total number of bases.\n",
    "total_bases = float(len(seq)) # We will want this to be a float because we want a decimal result.\n",
    "print ('total bases:', total_bases)\n"
   ]
  },
  {
   "cell_type": "code",
   "execution_count": null,
   "metadata": {},
   "outputs": [],
   "source": [
    "##No comprehension used\n",
    "base_percents = {}\n",
    "for base, counts in base_counts.items():\n",
    "    base_percents[base] = (counts / total_bases) #float(\"%.2f\" % ((frequency / total_bases)*100))\n",
    "print ('base percents:', base_percents)\n",
    "print (sum(base_percents.values()))"
   ]
  },
  {
   "cell_type": "code",
   "execution_count": null,
   "metadata": {},
   "outputs": [],
   "source": [
    "# With a comprehension\n",
    "base_percents = {base: (counts / total_bases) for base, counts in base_counts.items()}\n",
    "print ('base percents:', base_percents)"
   ]
  },
  {
   "cell_type": "markdown",
   "metadata": {},
   "source": [
    "The above three cells illustrates how you can loop through the sequence and count numbers of each nucleotide, then calculate the frequency, and in the last cell, how to write the code in a more compact, computationally more efficient way through list comprehension. \n",
    "\n",
    "Note that list comprehension can get very complicated - I suggest writing them out first within a regular **for loop**, and then as you get more comfortable with loops, start looking to see if you can turn them into list comprehensions. \n",
    "\n",
    "## Knowledge Check\n",
    "\n",
    "Below, I will give you a regular for loop construction where we take the `students` list and identify all students whose name starts with 'm'. Your task is to rewrite lines 2-4 of the code as a single list comprehension statement. "
   ]
  },
  {
   "cell_type": "code",
   "execution_count": null,
   "metadata": {},
   "outputs": [],
   "source": [
    "students = [\"eli\", \"flora\", \"gloria\", \"katie\", \"marian\", \"marlo\", \"matteo\", \"mia\", \"michelle\"] \n",
    "mstudents=[]\n",
    "for i in students:\n",
    "    if i[0]=='m': mstudents.append(i)\n",
    "print (mstudents)"
   ]
  },
  {
   "cell_type": "markdown",
   "metadata": {},
   "source": [
    "<a href=#home>Return to Top</a> "
   ]
  },
  {
   "cell_type": "markdown",
   "metadata": {},
   "source": [
    "# 9 Nested Structures and Loops  <a name='bookmark9' />\n",
    "\n",
    "## 9.1 Nested Structures\n",
    "\n",
    "1. Lists of lists\n",
    "2. Dictionaries of dictionaries\n",
    "3. Lists of dictionaries\n",
    "3. Dictionaries of lists\n",
    "\n",
    "etc...\n",
    "\n",
    "We have been showing examples with simple lists and dictionaries, where the elements within have been strings or numbers. However, these lists and dictionaries can get very complicated very fast. \n",
    "\n",
    "Consider\n",
    "```python\n",
    "earlydynasties = [\"Xia\",\"Shang\",\"Zhou\",\"Qin\",\"Han\",\"Three Kingdoms\",\"Jin\",\n",
    "                  \"Northern and Southern\",\"Sui\",\"Tang\"]\n",
    "startdate = [-2070,-1600,-1046,-221,-206,-220,265,420,581,618]\n",
    "```\n",
    "\n",
    "We placed these into two separate lists, but we could instead have made a single list of lists:\n",
    "```python\n",
    "dynastyinfo = [[\"Xia\",\"Shang\",\"Zhou\",\"Qin\",\"Han\",\"Three Kingdoms\",\"Jin\",\n",
    "                  \"Northern and Southern\",\"Sui\",\"Tang\"],\n",
    "                  [-2070,-1600,-1046,-221,-206,-220,265,420,581,618]]\n",
    "```\n",
    "All the usual list operations still apply, but it might take a bit more logical thinking to make sure you're referring to the list you want. \n"
   ]
  },
  {
   "cell_type": "code",
   "execution_count": null,
   "metadata": {},
   "outputs": [],
   "source": [
    "dynastyinfo = [[\"Xia\",\"Shang\",\"Zhou\",\"Qin\",\"Han\",\"Three Kingdoms\",\"Jin\",\n",
    "                  \"Northern and Southern\",\"Sui\",\"Tang\"],\n",
    "                  [-2070,-1600,-1046,-221,-206,-220,265,420,581,618]]\n",
    "print (dynastyinfo[0])\n",
    "print ()\n",
    "\n",
    "dynastyinfo.append(['this','is','a','completely','random','list','i','am','adding'])\n",
    "print (dynastyinfo)\n",
    "print ()\n",
    "\n",
    "for mylst in dynastyinfo:\n",
    "    print (mylst)\n",
    "print ()\n",
    "\n",
    "dynastyinfo[0][0] = \"Xia???\"\n",
    "print (dynastyinfo)"
   ]
  },
  {
   "cell_type": "markdown",
   "metadata": {},
   "source": [
    "Similarly, you can put dictionaries as elements of a list. For dictionaries, you can put dictionaries or lists as values.\n",
    "\n",
    "For instance, \n",
    "```python\n",
    "a = [{},{}, ]  # a is a list of empty dictionaries\n",
    "\n",
    "b = {'l1': [], 'l2': []} # b is a dictionary of empty lists\n",
    "\n",
    "mut_types = { \"transitions\":[\"AG\",\"GA\",\"CT\",\"TC\"],\n",
    "              \"transversions\":[\"GC\",\"CG\",\"GT\",\"TG\",\"AC\",\"CA\",\"AT\",\"TA\"] }\n",
    "```\n",
    "\n",
    "Remember to keep the order of your straight and curly braces (and parantheses if using sets or tuples!) correct, or you'll get a syntax error. \n",
    "\n",
    "You do not need to keep everything in a list or dictionary the same data type. For instance, \n",
    "```python\n",
    "a = [[1,2,3],'a',{'k':'l','m':['a','b','c']},0]\n",
    "```\n",
    "is completely valid. However, this is something rarely done, and *is not recommended*, as you might want to systematically apply particular functions that can only work on certain data types. Do-able, but you have to be very careful or you may get lots of errors!"
   ]
  },
  {
   "cell_type": "markdown",
   "metadata": {},
   "source": [
    "## 9.2 Nested Loops\n",
    "\n",
    "Once you have nested data structures, it is very easy to make nested loops!\n",
    "\n",
    "Below are two examples using nested loops. The first is simple, for you to see how they are constructed. "
   ]
  },
  {
   "cell_type": "code",
   "execution_count": null,
   "metadata": {},
   "outputs": [],
   "source": [
    "##Example 1: Replace odd numbers with 'odd' and even numbers with 'even\n",
    "mymatrix = [[1,2,3],\n",
    "            [4,5,6],\n",
    "            [7,8,9]]\n",
    "\n",
    "for indrow,myrow in enumerate(mymatrix):\n",
    "    for indcol,mycol in enumerate(myrow):\n",
    "        myval = mymatrix[indrow][indcol]\n",
    "        if myval % 2 == 0: mymatrix[indrow][indcol] = 'even'\n",
    "        else: mymatrix[indrow][indcol] = 'odd'\n",
    "print (mymatrix)"
   ]
  },
  {
   "cell_type": "markdown",
   "metadata": {},
   "source": [
    "The second is more complicated, showing how quickly thinking with nested loops can get confusing. In the second question, the ultimate goal is to ask, using the sequence of nucleotide bases from before, what is the longest unbroken distance (number of base pairs) separating two of the exact same nucleotide base. "
   ]
  },
  {
   "cell_type": "code",
   "execution_count": null,
   "metadata": {},
   "outputs": [],
   "source": [
    "\n",
    "##Example 2: using the sequence of nucleotide bases from before, \n",
    "##what is the longest unbroken distance (number of base pairs) separating \n",
    "##two of the exact same nucleotide base. \n",
    "\n",
    "seq = ('TTACCCGGGGTTAAAGTTGAATATTAAGGAGTGTAGTAGTACGAATAAACCGGCTCGAAC'\n",
    "       'TATTACCTTTAGGAAATTTAAGTTTAAGTAGGAAGAAAAAATAAAAAAGTTAAAGAAGAA'\n",
    "       'GGAGGATATAATTAAAGTTTTATAAATATAGAGAAGGTAAAAGAAGCGTTAGAAAAATGG'\n",
    "       'ATATTAATCTTAGAAAAGATTAATATAATAAAAGACTTTAAATTTACCTTTCGCAAACTT'\n",
    "       'AATAGAGAATTTATAAGTATTGTAAAGGAATTCGTCCTATATTAAAAGAAAAATTGAAGG'\n",
    "       'AGGAAAATAAATTAATAAATATTAGAATATAAAATAATTATAAAAGAAGTATAGAAGATA'\n",
    "       'TACTAGGAGTAGTTTAAGTACCGAATAGTATCGAATTAAAGGGAATTTATTAAAGCTATA'\n",
    "       'ATAAAAAAGAAGAGGATTATTATAAAGGCTTAATAGGCTACGTAGTACAATAGTATTACC'\n",
    "       'GAAGCTTCGAAGAATCTAAATCGATTCTAATTATTAGAATAATAGGCTTGGATCCGAAGT')\n",
    "\n",
    "basepos = {base:[] for base in \"AGCT\"}\n",
    "\n",
    "for pos,base in enumerate(seq): \n",
    "    basepos[base].append(pos)\n",
    "\n",
    "diffs = {base:{} for base in \"AGCT\"}\n",
    "\n",
    "for base in basepos:\n",
    "    for index,pos in enumerate(basepos[base]):\n",
    "        if index == 0: continue\n",
    "        numposbtwn = pos-basepos[base][index-1]\n",
    "        if numposbtwn in diffs[base]:\n",
    "            diffs[base][numposbtwn]+=1\n",
    "        else:\n",
    "            diffs[base][numposbtwn]=1\n",
    "\n",
    "print (\"The total number of basepairs is:\", len(seq))\n",
    "\n",
    "for i in diffs: \n",
    "    print (f\"For base {i}, the maximum distance between {i}s is {max(diffs[i].keys())}\")\n",
    "    "
   ]
  },
  {
   "cell_type": "markdown",
   "metadata": {},
   "source": [
    "To state the question more concretely, if we were counting the number of bases between every adenine (A), what is the longest distance between two As? Two Gs/Cs/Ts?  Which of these four sets shows the longest distance? This in and of itself might not seem useful, but it is a great exercise to demonstrate the logic to employ, how to use nested loops. And if we think about the biology just a little bit, we can see potential applications - for instance, it is very relevant to think about the distance between two genes, perhaps by locating the distance between two gene promoters."
   ]
  },
  {
   "cell_type": "markdown",
   "metadata": {},
   "source": [
    "## Knowledge Check x 2\n",
    "\n",
    "First, go through Example 2 below and comment on what each line of code is doing. At the nested **for loop**, can you keep track of what is happening? Write out to yourself what is occurring for the first few iterations. Use **print()** and **break** to print what each variable is for the first few iterations and check it against what you thought to make sure you really understand. \n",
    "\n",
    "Second - let's make a nested for loop ourselves! Take `students` and write a nested for loop pairing every set of students. Only keep pairs if they both start with the letter 'm'. It is okay to have the same pair twice, but if you want a bit more of a challenge, consider what you might modify so each unique pair is only printed once.  \n",
    "\n",
    "Below, I show what you should print out, keeping all pairs, even non-unique. \n",
    "```\n",
    "marian and marian\n",
    "marian and marlo\n",
    "marian and matteo\n",
    "marian and mia\n",
    "marian and michelle\n",
    "marlo and marian\n",
    "marlo and marlo\n",
    "marlo and matteo\n",
    "marlo and mia\n",
    "marlo and michelle\n",
    "matteo and marian\n",
    "matteo and marlo\n",
    "matteo and matteo\n",
    "matteo and mia\n",
    "matteo and michelle\n",
    "mia and marian\n",
    "mia and marlo\n",
    "mia and matteo\n",
    "mia and mia\n",
    "mia and michelle\n",
    "michelle and marian\n",
    "michelle and marlo\n",
    "michelle and matteo\n",
    "michelle and mia\n",
    "michelle and michelle\n",
    "```"
   ]
  },
  {
   "cell_type": "code",
   "execution_count": null,
   "metadata": {},
   "outputs": [],
   "source": [
    "students = [\"eli\", \"flora\", \"gloria\", \"katie\", \"marian\", \"marlo\", \"matteo\", \"mia\", \"michelle\"] "
   ]
  },
  {
   "cell_type": "markdown",
   "metadata": {},
   "source": [
    "<a href=#home>Return to Top</a> "
   ]
  }
 ],
 "metadata": {
  "kernelspec": {
   "display_name": "Python 3 (ipykernel)",
   "language": "python",
   "name": "python3"
  },
  "language_info": {
   "codemirror_mode": {
    "name": "ipython",
    "version": 3
   },
   "file_extension": ".py",
   "mimetype": "text/x-python",
   "name": "python",
   "nbconvert_exporter": "python",
   "pygments_lexer": "ipython3",
   "version": "3.9.13"
  }
 },
 "nbformat": 4,
 "nbformat_minor": 1
}
