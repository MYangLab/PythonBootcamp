{
 "cells": [
  {
   "cell_type": "markdown",
   "metadata": {},
   "source": [
    "## Exercise 4.1: Examining ancient genomic data (using numpy and matplotlib)\n",
    "\n",
    "Let's look at some data for ancient humans. Under `/scratch/myang_shared/lab/PythonBootcamp/Sp25/resources/`, you'll now find a set of three data files prefixed with `51.2.2M`, ending in '.geno', '.ind', and '.snp'. This is a filetype we regularly use in the Yang lab, where the IND file shows the individuals sampled, the SNP file shows the positions across the genome for which we have data, and the GENO file shows the genotypes of each individual. Because any person will have two parents that contributed to their genome, a genotype indicates what base is received from each parent, so at any position, there will be two DNA bases represented (i.e., the A/G/C/T). The positions in the genome studied have been shown to have two variants across humans, so any individual is only ever one of two bases. Because of this, the GENO file can simply provide the genotype of each individual as a 0, 1, 2, or 9. Consider this first row from the SNP file. \n",
    "```\n",
    "       Affx-34462167     1        0.005671          567137 T C\n",
    "```\n",
    "\n",
    "A 0 means they have 0 of the first base listed in the SNP file, so they must have 2 of the second base listed in the SNP file. Thus, an individual with genotype 0 would have the genotype TT. A 1 means they have 1 of the first base, so they must have 1 of the second base (or in the example, they'd have genotype TC). A 2 means they have 2 of the first base, so they must have 0 of the second base  (or in the example, they'd have genotype CC). A 9 means missing data - no data is available for that individual at that position in the genome (in the example, chromosome 1, position 567137). This file structure is convoluted, but it allows packing a lot of information into a relatively simple file structure. \n",
    "\n",
    "Okay, why did we go to the effort of explaining these data? In ancient humans, there are a lot of missing data. Ultimately, we want you to summarize the amount of missing data there is across these ancient humans using both a barplot and a histogram. But, we want you to figure out a few things along the way. \n",
    "\n",
    "1. Below, I set up retrieving the genotype data and putting it into a numpy array (as well as your IND and SNP files using pandas Dataframes). \n",
    "    * (A) What did the extra settings I set up in the `np.genfromtxt` function do? Look up information on `np.genfromtxt` to figure this out.\n",
    "    * (B) Why did I use pandas instead of numpy for the IND and SNP files? \n",
    "\n",
    "2. There is no information on the position in the genome or the individual each genotype corresponds to in the GENO file. This because the structure of the IND and SNP files match up the information there with the GENO file. Use your knowledge on examining the number of rows and columns of both numpy arrays and pandas dataframes to figure out how individual and position data are organized in the GENO file (i.e. what do rows represent and what do columns represent?). \n",
    "\n",
    "3. We're interested in the missing data corresponding to each individual, or the number of 9s present for all the positions of that individual's genomic data. Figure out a way to determine the number of 9s per individual. (Note that there are many ways to do this - the way I'm looking for is one that uses only numpy arrays, collapsing to a 1-dimensional array of the number of missing positions per individual. But, if you use for loops or other Python tools, please share - all ways are interesting!)\n",
    "\n",
    "4. Now we want to plot these data. Make a barplot with individuals listed on the x-axis, and the frequency (0 to 1) of missing data on the y-axis. Add nice labeling to the x- and y-axes, and give the plot a nice title. Adjust fontsizes as needed to make them easy to read. Look up how to rotate your x-axis individual labels, so that they are legible. \n",
    "\n",
    "Now that we're feeling comfortable, here's another element to consider with this dataset. A 1 in the GENO file means you have one of each base listed in the SNP file (i.e. the individual is heterozygous at that position). This is actually a hard thing to determine from genetic data, especially if you didn't have much DNA to start with, so for individuals where there was a lot of DNA available for sequencing, the researchers decided to NOT call heterozygous sites, and the individual was assigned to a 0 or 2 at that position (which really means one copy of the second or first base listed in the SNP file. That was probably a lot, but the basic gist is observing zero 1s in the GENO file for that individual suggests that this alternative method was used, whereas if you do observe 1s in the GENO file for that individual, the original method calling heterozygotes was used. Let's look at the number of 1s available per individual.\n",
    "\n",
    "5. Using steps similar to what you did above, determine the number of 1s available for each individual in the dataset. \n",
    "\n",
    "6. After you have the number of 1s, plot the frequency of 1s available per individual, like you did with 9s. But, I want the two plots side-by-side. Thus, you must use the subplot option and make two subplots next to each other that displays the frequency of 9s on the left, and the frequency of 1s on the right. Make the colors of the two plot different from each other, and add titles and labels to each plot that are descriptive. \n",
    "\n",
    "7. We didn't have you plot legends in Lesson 4, but look them up! Add a legend to your figure to indicate the color that indicates 9s, and the color that indicates 1s. "
   ]
  },
  {
   "cell_type": "code",
   "execution_count": null,
   "metadata": {},
   "outputs": [],
   "source": [
    "import numpy as np\n",
    "import pandas as pd\n",
    "genofile = \"/scratch/myang_shared/lab/PythonBootcamp/Sp25/resources/51.2.2M.geno\"\n",
    "snpfile = \"/scratch/myang_shared/lab/PythonBootcamp/Sp25/resources/51.2.2M.snp\"\n",
    "indfile = \"/scratch/myang_shared/lab/PythonBootcamp/Sp25/resources/51.2.2M.ind\"\n",
    "\n",
    "## Note that this file is pretty big (107 Mb!), so it might take a few minutes to load. \n",
    "## Check the circle on the top right to see if it's done (circle is no longer shaded gray).\n",
    "## To avoid waiting a lot, I suggest running these once when you first start, and then using a separate cell to work with the data.\n",
    "genodat = np.genfromtxt(genofile,delimiter=1,dtype='int')\n",
    "inddat = pd.read_table(indfile, header=None, sep='\\s+')\n",
    "snpdat = pd.read_table(snpfile, header=None, sep='\\s+')"
   ]
  },
  {
   "cell_type": "markdown",
   "metadata": {},
   "source": [
    "## Exercise 4.2: Cartopy\n",
    "\n",
    "We have a question at the intersection of geography and biology. Remember our favorite text file from Lesson 1, `SGDP_info.txt`? No? That's fine. That file contained geographic (lat/lon) data and genomic metadata for present-day humans from around the world. \n",
    "\n",
    "You're going to make two maps here, one simple and one slightly more complex.\n",
    "\n",
    "* Map 1. Plot the location of each population (population_ID) as one point on the map. Note that individuals with the same population ID share the same latitude and longitude - plotting of individuals should give you what you want - your code will just be a bit redundant. \n",
    "\n",
    "\n",
    "* Map 2. Create a map using graduated symbol sizes to represent the amount of individuals within each population. That is, the size of the points on your map need to be scaled by the number of individuals in that population. For example, there are two Abkhasian individuals in the dataset, and both have the same lat/lon coordinates (43.0, 41.05), but only one Albanian individual (lat/lon: 41.3, 19.8), so the point representing the Abkhasian needs to be larger than the point representing the Albanian. \n",
    "\n",
    "We've started the code for you below. "
   ]
  },
  {
   "cell_type": "code",
   "execution_count": null,
   "metadata": {
    "scrolled": true
   },
   "outputs": [],
   "source": [
    "import pandas as pd\n",
    "import matplotlib.pyplot as plt\n",
    "from cartopy import crs, feature \n",
    "\n",
    "# file path\n",
    "file = \"/scratch/myang_shared/lab/PythonBootcamp/Sp25/resources/SGDP_L4.txt\"\n",
    "\n",
    "# use pandas to read in the text file\n",
    "data = pd.read_table(file, encoding = 'latin1')\n",
    "\n",
    "# look at the data\n",
    "data\n"
   ]
  },
  {
   "cell_type": "code",
   "execution_count": null,
   "metadata": {},
   "outputs": [],
   "source": []
  }
 ],
 "metadata": {
  "kernelspec": {
   "display_name": "Python [conda env:qgis]",
   "language": "python",
   "name": "conda-env-qgis-py"
  },
  "language_info": {
   "codemirror_mode": {
    "name": "ipython",
    "version": 3
   },
   "file_extension": ".py",
   "mimetype": "text/x-python",
   "name": "python",
   "nbconvert_exporter": "python",
   "pygments_lexer": "ipython3",
   "version": "3.9.7"
  }
 },
 "nbformat": 4,
 "nbformat_minor": 4
}
