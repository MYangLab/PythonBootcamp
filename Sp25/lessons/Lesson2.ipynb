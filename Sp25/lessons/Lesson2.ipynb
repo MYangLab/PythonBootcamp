{
 "cells": [
  {
   "cell_type": "markdown",
   "metadata": {},
   "source": [
    "# Lesson 2: Data Types and Introducing Packages  <a name='home' />\n",
    "\n",
    "Last time we started using Python and began to learn about different object types. Today, we will dive deeper explore what you can do with strings, before moving on to different ways of grouping (i.e., lists, tuples, dictionaries) and manipulating these data. We will introduce the topic of data frames and also start playing with some commonly used python packages. \n",
    "\n",
    "Table of Contents:\n",
    "- <a href=#bookmark1>1. Strings, Floats, and Integers: A review.</a> \n",
    "- <a href=#bookmark2>2. Strings: A Deep Dive.</a> \n",
    "- <a href=#bookmark3>3. Exploring Functions with Strings.</a> \n",
    "- <a href=#bookmark4>4. Lists.</a> \n",
    "- <a href=#bookmark5>5. Tuples.</a> \n",
    "- <a href=#bookmark6>6. Dictionaries.</a> \n",
    "- <a href=#bookmark7>7. Packages, dataframes, and pandas.</a> "
   ]
  },
  {
   "cell_type": "markdown",
   "metadata": {},
   "source": [
    "## 1 Strings, Floats, and Integers: A review.  <a name='bookmark1' />\n",
    "\n",
    "As a reminder from Lesson 1, strings, floats, and integers are commonly used data types in python."
   ]
  },
  {
   "cell_type": "code",
   "execution_count": null,
   "metadata": {},
   "outputs": [],
   "source": [
    "# strings\n",
    "str1 = 'apple'\n",
    "str2 = 'PM2.5'\n",
    "str3 = 'On Wednesdays, we wear pink.'\n",
    "\n",
    "# integers\n",
    "int1 = 12\n",
    "int2 = 104382\n",
    "int3 = -48\n",
    "\n",
    "#floats\n",
    "float1 = 0.0\n",
    "float2 = 19.807\n",
    "float3 = 2.4e-1"
   ]
  },
  {
   "cell_type": "markdown",
   "metadata": {},
   "source": [
    "We can use python to tell us what kind of object you have:"
   ]
  },
  {
   "cell_type": "code",
   "execution_count": null,
   "metadata": {},
   "outputs": [],
   "source": [
    "print(type(str1))\n",
    "\n",
    "print(type(float3))"
   ]
  },
  {
   "cell_type": "markdown",
   "metadata": {},
   "source": [
    "And we can (generally) convert data from one type to another:"
   ]
  },
  {
   "cell_type": "code",
   "execution_count": null,
   "metadata": {},
   "outputs": [],
   "source": [
    "print(int1)\n",
    "\n",
    "str4 = str(int1)\n",
    "print(str4)\n",
    "print(type(str4))"
   ]
  },
  {
   "cell_type": "code",
   "execution_count": null,
   "metadata": {},
   "outputs": [],
   "source": [
    "int4 = int(str1)"
   ]
  },
  {
   "cell_type": "markdown",
   "metadata": {},
   "source": [
    "This error message above is saying that we can't turn str1 into an integer because \"apple\" doesn't fit in any base 10 number"
   ]
  },
  {
   "cell_type": "code",
   "execution_count": null,
   "metadata": {},
   "outputs": [],
   "source": [
    "float4 = float(int1)\n",
    "print(float4)"
   ]
  },
  {
   "cell_type": "markdown",
   "metadata": {},
   "source": [
    "<a href=#home>Return to Top</a> "
   ]
  },
  {
   "cell_type": "markdown",
   "metadata": {},
   "source": [
    "## 2. Strings: A Deep Dive  <a name='bookmark2' />\n",
    "\n",
    "### 2.1 Quotes\n",
    "\n",
    "Let's explore a bit more what we can do with strings. In Lesson 1, we also learned how to concatenate a string - that is, how to put two strings together. For example:"
   ]
  },
  {
   "cell_type": "code",
   "execution_count": null,
   "metadata": {},
   "outputs": [],
   "source": [
    "var1=\"The Yang Lab \" \n",
    "var2=\"is the best!\" # Steph will allow it\n",
    "var3 = var1+var2\n",
    "\n",
    "print (var1)\n",
    "print (var2)\n",
    "print (var3)"
   ]
  },
  {
   "cell_type": "markdown",
   "metadata": {},
   "source": [
    "Here, we will learn what else can be done with strings. As mentioned, strings are specified by wrapping a series of characters in quotes. These can be quotes of three different flavors. The first two, single (a.k.a. the apostrophe) and double, are familiar (although don't confuse the single quote (') with the backtick (`) -- the one that's probably above the tilde (~) on your keyboard).\n",
    "Single and double quotes can more or less be used interchangeably, the only exception being which type of quote is allowed to appear inside the string. If the string itself is double-quoted, single quotes may appear inside the string, and visa-versa:\n",
    "\n",
    "```python\n",
    "s1 = 'Hello, \"World\", if that is your real name.'\n",
    "s2 =\"That's World, to you, buddy.\"\n",
    "```\n",
    "Double quotes are present in `s1`, and a single quote appears in `s2`, but the two cannot be combined. In order to use both single and double quotes in the same print statement, employ the triple quote, which is actually just three single quotes, as shown in `s3`.\n",
    "\n",
    "```python\n",
    "s3 = '''Hello, \"World\", if that is your real name.\n",
    "That's World, to you, buddy.'''\n",
    "```\n",
    "\n",
    "Note two aspects of the triple quotes: 1) Both single and double quotes can be used inside triple quotes. 2) Triple quoted strings can span multiple lines, and line breaks inside the quoted string are stored and faithfully displayed in the print operation."
   ]
  },
  {
   "cell_type": "markdown",
   "metadata": {},
   "source": [
    "### 2.2. Escape characters"
   ]
  },
  {
   "cell_type": "code",
   "execution_count": null,
   "metadata": {},
   "outputs": [],
   "source": [
    "s1 = 'some\\thing is missing'\n",
    "print (s1)\n",
    "s2 = \"somethi\\ng is broken\"\n",
    "print (s2)\n",
    "s3 = '''something th\\at will drive you b\\an\\an\\as'''\n",
    "print (s3)\n",
    " \n",
    "s4 = r'\\a solu\\tio\\n'\n",
    "print (s4)\n",
    " \n",
    "s5 = '\\\\another solu\\\\tio\\\\n'\n",
    "print (s5)"
   ]
  },
  {
   "cell_type": "markdown",
   "metadata": {},
   "source": [
    "This ugly mess is caused by escape characters. In python strings, several special characters ([bigger list here](https://chercher.tech/python-programming/python-special-characters)) can be preceded by a backslash \"\\\" to produce special output, such as: ***a tab (\\t), newline (\\n) or even a bell noise (\\a)*** (unfortunately, the bell noise does not seem to work from a remote computer like Spydur).\n",
    "\n",
    "This is handy, since it means you can liberally pepper your strings with tabs and line breaks. In fact, lots of the data that biologists use are conveniently stored in files that are delimited by such tabs and line breaks; geography/envs data is generally comma delimimted. Tabs and line breaks might be a problem, however, say if you wanted to use a backslash in your string. Python offers two ways around this: the safest is to escape your escape, using a second backslash (see s5 above, '\\\\'). A fancier way involves a special kind of string, the raw string.\n",
    "\n",
    "Raw strings start with r' and end with ' will treat every character between as exactly what it looks like, with the exception of the single quote (which ends the string). If you do use raw strings, watch out for two catches:\n",
    "1) You must still escape single quotes you want to appear inside the string.\n",
    "2) The last character of the string cannot be a backslash, since this will escape the closing quote.\n",
    "\n",
    "There are proper times and places for the use of the raw string method, but in general we recommend just escaping your backslashes.\n",
    "\n",
    "As a final point on escapes: \\' and \\\" provide a means to employ single quotes inside a single quoted string, and likewise double quotes in a double quoted string.\n",
    "\n",
    "Try the following code - you should get a Syntax Error. Then, uncomment (remove the '#' sign from the second s6 and s7 lines, and make the first s6 and s7 lines comments (add a '#' at the beginning). "
   ]
  },
  {
   "cell_type": "code",
   "execution_count": null,
   "metadata": {},
   "outputs": [],
   "source": [
    "s6 = r'don't do this'\n",
    "#s6 = r'but there ain\\'t a problem with this'\n",
    "print (s6)\n",
    "\n",
    "s7 = r'this is bad\\'\n",
    "#s7 = r'but this is okay\\ '\n",
    "print (s7)"
   ]
  },
  {
   "cell_type": "markdown",
   "metadata": {},
   "source": [
    "### 2.3 Strings: as sequence type, index and slice (substring)\n",
    "\n",
    "Strings are merely successions of characters, and python stores and operates on them as such. The official python lingo for something that can be operated on as an ordered series of sub-elements is a 'sequence'.\n",
    "\n",
    "The first property of sequences we'll look at is indexing. Understanding how python indexing works applies beyond just string data types, but it's a good place to practice. \n",
    "\n",
    "Python indexing starts at 0. So the 'M' in Melinda is `name[0]`. "
   ]
  },
  {
   "cell_type": "code",
   "execution_count": null,
   "metadata": {},
   "outputs": [],
   "source": [
    "name = 'Melinda A. Yang'\n",
    "first_initial = name[0]\n",
    "print(first_initial)\n",
    "middle_initial = name[8]\n",
    "print(middle_initial)"
   ]
  },
  {
   "cell_type": "markdown",
   "metadata": {},
   "source": [
    "Using indexing, it's possible to pick out any number of individual characters in this manner and stitch them back together as substrings, but sequences can also be operated on in contiguous subsets of indices, called slices. Like many other languages (except R...),\n",
    "\n",
    "Slices look like indices, except with two numbers separated by a colon. The slice starts at the index of the first number, and ends at the index before the second. In the example above `name[0:7]` would be 'Melinda'. \n",
    "\n",
    "Many programming languages (C, Java) use the same 0-based indexing as Python. Others, such as R (and UNIX!), use 1-based indexing. Though both have their advantages and disadvantanges, Python's 0-base 'half-open' indexing offers some elegance.\n",
    "\n",
    "If you want to select the first n elements of a sequence, and the rest of the sequence, you can do this without fussing with any +/- 1.\n",
    "\n",
    "This lets us do handy things like:\n",
    "```python \n",
    "first = name[0:7]\n",
    "last = name[11:]\n",
    "```"
   ]
  },
  {
   "cell_type": "code",
   "execution_count": null,
   "metadata": {},
   "outputs": [],
   "source": [
    "name = 'Melinda A. Yang'\n",
    "middle_initial = name[8]\n",
    "print (middle_initial)\n",
    "print (name[7:11])\n",
    "first = name[:7] #can also put zero for name[0:7]\n",
    "last = name[11:]\n",
    "print (first)\n",
    "print (last)"
   ]
  },
  {
   "cell_type": "markdown",
   "metadata": {},
   "source": [
    "\n",
    "### 2.4 Inserting and formatting variables in strings\n",
    "\n",
    "The final string topic we'll discuss is the specific formatting and insertion of variables into strings. There are several methods, but concatenation and the newest update, f-strings, for Python 3 is shown here. \n",
    "\n",
    "***Concatenation***\n",
    "\n",
    "As you learned last lesson, concatenating strings is one method of inserting a variable into a string. \n",
    "\n",
    "```python\n",
    "name = 'Melinda A. Yang'\n",
    "middle_initial = name[8]\n",
    "first = name[:7]\n",
    "last = name[11:]\n",
    "\n",
    "last_first=last + \", \" + first + \" \" + middle_initial + \".\"\n",
    "```\n",
    "\n",
    "***String interpolation using f-string***\n",
    "\n",
    "Another method python offers, called string interpolation, for injecting variables into strings is shown in the following:\n",
    "```python\n",
    "last_first = f'{last}, {first} {middle_initial}.' \n",
    "```\n",
    "This handily replaces all those + operations with a very readable string, where the 'f' at the beginning before the quote indicates that anything you put in {} is a variable or expression you want to insert. Below I show two examples - one comparing to concatenation and one showing how you can change the format for floating numbers. \n",
    "\n",
    "This form of string interpolation, f-string, is faster than previous versions of string interpolation (using %s or the str.format method). For a review of different types, you can look [here](https://realpython.com/python-f-strings/). \n"
   ]
  },
  {
   "cell_type": "code",
   "execution_count": null,
   "metadata": {},
   "outputs": [],
   "source": [
    "name = 'Melinda A. Yang'\n",
    "middle_initial = name[8]\n",
    "first = name[:7]\n",
    "last = name[11:]\n",
    "\n",
    "last_first1 = last + \", \" + first + \" \" + middle_initial + \".\"\n",
    "last_first2 = f'{last}, {first} {middle_initial}.' \n",
    "print (last_first1)\n",
    "print (last_first2)"
   ]
  },
  {
   "cell_type": "code",
   "execution_count": null,
   "metadata": {},
   "outputs": [],
   "source": [
    "myint = 42\n",
    "myfloat = 3.14159265\n",
    " \n",
    "string = f'Other types of variables can be interpolated as strings like here: {myint}, and here: {myfloat}.'\n",
    "print (string)\n",
    " \n",
    "print () \n",
    "\n",
    "print (f'''To get 2 decimal places write {myfloat:.2f}, or to get 2 decimal places padded\n",
    "to a total width of 5 characters, write {myfloat:05.2f} (notice that the '.' counts as a character).\n",
    "To write seven characters, you can write: {myfloat:07.2f}. ''')\n",
    "# Remember how we said returns are faithfully reproduced from triple quoted strings?"
   ]
  },
  {
   "cell_type": "markdown",
   "metadata": {},
   "source": [
    "Here's one more example below - note that I can also put expressions into the curly braces (see `string1`). In `string2`, I show that you can input more than just zero - note that for non-zero values like 'X' or space, I need to add the '>'. "
   ]
  },
  {
   "cell_type": "code",
   "execution_count": null,
   "metadata": {
    "scrolled": true
   },
   "outputs": [],
   "source": [
    "num = 22\n",
    "den = 7\n",
    "pi  = 3.14159265\n",
    "string1 = f'pi is {num/den} or {num}/{den}'\n",
    "string2 =  f'''\n",
    "For 2 decimal places, write {pi:.2f}.\n",
    "For 2 decimal places padded to a total width of 5 digits, write {pi: >6.2f} \n",
    "    Notice that I have to include the space if I want to pad with spaces.\n",
    "The spaces can be replaced with zeros this way: {pi:06.2f}.\n",
    "Or you could even do this: {pi:X>6.2f}'''\n",
    "print (string1)\n",
    "print (string2)"
   ]
  },
  {
   "cell_type": "markdown",
   "metadata": {},
   "source": [
    "## Knowledge Check 1: Strings\n",
    "1. Create a string variable named `a` with the value \"The New York Times\". Then, concatenate \"is an American newspaper based in New York City\" to the variable `a`. Do so using three different options.\n",
    "      - Option 1: use + operator\n",
    "      - Option 2: string formatting\n",
    "      - Option 3: f string"
   ]
  },
  {
   "cell_type": "markdown",
   "metadata": {},
   "source": [
    "<a href=#home>Return to Top</a> "
   ]
  },
  {
   "cell_type": "markdown",
   "metadata": {},
   "source": [
    "## 3. Exploring Functions with Strings  <a name='bookmark3' />"
   ]
  },
  {
   "cell_type": "markdown",
   "metadata": {},
   "source": [
    "We've all learned about functions in math class: a function is a relationship, or mapping, between one or more inputs and a set of outputs: f(x)=2x+3. In programming, a function is a self-contained block of code that encapsulates a specific task or a group of tasks. \n",
    "\n",
    "Here we're going to focus on the `input()` function. While there are several ways to gather data from the outside world, the simplest is to just ask. In python, a program asks for information from the user with the `input()` function, as demonstrated here:\n",
    "```python\n",
    "user = input(\"what's your name? \")\n",
    "print ('hello %s!' % (user))\n",
    "```\n",
    "The `input()` function prompts the user by printing to the screen whatever value is given in the parentheses immediately following the input call, (in this case asking \"what's your name?\") and then waits for the user to type whatever they want for as long as they feel like, until the user hits enter. `input()` (which is a function, like `int()` or `float()`, a topic we'll talk a lot more about later) then takes everything up until the user hits enter and returns that as a string. Again, we'll talk more about this idea, but here all you need to know is that `input()` gives back the user's input as a string, and that gets saved to the variable user using the assignment operator (=). After taking this input, we just spit it right back out (employing the string interpolation trick we learned a few minutes ago)."
   ]
  },
  {
   "cell_type": "code",
   "execution_count": null,
   "metadata": {},
   "outputs": [],
   "source": [
    "user = input(\"what's your name? \")\n",
    "print (f'hello {user}')"
   ]
  },
  {
   "cell_type": "markdown",
   "metadata": {},
   "source": [
    "<a href=#home>Return to Top</a> "
   ]
  },
  {
   "cell_type": "markdown",
   "metadata": {},
   "source": [
    "## 4. Lists  <a name='bookmark4' />\n",
    "\n",
    "A ***list*** provides a way of storing an ordered series of values in a structure referenced by a single variable.\n",
    "\n",
    "Lists have lots of really useful features. One is that they are __ordered__, which means the order of items in a list __does not change__ (this is not true for dictionaries, as we will see later). This means you can access individual items in a list or entire sections by indexing or slicing (like what you did for characters within a string).\n"
   ]
  },
  {
   "cell_type": "code",
   "execution_count": null,
   "metadata": {},
   "outputs": [],
   "source": [
    "NEstates = ['ME', 'MA', 'RI', 'VT', 'NH', 'CT']\n",
    "print(NEstates)"
   ]
  },
  {
   "cell_type": "markdown",
   "metadata": {},
   "source": [
    "If you want to see how long a list is without printing it and counting each element, you can use the `len()` function."
   ]
  },
  {
   "cell_type": "code",
   "execution_count": null,
   "metadata": {},
   "outputs": [],
   "source": [
    "print(len(NEstates))"
   ]
  },
  {
   "cell_type": "markdown",
   "metadata": {},
   "source": [
    "Each item in a list is called an element. Much like each character in a string, each element in a list has an index."
   ]
  },
  {
   "cell_type": "code",
   "execution_count": null,
   "metadata": {},
   "outputs": [],
   "source": [
    "# to get the first three elements in your list:\n",
    "NEstates[0:3]"
   ]
  },
  {
   "cell_type": "code",
   "execution_count": null,
   "metadata": {},
   "outputs": [],
   "source": [
    "# to get the last element of a list:\n",
    "NEstates[-1]"
   ]
  },
  {
   "cell_type": "markdown",
   "metadata": {},
   "source": [
    "### 4.1 Adding to a List\n",
    "1. `append()` - adds a single object to the end of a list\n",
    "2. `extend()` joins a second list to a first list\n",
    "3. **concatenation** (the `+` sign) - adding two lists together also joins a second list to a first list\n",
    "4. `insert()` - this allows you to add object to a specific position in the list\n",
    "5. **insert by slicing** - another method of inserting\n",
    "\n",
    "Numbers 1, 2, and 4 are methods, which are essentially a subset of functions specifically attached to that object type. Many of these work directly upon the variable itself (and a list of the available methods will pop up if you type the variable name, followed by \".\" and then pressing tab. They come in the format `object.method()`, where the object of variable is in front, followed by a '.', the name of the method and paranthesis (which require different objects/functions inside). \n",
    "```python\n",
    "mylist.append(mynewelement)\n",
    "```"
   ]
  },
  {
   "cell_type": "code",
   "execution_count": null,
   "metadata": {
    "scrolled": true
   },
   "outputs": [],
   "source": [
    "mybases = [\"Adenine\",\"Guanine\",\"Cytosine\",\"Thymine\"]\n",
    "mybases_short   = [\"A\",\"G\",\"C\",\"T\"]\n",
    "mybases.append(\"Uracil\")\n",
    "mybases_short.append(\"U\")\n",
    "print (\"append()\")\n",
    "print (mybases)\n",
    "print (mybases_short) ##What if I had put [\"U\"] into the append method?\n",
    "print ()\n",
    "\n",
    "biologists=[\"Janaki Ammal\", \"Jennifer Doudna\"]\n",
    "morebiologists = [\"Barbara McClintock\",\"Flossie Wong-Staal\"]\n",
    "biologists.extend(morebiologists)\n",
    "print (\"extend()\")\n",
    "print (biologists)\n",
    "print (morebiologists)\n",
    "print\n",
    "\n",
    "biologists=[\"Janaki Ammal\", \"Jennifer Doudna\"]\n",
    "morebiologists = [\"Barbara McClintock\",\"Flossie Wong-Staal\"]\n",
    "print (\"concatenate\")\n",
    "print (biologists+morebiologists)\n",
    "print (biologists)\n",
    "print (morebiologists)\n",
    "print\n",
    "\n",
    "biologists.insert(1,\"Ruby Hirose\")\n",
    "print ('insert()')\n",
    "print (biologists)\n",
    "print \n",
    "\n",
    "biologists[2:2] = [\"Ruth Ella Moore\"]\n",
    "print ('insert with slicing')\n",
    "print (biologists)\n",
    "print ()\n",
    "biologists[1:1] = (morebiologists)\n",
    "print (biologists)"
   ]
  },
  {
   "cell_type": "markdown",
   "metadata": {},
   "source": [
    "In the above example, sometimes the variable itself was changed, while in other cases we had to specify a new variable. `append()`, `extend()`, `insert()` and **insert with slicing** directly acted upon the original variable, modifying it in place. **concatenate** or `+` did not affect the original variable, and to affect the old variable, you would have to reassign the new list to the old variable.\n",
    "\n",
    "***CAUTION!***\n",
    "Be careful with using insertions. One of the most useful properties of lists is that you know the index, or position, or each element in the list. More complicated actions using lists often use information about the position, and uncareful use of insertions may result in assigning elements in the list to variables that you did not intend to assign. \n",
    "\n",
    "Lastly, if you didn't realize - the above people included in the list are all famous female biologists who have been recognized for their immense academic contributions. If you don't recognize them, then before moving on, I suggest googling a few of them to learn about awesome women scientists (from the past and today)!"
   ]
  },
  {
   "cell_type": "markdown",
   "metadata": {},
   "source": [
    "### 4.2 Multiplication\n",
    "\n",
    "We take a moment here to consider the multiplication operator. For both strings and lists, this works exactly as multiplication should. \n",
    "\n",
    "For instance, \n",
    "```python\n",
    "3*4 = 3+3+3+3 = 12\n",
    "```\n",
    "Then, \n",
    "```python\n",
    "3*'a' = 'a'+'a'+'a' = 'aaa'\n",
    "3*[0] = [0]+[0]+[0] = [0,0,0]\n",
    "```"
   ]
  },
  {
   "cell_type": "code",
   "execution_count": null,
   "metadata": {},
   "outputs": [],
   "source": [
    "print(3*'a')\n",
    "print(3*[0])"
   ]
  },
  {
   "cell_type": "markdown",
   "metadata": {},
   "source": [
    "### 4.3 Shrinking a list\n",
    "\n",
    "1. `del`  - built-in function (like `print`) that removes particular item from the list\n",
    "2. `pop()` - method that removes the last item from the list, returning a variable\n",
    "3. **slicing** - slice the list to retrieve only the subset you want (delete by omission)"
   ]
  },
  {
   "cell_type": "code",
   "execution_count": null,
   "metadata": {},
   "outputs": [],
   "source": [
    "ingredients = ['DNA polymerase', 'RNA polymerase', 'helicase', 'RNA primer', \n",
    "         'nucleotides', 'DNA ligase']\n",
    "\n",
    "del ingredients[2]\n",
    "print (\"del: \")\n",
    "print (ingredients)\n",
    "print ()\n",
    "\n",
    "ingredients.pop()\n",
    "print (\"pop(): \")\n",
    "print (ingredients)\n",
    "print ()\n",
    "\n",
    "print (\"slicing: \")\n",
    "print (ingredients[:-1])"
   ]
  },
  {
   "cell_type": "markdown",
   "metadata": {},
   "source": [
    "Above, I have a list of ingredients used in DNA replication, which I use to show three different methods of removing items from the list. \n",
    "\n",
    "However, I've made a mistake and added something used in transcription, a different cellular process - 'RNA polymerase'! What would you do to create a list of that correctly shows ingredients for DNA replication (i.e. a list without RNA polymerase)? What about a list of only ingredients used in transcription, i.e. a list of only the single element 'RNA polymerase'?\n",
    "\n",
    "\n",
    "Next, we consider what the methods are returning, if they are changing the original variable. "
   ]
  },
  {
   "cell_type": "code",
   "execution_count": null,
   "metadata": {},
   "outputs": [],
   "source": [
    "ingredients = ['DNA polymerase', 'RNA polymerase', 'helicase', 'RNA primer', \n",
    "         'nucleotides', 'DNA ligase']\n",
    "\n",
    "myreturn = ingredients.append('topoisomerase')\n",
    "print (ingredients)\n",
    "print (myreturn)\n",
    "print\n",
    "\n",
    "myreturn = ingredients.extend(['activator protein','repressor protein'])\n",
    "print (ingredients)\n",
    "print (myreturn)\n",
    "print\n",
    "\n",
    "myreturn = ingredients.pop()\n",
    "print (ingredients)\n",
    "print (myreturn)"
   ]
  },
  {
   "cell_type": "markdown",
   "metadata": {},
   "source": [
    "`append()` and `extend()` return \"None\", but `pop()` returns the last element of the list, which is removed from the list. Thus, different methods (and functions) will return different things. You can figure out for yourself what is returned, as well as more information about the method or function in one of two ways, searching the documentation online or using a nifty tool in Jupyter Notebook - adding a `?` to the end of the method/function. "
   ]
  },
  {
   "cell_type": "code",
   "execution_count": null,
   "metadata": {},
   "outputs": [],
   "source": [
    "ingredients.extend?"
   ]
  },
  {
   "cell_type": "code",
   "execution_count": null,
   "metadata": {},
   "outputs": [],
   "source": [
    "ingredients.pop?"
   ]
  },
  {
   "cell_type": "code",
   "execution_count": null,
   "metadata": {},
   "outputs": [],
   "source": [
    "type?"
   ]
  },
  {
   "cell_type": "markdown",
   "metadata": {},
   "source": [
    "### 4.4 Changing lists in place\n",
    "1. Overwriting the element in the list\n",
    "2. Sort by the method `sort()` or the function `sorted()`\n",
    "3. Reverse the order of the list using `reverse()` or **slicing**\n",
    "\n",
    "First, let's make a list to start with - I've initialized a list of four zeros and then assigned values to some elements of the list. Note that if I run the below cell, the notebook 'remembers' my variables, unless I overwrite the old assignment. I could also erase this memory using 'Kernel-->Restart' in the bar above or clicking the circular arrow - in both cases, I'd have to then click Restart in the pop up. But for now, we want to retain the memory of what the variables are across each cell. "
   ]
  },
  {
   "cell_type": "code",
   "execution_count": null,
   "metadata": {},
   "outputs": [],
   "source": [
    "brainsizes=4*[0]\n",
    "print (\"initialized list\")\n",
    "print (brainsizes)\n",
    "print ()\n",
    "\n",
    "mice_brain = 10\n",
    "rat_brain = 20\n",
    "human_brain = 500\n",
    "brainsizes[2] = mice_brain\n",
    "brainsizes[1] = rat_brain\n",
    "brainsizes[3] = human_brain\n",
    "print (\"modified list\")\n",
    "print (brainsizes)\n",
    "print ()"
   ]
  },
  {
   "cell_type": "markdown",
   "metadata": {},
   "source": [
    "As you look at what each method or function in the below cells do to the `brainsizes` list, note whether you are using a method, function, or neither. Also, note which ones change the variable `brainsizes` itself, and which ones are actually outputting a NEW list, which to be saved, must be assigned to a new variable OR if you want the `brainsizes` list to be updated, you would overwrite the `brainsizes` variable."
   ]
  },
  {
   "cell_type": "code",
   "execution_count": null,
   "metadata": {},
   "outputs": [],
   "source": [
    "print ('sorted')\n",
    "print (sorted(brainsizes))\n",
    "print (brainsizes)\n",
    "print ()\n"
   ]
  },
  {
   "cell_type": "code",
   "execution_count": null,
   "metadata": {},
   "outputs": [],
   "source": [
    "print ('sort()')\n",
    "brainsizes.sort()\n",
    "print (brainsizes)\n",
    "print ()\n"
   ]
  },
  {
   "cell_type": "code",
   "execution_count": null,
   "metadata": {},
   "outputs": [],
   "source": [
    "print ('reverse by slicing')\n",
    "print (brainsizes[::-1])\n",
    "print (brainsizes)\n",
    "print ()\n"
   ]
  },
  {
   "cell_type": "code",
   "execution_count": null,
   "metadata": {},
   "outputs": [],
   "source": [
    "print ('reverse()')\n",
    "brainsizes.reverse()\n",
    "print (brainsizes)\n",
    "print ()\n"
   ]
  },
  {
   "cell_type": "code",
   "execution_count": null,
   "metadata": {},
   "outputs": [],
   "source": [
    "myAtmosphere = [\"N2\",\"oxygen\",\"argon\"]\n",
    "print (\"Why is this not sorted alphabetically?\")\n",
    "print (myAtmosphere)\n",
    "print (sorted(myAtmosphere))"
   ]
  },
  {
   "cell_type": "markdown",
   "metadata": {},
   "source": [
    "The above are not sorted alphabetically because upper and lower case letters are not sorted with each other - upper case comes first, then lower case in the 'sorting'. \n",
    "\n",
    "### 4.5 Characterizing Lists\n",
    "\n",
    "Here, we will learn a few more things we can do with lists.\n",
    "\n",
    "1) The built-in functions `len()`, `max()` and `min()` tell us how many items are in the list and the maximum and minimum values in the list.\n",
    "\n",
    "2) The list method `index()` tells us where an item is in the list.\n",
    "\n",
    "3) We can iterate over each item in the list and print it using the syntax `for x in mylist`:\n",
    "\n"
   ]
  },
  {
   "cell_type": "code",
   "execution_count": null,
   "metadata": {},
   "outputs": [],
   "source": [
    "print (brainsizes)\n",
    "print (\"# Elements =\", len(brainsizes))\n",
    "print ('Max =', max(brainsizes))\n",
    "print ('Min =', min(brainsizes))"
   ]
  },
  {
   "cell_type": "markdown",
   "metadata": {},
   "source": [
    "Above, how would you rewrite the strings to print using f-string formatting?\n",
    "\n",
    "Note that for the **for loop** example below, you will be learning a lot more later in the next lesson about them. Here, mainly note what you think is happening in the loop. "
   ]
  },
  {
   "cell_type": "code",
   "execution_count": null,
   "metadata": {},
   "outputs": [],
   "source": [
    "#iterate over list\n",
    "for x in brainsizes: print (x)"
   ]
  },
  {
   "cell_type": "code",
   "execution_count": null,
   "metadata": {},
   "outputs": [],
   "source": [
    "##find index of element in list\n",
    "print (brainsizes)\n",
    "human_brain = 500\n",
    "humanindex = brainsizes.index(human_brain)\n",
    "print (humanindex)"
   ]
  },
  {
   "cell_type": "markdown",
   "metadata": {},
   "source": [
    "## Knowledge Check 2. Lists\n",
    "Below is a list of all the unique population IDs in the `SGDPinfo.txt` file. Can you answer the following?\n",
    "\n",
    "      - a. How many population IDs are included? \n",
    "\n",
    "      - b. How many populations begin with the letter 'A'?"
   ]
  },
  {
   "cell_type": "code",
   "execution_count": null,
   "metadata": {},
   "outputs": [],
   "source": [
    "mypopns=['BantuHerero', 'BantuKenya', 'BantuTswana', 'Biaka', 'Dinka', 'Esan', 'Gambian', 'Ju_hoan_North', \n",
    "         'Khomani_San', 'Luhya', 'Luo', 'Mandenka', 'Masai', 'Mbuti', 'Mende', 'Mozabite', 'Saharawi', 'Somali', \n",
    "         'Yoruba', 'Chane', 'Karitiana', 'Mayan', 'Mixe', 'Mixtec', 'Piapoco', 'Pima', 'Quechua', 'Surui', 'Zapotec', \n",
    "         'Aleut', 'Altaian', 'Chukchi', 'Eskimo_Chaplin', 'Eskimo_Naukan', 'Eskimo_Sireniki', 'Even', 'Itelman', \n",
    "         'Kyrgyz', 'Mansi', 'Mongola', 'Tlingit', 'Tubalar', 'Ulchi', 'Yakut', 'Ami', 'Atayal', 'Burmese', \n",
    "         'Cambodian', 'Dai', 'Daur', 'Han', 'Hezhen', 'Japanese', 'Kinh', 'Korean', 'Lahu', 'Miao', 'Naxi', \n",
    "         'Oroqen', 'She', 'Thai', 'Tu', 'Tujia', 'Uygur', 'Xibo', 'Yi', 'Australian', 'Bougainville', 'Dusun', \n",
    "         'Hawaiian', 'Igorot', 'Maori', 'Papuan', 'Balochi', 'Bengali', 'Brahmin', 'Brahui', 'Burusho', 'Hazara', \n",
    "         'Irula', 'Kalash', 'Kapu', 'Khonda_Dora', 'Kusunda', 'Madiga', 'Makrani', 'Mala', 'Pathan', 'Punjabi', \n",
    "         'Relli', 'Sindhi', 'Yadava', 'Abkhasian', 'Adygei', 'Albanian', 'Armenian', 'Basque', 'BedouinB', \n",
    "         'Bergamo', 'Bulgarian', 'Chechen', 'Czech', 'Druze', 'English', 'Estonian', 'Finnish', 'French', \n",
    "         'Georgian', 'Greek', 'Hungarian', 'Icelandic', 'Iranian', 'Iraqi_Jew', 'Jordanian', 'Lezgin', \n",
    "         'North_Ossetian', 'Orcadian', 'Palestinian', 'Polish', 'Russian', 'Samaritan', 'Sardinian', 'Spanish', \n",
    "         'Tajik', 'Turkish', 'Tuscan', 'Yemenite_Jew']"
   ]
  },
  {
   "cell_type": "code",
   "execution_count": null,
   "metadata": {},
   "outputs": [],
   "source": [
    "## Add your code here.\n",
    "\n",
    "# A\n",
    "\n",
    "# B"
   ]
  },
  {
   "cell_type": "markdown",
   "metadata": {},
   "source": [
    "<a href=#home>Return to Top</a> "
   ]
  },
  {
   "cell_type": "markdown",
   "metadata": {},
   "source": [
    "## 5. Tuples  <a name='bookmark5' />\n",
    "\n",
    "A tuple is essentially a list that you can not change - it is immutable. You can index them, slice them, and add them together to make new tuples but not use `sort()`, `reverse()`, delete or remove items from them. If you ever have a tuple that you want to change, you have to turn it into a list. Tuples have structure, lists have order. \n",
    "\n",
    "Why would you want to use a tuple and not a list? Maybe you have an original dataset that you don't want modified, tuples use a little bit less memory than lists, and programs with tuples often run faster than programs with lists.\n",
    "\n",
    "Geography/envs friends - we *rarely* use tuples. "
   ]
  },
  {
   "cell_type": "code",
   "execution_count": null,
   "metadata": {},
   "outputs": [],
   "source": [
    "SNP = ('chrII', '378445')\n",
    "print (type(SNP))\n",
    " \n",
    "for i in SNP: print (i)\n",
    " \n",
    "#Can we change an element in a tuple? Guess what might occur. \n",
    "#Then, try the following after uncommenting the lines to see if you were correct.\n",
    "#SNP[0] = 'chrV'\n",
    "#print (SNP)"
   ]
  },
  {
   "cell_type": "code",
   "execution_count": null,
   "metadata": {},
   "outputs": [],
   "source": [
    "#What if we first coerce the tuple to a list?\n",
    "SNP = list(SNP)\n",
    "print (type(SNP))\n",
    "SNP[0] = 'chrV'\n",
    "SNP = tuple(SNP)\n",
    "print (SNP)"
   ]
  },
  {
   "cell_type": "markdown",
   "metadata": {},
   "source": [
    "If your tuple only has one item, you need to use a comma to make it clear that the tuple is a tuple and not just a value in parentheses:\n",
    "```python\n",
    "tuple_A = (\"Is this a tuple?\")    ##This is a string\n",
    "tuple_B = (\"What about this?\", )  ##This is a tuple with one element. \n",
    "```\n",
    "\n",
    "Tuples are also handy for doing an in-place swap."
   ]
  },
  {
   "cell_type": "code",
   "execution_count": null,
   "metadata": {},
   "outputs": [],
   "source": [
    "a = 1\n",
    "b = 2\n",
    "print (a,b)\n",
    "a,b = b,a\n",
    "print (a,b)\n",
    "\n",
    "##Above is equivalent to:\n",
    "mytuple = (b,a)\n",
    "a,b = mytuple"
   ]
  },
  {
   "cell_type": "markdown",
   "metadata": {},
   "source": [
    "<a href=#home>Return to Top</a> "
   ]
  },
  {
   "cell_type": "markdown",
   "metadata": {},
   "source": [
    "## 6. Dictionaries  <a name='bookmark6' />\n",
    "\n",
    "There are two ways to think of dictionaries. \n",
    "\n",
    "The **first** way is you can imagine a dictionary as just that -- a dictionary. To retrieve information out of it, you look up a word, called a key, and you find information associated with that word, called the key's value.\n",
    "\n",
    "To create a dictionary, you write each key-value pair as **key:value**, divide the pairs with commas, and surround the entire structure with curly braces."
   ]
  },
  {
   "cell_type": "code",
   "execution_count": null,
   "metadata": {},
   "outputs": [],
   "source": [
    "#dr yang's dictionary\n",
    "names = {'Jennifer':'Doudna', 'Flossie':'Wong-Staal', 'Barbara':'McClintock'}"
   ]
  },
  {
   "cell_type": "markdown",
   "metadata": {},
   "source": [
    "The key is what you use to retrieve information. Thus, whereas in tuples and lists you used the index to grab a particular element, in a dictionary, you use the key. "
   ]
  },
  {
   "cell_type": "code",
   "execution_count": null,
   "metadata": {},
   "outputs": [],
   "source": [
    "print (\"Find value associated with key\")\n",
    "print (names[\"Flossie\"])\n",
    "print ()\n",
    "\n",
    "print (\"Add new key:value pair\")\n",
    "names[\"Ruth\"]=\"Moore\"\n",
    "print (names)\n",
    "print ()\n",
    "\n",
    "print (\"del\")\n",
    "del names['Flossie']\n",
    "print (names)\n",
    "print ()\n",
    "\n",
    "print (\"change in place\")\n",
    "names[\"Jennifer\"] = \"I refuse to share my last name\"\n",
    "print (names)\n",
    "print ()\n",
    "\n",
    "print (\"Combine two dictionaries\")\n",
    "morenames={\"Janaki\":\"Ammal\", \"Ruby\":\"Hirose\", \"Jennifer\":\"Doudna\"}\n",
    "names.update(morenames)\n",
    "print (names)\n",
    "print ()\n",
    "print (\"What happened to Jennifer when we used update()??\")\n"
   ]
  },
  {
   "cell_type": "markdown",
   "metadata": {},
   "source": [
    "What happens when you try the list method `pop()`? What about `sort()`? And `sorted()`?"
   ]
  },
  {
   "cell_type": "markdown",
   "metadata": {},
   "source": [
    "The **second** way to think about dictionaries is a table where the key is the column label and the values are the entries in that column. Values can be anything, any type of data, and they don't have to be the same in a {key:value} pair."
   ]
  },
  {
   "cell_type": "code",
   "execution_count": null,
   "metadata": {
    "scrolled": true
   },
   "outputs": [],
   "source": [
    "# prof spera's dictionaries\n",
    "dict1 = {'column1':[1,2,4,8,16,32]}\n",
    "dict2 = {'Numbers':[1,2,3,4],'Fruit':['apples','bananas','oranges','lemons'],'Randoms':[16.0,12.0,23.7,18.2]}\n",
    "print(dict1)"
   ]
  },
  {
   "cell_type": "markdown",
   "metadata": {},
   "source": [
    "As stated above, the curly brackets **{ }** tell us everything we printed is a `dict`. Inside that `dict`, we have a `str` that is the **key**. Then we have a colon **:** that tells us the **values** for the key are coming up. Next, we have straight brackets **[ ]** surrounding the values. The straight brackets indicate a `list`, and the values are elements in that list.\n",
    "\n",
    "If you want to know what your keys or values are without printing the whole dict, you can call these items."
   ]
  },
  {
   "cell_type": "code",
   "execution_count": null,
   "metadata": {},
   "outputs": [],
   "source": [
    "# The keys in dict1:\n",
    "print(dict1.keys())\n",
    "\n",
    "# The corresponding values:\n",
    "print(dict1.values())"
   ]
  },
  {
   "cell_type": "markdown",
   "metadata": {},
   "source": [
    "Now, what if you want to know the values of a certain key/'column'? Try this statement: dict_name['key_name']:"
   ]
  },
  {
   "cell_type": "code",
   "execution_count": null,
   "metadata": {},
   "outputs": [],
   "source": [
    "print(dict1['column1'])"
   ]
  },
  {
   "cell_type": "markdown",
   "metadata": {},
   "source": [
    "Since the values in our dict are elements of a list, we can call a specific element using its index. But first we must indicate which column of data we want by using the key.\n",
    "\n"
   ]
  },
  {
   "cell_type": "code",
   "execution_count": null,
   "metadata": {},
   "outputs": [],
   "source": [
    "print(dict1['column1'][1])\n",
    "# this code is saying find the 2nd element in column1 of dict1, remember indexing starts at 0"
   ]
  },
  {
   "cell_type": "markdown",
   "metadata": {},
   "source": [
    "## Knowledge Check 3: Lists and Dictionaries\n",
    "For each of the lines below, add comments detailing what each line in the script above is doing. Then run these commands and make sure you are correct.\n",
    "```python\n",
    "L = [1,2,3] + [4,5,6]\n",
    "print (L, L[:], L[:0], L[-2], L[-2:])\n",
    "print ()\n",
    "\n",
    "L.reverse()\n",
    "print (L)\n",
    "print ()\n",
    "\n",
    "L.sort()\n",
    "print (L)\n",
    "print ()\n",
    "\n",
    "idx = L.index(4)\n",
    "print (idx)\n",
    "print ()\n",
    "\n",
    "print ({'a':1, 'b':2}['b'])\n",
    "print ()\n",
    "\n",
    "D = {'x':1, 'y':2, 'z':3}\n",
    "D['w'] = 0\n",
    "print (D['x'] + D['w'])\n",
    "print (D.keys(), D.values(), 'z' in D)\n",
    "```"
   ]
  },
  {
   "cell_type": "code",
   "execution_count": null,
   "metadata": {},
   "outputs": [],
   "source": [
    "# Add your code here"
   ]
  },
  {
   "cell_type": "markdown",
   "metadata": {},
   "source": [
    "# Summary So Far...\n",
    "\n",
    "__Lists are:__\n",
    "\n",
    "1) ordered collections of arbitrary variables.\n",
    "\n",
    "2) accessible by slicing.\n",
    "\n",
    "3) can be grown or shrunk in place.\n",
    "\n",
    "4) mutable (can be changed in place).\n",
    "\n",
    "5) defined with list = [X,Y]\n",
    "\n",
    "__Tuples are:__\n",
    "\n",
    "1) like lists except they are immutable (cannot do #3 and #4 for lists)\n",
    "\n",
    "2) defined with tuple = (X,Y)\n",
    "\n",
    "__Dictionaries are:__\n",
    "\n",
    "1) unordered collection of arbitrary variables.\n",
    "\n",
    "2) accessible by keys.\n",
    "\n",
    "3) can be grown or shrunk in place.\n",
    "\n",
    "4) mutable.\n",
    "\n",
    "5) defined with dict = {X:Y}\n",
    "\n",
    "List methods include: __append()__, __extend()__, __insert()__, __pop()__, __sort()__, __reverse()__, __index()__\n",
    "Dictionary methods include: __update()__, __keys()__, __values()__, __pop()__--but __pop()__ works a bit differently compared to how it's used in lists!\n",
    "Built in functions include: __sorted__, __len__, __max__, __min__, __type__\n",
    "\n",
    "You will use dictionaries and lists often in your coding. However, there is another data structure that you should know about to make your life a little easier: __Sets__. __Sets__ are unordered and unique bags of variables. You will learn some about them in your exercises.\n",
    "\n",
    "Now that we understand all the **{key:value}** pairs, we can use `pandas` (a Python package) to do fancy stuff to our dictionary.\n",
    "\n",
    "<a href=#home>Return to Top</a> "
   ]
  },
  {
   "cell_type": "markdown",
   "metadata": {},
   "source": [
    "## 7. Packages, dataframes, and pandas.  <a name='bookmark7' />\n",
    "\n",
    "**Until we figure out a package dependency thing - to do this section, just make sure you are using the qgis kernel.**\n",
    "**This means, in the top ribbon, under the box that says 'Trusted', if it says 'Python 3', click on that, and select 'qgis' from the dropdown.**\n"
   ]
  },
  {
   "cell_type": "markdown",
   "metadata": {},
   "source": [
    "### 7.1 Packages and modules\n",
    "Python is a language, and inside every language there are different types of words. In English, we have parts of speech like nouns, verbs, adjectives, etc. In Python, we have packages like Numpy, Scipy, pandas, etc. Each package has a specific purpose, `numpy` = matrix math, `scipy` = Science-based analysis, `pandas` = spreadsheet operations (like Excel). Each part of speech has many different categories and words. For example, we have abstract nouns, proper nouns, collective nouns, common nouns, but they are all types of nouns. In a Python package like Numpy, we have different commands that tell us what is happening in our Python sentence. Thus, another way of thinking of packages is as a set of Python code written by someone else with ready to go commands (i.e. functions) we might want to use related to the topic (e.g. `numpy` will have many functions and data types useful for matric math).  \n",
    "\n",
    "The code below is an example of a script that uses the `numpy` package. `import numpy` allows us to access the package, so to use a `numpy` function, we add the `import numpy` line to tell Python to look for that package. That's all you need to know about `import` for now. "
   ]
  },
  {
   "cell_type": "code",
   "execution_count": null,
   "metadata": {},
   "outputs": [],
   "source": [
    "import numpy\n",
    "\n",
    "x = numpy.arange(5)\n",
    "print(x)\n",
    "type(x)"
   ]
  },
  {
   "cell_type": "markdown",
   "metadata": {},
   "source": [
    "Numpy is all about matrices, lists, and math operations on those matrices and lists. In this example, I said `numpy.`, which indicates that I want to use a command from the `numpy` package. The command/function I want to use is `arange`, so I added that after. This function makes a list, or a range of numbers, based on a number you provide in the paranthesis. I said `(5)`, so Numpy makes a range of numbers that is 5 elements long, starting at 0. The `print(x)` statement in Line 4 shows us the result of this command, `[0 1 2 3 4]`. \n",
    "\n",
    "Note that `numpy` creates a new data structure, known as an `array`. It is like lists, except many `numpy` functions can be applied, allowing quick matrix algebra calculations. We aren't getting into those, but you can always use `type` to see the new data type. A numpy array differs from lists in that there are no commas separating the elements of the array. Like lists, arrays use the straight brackets as well, **[ ]**. \n",
    "\n",
    "Back to the `import` statement - remember that Python doesn't automatically open all packages when you start a notebook or script. Instead, you need to tell Python which packages you want. You do this with the `import` statement. You can also give each package a nickname, like `pd` in the example below. Here are some more examples of importing packages."
   ]
  },
  {
   "cell_type": "code",
   "execution_count": null,
   "metadata": {},
   "outputs": [],
   "source": [
    "import numpy as np\n",
    "import pandas as pd\n",
    "import scipy\n",
    "from matplotlib import pyplot as plt"
   ]
  },
  {
   "cell_type": "markdown",
   "metadata": {},
   "source": [
    "Wait, what happened with that last line?!\n",
    "\n",
    "Matplotlib is a plotting package. But I didn't import all of matplotlib, I only imported one module from matplotlib called `pyplot`. This would be like me writing a sentence using only proper nouns. I could use any type of noun, but I'm only using the proper noun module in my sentence. Another way to write this import statement is below:"
   ]
  },
  {
   "cell_type": "code",
   "execution_count": null,
   "metadata": {},
   "outputs": [],
   "source": [
    "import matplotlib.pyplot as plt"
   ]
  },
  {
   "cell_type": "markdown",
   "metadata": {},
   "source": [
    "Both examples do the same thing, so it totally depends on which you prefer!\n",
    "\n",
    "Sometimes you will see \"import \" statement. This statement imports all the functions and classes from the selected package. This is actually a *bad* habit and you should not use this form of import statement. Instead, specify which modules you want explicitly or just import the entire package. But it is good to know what other people might do in their code."
   ]
  },
  {
   "cell_type": "code",
   "execution_count": null,
   "metadata": {},
   "outputs": [],
   "source": [
    "# dont run this bad code\n",
    "from matplotlib import * # bad code!"
   ]
  },
  {
   "cell_type": "markdown",
   "metadata": {},
   "source": [
    "### 7.2 Data frames and pandas light\n",
    "Let's make a data frame using pandas. \n",
    "\n",
    "We already imported pandas a bit earlier using `import pandas as pd` (scroll up a few cells), so you shouldn't need to import it again. But you can always add it at the top of your cell if it says your package is not defined. \n",
    "\n",
    "We also set up two dictionaries towards the end of section 6, pasted below. \n",
    "\n",
    "```python\n",
    "dict1 = {'column1':[1,2,4,8,16,32]}\n",
    "dict2 = {'Numbers':[1,2,3,4],'Fruit':['apples','bananas','oranges','lemons'],'Randoms':[16.0,12.0,23.7,18.2]}\n",
    "```\n",
    "\n",
    "If you ran those dictionaries, the following code will work. If you get an error saying `dict1` and `dict2` don't exist, then paste the above two dictionaries in your code as well to initialize them. "
   ]
  },
  {
   "cell_type": "code",
   "execution_count": null,
   "metadata": {},
   "outputs": [],
   "source": [
    "dict1 = {'column1':[1,2,4,8,16,32]}\n",
    "dict2 = {'Numbers':[1,2,3,4],'Fruit':['apples','bananas','oranges','lemons'],'Randoms':[16.0,12.0,23.7,18.2]}\n",
    "df1 = pd.DataFrame(data=dict1) # we already imported pandas a bit earlier using import pandas as pd, so we don't need to do it again\n",
    "print(df1)"
   ]
  },
  {
   "cell_type": "markdown",
   "metadata": {},
   "source": [
    "`df1` is our first table. In pandas, they also work with a new datatype (not lists, arrays, strings, dictionaries, or tuples), and these are called `DataFrames`. We can make any DataFrame using the `pd.DataFrame` command and inputing a dictionary for the data argument. The list of numbers on the left side are the indexes. The default, if you don't specify the index when you make the DataFrame, is to number the rows starting at 0. We can change the column names or the indexes using functions from the pandas module."
   ]
  },
  {
   "cell_type": "code",
   "execution_count": null,
   "metadata": {},
   "outputs": [],
   "source": [
    "df1 = pd.DataFrame(data=dict2)\n",
    "print(df1)"
   ]
  },
  {
   "cell_type": "code",
   "execution_count": null,
   "metadata": {},
   "outputs": [],
   "source": [
    "df2 = df1.set_index('Numbers')\n",
    "print(df2)"
   ]
  },
  {
   "cell_type": "markdown",
   "metadata": {},
   "source": [
    "In the example above, the first column of `df1`, named \"Numbers\", became the index of `df2`. But let's break this down a bit.\n",
    "\n",
    "First, we made a new DataFrame called `df2`. We said `df2` is equal to `df1` BUT we are changing the indexes for the values in column 1. This also means that the index label is the key from column 1 in df1. By making column 1 our index, we removed this column from the table. Now there are only two **{key:value}** data pairs in the DataFrame.\n",
    "\n",
    "When we say there are only two {key:value} pairs in the DataFrame, we mean that Numbers is no longer a key! It has become the index label. We can still call the Fruit and Randoms keys, but we cannot treat Numbers the same way."
   ]
  },
  {
   "cell_type": "code",
   "execution_count": null,
   "metadata": {},
   "outputs": [],
   "source": [
    "print(df2['Fruit'])"
   ]
  },
  {
   "cell_type": "code",
   "execution_count": null,
   "metadata": {},
   "outputs": [],
   "source": [
    "print(df2['Numbers'])"
   ]
  },
  {
   "cell_type": "markdown",
   "metadata": {},
   "source": [
    "This long error message ends with \"KeyError: 'Numbers'\". This is saying 'Numbers' is not a key, so you can't use it to select those values. Instead, we must call the DataFrame indexes."
   ]
  },
  {
   "cell_type": "code",
   "execution_count": null,
   "metadata": {},
   "outputs": [],
   "source": [
    "print(df2.index)"
   ]
  },
  {
   "cell_type": "markdown",
   "metadata": {},
   "source": [
    "Now let's change the column labels."
   ]
  },
  {
   "cell_type": "code",
   "execution_count": null,
   "metadata": {},
   "outputs": [],
   "source": [
    "df3 = df1.rename(columns={'Numbers':'Numeros','Fruit':'Frutas','Randoms':'Temperature'})\n",
    "print(df3)"
   ]
  },
  {
   "cell_type": "markdown",
   "metadata": {},
   "source": [
    "### 7.3 pandas Applied"
   ]
  },
  {
   "cell_type": "markdown",
   "metadata": {},
   "source": [
    "The pandas package is a Python package that specifically analyzes and manipulates data in 2D or 1D arrays. Basically, pandas is the go-to tool for looking at data in a table (2D) or list (1D) format. In an Excel file, a 2D array is called a spreadsheet. In pandas, these 2D arrays are called DataFrames. pandas also has a name for a 1D array: a Series. Certain commands only work on Series and not DataFrames, or vice versa, so it is important to know which kind of object/data type you are working with.\n",
    "\n",
    "(If you level up to 3D data, like climate data, with a lat, lon, and time - you will primarily work with the `numpy` package). \n",
    "\n",
    "We've already imported pandas, but if you closed the jupyter notebook between here and above, you can re-import the package."
   ]
  },
  {
   "cell_type": "code",
   "execution_count": null,
   "metadata": {},
   "outputs": [],
   "source": [
    "import pandas as pd\n",
    "import matplotlib.pyplot as plt # we'll be looking at our data, so we'll import pyplot here as well"
   ]
  },
  {
   "cell_type": "markdown",
   "metadata": {},
   "source": [
    "Whether your data is in html, csv, json, or xlsx, pandas can open that! Here is a comprehensive list of all file types pandas can open and read: https://pandas.pydata.org/docs/reference/io.html\n",
    "\n",
    "We're going to try opening a few different files. Each file name is listed below."
   ]
  },
  {
   "cell_type": "code",
   "execution_count": null,
   "metadata": {},
   "outputs": [],
   "source": [
    "# names of files to open\n",
    "excel_file = '/scratch/myang_shared/lab/PythonBootcamp/Sp24/lessons/Lesson2/Weather.xlsx'\n",
    "csv_file = '/scratch/myang_shared/lab/PythonBootcamp/Sp24/lessons/Lesson2/temp.csv'\n",
    "txt_file = '/scratch/myang_shared/lab/PythonBootcamp/Sp24/lessons/Lesson2/moisture.txt'"
   ]
  },
  {
   "cell_type": "code",
   "execution_count": null,
   "metadata": {},
   "outputs": [],
   "source": [
    "# use the read_ command to open the three files. Note: use a different command for excel versus csv/txt!\n",
    "excel_data = pd.read_excel(excel_file)\n",
    "csv_data = pd.read_csv(csv_file, sep=',') \n",
    "txt_data = pd.read_csv(txt_file,sep=',')\n",
    "# the sep=',' argument refers to the separator between data, meaning that values in the file are separated by \",\".\n"
   ]
  },
  {
   "cell_type": "code",
   "execution_count": null,
   "metadata": {},
   "outputs": [],
   "source": [
    "# check out each DataFrame by replacing the name below. \n",
    "# You don't need to use the print command here - in fact, Jupyter Notebook spits out DataFrames in a nice format.\n",
    "\n",
    "excel_data"
   ]
  },
  {
   "cell_type": "markdown",
   "metadata": {},
   "source": [
    "When you looked at the text file, you might have noticed some funny stuff in the first few rows. What happened there? If you open the file in a text editor, you'll see there are three lines of text before the data starts. Remember that we can take a quick look inside of the file using Linux commands, see the next cell using `%%bash%%`. "
   ]
  },
  {
   "cell_type": "code",
   "execution_count": null,
   "metadata": {},
   "outputs": [],
   "source": [
    "%%bash \n",
    "head /scratch/myang_shared/lab/PythonBootcamp/Sp24/lessons/Lesson2/moisture.txt"
   ]
  },
  {
   "cell_type": "markdown",
   "metadata": {},
   "source": [
    "We don't want those three lines of text before the data. In order to open the text file without those three rows, we can tell pandas where to start reading in the data. It will skip those three rows of text for us."
   ]
  },
  {
   "cell_type": "code",
   "execution_count": null,
   "metadata": {},
   "outputs": [],
   "source": [
    "# we use the header argument to name the row to start on.\n",
    "# remember, Python starts counting at 0. So the 4th row is actually 3!\n",
    "txt_data = pd.read_csv(txt_file,sep=',',header=3)"
   ]
  },
  {
   "cell_type": "code",
   "execution_count": null,
   "metadata": {},
   "outputs": [],
   "source": [
    "# check to make sure the DataFrame looks nice.\n",
    "txt_data"
   ]
  },
  {
   "cell_type": "markdown",
   "metadata": {},
   "source": [
    "Another useful coding practice is to limit the number of rows pandas shows you. If you have a large dataset, but you just want to give it a quick check, like w. linuxm you can just load first or last couple rows using \".head()\" or \".tail()\". Try it out below."
   ]
  },
  {
   "cell_type": "code",
   "execution_count": null,
   "metadata": {},
   "outputs": [],
   "source": [
    "txt_data.tail(5)  #note the similarity of this command to our head and tail Linux commands!"
   ]
  },
  {
   "cell_type": "markdown",
   "metadata": {},
   "source": [
    "We now have three DataFrames each with different types of weather data for the year 2019. But do we actually care about all these variables? And what if we want to compare variables between DataFrames?\n",
    "\n",
    "In order to simplify things, we can just select the variables we care about. The next few code cells will walk you through the process of selecting columns from each existing DataFrame. After you select the data, you can put these together to make a new DataFrame."
   ]
  },
  {
   "cell_type": "code",
   "execution_count": null,
   "metadata": {},
   "outputs": [],
   "source": [
    "# first, let's recap the variables we have by printing out the column labels for each DataFrame.\n",
    "print('Excel Variables:')\n",
    "print(excel_data.columns)\n",
    "print('CSV Variables:')\n",
    "print(csv_data.columns)\n",
    "print('TXT Variables:')\n",
    "print(txt_data.columns)"
   ]
  },
  {
   "cell_type": "code",
   "execution_count": null,
   "metadata": {},
   "outputs": [],
   "source": [
    "# choose the variables you care about, then use those column headers to select the data.\n",
    "# you can select different variables here if you want, \n",
    "# but you'll need to make sure you follow these changes throughout the code.\n",
    "var1 = excel_data['Dates']\n",
    "var2 = excel_data['Sky Condition (oktas)']\n",
    "var3 = csv_data['airtemp_degc']\n",
    "var4 = txt_data['liqprec_mm']"
   ]
  },
  {
   "cell_type": "code",
   "execution_count": null,
   "metadata": {},
   "outputs": [],
   "source": [
    "# always check your data to make sure things worked properly.\n",
    "var1"
   ]
  },
  {
   "cell_type": "markdown",
   "metadata": {},
   "source": [
    "You now have four pandas Series. You might notice that Series look different than DataFrames. First of all, there is no column header! This is because a Series is 1D data - it is a list. You don't need a column header if you only have a list.\n",
    "\n",
    "Rather than work with four different Series, lets make a new DataFrame. First, we'll make a dict with our four Series, then we'll use that dict to make a DataFrame.\n",
    "\n",
    "Important note: we are able to do this because the Series we extracted have same length! In practice, if you have different length, the missing spots will be filled with a filler value, called NaN (more on this later)."
   ]
  },
  {
   "cell_type": "code",
   "execution_count": null,
   "metadata": {},
   "outputs": [],
   "source": [
    "# make a dict.\n",
    "data = {'Dates':var1,'Sky Cond (oktas)':var2,'Temp (˚C)':var3,'Precip (mm)':var4}\n",
    "\n",
    "# use that dict to make a DataFrame.\n",
    "df1 = pd.DataFrame(data=data)"
   ]
  },
  {
   "cell_type": "code",
   "execution_count": null,
   "metadata": {},
   "outputs": [],
   "source": [
    "# check the df to make sure it worked.\n",
    "df1"
   ]
  },
  {
   "cell_type": "markdown",
   "metadata": {},
   "source": [
    "Now that you have the data you want, this is a good time to save your data! You can save as any kind of file that pandas can open, but let's try .xlsx and .csv.\n",
    "\n"
   ]
  },
  {
   "cell_type": "code",
   "execution_count": null,
   "metadata": {},
   "outputs": [],
   "source": [
    "# we perform the to_csv and to_excel command on df1, then provide a file name and path for saving the data.\n",
    "# specify index=False to remove the DataFrame indexes from the saved file. Just makes things look nicer.\n",
    "# from openpyxl import Workbook\n",
    "df1.to_csv('MyData.csv',index=False)\n",
    "df1.to_excel('MyData.xlsx',index=False)"
   ]
  },
  {
   "cell_type": "markdown",
   "metadata": {},
   "source": [
    "For CSV and TXT files, you should be able to look at them through Jupyter Notebook easily. Remember the convention is for CSV files to separate data by commas, and TXT files separate by spaces or tabs. An XLSX file is written in a special way to make it easy for data/formulas to pop up in Microsoft Excel. To view this new file, you will want to download the XLSX file onto your computer to view in Microsoft Excel.\n",
    "\n",
    "#### Quality Control\n",
    "Ok, so we have data. Now what do we do with it? First of all, we should probably remove all those NaNs. In Python, NaN means Not a Number. It is a placeholder for missing data. If there are a lot of NaNs in your DataFrame, it can be a pain to remove them one by one. Fortunately, pandas has an easy tool to remove NaNs!"
   ]
  },
  {
   "cell_type": "code",
   "execution_count": null,
   "metadata": {},
   "outputs": [],
   "source": [
    "# as a reminder, this is what the DataFrame looks like.\n",
    "df1"
   ]
  },
  {
   "cell_type": "code",
   "execution_count": null,
   "metadata": {},
   "outputs": [],
   "source": [
    "# the dropna command will remove rows OR columns with NaNs. We must specify how we want to data handled. \n",
    "# we'll try it both ways below and see which makes sense!\n",
    "df2 = df1.dropna(axis='index')\n",
    "df3 = df1.dropna(axis='columns')"
   ]
  },
  {
   "cell_type": "code",
   "execution_count": null,
   "metadata": {},
   "outputs": [],
   "source": [
    "# look at the data. Which method removed rows and which method removed columns with NaNs? \n",
    "# which method do you think makes more sense in this case?\n",
    "print(df2)\n",
    "print('-------------------------------------------------------------')\n",
    "print(df3)"
   ]
  },
  {
   "cell_type": "markdown",
   "metadata": {},
   "source": [
    "It seems like we lost all the data in `df3`. This is because each column with meteorological data had NaNs in it, so the `dropna` command removed those columns. Instead, we want to use `df2` and the **axis='index'** option.\n",
    "\n",
    "Let's take a quick step back. We made 3 DataFrames in this tutorial. Two of these DataFrames were made from the first DataFrame. Was this necessary? Why did we have to make new DataFrames?\n",
    "\n",
    "pandas is really cool because it can let you edit a DataFrame in place OR make a copy. When you edit a DataFrame in place, this means you change something about the DataFrame without having to change the name or make a new DataFrame. Making a copy is when you basically duplicate the DataFrame, then make the edit to the new DataFrame.\n",
    "\n",
    "To change whether you edit in place or make a copy, all you have to do is specify that `inplace=True` in the key-word arguments. If we had set `inplace=True` in our dropna example, we would not have been able to test out both axis options. In this situation, it was really helpful to make a copy. But if we know for sure what we want to do, `inplace=True` can be helpful for saving memory if you're working with big data."
   ]
  },
  {
   "cell_type": "markdown",
   "metadata": {},
   "source": [
    "#### Sorting, indexing, and subselecting data  <a name='knowledgecheck3' />\n",
    "\n",
    "Now that we have good data, let's explore it a little. Maybe I want to look at only hours with temperatures below 0 ˚C. I need to use the `.loc[condition]` command to subselect the data.\n",
    "\n",
    "With the `loc` command, the order of information goes **[index, columns]**. If you want to select all of the DataFrame rows (meaning all of the indexes), you can skip the index condition and jump right to the column label and condition. This is what we will do in the next code cell."
   ]
  },
  {
   "cell_type": "code",
   "execution_count": null,
   "metadata": {},
   "outputs": [],
   "source": [
    "# select only cold data with .loc[] command.\n",
    "# the condition in the brackets says 'anywhere in df2 where the Temp column is less than 0.0 ˚C'.\n",
    "cold = df2.loc[df2['Temp (˚C)']<=0.0]\n",
    "cold"
   ]
  },
  {
   "cell_type": "code",
   "execution_count": null,
   "metadata": {},
   "outputs": [],
   "source": [
    "# let's look at the Sky Conditions on these cold days. \n",
    "# a histogram .hist() is a great tool for quickly assessing the distribution of a variable.\n",
    "# you could also look at precip by changing the column name.\n",
    "plt.hist(cold['Sky Cond (oktas)'].values)\n",
    "plt.xlabel('Sky Cover (oktas)')\n",
    "plt.ylabel('Count')\n",
    "plt.title('Distribution of Sky Cover on Cold Days')\n",
    "plt.show()"
   ]
  },
  {
   "cell_type": "code",
   "execution_count": null,
   "metadata": {},
   "outputs": [],
   "source": [
    "# what about only warm days?\n",
    "warm = df2.loc[df2['Temp (˚C)']>0.0]\n",
    "warm"
   ]
  },
  {
   "cell_type": "code",
   "execution_count": null,
   "metadata": {},
   "outputs": [],
   "source": [
    "# are the sky conditions different?\n",
    "plt.hist(warm['Sky Cond (oktas)'].values)\n",
    "plt.xlabel('Sky Cover (oktas)')\n",
    "plt.ylabel('Count')\n",
    "plt.title('Distribution of Sky Cover on Warm Days')\n",
    "plt.show()"
   ]
  },
  {
   "cell_type": "markdown",
   "metadata": {},
   "source": [
    "pandas has some really helpful tricks when working with datetime objects, so we can select data based on the Dates column as well.\n",
    "\n"
   ]
  },
  {
   "cell_type": "code",
   "execution_count": null,
   "metadata": {
    "scrolled": true
   },
   "outputs": [],
   "source": [
    "# first, set the Dates column as an index for the DataFrame.\n",
    "df2_dates = df2.set_index(['Dates'])\n",
    "df2_dates"
   ]
  },
  {
   "cell_type": "markdown",
   "metadata": {},
   "source": [
    "Remember when I said the order of the loc command went [index,columns]? Now we will focus on the index conditions. Since we want all of the columns, we can skip this condition."
   ]
  },
  {
   "cell_type": "code",
   "execution_count": null,
   "metadata": {
    "scrolled": true
   },
   "outputs": [],
   "source": [
    "# now let's select summer months only.\n",
    "# reminder: summer months are June, July, August (06,07,08).\n",
    "summer = df2_dates.loc['2019-06-01':'2019-08-31'] \n",
    "summer"
   ]
  },
  {
   "cell_type": "code",
   "execution_count": null,
   "metadata": {},
   "outputs": [],
   "source": [
    "# and select fall dates to compare.\n",
    "# fall is definied as September, October, November (09,10,11).\n",
    "fall = df2_dates.loc['2019-09-01':'2019-11-30']\n",
    "fall"
   ]
  },
  {
   "cell_type": "markdown",
   "metadata": {},
   "source": [
    "What is the average temperature in the summer compared to the fall? What about the max and min precipitation"
   ]
  },
  {
   "cell_type": "code",
   "execution_count": null,
   "metadata": {},
   "outputs": [],
   "source": [
    "# take the average.\n",
    "summer_ave = summer['Temp (˚C)'].mean()\n",
    "fall_ave = fall['Temp (˚C)'].mean()\n",
    "\n",
    "# find the min value.\n",
    "summer_min = summer['Precip (mm)'].min()\n",
    "fall_min = fall['Precip (mm)'].min()\n",
    "\n",
    "# find the max value.\n",
    "summer_max = summer['Precip (mm)'].max()\n",
    "fall_max = fall['Precip (mm)'].max()"
   ]
  },
  {
   "cell_type": "code",
   "execution_count": null,
   "metadata": {},
   "outputs": [],
   "source": [
    "# print out the results. \n",
    "# we can put ints or floats into strings using a trick with %.\n",
    "# the .2f means print two floats after the decimal.\n",
    "# you can also use .d or .E. Try both of these out by editing the print statements. What happened?\n",
    "print('Summer average temp: %.2f' % summer_ave) \n",
    "print('Fall average temp: %.2f' % fall_ave)"
   ]
  },
  {
   "cell_type": "code",
   "execution_count": null,
   "metadata": {},
   "outputs": [],
   "source": [
    "print('Summer rainfall range: %.2f to %.2f' % (summer_min,summer_max))\n",
    "print('Fall rainfall range: %.2f to %.2f' % (fall_min,fall_max))"
   ]
  },
  {
   "cell_type": "markdown",
   "metadata": {},
   "source": [
    "Hey! We have negative numbers for our rainfall amount! That isn't possible. Well, we clearly missed something in our quality control. That's ok. We know how to fix that now using the loc command. "
   ]
  },
  {
   "cell_type": "markdown",
   "metadata": {},
   "source": [
    "#### More complex sorting and indexing\n",
    "What if we want to find the average temperature of each month? pandas has a great command for that also:"
   ]
  },
  {
   "cell_type": "code",
   "execution_count": null,
   "metadata": {},
   "outputs": [],
   "source": [
    "# we use groupby to group the data according to month. Then we tell pandas to take the mean of each group.\n",
    "month_aves = df2_dates.groupby(by=df2_dates.index.month).mean()\n",
    "month_aves"
   ]
  },
  {
   "cell_type": "markdown",
   "metadata": {},
   "source": [
    "Now we have the averages of everything for each month. What if we just want the temperature column? We can do this in two ways. 1) run groupby on the whole DataFrame then select the Temp column, or 2) run groupby on only the Temp column"
   ]
  },
  {
   "cell_type": "code",
   "execution_count": null,
   "metadata": {},
   "outputs": [],
   "source": [
    "month_aves = df2_dates.groupby(by=df2_dates.index.month).mean()\n",
    "temp1 = month_aves['Temp (˚C)']\n",
    "temp2 = df2_dates['Temp (˚C)'].groupby(by=df2_dates.index.month).mean()\n",
    "print(temp1)\n",
    "print('---------------------')\n",
    "print(temp2)"
   ]
  },
  {
   "cell_type": "markdown",
   "metadata": {},
   "source": [
    "Both methods produce the same result, so you can use either in the future!\n",
    "\n",
    "Now let's group by other features. What if we want to group based on hour? Let's try this by finding the maximum value at each hour."
   ]
  },
  {
   "cell_type": "code",
   "execution_count": null,
   "metadata": {},
   "outputs": [],
   "source": [
    "hour_max = df2_dates.groupby(by=df2_dates.index.hour).max()\n",
    "\n",
    "plt.plot(hour_max['Temp (˚C)'])\n",
    "plt.xlabel('Hour')\n",
    "plt.ylabel('Temperature (˚C)')\n",
    "plt.title('Hourly Average Temperature')\n",
    "plt.show()"
   ]
  },
  {
   "cell_type": "markdown",
   "metadata": {},
   "source": [
    "Weird, why is the temperature coldest at 11 am? Because the time is in [UTC](https://www.utctime.net)! We could fix that by making the DatetimeIndex time-zone aware and then converting the time zone."
   ]
  },
  {
   "cell_type": "code",
   "execution_count": null,
   "metadata": {},
   "outputs": [],
   "source": [
    "df2_localized = df2_dates.tz_localize(tz='UTC') # make the DataFrame time-zone aware\n",
    "df3 = df2_localized.tz_convert(tz='America/New_York') # convert from UTC to Central time\n",
    "# side note: tz_localize and tz_convert do not have inplace=True options.\n",
    "# we have to make new dfs, but we can just keep calling those copies df2."
   ]
  },
  {
   "cell_type": "code",
   "execution_count": null,
   "metadata": {
    "scrolled": true
   },
   "outputs": [],
   "source": [
    "# check how the Dates info changed here: \n",
    "print(\"UTC  :\",df2_localized.index[0:4].hour)\n",
    "print(\"Central time:\",df3.index[0:4].hour)"
   ]
  },
  {
   "cell_type": "code",
   "execution_count": null,
   "metadata": {},
   "outputs": [],
   "source": [
    "# try the hour groupby again\n",
    "hour_max = df3.groupby(by=df3.index.hour).max()\n",
    "plt.plot(hour_max['Temp (˚C)'])\n",
    "plt.xlabel('Hour')\n",
    "plt.ylabel('Temperature (˚C)')\n",
    "plt.title('Hourly Average Temperature in Eastern Time')\n",
    "plt.show()"
   ]
  },
  {
   "cell_type": "markdown",
   "metadata": {},
   "source": [
    "<a href=#home>Return to Top</a> "
   ]
  },
  {
   "cell_type": "markdown",
   "metadata": {},
   "source": [
    "## Knowledge Check 4. Pandas, Sorting, Indexing, and Selecting. \n",
    "\n",
    "Below is a code that has been adjusted from the <a href=#knowledgecheck3>'Sorting, indexing, and subselecting data' subsection</a>. Add one simple line of code below to remove negative liquid precip from df2 (from the \"Precip (mm)\" column), and work through understanding the rest of the code."
   ]
  },
  {
   "cell_type": "code",
   "execution_count": null,
   "metadata": {},
   "outputs": [],
   "source": [
    "# look at the data. Which method removed rows and which method removed columns with NaNs? \n",
    "# which method do you think makes more sense in this case?\n",
    "print(df2)\n",
    "\n",
    "# find the min precip value.\n",
    "annual_min_pcp = df2['Precip (mm)'].min()\n",
    "\n",
    "# find and the max precip value.\n",
    "annual_max_pcp = df2['Precip (mm)'].max()\n",
    "\n",
    "print('2019 minimum rainfall: %.2f mm/hr' % (annual_min_pcp))\n",
    "print('2019 maximum rainfall: %.2f mm/hr' % (annual_max_pcp))\n",
    "\n",
    "# we use groupby to group the data according to month. Then we tell pandas to take the mean of each group.\n",
    "month_aves = df2_dates.groupby(by=df2_dates.index.month).mean()\n",
    "month_aves\n",
    "print(month_aves)\n",
    "\n",
    "# this is in average pcp in mm/hr\n",
    "pcp1 = month_aves['Precip (mm)']\n",
    "# it would be more helpful to have it just mm/month\n",
    "# there are better, more specific ways to do this to make sure you are doing the math \n",
    "# correctly and are using the actual number of days in each month to scale up mm/hr to mm\n",
    "# per month for the month (Feb has 28 days, July has 31...but we'll do a rough average below)\n",
    "pcp2 = pcp1*24*30 \n",
    "\n",
    "print(len(pcp2))\n",
    "months = ['Jan', 'Feb', 'Mar', 'Apr', 'May', 'Jun', 'Jul', 'Aug', 'Sep', 'Oct', 'Nov', 'Dec']\n",
    "plt.bar(months, pcp1, color ='teal', \n",
    "        width = 0.4)\n",
    "plt.xlabel('Month')\n",
    "plt.ylabel('Precipitation (mm)')\n",
    "plt.title('Average(ish) monthly precipitation')\n",
    "plt.show()"
   ]
  },
  {
   "cell_type": "markdown",
   "metadata": {},
   "source": [
    "<a href=#home>Return to Top</a> "
   ]
  }
 ],
 "metadata": {
  "kernelspec": {
   "display_name": "Mel-qgis",
   "language": "python",
   "name": "qgis"
  },
  "language_info": {
   "codemirror_mode": {
    "name": "ipython",
    "version": 3
   },
   "file_extension": ".py",
   "mimetype": "text/x-python",
   "name": "python",
   "nbconvert_exporter": "python",
   "pygments_lexer": "ipython3",
   "version": "3.9.7"
  }
 },
 "nbformat": 4,
 "nbformat_minor": 4
}
