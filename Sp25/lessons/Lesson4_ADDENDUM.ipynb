{
 "cells": [
  {
   "cell_type": "markdown",
   "id": "0cf2a9d0-bd46-4000-9dac-46920b15ac79",
   "metadata": {},
   "source": [
    "## 4. (OPTIONAL) NetCDFS and XArray  <a name='bookmark4' />\n",
    "\n",
    "The following is cool to follow along and see what can be done, but it is a lot! We encourage reading through and running the cells to see what happens, but don't stress too much if you aren't completely following. For Bio students, it may be a bit more confusing because we aren't as familiar with the data - that's okay, the resulting images are pretty neat. :D\n",
    "\n",
    "If you want to keep going...so when Profs Spera and Yang were mere grad students, when Vine was the original TikTok, the iPhone 5s was released, and Thrift Shope by Macklemore and Ryan was unavoidable, numpy was the way big datasets were dealt with. But now, over a decade later, there's a fancier, newer package, called `xarray` - which is essentially built upon `numpy` - and it is quite the treat for dealing with netcdfs and geotiffs, and basically any gridded dataset where each pixel value also has a lat/lon value. "
   ]
  },
  {
   "cell_type": "code",
   "execution_count": null,
   "id": "43aca104-c070-4423-8e05-647721839e52",
   "metadata": {},
   "outputs": [],
   "source": [
    "# lets import some packages\n",
    "import xarray as xr\n",
    "import pandas as pd\n",
    "\n",
    "import matplotlib.pyplot as plt"
   ]
  },
  {
   "cell_type": "markdown",
   "id": "dac13b07-e81d-4d44-9f8b-7d81139f56b5",
   "metadata": {},
   "source": [
    "Because large gridded dataset files are huge, let's just download them directly. We can use a for loop to download more than one file, but let's work with one for right now. We'll be using NCEP's North American Regional Reanalysis (NARR) at the daily height of the planetary boundary layer (pbl) in 2023. More info here. The pbs is the lowest part of the atmosphere where winds are influened by friction and it's height is important for things like weather forecasting and air travel.\n",
    "\n",
    "When you run the cell below, you'll likely get a SerializationWarning. This warning is simply saying that Xarray is reading all instances of ± 9.96921e+36 as not a number (nan). We can check the validity of this on the NCEP info page. On the right hand side under Missing Data, missing values are indeed replaced with ± 9.96921e+36."
   ]
  },
  {
   "cell_type": "code",
   "execution_count": null,
   "id": "8f07973f-10ed-4804-94aa-970fd848240d",
   "metadata": {},
   "outputs": [],
   "source": [
    "# link to the file in noaa's repository\n",
    "file = 'https://psl.noaa.gov/thredds/fileServer/Datasets/NARR/Dailies/monolevel/hpbl.2024.nc'\n",
    "# use xarray to open the file\n",
    "data = xr.open_dataset('https://psl.noaa.gov/thredds/fileServer/Datasets/NARR/Dailies/monolevel/hpbl.2024.nc')\n",
    "\n",
    "# print the data\n",
    "# this might take a hot sec.\n",
    "#data"
   ]
  },
  {
   "cell_type": "markdown",
   "id": "c0c6b2aa-c728-4164-a38e-abfc92614772",
   "metadata": {},
   "source": [
    "Okay, fun! It doesn't look like a spreadsheet. Let's break this down.\n",
    "\n",
    "**Array Type**: The very first thing that is shown in the above print out is 'xarray.Dataset'. There are two main types of arrays that xarray can handle: DataArrays and Datasets. A Dataset is a collection of DataArrays. Imagine that a DataArray is a rubix cube. It is a 3D (or 2D or 4D or however shaped) array of data. A Dataset would therefore be a collection of rubix cubes. Imagine you ordered a shipment of 30 rubix cubes. Each individual rubix cube is a DataArray, and the box that all the cubes were shipped in is the Dataset. We can select one DataArray using its variable name. There are some data selection methods that only work on DataArrays, which is why it is important to distinguish between DataArrays and Datasets.\n",
    "\n",
    "**Dimensions**: The dimensions are the directions that the file has, or the names of the axes. There are four dimensions listed in this file: `time`, `x`, `y`, and `nbnds`. Since this is meteorological data, we can think of these as latitudes or rows and longitudes or columns. There are 277 y, which means there are 277 lines of latitude in the grid. There are 349 x, or 349 lines of longitude. The time dimension has 365 values. We selected daily means over a year. If we had selected data from 2020, the number would be 366 because 2020 was a leap year.\n",
    "\n",
    "**Coordinates**: Coordinates are labels for each step of a dimension. This particular file has three of the same coordinates as in dimensions: `x`, `y`, and `time`. However, `nbnds` is not in the coordinate list, and now there are `lat` and `lon` coordinates. Next to each coordinate is the number and name of the dimensions in that coord. Time, x, and y only have one dimension and those dimensions have the same name. Click on the piece of paper next to each of these coordinates on the right. What does it say? In comparison, `lat` and `lon` have two dimensions: (y,x). This is because any point on a map will have a unique latitude and longitude combination. Each grid point in this Dataset will also have a unique latitude and longitude combination, which is made up of x and y values.\n",
    "\n",
    "**Data Variables**: These are the variables of interest. This is the actual data in your file. For example, there is `hpbl` that might be of interest to us. In some Datasets, the data variables have unusual names, which can make understanding the data difficult. Xarray is great because it allows you to have metadata for each data variable, which might help to explain the data a little more. Click on the picture of a piece of paper next to the `hpbl` variable name. What does it say? Some of the data variables have useful metadata under this piece of paper.\n",
    "\n",
    "**Indexes**: Indexes are not always in an Xarray Dataset. Dimensions and coordinates are more useful in Xarray than the indexes, but you might find Datasets that include them. In this case, it is the three dimensions of the data (x,y, time) with a pandas series of the values for each dimension that is listed in the coords.\n",
    "\n",
    "**Attributes**: Finally, Xarray has more metadata stored in the Attributes. Some of this information can be helpful, such as the lat and lon corners. Knowing the shape and map projection is important for properly formatting the data for visualization.\n",
    "\n",
    "If you are interested in knowing just the attributes or just the coordinates or just the dims of an Xarray DataArray, you can call this information specifically."
   ]
  },
  {
   "cell_type": "code",
   "execution_count": null,
   "id": "d5e4dfeb-0791-4d1e-a0e8-24f16b1f78b1",
   "metadata": {},
   "outputs": [],
   "source": [
    "# get the dimensions of dataset\n",
    "data.dims"
   ]
  },
  {
   "cell_type": "code",
   "execution_count": null,
   "id": "a7674028-af86-44f4-807d-9831a24e6c8b",
   "metadata": {},
   "outputs": [],
   "source": [
    "# get the coordinates of the dataset\n",
    "data.coords"
   ]
  },
  {
   "cell_type": "code",
   "execution_count": null,
   "id": "53991de2-6c01-4bba-ac68-eca29fb3b641",
   "metadata": {},
   "outputs": [],
   "source": [
    "# get the attributes of the dataset\n",
    "data.attrs"
   ]
  },
  {
   "cell_type": "code",
   "execution_count": null,
   "id": "45abc5b6-5440-4f5f-9013-9399e96b5a7e",
   "metadata": {
    "scrolled": true
   },
   "outputs": [],
   "source": [
    "# get the variables in the dataset\n",
    "data.var"
   ]
  },
  {
   "cell_type": "markdown",
   "id": "a3ad6971-24f1-44e4-a527-18ba1b947214",
   "metadata": {},
   "source": [
    "### 4.1. Selecting and indexing data\n",
    "Earlier we said that DataArrays and Datasets are different. Indexing and selecting data is one of the places that distinguish DataArrays and Datasets. Right now, we have a Dataset. This is a collection of DataArrays. We can select one of these DataArrays from the whole Dataset using the variable name."
   ]
  },
  {
   "cell_type": "code",
   "execution_count": null,
   "id": "cfc8b3ff-1bda-497a-a757-996585106107",
   "metadata": {
    "scrolled": true
   },
   "outputs": [],
   "source": [
    "# get a data array from our datset\n",
    "var = data['hpbl']\n",
    "\n",
    "# print the data\n",
    "var"
   ]
  },
  {
   "cell_type": "markdown",
   "id": "c354eeb5-aacf-4640-b104-9fc7183d4549",
   "metadata": {},
   "source": [
    "Now that we have a DataArray, we can select the dimension of the data using the positions OR using names, so we can use either an integer or label. We'll try some examples.\n",
    "\n",
    "In terms of dimensions, the DataArray is set up `[time, x, y]`."
   ]
  },
  {
   "cell_type": "code",
   "execution_count": null,
   "id": "7922fba2-47d7-4e53-81e8-2e2fa8dfc221",
   "metadata": {
    "scrolled": true
   },
   "outputs": [],
   "source": [
    "# take the first time slice but all the values in the x and y dimension\n",
    "var[0,:,:]"
   ]
  },
  {
   "cell_type": "markdown",
   "id": "fabf2b4a-8990-4e35-91a0-1392abe6e9ac",
   "metadata": {},
   "source": [
    "We can also use `isel` (integer select) to get the same result."
   ]
  },
  {
   "cell_type": "code",
   "execution_count": null,
   "id": "04b9b776-4d27-4296-8907-178d7e9277fe",
   "metadata": {
    "scrolled": true
   },
   "outputs": [],
   "source": [
    "# take the first time slice using names & integers\n",
    "var.isel(time=0)"
   ]
  },
  {
   "cell_type": "markdown",
   "id": "81323bbb-a2f9-4873-bf61-df3b4ee76aad",
   "metadata": {},
   "source": [
    "We can also use dictionaries and keys."
   ]
  },
  {
   "cell_type": "code",
   "execution_count": null,
   "id": "190e17e9-49d7-44c3-960a-047aee8aaefe",
   "metadata": {
    "scrolled": true
   },
   "outputs": [],
   "source": [
    "var[dict(time=0)]"
   ]
  },
  {
   "cell_type": "markdown",
   "id": "77093654-9727-4cc2-825d-874ec7ca405b",
   "metadata": {},
   "source": [
    "So, there are multiple ways to select & index data. You can only do this with DataArrays. Datasets are more complicated, and can only be indxed using dimension names, not positions.\n",
    "\n",
    "We can also slice our data. \n",
    "A slice is what it sounds like: it is a piece of the data that we are cutting out from the whole. `slice(None, 3)` says \"Cut a piece of this data, starting at the 0th position (None) and ending at the 3rd position (3).\" We used the dimension name \"y\" to tell xarray which dimension to index on. So `y=slice(None,3)` is saying \"Cut a piece of the data along the y dimension, starting at the 0th position and ending at the 3rd position.\" This is how we cut out the first 3 y's of the data.\n",
    "In the cell below, we print out the dimensions of the original data and of some sliced data. Do the dimensions printed match your expectations?"
   ]
  },
  {
   "cell_type": "code",
   "execution_count": null,
   "id": "1e55dda7-d834-4458-97c7-89374afd3ffc",
   "metadata": {},
   "outputs": [],
   "source": [
    "print(data.dims)\n",
    "print(data[dict(y=slice(None,30))].dims)\n",
    "print(data[dict(x=slice(25,100))].dims)"
   ]
  },
  {
   "cell_type": "markdown",
   "id": "611f7a8f-d40c-412b-aca8-8fb91282c030",
   "metadata": {},
   "source": [
    "### 4.2. Net CDF Data Viz\n",
    "\n",
    "These data are the height of the planetary boundary layer in meters above the surface. The dimensions of the data are x, y, and time. We could plot this data as rows (latitudes) and columns (longitudes) using a grid of 349 by 277 or we could make line plots of average temperatures over one of these dimensions.\n",
    "\n",
    "What if we wanted to know the average temperature along a latitude or longitude? Perhaps we have the hypothesis that PBL height is higher at lower latitudes closer to the equator. How would we test this hypothesis? We could take the mean of the data along the axis of interest.\n",
    "\n",
    "Since the PBL data is formatted in a 3D array, and we want to take the average along two of these dimensions to make a line plot of height versus dimension. If we want to know the average at each latitude, then we must take the mean along the longitude and time dimensions. If this is hard to visualize, think back to a rubix cube. We want to know the average at each point along the y-axis (the rows). In order to do this, we must smush the x-axis, so take the average of the columns.\n",
    "\n",
    "Once again, we can using different indexing methods in Xarray to accomplish the same task. Now let's plot the averages, this time using Xarray plotting."
   ]
  },
  {
   "cell_type": "code",
   "execution_count": null,
   "id": "afd62116-fd87-4af3-a6f2-8c0224ef5bb4",
   "metadata": {
    "scrolled": true
   },
   "outputs": [],
   "source": [
    "# select the variableb\n",
    "hpbl = data['hpbl']\n",
    "\n",
    "hpbl"
   ]
  },
  {
   "cell_type": "code",
   "execution_count": null,
   "id": "b5921e4b-1852-498d-81ba-e7ab2d363056",
   "metadata": {},
   "outputs": [],
   "source": [
    "# find the mean of the data over time\n",
    "hpbl_timeavg = hpbl.mean(axis=0)\n",
    "hpbl_timeavg.dims"
   ]
  },
  {
   "cell_type": "code",
   "execution_count": null,
   "id": "c70330cf-234a-4dc4-a0ca-e02f6f09f8fa",
   "metadata": {},
   "outputs": [],
   "source": [
    "# find the mean of the rows/latitudes using dimension names\n",
    "hpbl_lat = hpbl_timeavg.mean('x')\n",
    "hpbl_lat.dims"
   ]
  },
  {
   "cell_type": "code",
   "execution_count": null,
   "id": "b79cb472-9b4a-43fa-97d7-d51f02867609",
   "metadata": {},
   "outputs": [],
   "source": [
    "fig = plt.figure(figsize = (10,6))\n",
    "hpbl_lat.plot()\n",
    "plt.show()"
   ]
  },
  {
   "cell_type": "code",
   "execution_count": null,
   "id": "f0e09aac-be21-4086-bcbf-a3ecd1450854",
   "metadata": {
    "scrolled": true
   },
   "outputs": [],
   "source": [
    "# xarray will do it's best to label the axes \n",
    "# but we can make them better\n",
    "\n",
    "fig = plt.figure(figsize=(10,6))\n",
    "\n",
    "degrees = 1 + hpbl_lat['y']/111139 # convert x to degrees latitude\n",
    "plt.plot(degrees,hpbl_lat)\n",
    "plt.title('Average Planetary Boundary Layer Height')\n",
    "# you can change the label data for your data\n",
    "\n",
    "plt.xlabel('Latitude (˚)',fontsize=12)\n",
    "plt.ylim((0,1000))\n",
    "plt.ylabel('Height (m)',fontsize=12)\n",
    "plt.show()"
   ]
  },
  {
   "cell_type": "markdown",
   "id": "2e435b24-bc55-4e83-bb35-cdfacdbfbff9",
   "metadata": {},
   "source": [
    "The planetary boundary layer height is higher at lower latitudes - in other words, the atmosphere is thicker closer to the equator. Why might that be? \n",
    "\n",
    "Also, what if we want to plot this gridded data on a map? We. Can. Do. It.\n",
    "You can find a bunch of fun data [here](https://www.ncei.noaa.gov/access/world-ocean-atlas-2018/) but let's look at sea surface temperature data from the summers between 2005-2017 from Argo float [buoys](https://argo.ucsd.edu/). "
   ]
  },
  {
   "cell_type": "code",
   "execution_count": null,
   "id": "40933d2b-34fa-4f21-b96c-fa381c47e00d",
   "metadata": {},
   "outputs": [],
   "source": [
    "import xarray as xr \n",
    "import pandas as pd\n",
    "import numpy as np\n",
    "\n",
    "import matplotlib.pyplot as plt\n",
    "from cartopy import crs, feature\n"
   ]
  },
  {
   "cell_type": "code",
   "execution_count": null,
   "id": "1a27a14b-dcb7-4d77-a122-050a43ecad53",
   "metadata": {},
   "outputs": [],
   "source": [
    "# link to the data\n",
    "file = 'https://www.ncei.noaa.gov/thredds-ocean/dodsC/ncei/woa/temperature/A5B7/1.00/woa18_A5B7_t15_01.nc'\n",
    "\n",
    "# why do we have to set decode_times = false here?\n",
    "# what happens if we don't?\n",
    "data = xr.open_dataset(file, engine='netcdf4', decode_times=False)\n",
    "\n",
    "data"
   ]
  },
  {
   "cell_type": "markdown",
   "id": "fb135c87-503d-43bb-a886-d60877d0ac8b",
   "metadata": {},
   "source": [
    "Let's select the data and then make a quick and dirty figure."
   ]
  },
  {
   "cell_type": "code",
   "execution_count": null,
   "id": "2447a705-a5d5-4fa8-bed1-76eb12d1a000",
   "metadata": {},
   "outputs": [],
   "source": [
    "temp = data['t_an']\n",
    "temp\n"
   ]
  },
  {
   "cell_type": "code",
   "execution_count": null,
   "id": "ed0d9701-53a4-4c21-acb8-5bbc863e1c75",
   "metadata": {
    "scrolled": true
   },
   "outputs": [],
   "source": [
    "# basic contour plot using lat, lons, for \n",
    "# the first time stamp at the surface (depth = 0)\n",
    "plt.contourf(temp['lon'], temp['lat'], temp[0,0,:,:])\n",
    "plt.show()"
   ]
  },
  {
   "cell_type": "markdown",
   "id": "f13c3a15-1ea9-4fe4-8ae9-f0dd0a928b31",
   "metadata": {},
   "source": [
    "Now that we've looked at the entire dataset area, we can zoom in on a particular section. There are a few ways to do this, but we'll practice the easiest first.\n",
    "\n",
    "The easiest method to zoom into an area on a map is to only plot that area with cartopy. This is fast and useful for making a map for presentations, but there are some downsides.\n",
    "\n",
    "* First, this method does not remove the rest of the data, it just hides it from our view. If you wanted to find the average chlorophyll-a concentration in the zoomed in area, you could not calculate it from the map because the rest of the data actually still exists.\n",
    "* Second, outliers in the data outside the zoomed in area might affect the colorbar scale of the displayed map. So you could have a map area with concentrations all below 20 mg/m 3, but a larger concentration elsewhere in the dataset will skew the colorbar scale and you won't be able to see the low concentrations clearly.\n",
    "* Finally, for really big datasets, it might take a while to plot. You're still technically plotting all the data, it just isn't displayed in the figure area. So if the dataset is really big, you're wasting time plotting data that you don't actually see."
   ]
  },
  {
   "cell_type": "code",
   "execution_count": null,
   "id": "e8c7e9df-d848-4452-a814-43225265790c",
   "metadata": {},
   "outputs": [],
   "source": [
    "# Let's choose an area of interest\n",
    "latmin = 37\n",
    "latmax = 45\n",
    "lonmin = -65\n",
    "lonmax = -75\n",
    "\n",
    "# set extent\n",
    "extent = [lonmin, lonmax, latmin, latmax]\n",
    "\n",
    "# set the projection - make sure it matches that of the dataset\n",
    "proj = crs.PlateCarree()\n",
    "print(proj)"
   ]
  },
  {
   "cell_type": "code",
   "execution_count": null,
   "id": "7096498c-ff8e-43f9-a366-c78d4a3591b1",
   "metadata": {},
   "outputs": [],
   "source": [
    "# We mentioned this above w. the point data, but with\n",
    "# gridded data, you have to make a grid of the coordinates\n",
    "\n",
    "lats = temp['lat']\n",
    "lons = temp['lon']\n",
    "\n",
    "# make the gred\n",
    "XX,YY = np.meshgrid(lons,lats)"
   ]
  },
  {
   "cell_type": "code",
   "execution_count": null,
   "id": "8497a894-0d00-4d29-bd2d-bcff337d2992",
   "metadata": {
    "scrolled": true
   },
   "outputs": [],
   "source": [
    "# create a pyplot figure\n",
    "fig = plt.figure(figsize=(8,10))\n",
    "# create a new axes instance with the map information\n",
    "ax = fig.add_subplot(1,1,1,projection=proj)\n",
    "ax.set_extent(extent)\n",
    "# add gridlines\n",
    "gl = ax.gridlines(crs.PlateCarree(),draw_labels=True,linewidth=1,color='gray',alpha=0.5,linestyle='--')\n",
    "# add features\n",
    "ax.add_feature(feature.STATES)\n",
    "ax.add_feature(feature.RIVERS)\n",
    "im = plt.contourf(XX,YY,temp[0,0,:,:],cmap='turbo',transform=proj)\n",
    "plt.colorbar(im,orientation='horizontal',label='Temperature (˚C)')\n",
    "plt.show()"
   ]
  },
  {
   "cell_type": "markdown",
   "id": "c2722ac2-7ae4-4530-9286-4654a8d22a3c",
   "metadata": {},
   "source": [
    "What do you notice about this figure? What about the colorbar scale? What could make this figure better?\n",
    "\n",
    "The figure above has a colorbar scale that goes from -5 to 40 ˚C, even though the data in the figure does not seem to go this high or low. This is one of the problems with this plotting method. Your colorbar scale may be different if you used a different date of data.\n",
    "\n",
    "Instead of plotting all the data but hiding most of it, we can instead select a subsection of the data using slicing. This method takes a few more steps because you need to know the area of interest. However, there are several benefits such as being able to really focus on the actual area of interest."
   ]
  },
  {
   "cell_type": "code",
   "execution_count": null,
   "id": "b1c4d9ad-74b7-484f-9217-75bfd1005d22",
   "metadata": {
    "scrolled": true
   },
   "outputs": [],
   "source": [
    "# slice the data using these limits\n",
    "subset = temp.sel(lat=slice(latmin,latmax),lon=slice(lonmax,lonmin))\n",
    "\n",
    "# check out the data and the change in dimensions\n",
    "subset"
   ]
  },
  {
   "cell_type": "code",
   "execution_count": null,
   "id": "fa9970c2-0144-4de3-9d30-3327856c3ea4",
   "metadata": {},
   "outputs": [],
   "source": [
    "# in order to plot a subset of the data on the map, \n",
    "# we must make a grid of the coordinates\n",
    "# first, get a list of each coordinate\n",
    "lats = subset['lat']\n",
    "lons = subset['lon']\n",
    "\n",
    "# then make a grid\n",
    "XX,YY = np.meshgrid(lons,lats)"
   ]
  },
  {
   "cell_type": "code",
   "execution_count": null,
   "id": "6db6f68a-d11d-4fcb-ae90-f10f6bc9a9dd",
   "metadata": {
    "scrolled": true
   },
   "outputs": [],
   "source": [
    "# create a pyplot figure\n",
    "fig = plt.figure(figsize=(8,10))\n",
    "# create a new axes instance with the map information\n",
    "ax = fig.add_subplot(1,1,1,projection=proj)\n",
    "ax.set_extent(extent)\n",
    "# add gridlines\n",
    "gl = ax.gridlines(crs.PlateCarree(),draw_labels=True,linewidth=1,color='gray',alpha=0.5,linestyle='--')\n",
    "# add features\n",
    "ax.add_feature(feature.STATES)\n",
    "ax.add_feature(feature.RIVERS)\n",
    "im = plt.contourf(XX,YY,subset[0,0,:,:],cmap='turbo',transform=proj)\n",
    "plt.colorbar(im,orientation='horizontal',label='Temperature (˚C)')\n",
    "plt.show()"
   ]
  },
  {
   "cell_type": "markdown",
   "id": "8c6c3e05-c5f5-4435-85d1-581755cd66d2",
   "metadata": {},
   "source": [
    "The code ran faster because we sliced the data. \n",
    "But, we still have giant empty spaces because the data is at a 1 deg by 1 deg (100 km by 100 km) spatial resolution."
   ]
  },
  {
   "cell_type": "markdown",
   "id": "337c8170-e23f-42ec-8133-f8cfbe647e19",
   "metadata": {},
   "source": [
    "If you want to try one more plot you can - if not, no big! Here we'll use annual average density on a quarter degree (1/4 deg ~ 25 km) grid)."
   ]
  },
  {
   "cell_type": "code",
   "execution_count": null,
   "id": "b152a69e-aaaf-4192-aa3a-8d3d187e3efb",
   "metadata": {
    "scrolled": true
   },
   "outputs": [],
   "source": [
    "file2 = 'https://www.ncei.noaa.gov/thredds-ocean/dodsC/ncei/woa/density/decav/0.25/woa18_decav_I00_04.nc'\n",
    "\n",
    "data2 = xr.open_dataset(file2,engine='netcdf4',decode_times=False)\n",
    "\n",
    "data2"
   ]
  },
  {
   "cell_type": "code",
   "execution_count": null,
   "id": "3ce7451c-39aa-46d3-b805-34a49bad3ff7",
   "metadata": {
    "scrolled": true
   },
   "outputs": [],
   "source": [
    "# get the data we want\n",
    "dens = data2['I_an'][0,0,:,:]\n",
    "dens"
   ]
  },
  {
   "cell_type": "code",
   "execution_count": null,
   "id": "5bb75f20-b47e-4e42-89fa-fc0c3db6c51e",
   "metadata": {},
   "outputs": [],
   "source": [
    "# get our lats and lons again\n",
    "latmin = 37\n",
    "latmax = 45\n",
    "lonmin = -65\n",
    "lonmax = -75\n",
    "\n",
    "# get the subset\n",
    "subset = dens.sel(lat=slice(latmin,latmax),lon=slice(lonmax,lonmin))\n",
    "\n",
    "# set the extent of our box\n",
    "extent = [lonmin,lonmax,latmin,latmax]\n",
    "\n",
    "# set the right map projection\n",
    "proj = crs.PlateCarree()"
   ]
  },
  {
   "cell_type": "code",
   "execution_count": null,
   "id": "5d57d139-ba0d-41e4-9e32-e2188e7c4a01",
   "metadata": {},
   "outputs": [],
   "source": [
    "# in order to plot a subset of the data on the map, we must make a grid of the coordinates\n",
    "# first, get a list of each coordinate\n",
    "lats = subset['lat']\n",
    "lons = subset['lon']\n",
    "\n",
    "# then make a grid\n",
    "XX,YY = np.meshgrid(lons,lats)"
   ]
  },
  {
   "cell_type": "code",
   "execution_count": null,
   "id": "1ad0f339-4cab-4b8f-a798-0ca54b9c4c05",
   "metadata": {
    "scrolled": true
   },
   "outputs": [],
   "source": [
    "# create a pyplot figure\n",
    "fig = plt.figure(figsize=(8,10))\n",
    "# create a new axes instance with the map information\n",
    "ax = fig.add_subplot(1,1,1,projection=proj)\n",
    "ax.set_extent(extent)\n",
    "# add gridlines\n",
    "gl = ax.gridlines(crs.PlateCarree(),draw_labels=True,linewidth=1,color='gray',alpha=0.5,linestyle='--')\n",
    "# add features\n",
    "ax.add_feature(feature.STATES)\n",
    "ax.add_feature(feature.RIVERS)\n",
    "im = plt.contourf(XX,YY,subset,cmap='BuPu',transform=proj)\n",
    "plt.colorbar(im,orientation='horizontal',label='Density $(kg/m^{3})$')\n",
    "plt.show()"
   ]
  },
  {
   "cell_type": "markdown",
   "id": "b8e04cfc-fa56-41ec-b6d7-ce5450982cec",
   "metadata": {},
   "source": [
    "Let's zoom out! "
   ]
  },
  {
   "cell_type": "code",
   "execution_count": null,
   "id": "f958f979-00a8-448c-9ed9-2c7cad177207",
   "metadata": {},
   "outputs": [],
   "source": [
    "lats = dens['lat']\n",
    "lons = dens['lon']\n",
    "\n",
    "XX,YY = np.meshgrid(lons,lats)"
   ]
  },
  {
   "cell_type": "code",
   "execution_count": null,
   "id": "53a0a888-1087-4397-802f-792b06ae1899",
   "metadata": {
    "scrolled": true
   },
   "outputs": [],
   "source": [
    "# create a pyplot figure\n",
    "fig = plt.figure(figsize=(8,10))\n",
    "# create a new axes instance with the map information\n",
    "ax = fig.add_subplot(1,1,1,projection=proj)\n",
    "ax.set_extent([-180,180,-90,90])\n",
    "# add gridlines\n",
    "gl = ax.gridlines(crs.PlateCarree(),draw_labels=True,linewidth=1,color='gray',alpha=0.5,linestyle='--')\n",
    "# add features\n",
    "ax.add_feature(feature.LAND,color='grey',alpha=0.3)\n",
    "ax.add_feature(feature.RIVERS)\n",
    "im = plt.contourf(XX,YY,dens,cmap='BuPu',transform=proj)\n",
    "plt.colorbar(im,orientation='horizontal',label='Density $(kg/m^{3})$')\n",
    "plt.show()"
   ]
  },
  {
   "cell_type": "markdown",
   "id": "c9b69010-7d3e-4e4d-bb5c-340b9611e8ee",
   "metadata": {},
   "source": [
    "It appears that here things have a density of 0, which is impossible? Let's see what the minimum density is."
   ]
  },
  {
   "cell_type": "code",
   "execution_count": null,
   "id": "e39258e7-048a-4ee9-812e-ca859eb3857e",
   "metadata": {
    "scrolled": true
   },
   "outputs": [],
   "source": [
    "dens.min()"
   ]
  },
  {
   "cell_type": "markdown",
   "id": "f51acf9b-7aa9-4800-a99d-9e230920acc4",
   "metadata": {},
   "source": [
    "Okay, at least the minimum isn't actually zero, but it is really small. This highlights the importance of knowing your data. These density values we've been using are not absolute densities, they are sigma-t densities. They are the difference from  1000kg/m3, which is why we can have such small values. In reality, the density values should be 1000 + dens."
   ]
  },
  {
   "cell_type": "code",
   "execution_count": null,
   "id": "5d280c3e-2e10-49f3-89f7-f3b06a9e002a",
   "metadata": {},
   "outputs": [],
   "source": [
    "# create a pyplot figure\n",
    "fig = plt.figure(figsize=(8,10))\n",
    "# create a new axes instance with the map information\n",
    "ax = fig.add_subplot(1,1,1,projection=proj)\n",
    "ax.set_extent([-180,180,-90,90])\n",
    "# add gridlines\n",
    "gl = ax.gridlines(crs.PlateCarree(),draw_labels=True,linewidth=1,color='gray',alpha=0.5,linestyle='--')\n",
    "# add features\n",
    "ax.add_feature(feature.LAND,color='grey',alpha=0.3)\n",
    "ax.add_feature(feature.RIVERS)\n",
    "im = plt.contourf(XX,YY,dens+1000,cmap='BuPu',transform=proj)\n",
    "plt.colorbar(im,orientation='horizontal',label='Density $(kg/m^{3})$')\n",
    "plt.show()"
   ]
  },
  {
   "cell_type": "markdown",
   "id": "529f6ccc-b84d-4776-acdc-f5195474204b",
   "metadata": {},
   "source": [
    "We done."
   ]
  },
  {
   "cell_type": "markdown",
   "id": "a26d1239-94b4-4d95-9c33-7b412dc82131",
   "metadata": {},
   "source": [
    "<a href=#home>Return to Top</a> "
   ]
  }
 ],
 "metadata": {
  "kernelspec": {
   "display_name": "Mel-qgis",
   "language": "python",
   "name": "qgis"
  },
  "language_info": {
   "codemirror_mode": {
    "name": "ipython",
    "version": 3
   },
   "file_extension": ".py",
   "mimetype": "text/x-python",
   "name": "python",
   "nbconvert_exporter": "python",
   "pygments_lexer": "ipython3",
   "version": "3.9.7"
  }
 },
 "nbformat": 4,
 "nbformat_minor": 5
}
