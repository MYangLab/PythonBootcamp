{
 "cells": [
  {
   "cell_type": "markdown",
   "metadata": {},
   "source": [
    "## Exercise 1.1: Final installation check.\n",
    "If you have not logged into Spydur or gotten Python and the Jupyter Notebook to work, then that is the first step! Please let your instructor know ASAP if this is an issue!\n"
   ]
  },
  {
   "cell_type": "markdown",
   "metadata": {},
   "source": [
    "## Exercise 1.2: Organizing and reviewing Linux\n",
    "A. If you haven't already, make a folder called PythonBootcamp/ in your home directory. Make sure there is an exercises/ folder, a lessons/ folder, a resources/ folder, and a solutions/ fol. Put the original set of lessons you download into the lessons/ folder, and original exercises into the exercises/ folder. Try using `mv`.  \n",
    "\n",
    "B. From the `SGDPinfo.txt` file, find the Han and French - tell me the number of samples for each, the region they are from, and number of males and females, and who contributed their information. \n"
   ]
  },
  {
   "cell_type": "markdown",
   "metadata": {},
   "source": [
    "## Exercise 1.3: Cerevisiae chromosomes\n",
    "A. Go to [this link](http://sgd-archive.yeastgenome.org/sequence/S288C_reference/chromosomes/fasta/) and download each of the files ending in .fsa. These are the chromosomes of the yeast, S. cerevisiae. You may have to right-click these files depending on your web browser (and be aware, some browsers will save your file with a .txt extension). Don't want to individually save each or want to exercise more Linux skills? Try the following from within your `resources/` folder. \n",
    "\n",
    "```bash\n",
    "curl http://sgd-archive.yeastgenome.org/sequence/S288C_reference/chromosomes/fasta/chr01.fsa > chr01.fsa\n",
    "```\n",
    "\n",
    "Note that with `curl`, we grabbed a single file. We aren't getting into this now, but it is possible to write loops in Linux to grab many files with similar names. Try: \n",
    "```bash\n",
    "for i in `seq 1 9`; do curl http://sgd-archive.yeastgenome.org/sequence/S288C_reference/chromosomes/fasta/chr0${i}.fsa > chr0${i}.fsa; done\n",
    "```\n",
    "This should give you chromosomes 1-9. \n",
    "\n",
    "B. Can you modify the script to give you chromosomes 10-16 as well? you could try to use a Linux for loop - want to give it a try? Let me know if you're doing this and want to try it out - I can help you work through the logic of what to try. We do not need to grab the mitochondrial genome (chrmt), unless you want to look at that too. \n",
    "\n",
    "C. Make a single whole genome file called \"cerevisiae_genome.fasta\" by combining (concatenating) all the files into one file.\n",
    "\n",
    "D. Count the chromosomes in the whole genome file using commands from the lecture. \n",
    "HINT 1: Each of the original FASTA files contains a single chromosome; \n",
    "HINT 2: Look at the additional options for **grep** - is there any that can count numbers of lines containing a search term? What about finding lines that do NOT contain a particular search term?).\n",
    "\n",
    "E. Look up the command 'wc' and find out what it does. Get size of total genome. (HINT: The size of the genome can be determined by counting the number of characters not on the same line as a fasta header).\n"
   ]
  },
  {
   "cell_type": "markdown",
   "metadata": {},
   "source": [
    "## Exercise 1.4: Cerevisiae genes\n",
    "A. Download a [list of cerevisiae chromosome features](http://sgd-archive.yeastgenome.org/curation/chromosomal_feature/SGD_features.tab)\n",
    "\n",
    "You can also use `curl` - the link is: http://sgd-archive.yeastgenome.org/curation/chromosomal_feature/SGD_features.tab\n",
    "\n",
    "Below is a description of what is in this TAB file. There's probably a lot you don't understand - it's okay! Part of learning bioinformatics is learning the biology you need to understand these files well enough to get what you want. Try to figure out what information generally this file shows (look at columns and what type of information is found in the file for each column), and focus on what I specifically request in B-D and see if certain columns are more relevant than others. Ask if you're confused!\n",
    "\n",
    "**Columns within sgd_features.tab:**\n",
    "1. primary standfor gene database id (sgdid) (mandatory)\n",
    "2. feature type (mandatory)\n",
    "3. feature qualifier (optional)\n",
    "4. feature name (optional)\n",
    "5. standard gene name (optional)\n",
    "6. alias (optional, multiples separated by |)\n",
    "7. parent feature name (optional)\n",
    "8. secondary sgdid (optional, multiples separated by |)\n",
    "9. chromosome (optional)\n",
    "10. start_coordinate (optional)\n",
    "11. stop_coordinate (optional)\n",
    "12. strand (optional)\n",
    "13. genetic position (optional)\n",
    "14. coordinate version (optional)\n",
    "15. sequence version (optional)\n",
    "16. description (optional)\n",
    "\n",
    "B. Count the total number of genes (HINT 1: ORF indicates the entry is a gene).\n",
    "\n",
    "C. Count only verified genes. Count only uncharacterized genes.\n",
    "\n",
    "D. What other types of genes are in this file? For this, you may want to use the **sort -u** command, which will sort the input alphabetically, then take only unique lines.\n"
   ]
  },
  {
   "cell_type": "markdown",
   "metadata": {},
   "source": [
    "## Exercise 1.5: Star-struck\n",
    "From the same directory as your fasta files, see if you can predict what each of these commands will do (then try it):\n",
    "```bash\n",
    "head *\n",
    "head *.fsa\n",
    "head chr1*.fsa\n",
    "head chr1*\n",
    "head chr*1.fsa\n",
    "head chr*1\n",
    "grep 'S288C' *\n",
    "grep 'S288C' *.fsa\n",
    "grep 'BK006935.2' *\n",
    "cat * | grep 'BK006935.2' (what's the difference in the output between this one and the last one?)\n",
    "head *.fsa | grep 'chr'\n",
    "head *.fsa | grep 'chromosome' (what's the difference in the output between this one and the last one?)\n",
    "```\n"
   ]
  },
  {
   "cell_type": "markdown",
   "metadata": {},
   "source": [
    "## Exercise 1.6: Moving beyond the lecture\n",
    "A. Use Google and any other references you want to find a command that tells you how much disk space you have left.\n",
    "\n",
    "B. Use the **man** command to see how it works.\n",
    "\n",
    "C. How much space is left on your system? Find the option that makes the command output in terms of gigabytes and megabytes - the 'human-readable' form.\n"
   ]
  },
  {
   "cell_type": "markdown",
   "metadata": {
    "collapsed": true
   },
   "source": [
    "## Exercise 1.7: Getting real and old (Challenge question - this may be difficult!)\n",
    "A. Let's look at an ancient DNA dataset. Go to [the Reich Lab website](https://reich.hms.harvard.edu/datasets), scroll down, and find the \"Genotypes of individuals\" dataset from the Fu et al. (2016) study. Make a directory titled `fuetal2016/` in your `resources/` directory and download the dataset into this folder. \n",
    "\n",
    "B. Use the command **unzip** to unzip the downloaded file. \n",
    "\n",
    "C. There are two sets of data, the **51.2.2M** and the **archaic**. These represent two different panels of SNPs that were captured for this study. Review the README for more information. The **.ind** file lists all the individuals, showing their ID, sex, and name. The **.snp** file lists the set of SNPs used (each row is one SNP, with information on the SNP ID, chromosome, genetic position, physical position, and the two alleles observed in humans. The **.geno** file shows each individual's genotype, with each row representing a SNP and each column representing an individual. The possible values are 0, 1, 2 and 9, where x = 0, 1 and 2 represent the number of the first allele observed in the individual (with 2-x being the number of the second allele observed in the individual) and 9 indicates missing data. \n",
    "\n",
    "Use a set of Unix commands to determine the number of males, females and individuals of unspecified sex in each dataset ( **51.2.2M** and **archaic**).\n",
    "\n",
    "D. All the included data are for ancient individuals, who may have missing data. What are the total number of SNPs used in each dataset? How many SNPs have no data for the UstIshim individual? For the Malta1 individual? For the Oase1 individual? For Vestonice16 or Loschbour?\n",
    "\n",
    "E. While this dataset is labeled as providing genotype information, is that actually true? A genotype implies you have knowledge of both alleles at each SNP (you know something about heterozygosity). Is that true here? If so, you would expect that for each individual, there would be at least one SNP with a heterozygous genotype. How would you figure out if you have at least one SNP per individual with a heterozygous genotype? Try this out for the individuals named in part D). \n"
   ]
  },
  {
   "cell_type": "markdown",
   "metadata": {},
   "source": [
    "## Exercise 1.8: Lazy...fractionator\n",
    "Let's move on to python! Set two variables **x** and **y** to any two numbers. Print out x/y in both fraction and decimal form.\n",
    "\n",
    "Try it out by inputting some numbers - check for any errors and record them as you go. \n"
   ]
  },
  {
   "cell_type": "markdown",
   "metadata": {},
   "source": [
    "## Exercise 1.9: Temperature confusion\n",
    "A. Americans are a bit silly and use the Fahrenheit system, unlike most of the rest of the world. Thus, we often have trouble understanding the temperature when written in Celsius. Write me a script where you set a variable to a temperature in Celsius and it prints out the temperature in Fahrenheit. Then, write me a second script where it does the reverse. (Do this in a cell in the notebook)\n",
    "\n",
    "B. Write these two scripts to two files labeled *C2F.py* and *F2C.py*. Run these two programs through the Terminal.\n"
   ]
  },
  {
   "cell_type": "markdown",
   "metadata": {},
   "source": [
    "## Exercise 1.10\n",
    "\n",
    "Let's do some banking. You have a bank account that will accrue continuous compound interest. If you have a growth rate of 3% and you put in $10,000, how much should you have in five years? Set your variables and calculate your final amount (P).\n",
    "\n",
    "A. First, let's figure out the answer using the simple compound interest equation below. You should be able to do this using only the Python operations you learned in Lesson 1. \n",
    "\n",
    "P = C*(1 + r)^t\n",
    "\n",
    "B. Now, let's try compounding interest continuously (see equation below). You may find this link helpful: https://www.educative.io/edpresso/calculating-the-exponential-value-in-python \n",
    "You may not understand everything there, but look at #3 and try to follow the code they use and see if you can get an answer instead of an error. \n",
    "\n",
    "P = C*e^(rt)\n"
   ]
  },
  {
   "cell_type": "markdown",
   "metadata": {},
   "source": [
    "You've finished all exercises! Take a moment to jot down some questions/comments to yourself - consider the following:\n",
    "\n",
    "1. What do you feel comfortable with?\n",
    "2. What are questions you still have?\n",
    "3. What types of problems would you like more of?\n",
    "4. About how long did Lesson 1 take you? "
   ]
  }
 ],
 "metadata": {
  "kernelspec": {
   "display_name": "Python 3 (ipykernel)",
   "language": "python",
   "name": "python3"
  },
  "language_info": {
   "codemirror_mode": {
    "name": "ipython",
    "version": 3
   },
   "file_extension": ".py",
   "mimetype": "text/x-python",
   "name": "python",
   "nbconvert_exporter": "python",
   "pygments_lexer": "ipython3",
   "version": "3.9.13"
  }
 },
 "nbformat": 4,
 "nbformat_minor": 1
}
