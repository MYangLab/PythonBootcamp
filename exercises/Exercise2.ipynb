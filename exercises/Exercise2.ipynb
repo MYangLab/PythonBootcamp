{
 "cells": [
  {
   "cell_type": "markdown",
   "metadata": {},
   "source": [
    "## Exercise 2.1: The Greeter\n",
    "A. Write a program that asks for the user's name and tells them hello. Try it first in a cell but then write it to a file and execute it in the Terminal.\n",
    "\n",
    "B. Add on to the script, making it ask for your year of birth. Make the script compute your age and print it in the following format: \n",
    "```\n",
    "Since you were born in 1988, your age is 28.\n",
    "```\n"
   ]
  },
  {
   "cell_type": "markdown",
   "metadata": {
    "collapsed": true
   },
   "source": [
    "## Exercise 2.2: Numbers, numbers everywhere\n",
    "A. Take Exercise 1.8 and re-write it so that the two numbers are inputted into the program rather than directly set to a variable. Have it print the fraction and decimal to screen as normal. Figure out how to make this program fail - how many can you come up with?\n",
    "\n",
    "**Exercise 1.8 Lazy...fractionator:** Set two variables **x** and **y** to any two numbers. Print out x/y in both fraction and decimal form.\n",
    "\n",
    "Try it out by inputting some numbers - check for any errors and record them as you go. \n",
    "\n",
    "B. Write a script where you read five numbers in. Print out their sum and mean.\n",
    "\n",
    "C. Enter two numbers and store these in two variables called **input1** and **input2**. Swap the values of the two variables so **input1** and **input2** switch values. However, do this in only one line of code and without introducing new variables.\n",
    "\n",
    "D. CHALLENGE: First, ask the user to specify a number of digits (e.g. 1-digit numbers, 2-digit numbers, etc.). Then, Ask the user to supply five numbers of that many digits separated by spaces. Parse these numbers out, and calculate sum and mean as in Exercise 2.2B. Try doing this without using any additional variables! (Use only the one that contains the string that you read in.)\n"
   ]
  },
  {
   "cell_type": "markdown",
   "metadata": {},
   "source": [
    "## Exercise 2.3: Crazy strings\n",
    "Reproduce the triple-quoted string from earlier\n",
    "```python\n",
    "s = '''hello \"world\", if that is your real name. \n",
    "That's World, to you'''\n",
    "```\n",
    "in just one string using single or double quotes. Make sure you have the line break and all the quotes and apostrophes in there!\n"
   ]
  },
  {
   "cell_type": "markdown",
   "metadata": {},
   "source": [
    "## Exercise 2.4: New Data Structures\n",
    "\n",
    "For each of the lines below, add comments detailing what each line in the script above is doing. Then run these commands and make sure you are correct. \n"
   ]
  },
  {
   "cell_type": "code",
   "execution_count": null,
   "metadata": {},
   "outputs": [],
   "source": [
    "L = [1,2,3] + [4,5,6]\n",
    "print (L, L[:], L[:0], L[-2], L[-2:])\n",
    "print ()\n",
    "\n",
    "L.reverse()\n",
    "print (L)\n",
    "print ()\n",
    "\n",
    "L.sort()\n",
    "print (L)\n",
    "print ()\n",
    "\n",
    "idx = L.index(4)\n",
    "print (idx)\n",
    "print ()\n",
    "\n",
    "print ({'a':1, 'b':2}['b'])\n",
    "print ()\n",
    "\n",
    "D = {'x':1, 'y':2, 'z':3}\n",
    "D['w'] = 0\n",
    "print (D['x'] + D['w'])\n",
    "print (D.keys(), D.values(), 'z' in D)"
   ]
  },
  {
   "cell_type": "markdown",
   "metadata": {},
   "source": [
    "## Exercise 2.5: Meet your classmates!\n",
    "Take a moment to list FIVE of your friends' names. Make a list (called **friends**) containing their names. \n",
    "\n",
    "A. What happens when you try to index out of bounds (eg. __friends[15]__)?\n",
    "\n",
    "B. What about slicing out of bounds (eg. __friends[-100:100]__, __friends[30:50]__, __friends[2:10]__)?\n",
    "\n",
    "C. What happens when you try to extract a sequence in reverse--with the lower bound greater than the higher bound (e.g. __friends[3:1]__)? What happens when you try assigning __friends[3:1] = ['?']__? \n",
    "\n",
    "D. Add your own name to the middle of the list by indexing, then add my name to the list ('Mel') by using the __insert()__ method that we discussed in class. See what happens if you use indexing to add the string 'AHHH' to the list using the index __[3:5]__ or __[4:2]__.\n"
   ]
  },
  {
   "cell_type": "markdown",
   "metadata": {},
   "source": [
    "## Exercise 2.6: Slicing\n",
    "A. Set a variable **x** to the string \"Yang Lab\" Apply the function **list**. What happens to the string?\n",
    "\n",
    "B. Now set the outcome of 2.6A to a new variable **y**. What happens in each of the cases below? \n",
    "```python\n",
    "print ('1', y)\n",
    "print ('2', y[2:])\n",
    "print ('3', y[:4])\n",
    "print ('4', y[1:3])\n",
    "print ('5', y[-1:])\n",
    "print ('6', y[-2:])\n",
    "print ('7', y[:-1])\n",
    "print ('8', y[1:4:2])\n",
    "print ('9', y[::-1])\n",
    "```\n",
    "\n",
    "C. Take this list of numbers: \n",
    "```python\n",
    "mylst = [0,1,2,3,4,5,6,7,8,9]\n",
    "```\n",
    "Using slicing, print a list of only even numbers, only odd numbers, and only numbers divisible by four. \n"
   ]
  },
  {
   "cell_type": "markdown",
   "metadata": {},
   "source": [
    "## Exercise 2.7: Make some friends\n",
    "For each friend in Exercise 2.5, we'll make a list of their favorite food, activity, and the month they were born.  Create a dictionary to store this information, making their names keys and their the list of information on them values. \n",
    "\n",
    "A. What happens if you try to index a non-existent key (e.g. `print (D['Terry'])`)?\n",
    "\n",
    "B. What happens if you try to assign to a non-existent key (e.g. `D['Terry'] = '?'`)?\n",
    "\n",
    "C. How does this compare to out-of-bound assignments for lists?\n",
    "\n",
    "D. Write the code to print the names of any classmates with a birthday in July (with no errors produced) - think about combining the **for loop** and the **if statement**. \n"
   ]
  },
  {
   "cell_type": "markdown",
   "metadata": {},
   "source": [
    "## Exercise 2.8: Sets, sets, sets!\n",
    "\n",
    "This lesson, you learned about many ways to group data. Here is one more, Sets!  Like a set in mathematics, it has a bunch of elements with no repeats.  To build a set, you pass in a list, and it will automatically remove duplicates.\n",
    "```python\n",
    "myset = set([1,1,2,3,5,8])\n",
    "\n",
    "set([8, 1, 2, 3, 5])\n",
    "```\n",
    "\n",
    "Google \"python Sets\" and see if you can learn a bit more about them. They have many methods and we will learn a few. \n",
    "\n",
    "Take the following two sets:\n",
    "```python\n",
    "beijing_unis = {\"Beida\",\"CAS\",\"Qinghua\",\"Renmin\"}\n",
    "china_unis = {\"Beida\",\"CAS\",\"Qinghua\",\"Renmin\",\"Jilin\",\"Fudan\"}\n",
    "```\n",
    "Can you figure out how to get the union of these two sets? The intersection? The Chinese universities that are not in Beijing? Look up the methods associated with Sets, and consider using the **??** option when using Jupyter notebooks to see details on different methods. \n"
   ]
  },
  {
   "cell_type": "markdown",
   "metadata": {},
   "source": [
    "## Exercise 2.9: Pulling it all together (Challenge!)\n",
    "Your boss has asked you to do a small bioinformatics project on LeuT (pdb code 2Q6H), which is the neurotransmitter responsible for transporting antidepressants. To help you out, I am providing a script (see below) that will read in a file and save the protein sequence to a list called protSeq. I have commented the code, but there are many things in here you haven't learned yet.\n",
    "\n",
    "HINT: Protein Databank (PDB) structure files are stored at http://www.rcsb.org/. Use the pdb code to find the amino acid structure. The structure file can be downloaded from Download Files >> PDB Format (don't use the one with the 'gz' option). __Move the structure file into your `resources/` directory - try refreshing your memory on Linux commands.__\n",
    "\n",
    "So, using the code below, you can access the list of all amino acids stored as the list variable `protSeq` (you may need to rewrite the file path if you get an error and it says you can't find the file - it should work if you set it up like I did in your `resources/` folder). You can start by printing this variable and proving to yourself that the list contains the information you think it does. Then add to the code to answer the following questions:\n",
    "\n",
    "A. How many total amino acids are in the protein?\n",
    "B. Print out total count of each amino acid in alphabetical order.\n",
    "C. Can you do part B with **sets** instead?"
   ]
  },
  {
   "cell_type": "code",
   "execution_count": null,
   "metadata": {},
   "outputs": [],
   "source": [
    "#initialize list to store sequence\n",
    "protSeq = []\n",
    "#open pdb file\n",
    "f1 = open('../resources/2q6h.pdb', 'r')\n",
    "#loop over lines in file\n",
    "for next in f1:\n",
    "    #identify lines that contain sequences\n",
    "    if next[:6] == 'SEQRES':\n",
    "        #strip away white space and\n",
    "        #convert line into list\n",
    "        line = next.strip().split()\n",
    "        #delete descriptor information\n",
    "        #at beginning of each line\n",
    "        del line[:4]\n",
    "        #loop over amino acids in line\n",
    "        for aa in line:\n",
    "            #add to sequence list\n",
    "            protSeq.append(aa)\n",
    "#close file\n",
    "f1.close()\n"
   ]
  },
  {
   "cell_type": "markdown",
   "metadata": {},
   "source": [
    "## Exercise 2.10: Back to SGDPinfo.txt (Challenge!)\n",
    "\n",
    "A. In Lesson 2, I gave you a Python list of the unique population IDs from `SGDPinfo.txt`. This script is how I obtained that list. Most of it are things you haven't learned yet, but let's try to take the code and understand it a bit better. From Lesson 2, you should have some recognize some functions/methods from sections 2 and 4 of the code. Work through those lines, commenting as needed, to better understand what I did. \n",
    "\n",
    "B. Then, let's tweak the code to get other types of information. Edit the code to obtain the following:\n",
    "1. The total number of individuals in this dataset. Note that SGDP_ID should be unique, though you can doublecheck this by adding a line to the code. \n",
    "2. The unique list of all countries \n",
    "3. The number of males and females (Due to some bad line coding, the indices may not be lined up correctly - try thinking of alternative ways of accessing that column - let me know if you're having difficulty.)"
   ]
  },
  {
   "cell_type": "code",
   "execution_count": null,
   "metadata": {},
   "outputs": [],
   "source": [
    "## 1. Open file and display the column information.\n",
    "myfile=open(\"../resources/SGDPinfo.txt\",encoding=\"Latin 1\")\n",
    "header=myfile.readline().split()\n",
    "print (\"This is the header in list form:\", header)\n",
    "print ()\n",
    "\n",
    "## 2. Move information from the wanted column into the list mypopn\n",
    "mypopn=[]\n",
    "for line in myfile: #This you have not learned yet, but it basically allows you to loop over each line in the file. \n",
    "    x=line.split('\\t') #You haven't learned this yet either, but look up the split method - what is it doing?\n",
    "    if x[0]!=\"\": #You haven't learned if statements like this, but you will in Lesson 3!\n",
    "        mypopn.append(x[2]) \n",
    "        \n",
    "## 3. Close the file\n",
    "myfile.close()\n",
    "\n",
    "## 4. Get the unique set of population IDs. \n",
    "myuniqpopn = list(dict.fromkeys(mypopn))\n",
    "print (myuniqpopn)"
   ]
  },
  {
   "cell_type": "code",
   "execution_count": null,
   "metadata": {},
   "outputs": [],
   "source": []
  }
 ],
 "metadata": {
  "kernelspec": {
   "display_name": "Python 3 (ipykernel)",
   "language": "python",
   "name": "python3"
  },
  "language_info": {
   "codemirror_mode": {
    "name": "ipython",
    "version": 3
   },
   "file_extension": ".py",
   "mimetype": "text/x-python",
   "name": "python",
   "nbconvert_exporter": "python",
   "pygments_lexer": "ipython3",
   "version": "3.9.13"
  }
 },
 "nbformat": 4,
 "nbformat_minor": 1
}
