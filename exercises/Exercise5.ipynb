{
 "cells": [
  {
   "cell_type": "markdown",
   "metadata": {},
   "source": [
    "## Exercise 5.1. Practice with functions --\n",
    "\n",
    "Make a function that:\n",
    "\n",
    "A) Takes an integer `x` as input and prints `x * 2`.\n",
    "\n",
    "B) Takes integers `x` and `y` as input and prints `x * y`.\n",
    "\n",
    "C) Takes a list `xs` as input and prints `xs[0] * xs[1]`.\n",
    "\n",
    "D) Modify the above programs so that the function returns the result instead of printing it, then the output is printed from the command that called the function."
   ]
  },
  {
   "cell_type": "markdown",
   "metadata": {
    "collapsed": true
   },
   "source": [
    "## Exercise 5.2. What happens in functions doesn't always stay in functions\n",
    "\n",
    "As promised, most things that happen in functions stay in the functions, but there are important exceptions. Make the following functions, which should illustrate this property:\n",
    "\n",
    "A) The function takes an integer as input and increments the integer by one using the **+=** operator. Print the value of the integer before and after the function is called.\n",
    "\n",
    "B) The function takes a list as input and changes the first element of the list to the string `x`. Print the value of the list before and after the function is called.\n",
    "\n",
    "C) The function takes a dictionary as input and adds the key `x` with value `y` to this dictionary. Print the dictionary before and after the function is called."
   ]
  },
  {
   "cell_type": "markdown",
   "metadata": {},
   "source": [
    "## Exercise 5.3. Reverse Complement --\n",
    "\n",
    "A) Write a function that takes a DNA sequence as an argument, ensures that the sequence is in capital letters, and then returns the reverse complement of the sequence.\n",
    "\n",
    "B) Modify the function to ensure that only the characters A, T, G, C and N (for unknown nucleotide) are in the input sequence."
   ]
  },
  {
   "cell_type": "markdown",
   "metadata": {},
   "source": [
    "## Exercise 5.4: Making a module\n",
    "\n",
    "If you haven't done so already during the lecture, create a directory in your PythonCourse directory called pylib, then add it to your PYTHONPATH. Create a module in this directory called \"exercises.py\". Put your functions from Exercise 5.1D into this module. Put the reverse complement function from Exercise 5.3 into this module. Add a print statement saying \"This is the exercises module\". Now write two Python scripts (as described in parts A and B) that import and call all of the functions in the module:\n",
    "\n",
    "A) A program that uses the line __import exercises__.\n",
    "\n",
    "B) A program that uses the line __from exercises import *__. What happens when you have print statements in _exercises.py_? Are they printed when you use the from statement?\n"
   ]
  },
  {
   "cell_type": "markdown",
   "metadata": {},
   "source": [
    "## Exercise 5.5: Make a FASTA parser --maybe\n",
    "\n",
    "A. In Lesson 4, you may have done exercises parsing FASTA files. In Exercise 4.7, you used the _seq.fasta_ fasta file and wrote a read_fasta.py script. Modify the script and make the function **fastaparser** that takes a filename as input, reads through the file using **open**, distinguishes between ID-containing lines and sequence-containing lines, and returns a dictionary with gene IDs as keys and sequences as values. Put this function along with your reverse complement function into a \"sequence_tools.py\" module and place it in your modules folder.\n",
    "\n",
    "B. Using the *sequence_tools.py* module, write a program that prints the reverse complement of the sequence for gene3 in _seq.fasta_. (Remember! You made a function to determine the reverse complement in Exercise 5.3 - can you use it here?)\n",
    "\n",
    "C. Rewrite your script analyzing Neanderthal mtDNA (Exercise 4.7) so that it uses your **fastaparser** function. \n",
    "\n",
    "**If you did not do Exercise 4.6 or 4.7, Exercises 4.7 is pasted below. Do it, and then modify as requested in Exercises 5.5A.**\n",
    "\n",
    "\n",
    "### Exercise 4.7: More Fasta file parsing\n",
    "Copy the text below into a text file in the resources/ folder and label it `seq.fasta`. Remember you can use %%writefile to do this.\n",
    "\n",
    "```\n",
    ">gene1\n",
    "ATGAGACGTAGTGCCAGTAGCGCGATGTAGCG\n",
    "ATGACGCATGACGCGCGACGCGCGAGTGAGCC\n",
    "ATACGCACGCATTGGCA\n",
    ">gene2\n",
    "ATGTTCGACGCATACGACGCGCAGTACCAGCA\n",
    "ATGACGCACCGGGATACACGACGCGGATTTTT\n",
    "ACGCACCGAGATAGCATAAAAGACCATTAG\n",
    ">gene3\n",
    "TTATGGCACCCACTAGAGCCAGATTATTTTAAA\n",
    "```\n",
    "\n",
    "Write a script called `read_fasta.py` that will open this file, read the lines, and store the data as a dictionary keyed by gene with the sequences as values. Make sure the sequences are contiguous (i.e. contain no endline ('\\n') characters), and make sure to remove the '>' from the names of the genes.\n",
    "\n",
    "Thus, you are using `%%writefile` to write the Pythons script, and you will run it in Terminal using the following. Make sure your python script prints out the dictionary so it's easy to check if you followed the instructions correctly.\n",
    "\n",
    "`python read_fasta.py`"
   ]
  },
  {
   "cell_type": "markdown",
   "metadata": {},
   "source": [
    "## Exercise 5.6: Collections\n",
    "\n",
    "Go back to exercise 2.9. Remember where you counted the number of each type of amino acid in this program? Look over the code you copied in for the exercise and see if you now understand it. Rewrite the section where you counted amino acids using the **collections** module."
   ]
  },
  {
   "cell_type": "markdown",
   "metadata": {},
   "source": [
    "## Exercise 5.7: For This and Giggles.\n",
    "\n",
    "Try out the following code:\n",
    "```python\n",
    "import this\n",
    "\n",
    "import antigravity\n",
    "```"
   ]
  },
  {
   "cell_type": "markdown",
   "metadata": {},
   "source": [
    "## Exercise 5.8: Create an ORF finder - CHALLENGE!\n",
    "\n",
    "For our purposes, we will define an open reading frame (ORF) as a start codon followed at some distance by a stop codon in the same frame. This program should take a dictionary from a parsed FASTA file (see Exercise 5.5) as input and then output a dictionary of gene name:[ORF1,ORF2,...] as the key:value pairs. Use the `seq.fasta` file as your input and find the ORFs for each entry.\n",
    "\n",
    "HINT: Remember that an ORF is made of codons, so the number of nucleotides is divisible by three. Use ATG as the start codon and TAG, TAA, and TGA as potential stop codons.\n",
    "\n",
    "HINT: There may be multiple ORFs in a single sequence if you have multiple start and stop codons! Keep in mind that once you hit a stop codon, your sequence must end, but potentially multiple start codons end at the same stop codon! \n",
    "\n",
    "HINT: If you're not sure what start and stop codons are, here's a good [starting point](https://www.khanacademy.org/science/biology/gene-expression-central-dogma/central-dogma-transcription/a/the-genetic-code-discovery-and-properties). Feel free to ask me as well, to make sure you understand the biology here. "
   ]
  },
  {
   "cell_type": "markdown",
   "metadata": {},
   "source": [
    "## Exercise 5.9: Analyzing the SGDP individuals - CHALLENGE!\n",
    "\n",
    "In Lesson 1, you also looked at the SGDP data - particularly some information on what the data are, where they came from, etc. \n",
    "\n",
    "A. Write a function that will take the country information and share the number of populations (3rd column) from that country, followed by a table containing a list of what those populations are and the number of samples per population. \n",
    "\n",
    "B. Add the function to your pylib folder in a module called `sgdp_funcs.py`. \n",
    "\n",
    "C. Then, write a script where you can input any country name as input and get the requested information in A.\n",
    "\n",
    "D. Modify the script in C so the information from A are printed to a new file - it must have a diagnostic filename, so it's easy to locate, and it may be good to add a \"#\" for information not in the table (e.g. the number of popns total) so it's easy to filter out later. Also, you may want to add a header to the table so if you return to it later, you know what you have in each column. "
   ]
  },
  {
   "cell_type": "markdown",
   "metadata": {},
   "source": [
    "## Exercise 5.10: Let's get creative!\n",
    "\n",
    "What's something you like to do that's a pain to look up? Perhaps it'd be nice to write a quick function to help out? Find something you're interested in and start figuring out what you'd do to make something functional for you. Below are some ideas, though you're welcome to think of something else entirely. The main thing I'm looking for is practice writing functions and using the sys module - particularly sys.argv.\n",
    "\n",
    "1. Baking conversions - switching between Celsius and Fahrenheit, grams and cups, etc.\n",
    "2. Positive messages - creating a list of positive statements to randomly rotate through.\n",
    "3. Budgets - input budget spreadsheets, and adjust with a new expense or income quickly. \n"
   ]
  }
 ],
 "metadata": {
  "kernelspec": {
   "display_name": "Python 3 (ipykernel)",
   "language": "python",
   "name": "python3"
  },
  "language_info": {
   "codemirror_mode": {
    "name": "ipython",
    "version": 3
   },
   "file_extension": ".py",
   "mimetype": "text/x-python",
   "name": "python",
   "nbconvert_exporter": "python",
   "pygments_lexer": "ipython3",
   "version": "3.9.13"
  }
 },
 "nbformat": 4,
 "nbformat_minor": 2
}
