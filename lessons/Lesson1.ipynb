{
 "cells": [
  {
   "cell_type": "markdown",
   "metadata": {},
   "source": [
    "# Lesson 1: Introduction to Computing\n",
    "\n",
    "Welcome to the Yang Lab Python (and Linux) lessons. You will learn the basics of python in the context of using it for genetic analyses. This course is going to be presented in jupyter notebook - it is not a requirement to use the notebook, but it highly recommended as the notebook is a useful way of organizing code.  I use jupyter notebooks regularly for my research. \n",
    "\n",
    "Many of these lessons are directly taken or adapted from a python bootcamp at UC Berkeley that I helped to teach from 2012-2016. I have also taught these lessons the summer of 2017 at the Institute of Vertebrate Paleontology and Paleoanthropology at the Chinese Academy of Sciences. \n",
    "\n",
    "## Topics:\n",
    "- Expectations for the course\n",
    "- Navigating the Linux shell\n",
    "- Viewing the content of files\n",
    "- How to get help\n",
    "- Text editors"
   ]
  },
  {
   "cell_type": "markdown",
   "metadata": {},
   "source": [
    "### Expectations for working through these lessons\n",
    "\n",
    "The idea behind the lessons is to create an environment for you to intensively work on developing your python programming skills and give you a crash course in the basics of the language. By the end of the course, you will not be an expert on python, but you should be able to write simple scripts and have the groundwork and general vocabulary to effectively use the internet and/or other resources to teach you fancier tricks. Most importantly, you should be able to ask yourself a question and start envisioning what ways you can write code that will help you arrive at an answer. \n",
    "\n",
    "By the time you complete everything in these lessons, you may have already started or will begin to start a project where YOU will write scripts to rearrange data into new formats ready to be used in various software!\n",
    "\n",
    "Keep in mind - learning to code is like learning a new language. It takes lots of practice, and it continuously feels hard and unintuitive until suddenly, it starts sticking. Just keep trying and **asking questions**--it will get easier and easier!\n",
    "\n",
    "Some potentially useful references include:\n",
    "- [style guide for Python](http://www.python.org/dev/peps/pep-0008/)\n",
    "- [Learn Python](https://www.learnpython.org/) \n",
    "- [Python Website (documentation)](https://docs.python.org/3/index.html)\n",
    "- [Python Code Visualization](http://www.pythontutor.com/visualize.html#mode=edit)\n",
    "\n",
    "Click through some of these links, perhaps bookmark them - note what each of them are useful for, so you can use these as needed throughout the class. For instance, the Python Code Visualization will likely be useful as you start learning to use for loops in Python - they help walk you through the logic of how a computer goes through the code. Learn Python is another resource for learning Python - if you don't understand something here, finding a reading on that topic there may help. "
   ]
  },
  {
   "cell_type": "markdown",
   "metadata": {},
   "source": [
    "## Basic Tools Required\n",
    "\n",
    "Before we touch any python, let's go over some of the main tools you will use as you write in python, as well as another language - Linux. \n",
    "\n",
    "The shell is the the way you interact with your operating system. Most of you are used to the graphical user interface (GUI) you see when you turn on a computer - clicking the start button allows you to access a folder, which contains files that you double click to open within the relevant default application. However, there is a command line user interface (CLI) that is very useful as well. Both Linux and Mac operating systems use the CLI **Terminal**, in which we use the Linux language for navigation. In Windows operating system, this CLI is the **Command Prompt**, which uses a different language. However, Windows 10 and higher now have a Terminal software installed that uses Linux. If you have an older Windows interface, installation of other CLIs like cygwin or MobaXTerm will allow you to use UNIX in a Windows computer - let me know if you need this. \n",
    "\n",
    "The next vital piece in writing python code is a text editor. Your python code is usually written to a text file ending in \".py\", and then you can use the Linux commands to access and run the python script from your shell (Terminal). Sometimes, you may also want to use an interpreter, or a program that allows you to directly execute commands without calling on a script you save to file. Here, we will gain familiarity with the Linux language, and learn how to use jupyter notebook. Jupyter Notebook is useful because you can take your own notes in it (like what you see right now), you can use it as an interpreter), AND you can write files directly to folders and then go to the CLI to run the script. Lots of options! Jupyter notebook can also be used as a shell (i.e. you can also run Linux commands), making it a powerful one stop shop for all the main tools you use to begin coding.\n",
    "\n",
    "To get started, make sure you are a user on the Spydur cluster. From there, you will be able to open jupyter notebooks following the instructions I provide in our 'Using Spydur' documentation on Slack. "
   ]
  },
  {
   "cell_type": "markdown",
   "metadata": {},
   "source": [
    "## Logging into Spydur\n",
    "\n",
    "Log into the Spydur cluster using the Linux command `ssh`. \n",
    "\n",
    "That is, type the following to log into Spydur (ssh), move into the lab folder (cd), and make a directory for yourself within which you make another directory for the Python Bootcamp (mkdir).  \n",
    "\n",
    "```bash\n",
    "ssh username@spydur\n",
    "cd /scratch/myang_shared/lab/\n",
    "mkdir yourfirstname\n",
    "cd yourfirstname\n",
    "mkdir PythonBootCamp2023\n",
    "```\n",
    "\n",
    "Now, we want to access Jupyter Notebooks. For each of you, I created a script (found in /scratch/myang_shared/ that will initate a Jupyter Notebook for you in one of my compute nodes. The following lets you find this script and submit the job. \n",
    "\n",
    "```bash\n",
    "cd /scratch/myang_shared/\n",
    "ls -lrth *.sh\n",
    "qsub yourfirstname_jupyter.sh\n",
    "less yourfirstname_jupyter.sh\n",
    "```\n",
    "\n",
    "An example of the SH file for Jupyter Notebook is below. It indicates to use the partition yang2 (one of my personal compute nodes on Spydur), using 5 CPUs and 4 GB of memory. The file set my port to 8890. \n"
   ]
  },
  {
   "cell_type": "code",
   "execution_count": null,
   "metadata": {},
   "outputs": [],
   "source": [
    "#!/bin/bash\n",
    "#SBATCH --account=myang\n",
    "#SBATCH --nodes=1\n",
    "#SBATCH --ntasks=1\n",
    "#SBATCH --cpus-per-task=5\n",
    "#SBATCH --mem=4G\n",
    "#SBATCH --time=12:05:00\n",
    "#SBATCH --job-name=jupyter-notebook\n",
    "#SBATCH --partition=yang2\n",
    "\n",
    "# get tunneling info\n",
    "XDG_RUNTIME_DIR=\"\"\n",
    "node=$(hostname -s)\n",
    "user=$(whoami)\n",
    "cluster=\"spydur\"\n",
    "port=8890\n",
    "\n",
    "# print tunneling instructions jupyter-log\n",
    "echo -e \"\n",
    "Command to create ssh tunnel:\n",
    "ssh -N -f -L ${port}:${node}:${port} ${user}@${cluster}\n",
    "\n",
    "Use a Browser on your local machine to go to:\n",
    "localhost:${port}  (prefix w/ https:// if using password)\n",
    "\"\n",
    "\n",
    "# Run Jupyter\n",
    "jupyter-notebook --no-browser --port=${port} --ip=${node}"
   ]
  },
  {
   "cell_type": "markdown",
   "metadata": {},
   "source": [
    "To figure out the commands you need to open Jupyter Notebook, look at the recent files in the /scratch/myang_shared/ directory, find the most recent output file from your Jupyter Notebook job submission, and print out the file information. \n",
    "\n",
    "```bash\n",
    "ls -lrth\n",
    "cat yourfirstname_jupyter.sh.o####\n",
    "```\n",
    "\n",
    "Follow the instructions written in the output file - open a new Terminal window NOT connected to Spydur and paste the SSH Tunnel, and then open Google Chrome and paste localhost:#### to see your Spydur account from an internet browser. \n",
    "\n",
    "Once you're on Jupyter Notebook, you can click through any directories contained within `/scratch/myang_shared/`, such as your lab folder. You can also click New --> Terminal (top left corner) to open a Terminal window in your browser. "
   ]
  },
  {
   "cell_type": "markdown",
   "metadata": {},
   "source": [
    "## Learning to use Linux commands\n",
    "\n",
    "We will begin by briefly exploring how to use Terminal. Open the Terminal - you should see the following:\n",
    "`< username >@< whatever computer >`\n",
    "Type 'pwd'. From here, you get a file path indicating the set of folders leading to your current directory. That is, if you were navigating as you normally would on your computer, you would have to click on each of these folders, from left to right, to end up in the folder the Terminal is waiting in (your 'working directory'). In Terminal, you type commands to do the same thing your mouse would do when you left or right click on the folder. Below are some of the major commands. \n",
    "\n",
    "* **pwd**   = print working directory \n",
    "* **ls**    = list all files/folders in the directory\n",
    "* **cd**    = change the working directory (type the filepath to the requested directory)\n",
    "* **echo**  = print to screen whatever string follows the command\n",
    "* **mkdir** = make a new directory\n",
    "* **rmdir** = remove a directory (can only be done if the directory is empty)\n",
    "* **cat**   = print all contents of a file to screen\n",
    "* **rm**    = remove a file\n",
    "* **cp**    = copy a file (to a new filename and/or directory)\n",
    "* **mv**    = move a file (rename file or move to a different directory)\n",
    "* **head**  = print the first few lines of file to Terminal (default = 10)\n",
    "* **tail**  = print the last few lines of file to Terminal (default = 10)\n",
    "* **grep**  = search for an expression and print line(s) containing that expression\n",
    "* **cut**   = print certain columns of the file (based on delimiter or by character)\n",
    "* **less**  = opens a file within the Terminal screen as a text file (use q to exit)\n",
    "* **man**   = gives manual for UNIX command you include after 'man'\n",
    "\n",
    "\n",
    "Try some of the following, assuming you're on Spydur. \n",
    "\n",
    "```bash\n",
    "cd /scratch/myang_shared/lab/  ## Change into the lab directory on Spydur\n",
    "pwd                        \n",
    "mkdir PythonBootcamp/\n",
    "cd PythonBootcamp/\n",
    "pwd                           ## Where are you now in your computer directory?\n",
    "mkdir Lesson1/\n",
    "cd Lesson1/                    ##Check and make sure you are in your Lesson1/ directory. \n",
    "\n",
    "echo hello\n",
    "echo hello > hello.txt     ## '>' indicates rather than print to screen, print to the specified file. \n",
    "cat hello.txt              ## Try moving to your YangLab/ folder using your mouse - what do you see in the folder?\n",
    "echo \"how are you\" > hello.txt  ## What happened?\n",
    "cat hello.txt\n",
    "echo \"I am excited to learn Unix\" >> hello.txt ## What happened here?\n",
    "cat hello.txt\n",
    "\n",
    "cd ..\n",
    "\n",
    "rmdir PythonBootcamp/  ## What error did we get? \n",
    "cd ..\n",
    "rmdir PythonBootcamp/  ## Now what error did we get?\n",
    "cd Lesson1/\n",
    "ls -lrth         ##ls is all you need, but '-lrth' orders them to show your most recent file, with additional info\n",
    "\n",
    "mkdir testdir/\n",
    "ls -lrth testdir/\n",
    "echo \"Let's fill the test directory\" > testdir/testfile.txt  ##Note above that I made a new file but without being in the new folder testdir/.\n",
    "ls -lrth testdir/\n",
    "\n",
    "cat testdir/testfile.txt\n",
    "rmdir testdir/     ##You should get an error\n",
    "rm testdir/testfile.txt   ##You will likely get a prompt asking if you want to do this - Spydur checks in, your computer probably won't!\n",
    "rmdir testdir/     ##This will work if there are no files inside\n",
    "ls\n",
    "\n",
    "cp hello.txt hello_copy.txt\n",
    "mkdir practice/\n",
    "mv hello.txt practice/\n",
    "cat hello.txt\n",
    "cat practice/hello.txt\n",
    "cp hello_copy.txt practice/hello_copy2.txt\n",
    "cp hello_copy.txt practice/hello_copy2.txt\n",
    "ls -lrth practice/\n",
    "```\n",
    "\n",
    "#### Important: Be very careful with rm and rmdir and the '>' sign. You can easily delete an important document, and these deleted documents are not saved in your Trash or Recycle Bin! \n"
   ]
  },
  {
   "cell_type": "markdown",
   "metadata": {},
   "source": [
    "\n",
    "Let's download this file: [10_24_2014_SGDP_metainformation_update.txt](http://simonsfoundation.s3.amazonaws.com/share/SCDA/datasets/10_24_2014_SGDP_metainformation_update.txt). Save it to a text file. Make a new directory in `/scratch/myang_shared/lab/yourname/PythonBootcamp/` called `resources/` and move the ```10_24_2014_SGDP_metainformation_update.txt``` text file to the resources folder under the new name ```SGDPinfo.txt```. While you can do this using the GUI, I encourage you to do this using only Linux commands. \n",
    "\n",
    "### Reading through files\n",
    "\n",
    "Earlier, we used `cat` to quickly look at the contents of our files. `head` means to print the beginning of the file - it's default is to print the first 10 lines. For instance, if you were to write two filenames after `head`, you would get both files printed to screen in order by filenames.\n",
    "\n",
    "```bash\n",
    "cd /scratch/myang_shared/lab/yourname/PythonBootcamp/Lesson1/\n",
    "head ../resources/SGDPinfo.txt hello.txt    ##The ../ is a quickhand way of saying 'look backwards one directory'. Note that SGDPinfo.txt and hello.txt are NOT in the same directory.  \n",
    "cd ../resources/\n",
    "```\n",
    "\n",
    "What would happen if you used `cat` instead of `head`? A problem with looking at files through cat is that it is difficult to view large files printed to Terminal. `head` and `tail` allow you to look at the head or tail of the file, seeing a much smaller set of information on your screen. \n",
    "\n",
    "```bash\n",
    "head -n2 SGDPinfo.txt\n",
    "tail -n2 SGDPinfo.txt\n",
    "```\n",
    "\n",
    "What do you think the `-n2` did? Each command has multiple options - typing `man head` allows you to see a manual indicating what the command `head` can do. \n",
    "\n",
    "However, sometimes you might want to look at the whole file. Another command you can use is `less`, which opens the file within the Terminal, allowing you to look through the document one screen at a time. It opens from the top of the file, and you use arrow keys to scroll up and down. The space bar allows you to move a screen's worth of text, allowing faster scrolling. The default is word wrapping, but you can use '-S' to chop the long lines (thus you would need left and right arrow keys to view the long sentences). Typing /word will search for 'word' in the file and highlight wherever it appears. Type 'q' to exit.\n",
    "\n",
    "```bash\n",
    "less SGDPinfo.txt\n",
    "```\n",
    "\n",
    "We can also search these files using `grep`. \n",
    "\n",
    "```bash\n",
    "grep Dinka SGDPinfo.txt\n",
    "```\n",
    "\n",
    "What information can you find on the Dinka? What other line from the file might be useful to help you parse what you are reading?\n"
   ]
  },
  {
   "cell_type": "markdown",
   "metadata": {},
   "source": [
    "### Extra options for above commands\n",
    "\n",
    "Above, we went through some of the basic functions of some UNIX commands. However, there are many sub-options for each of these commands that you may find useful. Here, we will illustrate a few commonly used ones and run through how to get more information on these options using `man`. Remember that above I said that `man` is a command that allows you to read the manual for the UNIX command in question.\n",
    "\n",
    "```bash\n",
    "ls -lrth\n",
    "man ls\n",
    "```\n",
    "\n",
    "Here, the '-l' option uses the long listing format. That is, more detail is provided. '-t' sorts your files by time, from most recently edited to the oldest edited. Since the filenames are printed to screen, we normally read the end of the printed string--thus, we reverse the order using '-r', printing from the oldest edited to the most recently edited. Lastly, the '-l' option also includes the file sizes, but they are just very large numbers. Adding '-h' makes this human-readable. Here, that means it switches these size output so that they are based on K (kilobytes), M (megabytes), G (gigabytes) and T (terabytes) for easy reading. \n",
    "\n",
    "`grep` has an option to determine the line number for a term you are searching - use `man` to research `grep`. Can you tell me which line numbers are the ones for Dinka?\n",
    "\n",
    "Return to the `SGDPinfo.txt` file using `less`. Now type `Shift + G`. This will bring you to the end of the file. Note that there's lots of blank space here - the original file (for me at least) didn't remove all the white space. It isn't a problem here, but sometimes it can be a problem, so let's try to get rid of it. \n",
    "\n",
    "Let's try to google an answer. Make a copy of your file, just in case you mess something up. (e.g. `SGDPinfo_orig.txt`)\n",
    "\n",
    "Try typing into your google search bar: \"remove blank lines text file unix\"\n",
    "\n",
    "Look around and try a few commands - see if they work. \n",
    "\n",
    "If you're having trouble, try this [link](https://serverfault.com/questions/252921/how-to-remove-empty-blank-lines-from-a-file-in-unix-including-spaces) and ask me for a clue - I got one of these to work. How do you make a new file with the correction of no blank lines?\n",
    "\n",
    "One more command to explore - `cut`\n",
    "\n",
    "Try the following:\n",
    "\n",
    "```bash\n",
    "cut -f2 SGDPinfo.txt\n",
    "cut -c15 SGDPinfo.txt\n",
    "```\n",
    "\n",
    "Using what you see and `man`, what do you think `cut` is doing?\n"
   ]
  },
  {
   "cell_type": "markdown",
   "metadata": {},
   "source": [
    "## Special characters\n",
    "\n",
    "### wildcard matching with the *\n",
    "\n",
    "The star functions as a \"wild-card\" character that matches any number of characters. From your Lesson1/ directory:\n",
    "\n",
    "```bash\n",
    "ls -lrth\n",
    "ls -lrth *txt\n",
    "```\n",
    "\n",
    "The star can go anywhere in a list of arguments you're supplying, even in the middle of words! There are [other wildcards you can use](https://en.wikibooks.org/wiki/A_Quick_Introduction_to_Unix/Wildcards) but * is the most common.\n",
    "\n",
    "\n",
    "### pipe |\n",
    ">(the one above the backslash \"\\\" key)\n",
    "\n",
    "Piping with | connects Linux commands, allowing the output of one command to \"flow through the pipe\" to another. This lets you chain programs together, such that each one only needs to worry about one step of the process (either generating, filtering, or modifying data), without knowing or caring where it came from or where it's going to.\n",
    "\n",
    "```bash\n",
    "env\n",
    "```\n",
    "\n",
    "The 'env' command returns a list of environment variables.  We won't go over what they mean here, but rather we're using this to demonstrate that some commands might return too much text to usefully view in the terminal.\n",
    "\n",
    "However, you can use the | character to direct the output to another program to show just portion.  \n",
    "For example, the head command to show just the first few lines:\n",
    "\n",
    "\n",
    "```bash\n",
    "env | head\n",
    "```\n",
    "\n",
    "Or, so you were just trying to find the value of the HOME variable.  You could use grep to isolate just this portion.\n",
    "\n",
    "```bash\n",
    "env | grep HOME\n",
    "```\n",
    "\n",
    "Back to `SGDPinfo.txt`, can you find the lines for Dinka and only list the column with their SGDP_ID? (that is, combining `grep` and `cut` using `|`).\n",
    "\n",
    "There are many special characters - this [link](https://www.oreilly.com/library/view/learning-the-bash/1565923472/ch01s09.html) has a pretty comprehensive table. Note that it is best to avoid using these characters except for their specified function, but if you need to include them in a command, e.g. `echo`, you can use single quotes and it should realize you are using them as regular characters.\n",
    "\n",
    "```\n",
    "echo \"hi!\" #This will give you an error. --> -bash: !\": event not found\n",
    "echo 'hi!' #This will work!\n",
    "```"
   ]
  },
  {
   "cell_type": "markdown",
   "metadata": {},
   "source": [
    "## Permissions\n",
    "\n",
    "Unlike the computers you are used to, Linux doesn't automatically know what to do with files (e.g. It won't know to use Word to open a .docx document), and it doesn't even know whether a file is data or a program (and as we'll see with the programs we write, it might be different things at different times).\n",
    "\n",
    "The first thing that controls a file is the file's permissions. You can control who can read, write, and execute (run as a program) each of your files. This command lists the permissions:\n",
    "\n",
    "```bash\n",
    "ls -lrth\n",
    "```\n",
    "\n",
    "The first letter tells you whether it is a directory.\n",
    "\n",
    "The next set of letters tell you if a file is readable (r), writable (w), or executable (x).\n",
    "\n",
    "The 2nd-4th letters tell you what *your* permissions are, 5th-7th tell you what your group's permissions are, and the last three tell you what everyone else's permissions are. Linux was designed to be a multi-user operating system, so even if you're the only one who uses the computer, it maintains the distinction for you, versus your group, versus everyone else.\n",
    "\n",
    "You can see your groups by typing \n",
    "```\n",
    "groups yourusername\n",
    "```\n",
    "If you're in my lab and on Spydur, you should see 'yanglab' as one of your groups. If you can't access a file, it's likely because your group doesn't have access. Type `ls -lrth /scratch/myang_shared/` and look at the data/ folder - you should see there that your group has read and executable permissions, but no writing permissions. This means you can read and copy data from this folder, and run scripts from this folder if they exist, but you cannot make a file to put in this folder, or directly edit a file in this folder. I do this to make sure the large datasets we download and include can't accidentally be overwritten (except by me!). "
   ]
  },
  {
   "cell_type": "markdown",
   "metadata": {},
   "source": [
    "Here's some more on permissions. Make sure you're in your `Lesson1/` folder. Can you figure out what the script below does? Copy it into your Terminal. \n",
    "\n",
    "```\n",
    "echo \"grep Dinka ../resources/SGDPinfo.txt | cut -f2\" > testscript.sh\n",
    "```\n",
    "\n",
    "Let's see the permissions and try to execute the file - for a shell script (typically ending in .sh), you usually run it by putting `./` in front. \n",
    "\n",
    "```\n",
    "ls -l testscript.sh\n",
    "./testscript.sh\n",
    "```\n",
    "\n",
    "For me, I see:\n",
    "\n",
    "```\n",
    "(base) m1-bio-myang:Lesson1 myang$ ls -l testscript.sh \n",
    "-rw-r--r--  1 myang  staff  47 May 24 12:42 testscript.sh\n",
    "\n",
    "(base) m1-bio-myang:Lesson1 myang$ ./testscript.sh\n",
    "-bash: ./testscript.sh: Permission denied\n",
    "```\n",
    "\n",
    "I don't have permission to run this file, as shown through the `ls -l` command. \n",
    "\n",
    "We can change file permissions. \n",
    "\n",
    "### chmod - Modify permissions.\n",
    "chmod [flags] [filename]\n",
    "\n",
    "Try the following:\n",
    "```bash\n",
    "chmod +x testscript.sh\n",
    "ls -l testscript.sh\n",
    "```\n",
    "\n",
    "Now, try running the `testscript.sh` file and see what happens. Congrats, you've made and executed your first Unix script! \n",
    "\n",
    "I typically write executable Python scripts and use Linux commands to check on files quickly, run Python scripts, and navigate between folders. Some people write lots of Linux shell scripts, and especially to run a script over many files, I find it useful to use a Linux shell script. I'm not expecting this from you now, but I'll show you two ways to create a simple loop for a Linux shell script, which may be useful to refer to at a future point. \n",
    "\n",
    "At the same time, I'll show you how you can write files into folders directly from Jupyter Notebook. \n"
   ]
  },
  {
   "cell_type": "markdown",
   "metadata": {},
   "source": [
    "# Jupyter Notebooks \n",
    "\n",
    "## Jupyter notebook basics\n",
    "\n",
    "[Jupter notebook](http://jupyter-notebook.readthedocs.io/en/latest/) was previously known as IPython notebook, and it is the main tool we will be using to write and execute our scripts. Not only is it useful for developing our scripts, but it is also a great organizer and actual notebook. All of the lectures, including this one, are provided in a notebook, so you will get many examples of its utility. While we do not explore all of the functions of the notebook, we highlight some of the basics here so you can navigate and write in these notebooks easily. \n",
    "\n",
    "* The easiest way of accessing the notebook on Spydur is how I described it above. There are also ways to install Jupyter Notebook on your computer - installing [Anaconda](https://www.anaconda.com/download) is probably the easiest way to do this smoothly. \n",
    "* What opens is a web-based user interface with the files in the directory you opened in terminal (or your home directory when opening through Anaconda Navigator). Going to the top right and clicking \"New\" followed by \"Python 3\" under 'Notebook' will open your first jupyter notebook (ends in .ipynb) like the one we observe here. \n",
    "\n",
    "    Note that won Spydur, you set a time in the Jupyter Notebook script you ran (remember `qsub yourname_jupyter.sh`?). The default I put in is 12 hours. \n",
    "\n",
    "* If you want to cancel the notebook on Spydur, type `squeue`, you will see a list of running jobs, like what is pasted below:\n",
    "```\n",
    "64513     yang2 jupyter-    myang  R      23:53      1 spdr60\n",
    "```\n",
    "This says my job is in the partition 'yang2' (also called spdr60), has run for ~24 minutes, and the job's ID is 64513. \n",
    "You can type `scancel JOBIDNUMBER` to stop Jupyter Notebook from running. If you do this, but you want to restart it, you must go to /scratch/myang_shared/ and restart the job using `qsub`. \n",
    "\n",
    "* Remember that on a local Terminal on your computer, you will need to put in `ssh -NfL localhost:####:localhost:#### yourusername@spydur` to connect the notebook to your computer's browser. \n",
    "\n",
    "* Each of these squares where we can write text is called a cell. By default each cell is a python interpreter. Going to \"Cell\"->\"Cell Type\"->\"Markdown\" turns it into a text displayer, allowing you to write just plain notes, as this cell current does. I will not be teaching all the different options for Markdown, but [this page](http://nestacms.com/docs/creating-content/markdown-cheat-sheet) provides some of the formatting you might be interested in.\n",
    "\n",
    "* The top bar includes many different options. While the notebook usually automatically saves periodically, you have a 'save option', followed by options to insert new cells, move cells around, and run the cells. Holding Shift+Enter will also run the active cell. You can also switch the cell format in the dropdown box. \n",
    "\n",
    "* Magic commands: One useful aspect of the notebook are [magic commands](https://ipython.org/ipython-doc/3/interactive/magics.html). We won't delve into magic commands here, but there are a few I use often, particularly %%bash and %%writefile\n",
    "\n",
    "* Last but not least, the default is that the cell treats what you type as if you wrote Python commands. For the final section of the day, we will begin to start writing in python!\n"
   ]
  },
  {
   "cell_type": "markdown",
   "metadata": {},
   "source": [
    "## Magic Commands: %%writefile and %%bash\n",
    "\n",
    "I use Jupyter Notebooks, but I'm still learning everyday cool tricks that make it really easy to use. \n",
    "\n",
    "One cool thing mentioned above are magic commands, which take the form `%%command`. Type this in a cell, and it will do as the magic command asks. \n",
    "\n",
    "There's two I'll teach you now, `%%writefile` and `%%bash`."
   ]
  },
  {
   "cell_type": "code",
   "execution_count": 3,
   "metadata": {},
   "outputs": [
    {
     "name": "stdout",
     "output_type": "stream",
     "text": [
      "Writing /scratch/myang_shared/lab/mel/PythonBootcamp/melcustom/Lesson1/testscript1.sh\n"
     ]
    }
   ],
   "source": [
    "%%writefile /scratch/myang_shared/lab/mel/PythonBootcamp/melcustom/Lesson1/testscript1.sh\n",
    "\n",
    "for i in 1 2 3; do\n",
    "    echo ${i}\n",
    "done"
   ]
  },
  {
   "cell_type": "markdown",
   "metadata": {},
   "source": [
    "Adjust the path in the cell above to fit your computer and get to your `Lesson1` folder. Then to run this cell, click within the cell so your cursor is there and type < Shift > + < Enter >. \n",
    "\n",
    "For me, I see the following sentence pop up beneath the cell. It says that I've written to a new file called `testscript1.sh`. We can see if this is true by going to the `Lesson1/` folder and seeing if the new shell script is there. Did you find it?\n",
    "\n",
    "```Writing /Users/myang/YangLab/PythonBootcamp/Lesson1/testscript1.sh```\n",
    "\n",
    "Now, try to run the file - remember to change permissions through Terminal to execute and then use `./` to run the file. What happens?\n",
    "\n",
    "Try editing the above file to make it do something else - perhaps add the number four to the output. Try to look up on google how to loop over many more numbers - perhaps 1-100. Tweak the above file (maybe make a new cell and give it a different name so you don't lose the current one) based on some suggested ideas (ask for help if you need it!) to produce 1-100. \n",
    "\n",
    "We'll dig much more deeply into for loops using Python, so if you're still confused by the above code, it's okay - hang tight and we'll get to for loops again in Lesson 3. \n"
   ]
  },
  {
   "cell_type": "code",
   "execution_count": 4,
   "metadata": {},
   "outputs": [
    {
     "name": "stdout",
     "output_type": "stream",
     "text": [
      "Writing /scratch/myang_shared/lab/mel/PythonBootcamp/melcustom/Lesson1/file1_writefromnotebook.txt\n"
     ]
    }
   ],
   "source": [
    "%%writefile /scratch/myang_shared/lab/mel/PythonBootcamp/melcustom/Lesson1/file1_writefromnotebook.txt\n",
    "\n",
    "I am writing this file from within the notebook.\n",
    "\n",
    "I can write whatever I want and it will be written to a text file in the specified folder. \n",
    "\n",
    "If I don't write a filepath, this text file will be written into the home directory of the notebook.\n",
    "\n",
    "Note that the '~' indicates my HOME directory - it can replace /home/myang/, which is the home directory of my computer.\n"
   ]
  },
  {
   "cell_type": "markdown",
   "metadata": {},
   "source": [
    "When you write code, you are writing them into a text file - above I show some written notes that I saved to `file1_writefromnotebook.txt`. "
   ]
  },
  {
   "cell_type": "markdown",
   "metadata": {},
   "source": [
    "Now let's look at `%%bash`. Run the following command. Remember, to run the following cell, click within the cell so your cursor is there and type < Shift > + < Enter >. "
   ]
  },
  {
   "cell_type": "code",
   "execution_count": null,
   "metadata": {},
   "outputs": [],
   "source": [
    "%%bash\n",
    "## This allows you to treat the cell as a Terminal screen, and you can use UNIX commands\n",
    "for i in 1 2 3; do\n",
    "    echo ${i}\n",
    "done"
   ]
  },
  {
   "cell_type": "markdown",
   "metadata": {},
   "source": [
    "Note it does exactly what the Terminal does! You can't navigate between folders here as easily, but for quick looks at files, I often use %%bash so I can see the file out put right next to where I might be writing my script (and not have to switch back and forth as much). \n",
    "\n",
    "The `##` allows me to write comments into these Code cells. \n",
    "\n",
    "It doesn't have to be as complicated as a for loop - below I check the folder this notebook is in, as well as what else is also in the folder. "
   ]
  },
  {
   "cell_type": "code",
   "execution_count": null,
   "metadata": {},
   "outputs": [],
   "source": [
    "%%bash\n",
    "\n",
    "pwd\n",
    "\n",
    "ls\n",
    "\n"
   ]
  },
  {
   "cell_type": "markdown",
   "metadata": {},
   "source": [
    "### Other useful commands\n",
    "\n",
    "I will not explain these now, but in the exercises for today's lesson, you will explore these Linux commands and test them out. For now we will move on to the Jupyter notebook and our first python commands!\n",
    "1. **gzip** - Used for zipping/unzipping files that end in .gz\n",
    "2. **tar** - Used for bundling/unbundlind archives that in in .tar\n",
    "3. **find** - Search for files that match a pattern\n",
    "4. **wget** - Download a file from the internet\n",
    "\n"
   ]
  },
  {
   "cell_type": "markdown",
   "metadata": {},
   "source": [
    "## Writing in Python - you're ready to begin!\n",
    "\n",
    "This entire lesson, you've learned about the Terminal, writing with the Linux language, and gotten a brief intro into Jupyter notebook. However, you haven't started working with python yet! Here, we will begin with the simple command:\n"
   ]
  },
  {
   "cell_type": "code",
   "execution_count": null,
   "metadata": {},
   "outputs": [],
   "source": [
    "print (\"hello world\")\n"
   ]
  },
  {
   "cell_type": "markdown",
   "metadata": {},
   "source": [
    "As you can see, when I typed\n",
    "```python\n",
    "print (\"hello world\")\n",
    "```\n",
    "and pressed Shift+Enter, the notebook processed what I wrote in the cell and output it below the cell. Here, I used the function \n",
    "```python\n",
    "    print ()\n",
    "```\n",
    "to call the string \"hello world\". `print` is similar to `echo` in Linux - it tells you to print to screen whatever comes after the command inside the parantheses. We're using Python 3, which always requires the (). Python 2 didn't require this, so you may see answers online that drop the () - we'll get an error message if we forget to put the () there. \n",
    "\n",
    "However, you can also run these python scripts outside of the notebook. Below, we write \n",
    "```python\n",
    "print (\"hello world\")\n",
    "print\n",
    "```\n",
    "into a text file using the magic command %%writefile and then run it through the Terminal. Typically, python scripts are saved with the subscript \".py\" to indicate it is a python script.\n",
    "\n",
    "Make the file `myfirstscript.py` and then run it - note that here, because we use the command `python` to run the file, we don't need to change permissions - `python` means take the file and treat each line as if it were a python command. If we wanted to use `./`, we'd need to change permissions and add a line in the file to make it realize everything is written in Python. We aren't going to add that in for now - we'll just keep using `python` to call python scripts. \n",
    "\n",
    ". "
   ]
  },
  {
   "cell_type": "code",
   "execution_count": 6,
   "metadata": {},
   "outputs": [
    {
     "name": "stdout",
     "output_type": "stream",
     "text": [
      "Writing /scratch/myang_shared/lab/mel/PythonBootcamp/melcustom/Lesson1/myfirstscript.py\n"
     ]
    }
   ],
   "source": [
    "%%writefile /scratch/myang_shared/lab/mel/PythonBootcamp/melcustom/Lesson1/myfirstscript.py\n",
    "print (\"hello world\")\n",
    "print\n"
   ]
  },
  {
   "cell_type": "code",
   "execution_count": null,
   "metadata": {},
   "outputs": [],
   "source": [
    "%%bash\n",
    "\n",
    "python /scratch/myang_shared/lab/mel/PythonBootcamp/melcustom/Lesson1/myfirstscript.py\n",
    "##You can also do this directly in Terminal\n"
   ]
  },
  {
   "cell_type": "markdown",
   "metadata": {},
   "source": [
    "## Variables: integers, floating-point numbers (decimal), strings (text)\n",
    "\n",
    "Computer programming is useful because it allows the programmer to tell the computer to perform operations that are too boring, tedious, or difficult for the programmer to do by hand. A useful computer program needs to be able to interact with the user, perform operations on changing sets of data, and make decisions about how to proceed based on conditions specific to each instance of its execution. To achieve these tasks, computer programs employ variables.\n",
    "\n",
    "Variables in computer science are different from algebraic variables, just like algebraic variables are different from statistical variables or experimental variables. In Python, a variable is a datum with a human-readable name which is assigned a given value. Variables can be reassigned to different values as the logic of the program dictates (variables have variable values, hence variables). \n",
    "\n",
    "In Python, everything and every type of data, from numbers and text to vectors and functions, are called **objects**, and objects are stored in memory. Technically, the values of variables in Python are the memory address of these objects.  Variables point (reference) at data (objects). It is often easier to think of variables as 'storing' values, though some situtations will require understanding of the more technical memory-based definition.\n",
    "\n",
    "Python programs use variables to store parameters taken in from the user, the execution environment, or the data your program is being called upon to process.\n",
    "\n",
    "These variables are named whatever you like, so long as they follow a few basic rules:\n",
    "\n",
    "1. Python variable names are case-sensitive, so Var and var are different variables.\n",
    "2. Though variable names can contain letters, numbers and underscores ( _ ), they MUST start with a letter (a-z).\n",
    "3. Variable names, CANNOT contain spaces or special non-alphanumeric characters (e.g. holyS#+%? is naughty, but holyMackerel is kid tested, mother approved), nor can they be any of the following words that already have special meaning in python:"
   ]
  },
  {
   "cell_type": "code",
   "execution_count": null,
   "metadata": {},
   "outputs": [],
   "source": [
    "    and    assert   break    class      continue   def      del      elif\n",
    "    else   except   exec     finally    for        from     global   if\n",
    "    import in       is       lambda     not        or       pass     print\n",
    "    raise  return   try      while      yield\n"
   ]
  },
  {
   "cell_type": "markdown",
   "metadata": {},
   "source": [
    "For the most part, ipython will remind you that these words are off-limits by coloring these words in helpful ways when you type them.\n",
    "\n",
    "\n",
    "Here are some invalid python variable names:\n",
    "\n",
    "**1sample\n",
    "sampleA.1\n",
    "class**\n",
    "\n",
    "And here are some good alternatives:\n",
    "\n",
    "**sample_1\n",
    "SampleA1\n",
    "bootcamp_class**"
   ]
  },
  {
   "cell_type": "markdown",
   "metadata": {},
   "source": [
    "## Variables, Objects, and Types\n",
    "\n",
    "Variables can reference (store) many different types of objects. Today we'll talk about three types of objects: integers, floating point (i.e. decimal) numbers, and strings.\n",
    "\n",
    "Run the following example, through which we'll explore a few properties of variables:"
   ]
  },
  {
   "cell_type": "code",
   "execution_count": null,
   "metadata": {},
   "outputs": [],
   "source": [
    "# by the way, lines starting with the pound sign (#)\n",
    "# makes them comments, ignored by the interpreter\n",
    " \n",
    "s = 'hella world'\n",
    "i = 42\n",
    "f = 3.14159\n",
    "print (s)\n",
    "print 'the variable s is type',type(s)\n",
    " \n",
    "print (i)\n",
    "print 'the variable i is type',type(i)\n",
    " \n",
    "print (f)\n",
    "print 'the variable f is type',type(f)\n"
   ]
  },
  {
   "cell_type": "markdown",
   "metadata": {},
   "source": [
    "\n",
    " In general, variables are assigned by typing the name you want to use, followed by a single equals sign, then the value you'd like to store. This is the same whether the variable you're assigning is an object of type str (a character string), int (whole number), float (non-integer real number), or any number of other fancier things you'll be using in the next two weeks.\n",
    " \n",
    " \n",
    "While (as your program tells you with the handy `type()` function) i is currently an integer, that doesn't mean it cannot change. You can easily reassign i to be anything that takes your fancy, including the value of another variable. You would do this with a statement such as the following:"
   ]
  },
  {
   "cell_type": "code",
   "execution_count": null,
   "metadata": {},
   "outputs": [],
   "source": [
    "i = s\n",
    " \n",
    "print (i)\n",
    "print 'the variable i is now type',type(i)\n"
   ]
  },
  {
   "cell_type": "markdown",
   "metadata": {},
   "source": [
    "There are plenty of cases where this is exactly what you want to do, but bear in mind that once a variable is re-assigned to a new value, the old value is lost forever.\n",
    "\n",
    "As an example, consider the case where (for some reason) you want to swap the values of two variables s and i. The first step might appear to be a line very much like the i = s statement above, but if you do this, the value of i is lost forever, meaning you can never assign it to s. This may seem like a rather abstract problem, (unless you've read ahead to today's exercises) but you'll encounter similar situations more often than you might think."
   ]
  },
  {
   "cell_type": "markdown",
   "metadata": {},
   "source": [
    "## Numerical operations\n",
    "\n",
    "Numerical values can be subjected to a wide variety of operations. While the full list is quite extensive (see [this link](http://docs.python.org/lib/typesnumeric.html for the full workup)), the most common operations should be familiar. For the most part, we use basic arithmetic operators exactly as you're used to seeing them.\n",
    "\n",
    "\n",
    "Note that standard mathematical order of operations applies, but it's far easier ... and safer ... to explicitly order compound operations using parentheses."
   ]
  },
  {
   "cell_type": "code",
   "execution_count": null,
   "metadata": {},
   "outputs": [],
   "source": [
    "i = 42\n",
    "f = 3.14159\n",
    " \n",
    "# addition uses the plus sign (+)\n",
    "sum = i + f\n",
    "# subtraction uses the minus sign (-)\n",
    "diff = i - f\n",
    "# multiplication uses the asterisk (*)\n",
    "prod = i * f\n",
    "# division uses the slash (/)\n",
    "quo = i / f\n",
    "# and exponents use a double-asterisk (**)\n",
    "pow = i ** f\n",
    " \n",
    "print ('sum',sum)\n",
    "print ('diff',diff)\n",
    "print ('prod',prod)\n",
    "print ('quo',quo)\n",
    "print ('pow',pow)\n",
    " \n",
    "x = 5\n",
    "print (\"x = \", x)\n",
    "x = x + 1\n",
    "print (\"now x is one more than before = \", x)\n",
    "x += 1\n",
    "print (\"now x is one more than before = \", x)\n"
   ]
  },
  {
   "cell_type": "markdown",
   "metadata": {},
   "source": [
    "Before we end, here are a few more functions related to thinking about the type of the variable you are using. Perhaps you have an integer but you'd rather treat it as a floating number (with decimals), or turn it into a string. You can use coercion functions such as:\n",
    "```python\n",
    "int()\n",
    "float()\n",
    "str()\n",
    "``` \n",
    "to turn an object into an integer, floating number, or string, respectively."
   ]
  },
  {
   "cell_type": "code",
   "execution_count": null,
   "metadata": {},
   "outputs": [],
   "source": [
    "x_int = 5\n",
    "y_flt = 10.2\n",
    "z_str ='4'\n",
    "\n",
    "x_str = str(x_int)\n",
    "x_flt = float(x_int)\n",
    "\n",
    "y_int = int(y_flt)\n",
    "y_str = str(y_flt)\n",
    "\n",
    "z_int = int(z_str)\n",
    "z_flt = float(z_str)\n",
    "\n",
    "print (x_int, x_str, x_flt)\n",
    "\n",
    "#result = x_int+y_flt+z_int; print (result, type(result))  # What happens when you add floats and integers?\n",
    "#result = x_int+y_int+z_int; print (result, type(result))  # What happens when you add all integers?\n",
    "#result = x_int+y_flt+z_str; print (result, type(result))  #What happens when you add a string to numbers?\n",
    "#result = x_str+y_str+z_str; print (result, type(result))  # What happens when you add all strings?\n"
   ]
  },
  {
   "cell_type": "markdown",
   "metadata": {},
   "source": [
    "We will end Lesson 1 here. Take a look at the exercises for Lesson 1 in the exercises folder."
   ]
  }
 ],
 "metadata": {
  "kernelspec": {
   "display_name": "Python 3 (ipykernel)",
   "language": "python",
   "name": "python3"
  },
  "language_info": {
   "codemirror_mode": {
    "name": "ipython",
    "version": 3
   },
   "file_extension": ".py",
   "mimetype": "text/x-python",
   "name": "python",
   "nbconvert_exporter": "python",
   "pygments_lexer": "ipython3",
   "version": "3.9.13"
  }
 },
 "nbformat": 4,
 "nbformat_minor": 1
}
