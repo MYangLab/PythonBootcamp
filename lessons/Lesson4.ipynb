{
 "cells": [
  {
   "cell_type": "markdown",
   "metadata": {},
   "source": [
    "# Manipulating Files and Processing Text\n",
    "\n",
    "We have learned about different data types, some things you can do with these data types, and some of the basic structure (conditionals and loops) that helps us write useful code in Lessons 1-3. Today, we will work more on how to use python to process text, and begin to read in files, since in most code, you will not be making up your own data to process, but you will be retrieving them from already prepared files! Lastly, we will learn to write to files. Often, you may want to print out the final output to a text file for further analysis or processing. \n",
    "\n",
    "\n",
    "## Topics\n",
    "- Basic text processing with **split**, **partition**, and **join**\n",
    "- Text testing with **endswith()**, **startswith()**, **find()**, and **in**\n",
    "- Text conversion with **swapcase()**, **replace()**, **upper()**, and **lower()**\n",
    "- Opening and closing filehandles\n",
    "- Reading from the filehandle with **read()**, **readline()**, and **readlines()**\n",
    "- Reading from the filehandle iterable\n",
    "- Writing or appending to a file with **write()** and **writelines()**\n"
   ]
  },
  {
   "cell_type": "markdown",
   "metadata": {},
   "source": [
    "## Basic Text Processing\n",
    "Systematically manipulating large text files is one of the most common tasks you will encounter. The most basic tools for this task are the built-in Python string methods. These allow us to convert between strings and lists, test the properties of strings, and modify strings.\n",
    "\n",
    "\n",
    "## Informative Interlude: getting ahead of ourselves with methods vs. functions\n",
    "Next class, we're going to learn all about writing our own *functions* to process information. These will be sets of logic that consider variables and manipulate them according to the logic that we assign. In a sense, *functions* are formally encapsulated manifestations of the sorts of things we've been writing with our scripts all week.\n",
    "\n",
    "But, as we're going to see with strings, many types of objects have special built-in functions. We call these endemic functions *methods*, and in a broader discussion of objected-oriented programming practice and theory, we would have much, much more to say about them. However, we're not getting into the object-oriented universe or philosophy here, so you'll have to take as explanation simply that some objects are so routinely manipulated with the same sorts of operations that it pays to have functions dedicated to their processing. In the case of strings and files today, we'll see the *methods* that routinely operate on these types.\n",
    "\n",
    "Whereas a *function* is written to accept *arguments* and process those *arguments*, a *method* processes the object to which it belongs and is *called* differently. Whereas a *function* such as `print` is called by typing `print(\"whatever you want\")`, etc, a *method* is called by typing a period and the name of the *method* at the end of the object. For example, if *print* were a *method*, it would be called like this: **string_variable.print()**. Notice that there are still **()** at the end of the name of the *method*, and *methods* can accept *arguments* just like *functions*. If all this seems eerily familiar, it may be because we've already seen the list *methods* **append()** and **extend()** in previous lessons. Apologies if this seems out of order and confusing, but we'll see how these concepts interoperate in more detail as the progress in these lessons. \n",
    "\n",
    "\n",
    "### *split()*\n",
    "\n",
    "Let's consider the task of converting a character string of a sentence into a list of words separated by spaces and punctuation marks below. I've put the result in comments below each `print` function, but you can also run the cell and see the result.\n"
   ]
  },
  {
   "cell_type": "code",
   "execution_count": null,
   "metadata": {},
   "outputs": [],
   "source": [
    "sentence_string = \"I am a well-written sentence, and so I dependably have punctuation. \"\n",
    "print (sentence_string.split(\",\"))\n",
    "##['I am a well-written sentence', ' and so I dependably have punctuation. ']\n",
    "\n",
    "print (sentence_string.split())\n",
    "##['I', 'am', 'a', 'well-written', 'sentence,', 'and', 'so', 'I', 'dependably', 'have', 'punctuation.', '']\n",
    "\n",
    "print (sentence_string.split(\" \",2))\n",
    "##['I', 'am', 'a well-written sentence, and so I dependably have punctuation. ']\n",
    "\n",
    "print (sentence_string.split(\"t\"))\n",
    "##['I am a well-wri', '', 'en sen', 'ence, and so I dependably have punc', 'ua', 'ion. ']\n",
    "\n",
    "print (list(sentence_string))\n",
    "##['I', ' ', 'a', 'm', ' ', 'a', ' ', 'w', 'e', 'l', 'l', '-', 'w', 'r', 'i', 't', 't', 'e', 'n', ' ', 's', 'e', 'n', 't', 'e', 'n', 'c', 'e', ',', ' ', 'a', 'n', 'd', ' ', 's', 'o', ' ', 'I', ' ', 'd', 'e', 'p', 'e', 'n', 'd', 'a', 'b', 'l', 'y', ' ', 'h', 'a', 'v', 'e', ' ', 'p', 'u', 'n', 'c', 't', 'u', 'a', 't', 'i', 'o', 'n', '.', ' ']"
   ]
  },
  {
   "cell_type": "markdown",
   "metadata": {},
   "source": [
    "The **split** method is applied to strings. What it does is it takes some delimiter (we used a \",\" in the first example above) as an argument, and it separates the string into a list separating out each substring between commas, leaving out the commas. Anything can be a delimiter, so long as it is a string. The default is blank space, if you don't specify a delimiter (see the second example above). This is convenient as it will split upon any blank space of any size (such as tabs or just one space). "
   ]
  },
  {
   "cell_type": "code",
   "execution_count": null,
   "metadata": {},
   "outputs": [],
   "source": [
    "somuchwhitespace = \"Here   is\\t so much      white space,  but    the\\ndefault \\t still   works!\"\n",
    "print (\"the string\")\n",
    "print (somuchwhitespace)\n",
    "print ()\n",
    "print (\"the split string\")\n",
    "print (somuchwhitespace.split())\n"
   ]
  },
  {
   "cell_type": "markdown",
   "metadata": {},
   "source": [
    "\n",
    "There is an optional second argument on the **split** method, which is an integer number **x**. This argument specifies the number of times you want to split the string. After splitting **x** times, the rest of string is kept intact, even if the delimiter is present.\n",
    "\n",
    "When the delimiter occurs more than once in succession, the split space is an empty string. Thus, it's useful that the default is all whitespace--otherwise different files with different amounts of whitespace between data entries could get very frustrating very quickly!\n",
    "\n",
    "Using the above `somuchwhitespace` string, try to recreate the following two lists - what character is being split? It is split every time?\n",
    "\n",
    "```python\n",
    "somuchwhitespace = \"Here   is\\t so much      white space,  but    the\\ndefault \\t still   works!\"\n",
    "\n",
    "['Here   is\\t so much      white space,  but    the\\ndefau', 't \\t sti', '', '   works!']\n",
    "['H', 'r', '   is\\t so much      white space,  but    the\\ndefault \\t still   works!']\n",
    "```"
   ]
  },
  {
   "cell_type": "markdown",
   "metadata": {},
   "source": [
    "Using the function `list` on a string will turn it into a list of all the characters in the string.\n",
    "\n",
    "Two more splitting methods are **splitlines** which only splits on line breaks \"\\n\" and **rsplit**, which when it has a second argument, will reverse and start splitting from the end of the string (but will print the list in the string order).\n",
    "\n",
    "\n",
    "**partition(delimiter)** is a method that acts like **split(delimiter,1)**, but unlike **split**, the delimiter is kept within the list. It always outputs a ***tuple*** of length three. \n",
    "\n",
    "```python\n",
    "somuchwhitespace = \"Here   is\\t so much      white space,  but    the\\ndefault \\t still   works!\"\n",
    "print (somuchwhitespace.partition('\\t'))\n",
    ">> ('Here   is', '\\t', ' so much      white space,  but    the\\ndefault \\t still   works!')\n",
    "```\n",
    "\n",
    "For each of the following, predict what would occur. Then, try removing the argument or adding a new argument in lieu of a comma. Predict what would happen as a result for each case below."
   ]
  },
  {
   "cell_type": "code",
   "execution_count": null,
   "metadata": {},
   "outputs": [],
   "source": [
    "delimiter = \",\" \n",
    "sentence_string = \"I am a well-written sentence, and so I dependably have punctuation. \"\n",
    "list_from_string = sentence_string.split(delimiter) \n",
    "\n",
    "print (list_from_string)\n",
    "\n",
    "##try removing the argument or adding a new argument in lieu of a comma. Predict what would happen in each case.\n"
   ]
  },
  {
   "cell_type": "code",
   "execution_count": null,
   "metadata": {},
   "outputs": [],
   "source": [
    "delimiter=\" \"\n",
    "sentence_string = \"I am a well-written sentence, and so I dependably have punctuation. \"\n",
    "list_from_string = sentence_string.rsplit(delimiter,2) \n",
    "print (list_from_string)"
   ]
  },
  {
   "cell_type": "code",
   "execution_count": null,
   "metadata": {},
   "outputs": [],
   "source": [
    "somuchwhitespace = \"Here   is\\t so much      white space,  but    the\\ndefault \\t still   works!\"\n",
    "print (somuchwhitespace.partition('z'))"
   ]
  },
  {
   "cell_type": "code",
   "execution_count": null,
   "metadata": {},
   "outputs": [],
   "source": [
    "somuchwhitespace = \"Here   is\\t so much      white space,  but    the\\ndefault \\t still   works!\"\n",
    "list_from_string = somuchwhitespace.splitlines() \n",
    "print (list_from_string)"
   ]
  },
  {
   "cell_type": "markdown",
   "metadata": {},
   "source": [
    "## join()\n",
    "The method with the opposite function from **split** is **join**, which turns a list into a string. It has the form:\n",
    "\n",
    "```python\n",
    "seq = [\"A\",\"A\",\"G\",\"G\",\"G\",\"C\",\"A\",\"T\",\"T\",\"C\",\"C\"]\n",
    "print (\"-\".join(seq))\n",
    ">> \"A-A-G-G-G-C-A-T-T-C-C\"\n",
    "```\n",
    "\n",
    "Is this a list or string method? How can you tell?\n",
    "\n",
    "Some key things to remember is that your delimiter goes at the beginning, and your list that is being joined must contain only strings. "
   ]
  },
  {
   "cell_type": "code",
   "execution_count": null,
   "metadata": {},
   "outputs": [],
   "source": [
    "seq = [\"A\",\"A\",\"G\",\"G\",\"G\",\"C\",\"A\",\"T\",\"T\",\"C\",\"C\"]\n",
    "print (\"-\".join(seq))"
   ]
  },
  {
   "cell_type": "markdown",
   "metadata": {},
   "source": [
    "How would you create the following list?\n",
    "\n",
    "```python\n",
    "seq = [\"A\",\"A\",\"G\",\"G\",\"G\",\"C\",\"A\",\"T\",\"T\",\"C\",\"C\"]\n",
    "print (???)\n",
    ">> ['A-A-', '-', '-', '-C-A-T-T-C-C']\n",
    "```"
   ]
  },
  {
   "cell_type": "markdown",
   "metadata": {},
   "source": [
    "## Testing your text\n",
    "There are multiple other methods associated with strings, including **startswith**, **endswith** and **find**. Below is an example of each."
   ]
  },
  {
   "cell_type": "code",
   "execution_count": null,
   "metadata": {},
   "outputs": [],
   "source": [
    "seq = \"ATGGGCATTAG\"\n",
    "print (seq.startswith(\"ATG\"))\n",
    "print (seq.endswith(\"TAG\"))\n",
    "print (seq.find('GCA'))"
   ]
  },
  {
   "cell_type": "markdown",
   "metadata": {},
   "source": [
    "**startswith** asks if the argument begins the string. **endswith** asks if the argument ends the string. **find** returns the index where the string is found. \n",
    "\n",
    "1. What happens when the argument in **find** appears more than once? \n",
    "2. What happens when the argument is not in the string?\n",
    "\n",
    "Use the following example below to see what occurs."
   ]
  },
  {
   "cell_type": "code",
   "execution_count": null,
   "metadata": {},
   "outputs": [],
   "source": [
    "seq = \"ATGGGCATTAG\"\n",
    "print (seq.find(\"AT\"))\n",
    "print (seq.find(\"notinstring\"))"
   ]
  },
  {
   "cell_type": "markdown",
   "metadata": {},
   "source": [
    "We have used `in` before on lists and dictionaries, but we can also use them to check if a substring is within a string. \n",
    "\n",
    "See the example below."
   ]
  },
  {
   "cell_type": "code",
   "execution_count": null,
   "metadata": {},
   "outputs": [],
   "source": [
    "seq = \"AAAAGGAATGGGCATTAGTTGAGGGG\"\n",
    "if 'ATG' in seq and 'TAG' in seq: \n",
    "    print (\"There is a gene in this sequence!\")\n",
    "    beginind = seq.find('ATG')\n",
    "    endind   = seq.find('TAG')\n",
    "    print (seq[beginind:endind] )"
   ]
  },
  {
   "cell_type": "markdown",
   "metadata": {},
   "source": [
    "3. What is happening in the above script? \n",
    "4. What might be a problem if you were to use just this script to find genes? (There are likely many - there are many other requirements of a DNA sequence to decide if the sequence will be transcribed to amino acids. Can you think of any?)\n",
    "5. What if you wanted to include the 'TAG' at the end of the sequence? How could you do that?"
   ]
  },
  {
   "cell_type": "markdown",
   "metadata": {},
   "source": [
    "## Text Conversions\n",
    "Systematically replacing the instances of a substring with a replacement substring may be a familiar task of tedium. Python has several methods for systematically converting characters in strings. The most general is the method **replace()**.\n",
    "\n",
    "```python\n",
    "oldcityname = \"Peking\"\n",
    "newcityname = oldcityname.replace(\"Pek\",\"Beij\")\n",
    "print ('old', oldcityname)\n",
    "print ('new', newcityname)\n",
    "\n",
    ">> 'old Peking'\n",
    ">> 'new Beijing'\n",
    "```\n",
    "\n",
    "Notice that **replace()** does not change the string in place. Remember that strings are immutable, so you have to reassign the variable to refer to the new string object that **replace** returns.\n",
    "\n",
    "Since Python is case sensitive, as are most programming languages you'll be interested in using, you may also find yourself wishing that all the text in your data was the same case. There are methods for both testing and converting cases. These include **upper** and **lower** which change all the cases to upper or lower case, respectively. **isupper** and **islower** asks if all the cases are upper or lower case.  **swapcase** turns each case from lower to upper or upper to lower depending on what is already present. **isalpha** checks if all characters in the string are letters. "
   ]
  },
  {
   "cell_type": "code",
   "execution_count": null,
   "metadata": {},
   "outputs": [],
   "source": [
    "oldcityname = \"Peking\"\n",
    "newcityname = oldcityname.replace(\"Pek\",\"Beij\")\n",
    "print (\"example above\")\n",
    "print ('old', oldcityname)\n",
    "print ('new', newcityname)\n",
    "print()\n",
    "\n",
    "print (\"True or False?\")\n",
    "print ('isupper()')\n",
    "print (oldcityname.isupper())\n",
    "print ()\n",
    "print ('islower()')\n",
    "print (oldcityname.islower())\n",
    "print ()\n",
    "print (\"Change upper or lower case\")\n",
    "print ('upper()')\n",
    "print (oldcityname.upper())\n",
    "print ()\n",
    "print ('lower()')\n",
    "print (oldcityname.lower())\n",
    "print ()\n",
    "print ('swapcase()')\n",
    "print (oldcityname.swapcase())\n",
    "print ()\n",
    "print (\"Check if using letters\")\n",
    "print ('isalpha()')\n",
    "print (oldcityname.isalpha())"
   ]
  },
  {
   "cell_type": "markdown",
   "metadata": {},
   "source": [
    "## Files and Filehandles\n",
    "Now that we can process text, all we need is... more text. And odds are, that text is going to come in the form of a file, so it's high time that we start using them.\n",
    "\n",
    "### Opening Filehandles\n",
    "A filehandle is an object that controls the stream of information between your program and a file stored somewhere on the computer. Filehandles are not filenames, and they are not the files themselves. Like variables, filehandles contain the address of the file on the hard drive or other storage media. But unlike variables, filehandles also keep track of your current read position in the file. Imagine your file is like a book in a library. The filehandle tells Python where that book is, and keeps a bookmark in the book for where you currently are. Because filehandles are not the files themselves deleting a filehandle in your script using the `del` function does nothing to the file that handle refers to.\n",
    "\n",
    "Let's try to open the file containing information on the ancient individuals included in the genotype calls file, ***\"51.2.2M.ind\"*** in the resources/ folder. Remember, we downloaded this in Exercise 1 from https://reich.hms.harvard.edu/datasets.\n",
    "\n",
    "To open files, we use the function `open`, which takes as argument a string that is the path to the file. If you do not have a file path, it automatically looks in the directory from which the script is being called. \n",
    "\n",
    "In general, it is good practice to use absolute path nomenclature (e.g. /Users/myang/some_file or /home/myang/some_file), but you can also place the file you want in the same directory as your program and not use any path. I often prefer to set up the file paths in a variable, so I don't have to rewrite the file path over and over if I have to use multiple different files from the same path.\n"
   ]
  },
  {
   "cell_type": "code",
   "execution_count": 1,
   "metadata": {},
   "outputs": [
    {
     "name": "stdout",
     "output_type": "stream",
     "text": [
      "<_io.TextIOWrapper name='/scratch/myang_shared/lab/mel/PythonBootcamp/resources/51.2.2M.ind' mode='r' encoding='UTF-8'>\n"
     ]
    }
   ],
   "source": [
    "pD = \"/scratch/myang_shared/lab/mel/PythonBootcamp/resources/\" #Put your path to your resources/ directory\n",
    "myfile = open(pD+\"51.2.2M.ind\",'r')\n",
    "print (myfile)\n",
    "myfile.close()"
   ]
  },
  {
   "cell_type": "markdown",
   "metadata": {},
   "source": [
    "Above, the output of `myfile` is an object that points to the file you want to read in. We used 'r' (or mode='r') as a second argument to indicate we want to read the file. Later, we will introduce some other options for the second argument. At the end, I put the command `myfile.close()`, which is a *method* that closes the file after opening it.\n",
    "\n",
    "However, none of the above allows us to actually look at the lines in the file. For this, we need to use methods **readline**, **readlines** or a `for loop`. In the cell above, try adding the following line somewhere between the `open` function and the `myfile.close()` command. You should then get the resulting output shown here. To convince yourself this is the first line in the ***51.2.2M.ind*** file, try using Terminal/Linux (or %%bash) to look at the first few lines of the file.\n",
    "```python\n",
    "print (myfile.readline())\n",
    ">> '              Bichon M     Bichon\\n'\n",
    "```\n",
    "\n",
    "By using the method **readline**, we retrieved a string of the first line of the file, all white spaces and line breaks included.  However, if we continued forwards, adding a second `print (myfile.readline())` , we would find that even though we didn't assign anything anywhere, what was printed was the second line.\n",
    "\n",
    "```python\n",
    ">> '                 KK1 M     Kotias\\n'\n",
    "```\n",
    "\n",
    "The printed line is now the second line in the file. The filehandle object has a memory of what has already been retrieved from the file. This would occur until you reach the end fo the file, upon which **readline** would only give you an empty string.\n",
    "\n",
    "If we now added **readlines**, we would find:\n",
    "\n",
    "```python\n",
    "print (myfile.readlines())\n",
    ">> ['                SATP M Satsurblia\\n',\n",
    " '            Motala12 M   Motala12\\n',\n",
    " '               I9030 M Villabruna\\n',\n",
    " '               I0898 M Kostenki12\\n',\n",
    " '               I0062 M Vestonice16\\n',\n",
    " '               I0876 M Kostenki14\\n',\n",
    " '        I0066.damage M    Pavlov1\\n',\n",
    " '        I0909.damage F   Muierii2\\n',\n",
    " '        I0004.damage M Vestonice13\\n',\n",
    " '        I0080.damage M Vestonice15\\n',\n",
    " '        I0065.damage M Vestonice43\\n',\n",
    " '        I0889.damage M    Ostuni2\\n',\n",
    " '        I0869.damage F    Ostuni1\\n',\n",
    " '        I0878.damage F Continenza\\n',\n",
    " '        I0006_damage M Vestonice14\\n',\n",
    " '        I0907.damage F    ElMiron\\n',\n",
    " '        I9050.damage F AfontovaGora3\\n',\n",
    " '      Ranchot.damage F  Ranchot88\\n',\n",
    " '    Bockstein.damage F  Bockstein\\n',\n",
    " '        Ofnet.damage F      Ofnet\\n',\n",
    " '       LCX-13.damage M LesCloseaux13\\n',\n",
    " '        Berry_au_Bac M BerryAuBac\\n',\n",
    " '              Q116-1 M GoyetQ116-1\\n',\n",
    " '        Cioclovina_d M Cioclovina1\\n',\n",
    " '                B1_d M Paglicci108\\n',\n",
    " '             Q53-1_d M GoyetQ53-1\\n',\n",
    " '           Q376-19_d M GoyetQ376-19\\n',\n",
    " '            Q56-16_d M GoyetQ56-16\\n',\n",
    " '            GA252snp M Paglicci133\\n',\n",
    " '          Hohle_Fels M HohleFels79\\n',\n",
    " '                HF49 M HohleFels49\\n',\n",
    " '             Rigney2 F    Rigney1\\n',\n",
    " '                  Q2 M   GoyetQ-2\\n',\n",
    " '               BRI_d M Brillenhohle\\n',\n",
    " '               BUR_d M Burkhardtshohle\\n',\n",
    " '           Rochedane M  Rochedane\\n',\n",
    " '               ADI_d M Iboussieres39\\n',\n",
    " '       Falkenstein_d M Falkenstein\\n',\n",
    " '             CRC-1_d M Chaudardes1\\n',\n",
    " '               I1577 M   KremsWA3\\n',\n",
    " '                 MA1 M     Malta1\\n',\n",
    " '                 AG2 M AfontovaGora2\\n',\n",
    " '                 KO1 M Hungarian.KO1\\n',\n",
    " '            LaBrana1 M   LaBrana1\\n',\n",
    " '         Leipzip_B_U M      Oase1\\n',\n",
    " '               I0061 U    Karelia\\n',\n",
    " '           Loschbour M  Loschbour\\n',\n",
    " '           Ust_Ishim M   UstIshim\\n',\n",
    " '           Stuttgart F  Stuttgart\\n']\n",
    "```\n",
    "\n",
    "For **readlines**, what is returned is a list of strings, where each string is, in order, for each line in the file. Thus, beginning with this method, we could get all the lines in a file into a list, retrieving any line in the file for use as needed. However, because the filehand retains memory, in the above example, the list returned did not include the first two lines of the **.ind** file. \n",
    "\n",
    "1. Can you envision a reason you might want to be careful with **readlines**? What if the file size was 10 Gb?\n",
    "\n",
    "Another way of reading the lines in a file is through a `for loop`. Here, the dummy variable refers to each line until it reaches the end of the file. \n"
   ]
  },
  {
   "cell_type": "code",
   "execution_count": null,
   "metadata": {},
   "outputs": [],
   "source": [
    "pD = \"/scratch/myang_shared/lab/mel/PythonBootcamp/resources/\"\n",
    "myfile = open(pD+\"51.2.2M.ind\",'r')\n",
    "for line in myfile: \n",
    "    print (line)\n",
    "myfile.close()"
   ]
  },
  {
   "cell_type": "markdown",
   "metadata": {},
   "source": [
    "Always remember to add the method **close** at the end when you are done with the file. \n",
    "\n",
    "This closes the file handle. While it often doesn't affect your script (you won't get an error if you accidentally forget to close the file), it is a useful habit to add this command, because until the file is closed in some form, it takes up system resources. While not a problem in smaller code, if you have a script that opens and uses millions of different files, you might take up too much of your system resources, slowing down or crashing your computer. \n",
    "\n",
    "Also in an interactive space like here - if you opened the file in an earlier cell and called a few lines, and then forgot to close, if you were to read lines in later cells, it would remember it was called earlier - this may be what you want, or it may make you only look at part of the file. \n",
    "\n",
    "We now have many ways to read in the lines of a file into strings, but we still need to edit the string to retrieve useful information. Now, though, we can use the text processing tools we learned at the beginning of this lesson!\n",
    "\n",
    "Below, I used **split** with the default to turn each string into a list of strings (in this case, a list of three strings for each column in the **ind** file). I then used the method **isalpha** to check if the third element, `x[2]` contains all letters. If it does, I print `x[2]`. If not, I do nothing and continue moving through the file. \n",
    "\n",
    "2. I also introduced a new method **strip** - look up what it does, either by using ?? or googling or both. What is it doing here, that changes the output compared to the cell above? Try printing `line.strip()` and just `line` by itself if you're not sure. "
   ]
  },
  {
   "cell_type": "code",
   "execution_count": null,
   "metadata": {},
   "outputs": [],
   "source": [
    "pD = \"/scratch/myang_shared/lab/mel/PythonBootcamp/resources/\"\n",
    "myfile = open(pD+\"51.2.2M.ind\",'r')\n",
    "for line in myfile:\n",
    "    x = line.strip().split()\n",
    "    if x[2].isalpha() == True: print (x[2])"
   ]
  },
  {
   "cell_type": "markdown",
   "metadata": {},
   "source": [
    "### Writing to Files\n",
    "Now that you did all this work to extract the parts of the data you want, you might not want all your work to go to waste by remaining within the script. Perhaps you want to take the set of data and use it in another program, or put it into a nice format to stick into a presentation! Thus, the next step is to write to file. Luckily this is very easy and uses the same `open` function as reading files does. \n",
    "\n",
    "Remember when we used the second argument in `open` of 'r'? Well, if we use 'w' instead, we instead tell python to create a new file with the file path and name given in the first argument. Then, anytime we use the method **write** on the filehandle, we will write into that new text file.  "
   ]
  },
  {
   "cell_type": "code",
   "execution_count": null,
   "metadata": {},
   "outputs": [],
   "source": [
    "pD = \"/scratch/myang_shared/lab/mel/PythonBootcamp/scratchwork/\" ##I made a space to put newly made files called 'scratchwork'\n",
    "newfile = open(pD+\"test_writetofile.txt\",'w')\n",
    "newfile.write(\"Woah, are we making a new file from scratch?\\nYes we are!\")\n",
    "newfile.close()\n",
    "\n",
    "print (\"Check your scratchwork/ folder using Linux commands and see if there's a new file!\")"
   ]
  },
  {
   "cell_type": "markdown",
   "metadata": {},
   "source": [
    "Note the important role \"\\n\" is playing - what would happen if we just used regular spaces there?\n",
    "\n",
    "You have to tell Python every single thing you want in the file, including line breaks.\n",
    "\n",
    "**writelines** takes a list of strings and writes these to file. See the following."
   ]
  },
  {
   "cell_type": "code",
   "execution_count": null,
   "metadata": {},
   "outputs": [],
   "source": [
    "pD = \"/scratch/myang_shared/lab/mel/PythonBootcamp/scratchwork/\"\n",
    "newfile = open(pD+\"test_writetofile.txt\",'w')\n",
    "newfile.writelines([\"Woah, are we making a new file from scratch?\",\"Yes we are!\",\"Now we are using writelines!\",\"What is wrong here?!\"])\n",
    "newfile.close()"
   ]
  },
  {
   "cell_type": "markdown",
   "metadata": {},
   "source": [
    "1. What is wrong with our new file, and how can we fix it?\n",
    "\n",
    "Now, let's go back to our first version of the textfile, where we used **write**. But wait, that is no longer available! This is because when we used the 'write' option on the `open` function, it will automatically override any previous file handle with the same name! This old file will be permanently deleted, and it won't be in your Trash or Recycling Bin to retrieve. \n",
    "\n",
    "***This is one of the easiest and most devastating bugs you can make, so always be very aware of when you are using 'w' vs. 'r' to avoid erasing a previous file you meant to keep!***\n",
    "\n",
    "Another option in `open` is the 'append' or 'a' option. This allows you to add to the end of a file. "
   ]
  },
  {
   "cell_type": "code",
   "execution_count": null,
   "metadata": {},
   "outputs": [],
   "source": [
    "pD = \"/scratch/myang_shared/lab/mel/PythonBootcamp/scratchwork/\"\n",
    "newfile = open(pD+\"test_writetofile.txt\",'a')\n",
    "newfile.write(\"Now I am adding a line to the end!\\n\")\n",
    "newfile.close()"
   ]
  },
  {
   "cell_type": "markdown",
   "metadata": {},
   "source": [
    "Now, with **append**, I've directly added into the file instead of overwriting the old one. \n",
    "\n",
    "I generally do not use the 'append' option, as I would rather write things to a new file and concatenate using the Linux command, to make sure I don't accidentally add things I do not want to older files. Consider if you ran the above code five times (give it a try!) - each time you'd keep adding to your original file, which can quickly make things build up unintendedly. \n",
    "\n",
    "Lastly, a note on **close** and writing files. With writing files, Python may not make the changes you stipulate right away, so if you plan to evaluate the contents of the file you're writing in the same script (or for instance use that file for something else during the run of that script), it is wise to close the filehandle to ensure that all the write operations you've requested are performed. Python will close any files at the end of the program's execution, so in most cases, this is unlikely to be a problem, but again in some situations as described above, it can be a problem. Thus, I again encourage finishing out opening any file with the **close** method. \n",
    "\n",
    "While we're on the subject, it is almost never a good idea to write to a file then read from it in the same script. When your data is in the form of Python objects those objects are stored in memory, and accessing data stored in *memory is 6 to 100,000 times faster than a hard disk*. We have not talked much about errors or code organization yet, but as your scripts get more advanced and you are dealing with larger text files, the memory your script uses and speed it runs is incredibly important, so it is good to start thinking of how to write code that uses little memory and is efficient. We will discuss this more in future lessons as we start bringing all the basics together!"
   ]
  },
  {
   "cell_type": "markdown",
   "metadata": {},
   "source": [
    "As a quick check, can you take the **51.2.2M.ind** file in the `resources/` folder, and then use Python to make a new file containing the same information, in all upper case, with only tabs separating between columns, with no extra white space at the beginning? Name the new file **51.2.2M.edited.ind** and put it in `scratchwork/`. \n",
    "\n",
    "The beginning of the file would look like this:\n",
    "```\n",
    "BICHON  M       BICHON\n",
    "KK1     M       KOTIAS\n",
    "SATP    M       SATSURBLIA\n",
    "MOTALA12        M       MOTALA12\n",
    "I9030   M       VILLABRUNA\n",
    "I0898   M       KOSTENKI12\n",
    "I0062   M       VESTONICE16\n",
    "I0876   M       KOSTENKI14\n",
    "I0066.DAMAGE    M       PAVLOV1\n",
    "I0909.DAMAGE    F       MUIERII2\n",
    "```\n",
    "\n",
    "This synthesizes many parts of Lesson 4, so you may want to work through some focused exercises in Exercise 4 and then return to this last question. "
   ]
  }
 ],
 "metadata": {
  "kernelspec": {
   "display_name": "Python 3 (ipykernel)",
   "language": "python",
   "name": "python3"
  },
  "language_info": {
   "codemirror_mode": {
    "name": "ipython",
    "version": 3
   },
   "file_extension": ".py",
   "mimetype": "text/x-python",
   "name": "python",
   "nbconvert_exporter": "python",
   "pygments_lexer": "ipython3",
   "version": "3.9.13"
  }
 },
 "nbformat": 4,
 "nbformat_minor": 2
}
