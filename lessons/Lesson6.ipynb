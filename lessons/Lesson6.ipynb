{
 "cells": [
  {
   "cell_type": "markdown",
   "metadata": {},
   "source": [
    "# Lesson 6: Smart Practices with Python\n",
    "\n",
    "At this point, you have most of the groundwork you need to write basic scripts, and much of the rest is practicing and building up your knowledge of different functions and modules until the logic and vocabulary becomes second nature. \n",
    "\n",
    "Today's lesson will explore dealing with errors while scripting and methods of outlining your code to make sure the complex script you're creating runs as you plan. \n",
    "\n",
    "## Errors\n",
    "\n",
    "\"Debugging is twice as hard as writing the code in the first place. Therefore, if you write the code as cleverly as possible, you are, by definition, not smart enough to debug it.\" – Brian W. Kernighan\n",
    "\n",
    "Let's be honest, most of us aren't perfect. And in our zen self-awareness, we are well-served to be sensitive to our predispositions to err in particular ways. We are probably even better served to listen to the computer when it tells us we've made a big mistake. Python can be quite good at communicating our flaws to us, if only we're receptive to the constructive criticism in its spartanly high-contrast black and white print.\n",
    "\n",
    "This morning we're going to look at common sources of error, see what to look for as feedback from Python, and learn a couple of tricks to both obviate or track down bugs, should they occur.\n",
    "\n",
    "If you're very lucky, an error will cause Python to give up right away, while others will cause insidious bugs that sneak through unnoticed until you present your work in lab meeting and someone calls out you on your exciting, but seemingly impossible (and ultimately bogus) result.\n",
    "\n",
    "The errors that don't give an immediate error are called **logical errors**, while those that give immediate errors are called **syntax errors** or **runtime errors**. [This link](https://rollbar.com/blog/python-errors-and-how-to-handle-them/) gives a more in-depth run-down. You've already had to deal with these, by the very fact that you have been coding for the last five lessons. Here, we will talk about them explicitly. \n",
    "\n",
    "**Logical errors** are the hardest to fix, as you have no aid as you're executing the script. Your code worked, but perhaps not as you intended. Thus, the problem is *logical* - you need to figure out why what your brain is thinking is not matching what the computer is 'thinking'. Logical errors are found by going through the script and making sure each part is printing what you think it should be printing, and they are easier to fix as you gain better intuition about how different data types and functions work. However, even then it can be difficult to find the dumb slicing or data typing mistake. There are some strategies that if you always employ, will minimize the amount of errors or at least help you catch them early in writing code. \n",
    "\n",
    "1. Strategic Initiative 1: Test Early, Test Often\n",
    "2. Strategic Initiative 2: Be Verbose\n",
    "3. Strategic Initiative 3: Be Boring, Be Obvious\n",
    "\n",
    "### 1. Strategic Initiative 1: Test Early, Test Often\n",
    "\n",
    "There's an approach to software engineering called \"Test Driven Development (TDD)\". In that way of doing things, before you write a function that does something, you write code that tests it, often in a separate file. It's really convenient to use modules to do this, where you could have a `test.py` file that imports the relevant functions from your other modules and tests them on as many cases as it can. This also has the advantage that you notice fairly quickly when your new code breaks something that used to work. Especially in scientific programming, this isn't always practical to do, but the general ideas hold: testing is good.\n",
    "\n",
    "Even if you don't do TDD, you can save yourself lots of time by testing frequently. Debugging 100 lines of code is often more than 10 times as hard as debugging 10 lines. Writing a ton of code that generates output without checking if each component works individually does NOT make you a coding rock star; it makes you sloppy.\n",
    "\n",
    "### 2. Strategic Initiative 2: Be Verbose\n",
    "\n",
    "\"Errors should never pass silently.\" -- The Zen of Python, by Tim Peters\n",
    "\n",
    "One of the easiest ways to debug code is to print out the value of variables at the point things start going wrong. Of course, if you knew where things were going wrong, you would probably know what was going wrong in the first place, so to find this, a divide-and-conquer approach is often fastest. Start out by putting a bunch of distinguishable `print` statements in throughout your code, then narrow things down gradually until you're right at the broken line of code.\n",
    "\n",
    "It's not a bad idea to include these `print` statements in moderation before you need them. If you think there will be a subset of your data that will fail a logical test, set up your **if** and **else** statements to report the incidence of failure.\n",
    "\n",
    "For instance, in nested loops, I often will print the variables belonging to each `for loop`, making sure that what is printed out is what I expect. \n",
    "\n",
    "### 3. Strategic Initiative 3: Be Boring, Be Obvious\n",
    "\n",
    "\"Programs must be written for people to read, and only incidentally for machines to execute.\" --Structure and Interpretation of Computer Programs Hal Abelson and Gerald Jay Sussman\n",
    "\n",
    "As you get better at coding, you will start to take shortcuts and combine lines. As soon as something doesn't behave as you expect, you should decompose your compound statements, as this is a common source of error.\n",
    "\n",
    "---\n",
    "\n",
    "Now let's take a look at at some code and think a bit about errors. \n",
    "\n",
    "The following example uses `seq.fasta`, a file you made and added to your `resources/` directory in Exercise 4. \n",
    "\n",
    "If you don't have this file, the contents of the FASTA file are below - make the `seq.fasta` file so you can run the exercise. \n",
    "\n",
    "```\n",
    ">gene1\n",
    "ATGAGACGTAGTGCCAGTAGCGCGATGTAGCG\n",
    "ATGACGCATGACGCGCGACGCGCGAGTGAGCC\n",
    "ATACGCACGCATTGGCA\n",
    ">gene2\n",
    "ATGTTCGACGCATACGACGCGCAGTACCAGCA\n",
    "ATGACGCACCGGGATACACGACGCGGATTTTT\n",
    "ACGCACCGAGATAGCATAAAAGACCATTAG\n",
    ">gene3\n",
    "TTATGGCACCCACTAGAGCCAGATTATTTTAAA\n",
    "```"
   ]
  },
  {
   "cell_type": "code",
   "execution_count": null,
   "metadata": {},
   "outputs": [],
   "source": [
    "pd=\"/scratch/myang_shared/lab/mel/PythonBootcamp/resources/\"\n",
    "myfile = open(pd+\"seq.fasta\",mode='r') \n",
    "myfile = myfile.read()\n",
    "\n",
    "print (\"Note that the compound and expanded versions give the same result.\")\n",
    "\n",
    "##COMPOUND\n",
    "xx = {int(myfile[5:7].strip()):myfile[7:40].strip()+myfile[40:72].strip()+myfile[72:].strip()}[int(myfile[5:7].strip())][3:8]\n",
    "print ('Compound Result:', xx)\n",
    "\n",
    "##EXPANDED\n",
    "myl1 = myfile[5:7]\n",
    "myl1 = myl1.strip()\n",
    "myl2 = myfile[7:40]\n",
    "myl2 = myl2.strip()\n",
    "myl3 = myfile[40:72]\n",
    "myl3 = myl3.strip()\n",
    "myl4 = myfile[72:]\n",
    "myl4 = myl4.strip()\n",
    "mykey = int(myl1)\n",
    "myseq1 = myl2+myl3+myl4\n",
    "mydict = {mykey:myseq1}\n",
    "xx = mydict[mykey][3:8]\n",
    "print ('Expanded Result:', xx)"
   ]
  },
  {
   "cell_type": "markdown",
   "metadata": {},
   "source": [
    "If any one of these parts were wrong, then in the compound form, `xx` would be wrong, but it would be difficult to figure out which part caused the problem. In the expanded form, `xx` would be wrong, but you can print several of the interim outputs to see where you get something unexpected. \n",
    "\n",
    "On a related note, it's good practice to comment your code. The [Python Style Guide](https://peps.python.org/pep-0008/#comments) has some good recommendations about comments. Anything you did that required some thinking on your part should ideally be commented, since you might come back to the code weeks or months later and have forgotten why you did it that way. Also try to keep your comments up to date with the code."
   ]
  },
  {
   "cell_type": "code",
   "execution_count": null,
   "metadata": {},
   "outputs": [],
   "source": [
    "pd=\"/scratch/myang_shared/lab/mel/PythonBootcamp/resources/\"\n",
    "myfile = open(pd+\"seq.fasta\",mode='r')\n",
    "myfile = myfile.read()\n",
    "\n",
    "xx = {int(myfile[5:7].strip()):myfile[7:40].strip()+myfile[40:72].strip()+myfile[72:].strip()}[int(myfile[7].strip())][3:8]\n",
    "\n",
    "print (xx)\n",
    "\n",
    "## Can we find the error? Break down the parts of this compound code to figure it out. \n",
    "## It should print 'AGACG' like above.\n",
    "## Note that a 'FileNotFoundError' means you aren't looking in the file - this is not the intended error!"
   ]
  },
  {
   "cell_type": "markdown",
   "metadata": {},
   "source": [
    "If you're stuck, take a look at the code below for one way of breaking down the compound code and finding where the error is. Try copying that into a new code cell and running it.\n",
    "\n",
    "```python\n",
    "a = int(myfile[5:7].strip())\n",
    "b = myfile[7:40].strip()\n",
    "c = myfile[40:72].strip()\n",
    "d = myfile[72:].strip()\n",
    "e = int(myfile[7].strip())\n",
    "yy = {a:b+c+d}[e][3:8]\n",
    "print (yy)\n",
    "```"
   ]
  },
  {
   "cell_type": "markdown",
   "metadata": {},
   "source": [
    "**Syntax errors** are easier to fix, as they are mistakes in the \"grammar\" of the language. The script cannot finish, and most importantly, it will give you an error message. "
   ]
  },
  {
   "cell_type": "code",
   "execution_count": null,
   "metadata": {},
   "outputs": [],
   "source": [
    "for x in [1,2,3]\n",
    "    print (x)"
   ]
  },
  {
   "cell_type": "markdown",
   "metadata": {},
   "source": [
    "The above code has an error. If you run it, you see several lines displaying the error. \n",
    "\n",
    "```python\n",
    "  File \"<ipython-input-10-608b103f78ac>\", line 1\n",
    "    for x in [1,2,3]\n",
    "                    ^\n",
    "SyntaxError: invalid syntax\n",
    "```\n",
    "\n",
    "First, it specifies the file, which in this case is a cell in ipython. Then, it specifies what line in the file, or here, *line 1*. It displays that line and points an arrow to where they think the problem is (it is sometimes further from the place you would think!). Finally, it gives the type of error, \"SyntaxError: invalid syntax\", showing that we have a syntax error. And we do, we are missing a colon to indicate the for loop. "
   ]
  },
  {
   "cell_type": "markdown",
   "metadata": {},
   "source": [
    "**Runtime errors** are also fairly straightforward - they aren't mistakes in the 'grammar' of Python, but they occur during execution of Python because something a function or method was expecting in Python is not present. \n",
    "\n",
    "Consider one example of a runtime error below - before running it, try to guess what will go wrong!"
   ]
  },
  {
   "cell_type": "code",
   "execution_count": null,
   "metadata": {},
   "outputs": [],
   "source": [
    "biodept = ['Wu', 'Yang', 'Stenger','Pierce']\n",
    "print (biodept[10])"
   ]
  },
  {
   "cell_type": "markdown",
   "metadata": {},
   "source": [
    "This error is called the `IndexError`:\n",
    "\n",
    "```python\n",
    "---------------------------------------------------------------------------\n",
    "IndexError                                Traceback (most recent call last)\n",
    "<ipython-input-10-9d37abefe9a1> in <module>\n",
    "      1 biodept = ['Wu', 'Yang', 'Stenger','Pierce']\n",
    "----> 2 print (biodept[10])\n",
    "\n",
    "IndexError: list index out of range\n",
    "```\n",
    "\n",
    "Here, it points at the line causing a problem and says \"IndexError: list index out of range\". Indeed, we are asking for the tenth element, which does not exist. We asked Python to tell us the element at index 10, which was grammatically correct, but when Python tried to do so, there was no element at index 10 - thus, it produced an error! Problems like this are runtime errors. Other common runtime errors include `KeyError` (when Python cannot find a key for a dictionary that you asked for) and `TypeError` (when Python expects a particular variable type to run a function or method)."
   ]
  },
  {
   "cell_type": "markdown",
   "metadata": {},
   "source": [
    "## Easier to Ask Forgiveness than Permission: Try and Except\n",
    "\n",
    "\"Errors should never pass silently. Unless explicitly silenced.\" -- The Zen of Python, by Tim Peters\n",
    "\n",
    "The **try** and **except** statements let us attempt to do something that may or may not work, and then respond appropriately if or when something goes wrong. For example, sometimes the file we want to work with isn't available for some reason (and if you're really lucky, it's only because you forgot to plug in an external hard drive or you're in the wrong folder).\n",
    "\n",
    "Run the following:"
   ]
  },
  {
   "cell_type": "code",
   "execution_count": null,
   "metadata": {},
   "outputs": [],
   "source": [
    "fh = open(\"this_file_contains_our_ticket_to_the_nobel_prize.txt\",'r')"
   ]
  },
  {
   "cell_type": "markdown",
   "metadata": {},
   "source": [
    "When a file does not exist, we get a `FileNotFoundError` stopping the script completely. However, if we anticipate a file might not exist and want the script to keep running if an error occurs, we can use **try** and **except**. \n"
   ]
  },
  {
   "cell_type": "code",
   "execution_count": null,
   "metadata": {},
   "outputs": [],
   "source": [
    "try:\n",
    "    fh = open(\"this_file_contains_our_ticket_to_the_nobel_prize.txt\",'r')\n",
    "except OSError: ##except FileNotFoundError:\n",
    "    print (\"The ticket to the Nobel does not exist. I guess we got to go about it the normal way.\")"
   ]
  },
  {
   "cell_type": "markdown",
   "metadata": {},
   "source": [
    "Notice that both `OSError` and `FileNotFoundError` work with the **except**. This is because the `FileNotFoundError` is a subcategory of `OSError`. See a hierarchy of errors [here](https://docs.python.org/3/library/exceptions.html#exception-hierarchy). \n",
    "\n",
    "This means that when there is an`OSError`, rather than making python fail, the program should do something in particular (print a line saying as much, in this case).\n",
    "\n",
    "Sometimes you might have a section of code where multiple things could go wrong. In that case, you can respond to each of them appropriately using multiple **except** statements. It's even possible to have an **except statement** without listing the type of error, which will deal with anything not handled by one of the previous **except** statements.\n",
    "\n",
    "Save the following to a file called \"lesson6_errors.py\" and try the following in a Bash Terminal or using `%%bash` in Jupter Notebook:\n",
    "\n",
    "```bash\n",
    "python lesson6_errors1.py 1\n",
    "python lesson6_errors1.py a\n",
    "python lesson6_errors1.py\n",
    "python lesson6_errors1.py 0\n",
    "```"
   ]
  },
  {
   "cell_type": "code",
   "execution_count": null,
   "metadata": {},
   "outputs": [],
   "source": [
    "%%writefile /scratch/myang_shared/lab/mel/PythonBootcamp/lessons/lesson6_errors1.py\n",
    "\n",
    "import sys\n",
    " \n",
    "def dividetwo(num):\n",
    "    return 2/num\n",
    " \n",
    "try:\n",
    "    print (dividetwo(float(sys.argv[1])))\n",
    "except ValueError:\n",
    "    print ('not a float!')\n",
    "except IndexError:\n",
    "    print ('did you put a number in the command line?')\n",
    "except:\n",
    "    print ('Some other error!')"
   ]
  },
  {
   "cell_type": "code",
   "execution_count": null,
   "metadata": {},
   "outputs": [],
   "source": [
    "%%bash\n",
    "\n",
    "pd=\"/scratch/myang_shared/lab/mel/PythonBootcamp/lessons/\" ##Make sure this path is to the right directory\n",
    "\n",
    "python ${pd}lesson6_errors1.py 1\n"
   ]
  },
  {
   "cell_type": "markdown",
   "metadata": {},
   "source": [
    "It's considered slightly bad form, however, to have a catch-all **except** block. If you didn't anticipate the error, it will probably be helpful to you to get the default error message, even if it is a little arcane, rather than a message like the above, which is pretty darn vague.\n",
    "\n",
    "A list with the default kinds of errors (also called \"exceptions\") with more description is shown here: [the list of Built-in Exceptions](http://docs.python.org/library/exceptions.html) in the Python Documentation.\n",
    "\n",
    "### Else and Finally\n",
    "\n",
    "Similar to the use of **else** in for and while loops, anything in an **else** block will run *only if* no errors happened. On the other hand, anything in a **finally** block runs after the try/except blocks, and will run regardless of whether an exception was thrown. If there was an exception, it doesn't stop it from being thrown, it just waits a bit before it does. Execute the next cell to retain a function called `divide` to use in the following cells. "
   ]
  },
  {
   "cell_type": "code",
   "execution_count": null,
   "metadata": {},
   "outputs": [],
   "source": [
    "def divide(x,y):\n",
    "    try:\n",
    "        result = x/y\n",
    "    except ZeroDivisionError:\n",
    "        print (\"Warning: divide by zero!\")\n",
    "        return float('NaN') #Not a number\n",
    "    else:\n",
    "        return 'myresult!',result\n",
    "    finally:\n",
    "        print (x,y,\"executing final clause\")"
   ]
  },
  {
   "cell_type": "markdown",
   "metadata": {},
   "source": [
    "Now let's try `divide` on a series of numbers!"
   ]
  },
  {
   "cell_type": "code",
   "execution_count": null,
   "metadata": {},
   "outputs": [],
   "source": [
    "print (\"Note that divide(2,1) runs normally, but it prints the 'finally' condition\")\n",
    "print (divide(2,1))"
   ]
  },
  {
   "cell_type": "markdown",
   "metadata": {},
   "source": [
    "The first case made it through the division just fine."
   ]
  },
  {
   "cell_type": "code",
   "execution_count": null,
   "metadata": {},
   "outputs": [],
   "source": [
    "print (\"Note that divide(2,0) goes to the 'except' condition and returns what's in there - the 'finally' condition is also printed\")\n",
    "print (divide(2,0))"
   ]
  },
  {
   "cell_type": "markdown",
   "metadata": {},
   "source": [
    "The second case raised an exception (a division by zero error), but we anticipated that, so we replace it with a special Not a Number value, and move on."
   ]
  },
  {
   "cell_type": "code",
   "execution_count": null,
   "metadata": {},
   "outputs": [],
   "source": [
    "print (\"Note that divide('A','B') prints the 'finally' condition just fine, but ultimately gives an error\")\n",
    "print (divide('A','B'))"
   ]
  },
  {
   "cell_type": "markdown",
   "metadata": {},
   "source": [
    "The third case we found an exception that we didn't anticipate. The exception came up, so we still ran the finally clause, but then raised the exception. This might be useful if you want the program to still finish up despite the error (output whatever has already been done by the script, perhaps)."
   ]
  },
  {
   "cell_type": "markdown",
   "metadata": {},
   "source": [
    "## Help yourself!\n",
    "\n",
    "You have learned a bit about how to deal with errors, and the rest of the lesson will be on helpful commands and ways of thinking to help you write efficient and useful code. \n",
    "\n",
    "Try out the function `dir`. With no argument, it shows a list of all available functions and variables. Don't worry too much about the **__variable__** you see - these are internal objects and not ones we generally mess with. \n",
    "\n",
    "If you add an argument, such as a variable you have made, it shows all the possible methods that can act upon that object. \n",
    "\n",
    "Another function `help` takes the argument of the method or function and will give a short summary of what the argument does. This is much like using the 'tab' key or the ?, but a slightly different way of viewing things. "
   ]
  },
  {
   "cell_type": "code",
   "execution_count": null,
   "metadata": {},
   "outputs": [],
   "source": [
    "x = 1\n",
    "dir(x)\n",
    "\n",
    "#After looking at what dir() does, uncomment help() to see what it does.\n",
    "#help(x)"
   ]
  },
  {
   "cell_type": "markdown",
   "metadata": {},
   "source": [
    "### Profiling\n",
    "\n",
    "One thing pretty valuable that IPython (through Jupyter Notebook) lets us do easily is \"profiling\" our code, which is a way to see where all the time is being spent. Now, I've said earlier that it's better to do something slow and simply, than (potentially) super-fast and complicated, but if you find that you're doing something a lot, it may be worthwhile to spend some time figuring out how to make it faster (especially if that comes at a low complexity cost).\n",
    "\n",
    "Save the following fasta parser to the file `lesson6_fastaparser1.py`."
   ]
  },
  {
   "cell_type": "code",
   "execution_count": null,
   "metadata": {},
   "outputs": [],
   "source": [
    "%%writefile /scratch/myang_shared/lab/mel/PythonBootcamp/lessons/lesson6_fastaparser1.py\n",
    "\n",
    "import sys\n",
    "\n",
    "def fastaParser(filename):\n",
    "   current_gene = \"\"\n",
    "   genes = {}\n",
    "   fh = open(filename, 'r')\n",
    " \n",
    "   for line in fh:\n",
    "       line = line.strip()\n",
    "       if line.startswith('>'):\n",
    "           current_gene = line[1:]\n",
    "           genes[current_gene] = ''\n",
    "       else:\n",
    "            join(genes, current_gene, line) \n",
    "   return genes\n",
    " \n",
    "def join(gene_dict, gene, line):\n",
    "    gene_dict[gene] += line\n",
    " \n",
    "genomes = fastaParser(sys.argv[1])\n",
    " \n",
    "print (\"There are\", len(genomes), \"sequences.\")"
   ]
  },
  {
   "cell_type": "markdown",
   "metadata": {},
   "source": [
    "Find an open Terminal window and log into Spydur. Type **ipython** into your terminal. This should start an Interactive Python console. \n",
    "\n",
    "In this Interactive Python console, you can use not only python commands but also Linux commands! Navigate to your `lessons/` directory containing your \"lesson6_fastaparser.py\" and run it as such:\n",
    "\n",
    "```bash\n",
    "run -p lesson6_fastaparser1.py ../resources/seq.fasta\n",
    "```\n",
    "\n",
    "Your screen should show up with something like the following, printing the results, and then sharing information about the command. After the output of your script, the first row should indicate the number of commands used in the script, followed by the total time the script took to run. For this small FASTA file, it took 0.001 seconds. Then, you should see a list of these commands, with the amount of time taken per command - they are sorted from commands that took the most time to commands that took the least.  This view allows us to see the time taken to run different commands that make the Python script work. However, the `seq.fasta` file, the information is not very useful, as it took barely any time to run. \n",
    "\n",
    "```\n",
    "There are 3 sequences.\n",
    "         105 function calls (104 primitive calls) in 0.001 seconds\n",
    "\n",
    "   Ordered by: internal time\n",
    "\n",
    "   ncalls  tottime  percall  cumtime  percall filename:lineno(function)\n",
    "        3    0.000    0.000    0.000    0.000 {built-in method io.open}\n",
    "        1    0.000    0.000    0.000    0.000 {built-in method builtins.compile}\n",
    "        2    0.000    0.000    0.000    0.000 {method '__exit__' of '_io._IOBase' objects}\n",
    "      2/1    0.000    0.000    0.001    0.001 {built-in method builtins.exec}\n",
    "        1    0.000    0.000    0.001    0.001 interactiveshell.py:2733(safe_execfile)\n",
    "        1    0.000    0.000    0.000    0.000 lesson6_fastaparser1.py:2(<module>)\n",
    "        1    0.000    0.000    0.000    0.000 lesson6_fastaparser1.py:4(fastaParser)\n",
    "        1    0.000    0.000    0.000    0.000 {built-in method builtins.print}\n",
    "        1    0.000    0.000    0.000    0.000 syspathcontext.py:48(__enter__)\n",
    "        1    0.000    0.000    0.000    0.000 {method 'read' of '_io.BufferedReader' objects}\n",
    "        1    0.000    0.000    0.001    0.001 py3compat.py:164(execfile)\n",
    "        1    0.000    0.000    0.000    0.000 posixpath.py:334(normpath)\n",
    "        1    0.000    0.000    0.000    0.000 posixpath.py:150(dirname)\n",
    "        2    0.000    0.000    0.000    0.000 _bootlocale.py:33(getpreferredencoding)\n",
    "        2    0.000    0.000    0.000    0.000 codecs.py:309(__init__)\n",
    "\n",
    "...\n",
    "```\n",
    "\n",
    "Let's try out a bigger file: `cerevisiae_genome.fasta`, using the same `run` command. \n",
    "\n",
    "We can see it took ~6 seconds total to complete the run, and then we see that different steps within the python script were recorded and then the times were listed from longest to shortest. Here, we see the `join` function we created took the longest, taking the majority of the total time used. \n",
    "\n",
    "In the join function, we see lines of sequences are being concatenated together using '+='. This is fine for short strings, but it gets very slow the longer the strings are. \n",
    "```python\n",
    "def join(gene_dict, gene, line):\n",
    "    gene_dict[gene] += line\n",
    "```\n",
    "\n",
    "We can instead join strings a different way - repeat the python run for `cerevisiae_genome.fasta`, but this time, use the parser below: `lesson6_fastaparser2.py`:"
   ]
  },
  {
   "cell_type": "code",
   "execution_count": null,
   "metadata": {},
   "outputs": [],
   "source": [
    "%%writefile /scratch/myang_shared/lab/mel/PythonBootcamp/lessons/lesson6_fastaparser2.py\n",
    "\n",
    "import sys\n",
    "\n",
    "def fastaParser(filename):\n",
    "   current_gene = \"\"\n",
    "   genes = {}\n",
    "   fh = open(filename, 'r')\n",
    " \n",
    "   for line in fh:\n",
    "       line = line.strip()\n",
    "       if line.startswith('>'):\n",
    "           current_gene = line[1:]\n",
    "           genes[current_gene] = []  ##CHANGE\n",
    "       else: \n",
    "            join(genes, current_gene, line) \n",
    "   \n",
    "    ##CHANGE ADDED FOR LOOP\n",
    "   for gene in genes:\n",
    "       genes[gene] = ''.join(genes[gene])\n",
    "   return genes\n",
    " \n",
    "def join(gene_dict, gene, line):\n",
    "    gene_dict[gene].append(line)   ##CHANGE\n",
    " \n",
    "genomes = fastaParser(sys.argv[1])\n",
    " \n",
    "print (\"There are\", len(genomes), \"sequences.\")"
   ]
  },
  {
   "cell_type": "markdown",
   "metadata": {},
   "source": [
    "```bash\n",
    "         813658 function calls (813657 primitive calls) in 0.259 seconds\n",
    "\n",
    "   Ordered by: internal time\n",
    "\n",
    "   ncalls  tottime  percall  cumtime  percall filename:lineno(function)\n",
    "        1    0.125    0.125    0.252    0.252 lesson6_fastaparser2.py:4(fastaParser)\n",
    "   202628    0.041    0.000    0.055    0.000 lesson6_fastaparser2.py:22(join)\n",
    "   202645    0.032    0.000    0.032    0.000 {method 'strip' of 'str' objects}\n",
    "   202650    0.030    0.000    0.030    0.000 {method 'startswith' of 'str' objects}\n",
    "   202635    0.014    0.000    0.014    0.000 {method 'append' of 'list' objects}\n",
    "       18    0.008    0.000    0.008    0.000 {method 'join' of 'str' objects}\n",
    "        1    0.006    0.006    0.006    0.006 {method 'read' of '_io.BufferedReader' objects}\n",
    "     1511    0.002    0.000    0.002    0.000 {built-in method _codecs.utf_8_decode}\n",
    "     1511    0.001    0.000    0.003    0.000 codecs.py:319(decode)\n",
    "        1    0.001    0.001    0.001    0.001 {built-in method builtins.compile}\n",
    "        3    0.000    0.000    0.000    0.000 {built-in method io.open}\n",
    "      2/1    0.000    0.000    0.259    0.259 {built-in method builtins.exec}\n",
    "        1    0.000    0.000    0.252    0.252 lesson6_fastaparser2.py:2(<module>)\n",
    "\n",
    "...\n",
    "```\n",
    "\n",
    "Now, the second script took <0.5 seconds (for me, it took 0.259 seconds), and the **join** function is much faster.\n",
    "\n",
    "The change is that rather than building a string, we are adding strings to a list. Lists have been optimized such that you can add to them, and they don't slow down computing power as they get longer. Then, once everything is in a list, we go through for all of the keys and use the string's **join** method (which is different from the `join` function we wrote), which will combine all the items in the list, putting an empty string between them.\n",
    "\n",
    "So now we see that our second `join` function is about 100 times faster, and we spend almost no time at all in the extra string joining. Plus, the code is not really that much more complicated.\n",
    "\n",
    "Here, the difference between 6 seconds and 0.259 seconds doesn't seem like much, but the `cerevisiae_genome.fasta` file is not very big. Imagine if you wanted to do the same, but on a much bigger file - those tiny seconds start adding up and can make a difference between whether your code runs for a week versus an hour!\n",
    "\n",
    "A general piece of advice is not to try to optimize your code until *after* you've profiled it. Otherwise, you might spend a lot of time making something largely irrelevant twice as fast, but only improve your total speed by a very tiny amount.\n",
    "\n",
    "For a link to common errors to consider, look [here](https://pythonforbiologists.com/29-common-beginner-errors-on-one-page.html). There's a handy PDF graphic that might be good to print and keep nearby until you're more comfortable with troubleshooting errors."
   ]
  },
  {
   "cell_type": "markdown",
   "metadata": {},
   "source": [
    "## Stubbing and the 'pass' statement\n",
    "\n",
    "Lastly, we have to think about how we organize our code. A useful thing to do before beginning is to write out some ***pseudocode***. This is not real code, but you laying out some framework within which your code details will be put in - generally this is not something you can run, but more like note-taking so you can start visualizing what you need to do to bring all the different components of your code together. \n",
    "\n",
    "When we write complicated code, we need to decompose it into simpler parts. This is an intuitive concept, and one that we've touched on before. ***Stubbing*** is writing what your program should be doing (in the correct form for a python script to run!), without actually getting around to filling in the details. It's like writing an outline of a paper.\n",
    "\n",
    "Let's say that we want to make a program that gambles online and makes money for you so that you are free to pursue the standard academic career path of postdoctoral positions ad infinitum. I would start stubbing such a program with some big picture ideas: the program has to log on to a gambling server, keep track of your balance, and play until you win or go home.\n",
    "\n",
    "```python\n",
    "import sys\n",
    " \n",
    "import internet\n",
    "import games\n",
    " \n",
    "account_name = sys.argv[1]\n",
    "password = sys.argv[2]\n",
    " \n",
    " \n",
    "balance, session_info = internet.logOnToIllegalGamblingServer(account_name,password)\n",
    " \n",
    "while balance > 0:\n",
    " \n",
    "    balance = games.playGame('slots',balance,session_info)\n",
    " \n",
    "    if balance > 1000000000:\n",
    " \n",
    "        print ('Congratulations you are a billionare!')\n",
    "        internet.logOffFromIllegalGamblingServer()\n",
    "        sys.exit()\n",
    " \n",
    "print ('Darn')\n",
    "internet.logOffFromIllegalGamblingServer()\n",
    "```\n",
    "\n",
    "`internet` and `games` are not built into python - we'll have to write the functions in them ourselves eventually. However, now we have a better idea of what these functions should look like, and what they need to do. For now, let's use a new concept to fill these functions in and allow us to run and test this code: the statement __pass__. It's pretty simple: it does nothing. Although this sounds somewhat pointless, in this case it allows you to write little function stubs without Python (or your text editor) complaining. However, it pops up in other places as well, usually as a shortcut where you mean to write more code later. This could be in an __if__ or __else__ statement or while raising an exception. Each of those cases requires something after the colon for it to be valid Python, and **pass** is a valid way to put in something that does nothing. We won't cover those applications here, but keep them in mind while you're programming: we encourage you to try it out.\n",
    "\n",
    "Notice also that in each function, I write a few comments to help me remember what I want to put in the function, and what I want to get out of it.\n",
    "\n",
    "_internet.py_\n",
    "```python\n",
    "##input: two strings, account_name and password\n",
    "##output: the balance and session info for the associated account\n",
    "def logOnToIllegalGamblingServer(account_name,password):\n",
    "    pass\n",
    " \n",
    "##logs the user off from the server\n",
    "def logOffFromIllegalGamblingServer():\n",
    "    pass\n",
    "```\n",
    "\n",
    "_games.py_\n",
    "```python\n",
    "def playGame(game_name,balance,session_info):\n",
    "    ##input: a string game_name, an int balance, and the session information\n",
    "    ##output: the new balance after playing a round of a a game\n",
    "    if game_name == 'slots':\n",
    "        balance = playSlots(balance,session_info)\n",
    "    else:\n",
    "        print (f\"Game {game_name} not found, please pick another\")\n",
    "    return balance\n",
    " \n",
    "def playSlots(balance,session_info):\n",
    "    ##input: an int balance and the session info\n",
    "    ##output: the new balance after playing a round of slots\n",
    "    current_bet = getBet(balance)\n",
    "    balance = balance - current_bet\n",
    "    current_result = pullLever()\n",
    "    winnings = calcWinnings(current_result,current_bet)\n",
    "    balance = balance + winnings\n",
    "    return balance\n",
    " \n",
    "def getBet(balance):\n",
    "    ##input: an int balance\n",
    "    ##output: a valid bet given the current balance\n",
    "    ##prompts the user to make a bet\n",
    "    pass\n",
    " \n",
    "def pullLever():\n",
    "    ##output: a list of the results of a single slot machine game\n",
    "    pass\n",
    " \n",
    "def calcWinnings(current_result,current_bet):\n",
    "    ##input: a list of results from a slot machine game, and an int bet\n",
    "    ##output: an int of the total winnings (if any) earned from the game\n",
    "    pass\n",
    "```"
   ]
  },
  {
   "cell_type": "markdown",
   "metadata": {},
   "source": [
    "## Summing up\n",
    "I've already taught you the basics you need to write simple python scripts. The next three lessons mostly focus on introducing you to several useful modules, including ones for plotting data (**matplotlib**), statistical analyses (**scipy.stats**), using arrays (**numpy**), and running UNIX commands from python (**subprocess**). We may not get to these this semester, which is okay! With what you have from Lessons 1-5, you have plenty to begin parsing through data, setting up input files, and calculating basic stats for analysis. Most importantly, if you want to do something you don't know yet, you have the beginning logic and vocabulary to begin looking for more resources yourself from the world wide web. Have fun!"
   ]
  }
 ],
 "metadata": {
  "kernelspec": {
   "display_name": "Python 3 (ipykernel)",
   "language": "python",
   "name": "python3"
  },
  "language_info": {
   "codemirror_mode": {
    "name": "ipython",
    "version": 3
   },
   "file_extension": ".py",
   "mimetype": "text/x-python",
   "name": "python",
   "nbconvert_exporter": "python",
   "pygments_lexer": "ipython3",
   "version": "3.9.13"
  }
 },
 "nbformat": 4,
 "nbformat_minor": 2
}
