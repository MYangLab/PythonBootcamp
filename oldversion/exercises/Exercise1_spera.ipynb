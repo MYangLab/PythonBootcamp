{
 "cells": [
  {
   "cell_type": "markdown",
   "metadata": {},
   "source": [
    "## Exercise 1.1: Final installation check.\n",
    "If you have not logged into Spydur or gotten Python and the Jupyter Notebook to work, then that is the first step! Please let your instructor know ASAP if this is an issue!\n"
   ]
  },
  {
   "cell_type": "markdown",
   "metadata": {},
   "source": [
    "## Exercise 1.2: Organizing and reviewing Linux\n",
    "A. If you haven't already, make a folder called PythonBootcamp/ in your home directory. Make sure there is an `exercises/` folder, a `lessons/` folder, and a `resources/` folder.  \n",
    "\n",
    "B. Navigate to `/scratch/myang_shared/lab/steph/GeogKidsData/`. From the `USW00012839.csv` file, tell me what 1) where geographically is this data from; 2) how many years of data is collected and what is the time-step of that data (hours, days, months, years, decades, etc), 3) what the data is - i.e. what variable is it, and 4) the units of that variable.\n"
   ]
  },
  {
   "cell_type": "markdown",
   "metadata": {},
   "source": [
    "## Exercise 1.3: Richmond Data\n",
    "A. Go to this [NOAA PAGE](https://www.ncei.noaa.gov/access/monitoring/climate-at-a-glance/city) and download csv files of annual maximum temperature, minimum temperature, and precipitation time-series data for Richmond, VA between 1895-2023 and upload them to your `resources` folder. You can do this by manually downloading the file and then uploading it to the server like we worked through in Lesson 1, but I will walk as through an easier way for 'Precipitation' and then you will do the same for 'Maximum Temperature and 'Minimum Temperature.'\n",
    "\n",
    "On NOAA City Time Series page, choose:\n",
    "Parameter: Precipitation\n",
    "Time Scale: 12-Month\n",
    "Month: December\n",
    "Start year: 1895\n",
    "End year: 2023\n",
    "State: Virginia\n",
    "City: Richmond\n",
    "\n",
    "Plot. \n",
    "\n",
    "Under the plot, there are three buttons. Right click on the `csv` button and click, `Copy link address.` \n",
    "\n",
    "Then, in your `resources` folder, we're going to use the [`wget`](https://www.hostinger.com/tutorials/wget-command-examples/) [command](https://unix.stackexchange.com/questions/47434/what-is-the-difference-between-curl-and-wget). \n",
    "To get a file from a webpage and store that file w a specific file name, the format is:\n",
    "`wget -O specificFileName.csv http://webpagefile.com/`\n",
    "\n",
    "So for us, that would be:\n",
    "\n",
    "\n",
    "```bash\n",
    "wget -O rvaPrecip.csv https://www.ncei.noaa.gov/access/monitoring/climate-at-a-glance/city/time-series/USW00013740/pcp/12/12/1895-2023.csv?base_prd=true&begbaseyear=1991&endbaseyear=2020 \n",
    "```\n",
    "**note: you may have to hit enter twice w the command above**\n",
    "\n",
    "B. Download the minimum temperature and maximum temperature data into your `resources` file as well.\n",
    "\n",
    "C. Using the linux commands you learned in Less 1. For each file, tell me how many years of data there are, if there are any years that do not have data, and the units for each of these varibles.\n",
    "\n",
    "D. Using linux's wc command, figure out how many lines of data there are in each file.\n"
   ]
  },
  {
   "cell_type": "markdown",
   "metadata": {},
   "source": [
    "## Exercise 1.4: Regional Temperature Data\n",
    "A. Navigate to `/scratch/myang_shared/lab/steph/GeogKidsData/`. Using linux commands, copy both the `mxtemp_e.csv` and `mntemp_e.csv` files in your `resources` directory. **Do not move the file, just copy it**. \n",
    "\n",
    "B. Focusing on the `mntemp_e.csv` file: What is this data of? What are the units? How many columns of data are there? What are their titles.\n",
    "\n",
    "B. What does 'Base Period' mean? \n",
    "\n",
    "C. Which states are included in the \"Eastern\" region?\n"
   ]
  },
  {
   "cell_type": "markdown",
   "metadata": {},
   "source": [
    "## Exercise 1.5: Using the Wildcard\n",
    "From your `resources` directory, see if you can predict what each of these commands will do (then try it):\n",
    "```bash\n",
    "head *\n",
    "head *.csv\n",
    "head *temp*\n",
    "grep 'Units' *\n",
    "head *.csv | grep 'Base Period'\n",
    "```\n"
   ]
  },
  {
   "cell_type": "markdown",
   "metadata": {},
   "source": [
    "## Exercise 1.6: Moving beyond the lecture\n",
    "A. Use Google and any other references you want to find a command that tells you how much disk space you have left.\n",
    "\n",
    "B. Use the **man** command to see how it works.\n",
    "\n",
    "C. How much space is left on your system? Find the option that makes the command output in terms of gigabytes and megabytes - the 'human-readable' form.\n"
   ]
  },
  {
   "cell_type": "markdown",
   "metadata": {},
   "source": [
    "## Exercise 1.7: Python Basics\n",
    "Let's move on to python! Open a new Jupyter notebook. \n",
    "\n",
    "A. Set two variables **x** and **y** to any two numbers. \n",
    "\n",
    "B. Print out x/y in both fraction and decimal form.\n"
   ]
  },
  {
   "cell_type": "markdown",
   "metadata": {},
   "source": [
    "## Exercise 1.8: Temperature confusion\n",
    "Americans are a bit silly and use the Fahrenheit system. Thus, we often have trouble understanding the temperature when written in Celsius. Write me a script where you set a variable to a temperature in Fahrenheit and it prints out the temperature in Celsius. \n",
    "\n",
    "A. Write this script to a file labeled *F2C.py*. Run this program through the Terminal.\n"
   ]
  },
  {
   "cell_type": "markdown",
   "metadata": {},
   "source": [
    "## Exercise 1.9: Plotting!\n",
    "Okay, let's dabble in python and plotting for a hotsecond. We're going to jump right in with some python packages.\n",
    "Take 5 full minutes and read about python scripts (which we've been writing), modules, and packages [here](https://www.udacity.com/blog/2021/01/what-is-a-python-package.html).\n",
    "\n",
    "It's important to undertand that python is a programming language made of modules - and modules are just sets of related code that contain variables, definitions and instructions. Modules are often organized into packages. Python comes with some packages built in that support your everyday tasks like reading and writing files, and then there are special packages like 'pandas' which helps you organize data, and 'sciPy' for statistics, 'matplotlib' for graphing, and, you guessed it 'ArcPy' that allow you to work with spatial data. I used the [spatial analysis](https://pro.arcgis.com/en/pro-app/latest/arcpy/spatial-analyst/what-is-the-spatial-analyst-module.htm) module in the ArcPy python package almost every day in graduate school. We'll delve into Arcpy a little later because you essentially need to have access to/use ArcGIS Pro open to use it. There are 'free' python spatial analysis packages like GDAL that allow you to do learn the basics of python that we will later apply to ArcGIS. \n",
    "\n",
    "In a new Jupyter Notebook cell (type `B`), write the following code:\n",
    "\n",
    "```python \n",
    "# import packages\n",
    "import os #os is a systems package\n",
    "\n",
    "import matplotlib.pyplot as plt #import the matplotlib package that when we call it in our code, we'll refer to it as 'plt'\n",
    "import pandas as pd #import the pandas package that when we call it in our code, we'll refer to it as 'pd'\n",
    "\n",
    "# read in the Richmond csv you downloaded\n",
    "# try reading in the precipitation file you downloaded with the simple pandas function 'read_csv'. \n",
    "pcpRVA = pd.read_csv('/home/sspera/PyBootcamp/resources/rvaPrecip.csv')\n",
    "\n",
    "# what happens? why do you think this happened?\n",
    "# try this ammended code:\n",
    "pcpRVA = pd.read_csv('/home/sspera/PyBootcamp/resources/rvaPrecip.csv', skiprows=4) #why did we skip the first 4 rows\n",
    "\n",
    "# let's look at the first 5 rows of data\n",
    "pcpRVA.head() \n",
    "\n",
    "# let's ammend this too, with that useful information from the header\n",
    "pcpRVA = pd.read_csv('/home/sspera/PyBootcamp/resources/rvaPrecip.csv', skiprows=4, na_values=-99)\n",
    "\n",
    "# view the first 5 rows of data\n",
    "pcpRVA.head()\n",
    "\n",
    "# now lets' look into the dataset. in Pandas, this table format is referred to as a dataframe. You can view some stats about the dataframe including the number of columns and rows in the data, and the data types using .info()\n",
    "pcpRVA.info()\n",
    "\n",
    "# plot the data\n",
    "f, ax = plt.subplots()\n",
    "pcpRVA.plot(x='Date', \n",
    "            y=('Value'), \n",
    "            title = 'Richmond, Annual Precipitation (mm)', \n",
    "            ax=ax)\n",
    "ax.set(xlabel='Date', \n",
    "       ylabel='Precipitation (mm)')\n",
    "plt.show\n",
    "\n",
    "# precipitation data is better plotted as a bar graph and not line\n",
    "f, ax = plt.subplots()\n",
    "pcpRVA.plot(x='Date', \n",
    "            y=('Value'), \n",
    "            title = 'Richmond, Annual Precipitation (mm)', \n",
    "            kind = 'bar',\n",
    "            ax=ax)\n",
    "ax.set(xlabel='Date', \n",
    "       ylabel='Precipitation (mm)')\n",
    "plt.show\n",
    "\n",
    "```\n",
    "You can find more info on all the cool things you can do with matplotlib.pyplot [here](https://matplotlib.org/stable/tutorials/pyplot.html)\n",
    "\n",
    "A. Make two new plots of the minimum temperature data and maximum temperature data. Use points instead of lines and change the color of the points to red and orange. \n"
   ]
  },
  {
   "cell_type": "markdown",
   "metadata": {},
   "source": [
    "## Challenge Problem\n",
    "\n",
    "Open a new cell. Copy the code below into your code. Run the code. It should download and open a new dataset that has CO2 emissions for a field site in Barrow, Alaska (brw).\n",
    "\n",
    "The code below will download your data into your working directory. You should be able to open it using the filename `co2-emissions-barrow.csv`\n",
    "\n",
    "```python\n",
    "# Download greenhouse gas CO2 data\n",
    "import urllib.request\n",
    "\n",
    "greenhouse_gas_url = \"ftp://aftp.cmdl.noaa.gov/data/trace_gases/co2/in-situ/surface/brw/co2_brw_surface-insitu_1_ccgg_MonthlyData.txt\"\n",
    "\n",
    "urllib.request.urlretrieve(url=greenhouse_gas_url,\n",
    "                           filename=\"co2-emissions-barrow.csv\")\n",
    "```\n",
    "\n",
    "Once you have downloaded the data\n",
    "* A. Read the data in using pandas.\n",
    "* B. Plot the data using pandas: plot the \"time_decimal\" column on the x-axis and \"value\" on the y-axis."
   ]
  },
  {
   "cell_type": "markdown",
   "metadata": {},
   "source": [
    "You've finished all exercises! Take a moment to jot down some questions/comments to yourself - consider the following:\n",
    "\n",
    "1. What do you feel comfortable with?\n",
    "2. What are questions you still have?\n",
    "3. What types of problems would you like more of?\n",
    "4. About how long did Lesson 1 take you? "
   ]
  }
 ],
 "metadata": {
  "kernelspec": {
   "display_name": "Python 3 (ipykernel)",
   "language": "python",
   "name": "python3"
  },
  "language_info": {
   "codemirror_mode": {
    "name": "ipython",
    "version": 3
   },
   "file_extension": ".py",
   "mimetype": "text/x-python",
   "name": "python",
   "nbconvert_exporter": "python",
   "pygments_lexer": "ipython3",
   "version": "3.9.13"
  }
 },
 "nbformat": 4,
 "nbformat_minor": 1
}
