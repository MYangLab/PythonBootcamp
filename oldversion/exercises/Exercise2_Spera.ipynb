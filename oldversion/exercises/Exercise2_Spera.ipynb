{
 "cells": [
  {
   "cell_type": "markdown",
   "metadata": {},
   "source": [
    "# Dictionaries (again)\n",
    "##### Modified from WISCONSIN Center for Sutainability\n",
    "\n",
    "Remember, we can add lists together with labels (called keys) to make a dict. Another way to think about this, is in a dictionary, the key is the column header and the data are values. They go together in a {key:value} pair. You can think of this like a table where the key is the column label and the values are the entries in that column. Values can be anything, any type of data, and they don't have to be the same in a {key:value} pair. \n",
    "\n",
    "You can tell something is a dict and not a list because curly brackets are used { }. There is also always a colon : between the key and the values. \n"
   ]
  },
  {
   "cell_type": "code",
   "execution_count": 5,
   "metadata": {},
   "outputs": [
    {
     "name": "stdout",
     "output_type": "stream",
     "text": [
      "{'column1': [1, 2, 4, 8, 16, 32]}\n"
     ]
    }
   ],
   "source": [
    "# list format reminder\n",
    "list3 = [16.0,12.0,23.7,18.2]\n",
    "\n",
    "# dictionaries\n",
    "dict1 = {'column1':[1,2,4,8,16,32]}\n",
    "dict2 = {'Numbers':[1,2,3,4],'Fruit':['apples','bananas','oranges','lemons'],'Randoms':list3}\n",
    "print(dict1)"
   ]
  },
  {
   "cell_type": "markdown",
   "metadata": {},
   "source": [
    "Ok, let's break down the printed dict a little more. The curly brackets { } tell us everything we printed is a dict. Inside that dict, we have a str that is the key. Then we have a colon : that tells us the values for the key are coming up. Next, we have straight brackets [ ] surrounding the values. The straight brackets indicate a list, and the values are elements in that list. "
   ]
  },
  {
   "cell_type": "markdown",
   "metadata": {},
   "source": [
    "If you want to know what your keys or values are without printing the whole dict, you can call these items."
   ]
  },
  {
   "cell_type": "code",
   "execution_count": 6,
   "metadata": {},
   "outputs": [
    {
     "name": "stdout",
     "output_type": "stream",
     "text": [
      "dict_keys(['column1'])\n",
      "dict_values([[1, 2, 4, 8, 16, 32]])\n"
     ]
    }
   ],
   "source": [
    "# The keys in dict1:\n",
    "print(dict1.keys())\n",
    "\n",
    "# The corresponding values:\n",
    "print(dict1.values())"
   ]
  },
  {
   "cell_type": "markdown",
   "metadata": {},
   "source": [
    "Easy, right? Now, what if you want to know the values of a certain key? Try this statement: dict_name['key_name']:"
   ]
  },
  {
   "cell_type": "code",
   "execution_count": 7,
   "metadata": {},
   "outputs": [
    {
     "name": "stdout",
     "output_type": "stream",
     "text": [
      "[1, 2, 4, 8, 16, 32]\n"
     ]
    }
   ],
   "source": [
    "print(dict1['column1'])"
   ]
  },
  {
   "cell_type": "markdown",
   "metadata": {},
   "source": [
    "Since the values in our dict are elements of a list, we can call a specific element using its index. But first we must indicate which column of data we want by using the key."
   ]
  },
  {
   "cell_type": "code",
   "execution_count": 8,
   "metadata": {},
   "outputs": [
    {
     "name": "stdout",
     "output_type": "stream",
     "text": [
      "2\n"
     ]
    }
   ],
   "source": [
    "print(dict1['column1'][1])\n",
    "# this code is saying find the 2nd element in column1 of dict1, remember indexing starts at 0"
   ]
  },
  {
   "cell_type": "markdown",
   "metadata": {},
   "source": [
    "Now that we understand all the {key:value} pairs, we can use pandas (a Python package) to do fancy stuff to our dict."
   ]
  },
  {
   "cell_type": "markdown",
   "metadata": {},
   "source": [
    "# DataFrames!\n",
    "Let's make a table using pandas!\n",
    "\n",
    "Reminder from Lesson/Exercise 1, python is a language, and inside every language there are different types of words. In English, we have parts of speech like nouns, verbs, adjectives, etc. In Python, we have *packages* like Numpy, Scipy, pandas, etc. Each package has a specific purpose, Numpy = matrix math, Scipy = Science-based analysis, pandas = spreadsheet operations (like Excel). Each part of speech has many different categories and words. For example, we have abstract nouns, proper nouns, collective nouns, common nouns, but they are all types of nouns. In a Python package like Numpy, we have different *commands* that tell us what is happening in our Python sentence. \n"
   ]
  },
  {
   "cell_type": "code",
   "execution_count": 14,
   "metadata": {
    "scrolled": true
   },
   "outputs": [
    {
     "name": "stdout",
     "output_type": "stream",
     "text": [
      "   column1\n",
      "0        1\n",
      "1        2\n",
      "2        4\n",
      "3        8\n",
      "4       16\n",
      "5       32\n"
     ]
    }
   ],
   "source": [
    "import pandas as pd\n",
    "\n",
    "df = pd.DataFrame(data=dict1) # we already imported pandas, so we don't need to do it again\n",
    "print(df)"
   ]
  },
  {
   "cell_type": "markdown",
   "metadata": {},
   "source": [
    "df is our first table! In pandas, these are called DataFrames. We can make any DataFrame using the pd.DataFrame command and inputing a dictionary for the data argument. The list of numbers on the left side are the indexes. The default, if you don't specify the index when you make the DataFrame, is to number the rows starting at 0. We can change the column names or the indexes using pandas commands."
   ]
  },
  {
   "cell_type": "code",
   "execution_count": 15,
   "metadata": {
    "scrolled": true
   },
   "outputs": [
    {
     "name": "stdout",
     "output_type": "stream",
     "text": [
      "   Numbers    Fruit  Randoms\n",
      "0        1   apples     16.0\n",
      "1        2  bananas     12.0\n",
      "2        3  oranges     23.7\n",
      "3        4   lemons     18.2\n"
     ]
    }
   ],
   "source": [
    "df1 = pd.DataFrame(data=dict2)\n",
    "print(df1)"
   ]
  },
  {
   "cell_type": "code",
   "execution_count": 16,
   "metadata": {
    "scrolled": true
   },
   "outputs": [
    {
     "name": "stdout",
     "output_type": "stream",
     "text": [
      "           Fruit  Randoms\n",
      "Numbers                  \n",
      "1         apples     16.0\n",
      "2        bananas     12.0\n",
      "3        oranges     23.7\n",
      "4         lemons     18.2\n"
     ]
    }
   ],
   "source": [
    "df2 = df1.set_index('Numbers')\n",
    "print(df2)"
   ]
  },
  {
   "cell_type": "markdown",
   "metadata": {},
   "source": [
    "Let's check-in Yes, in the example above, the first column of df1, named \"Numbers\", became the index of df2. But let's break this down a bit. \n",
    "\n",
    "First, we made a new DataFrame called df2. We said df2 is equal to df1 BUT changing the indexes for the values in  column 1. This also means that the index label is the key from column 1 in df1. By making column 1 our index, we removed this column from the table. Now there are only two {key:value} data pairs in the DataFrame. \n",
    "\n",
    "When we say there are only two {key:value} pairs in the DataFrame, we mean that Numbers is no longer a key! It has become the index label. We can still call the Fruit and Randoms keys, but we cannot treat Numbers the same way."
   ]
  },
  {
   "cell_type": "code",
   "execution_count": 18,
   "metadata": {
    "scrolled": true
   },
   "outputs": [
    {
     "name": "stdout",
     "output_type": "stream",
     "text": [
      "Numbers\n",
      "1     apples\n",
      "2    bananas\n",
      "3    oranges\n",
      "4     lemons\n",
      "Name: Fruit, dtype: object\n"
     ]
    }
   ],
   "source": [
    "print(df2['Fruit'])"
   ]
  },
  {
   "cell_type": "code",
   "execution_count": 19,
   "metadata": {
    "scrolled": true
   },
   "outputs": [
    {
     "ename": "KeyError",
     "evalue": "'Numbers'",
     "output_type": "error",
     "traceback": [
      "\u001b[0;31m---------------------------------------------------------------------------\u001b[0m",
      "\u001b[0;31mKeyError\u001b[0m                                  Traceback (most recent call last)",
      "\u001b[0;32m/usr/local/sw/anaconda/anaconda3/lib/python3.9/site-packages/pandas/core/indexes/base.py\u001b[0m in \u001b[0;36mget_loc\u001b[0;34m(self, key)\u001b[0m\n\u001b[1;32m   3652\u001b[0m         \u001b[0;32mtry\u001b[0m\u001b[0;34m:\u001b[0m\u001b[0;34m\u001b[0m\u001b[0;34m\u001b[0m\u001b[0m\n\u001b[0;32m-> 3653\u001b[0;31m             \u001b[0;32mreturn\u001b[0m \u001b[0mself\u001b[0m\u001b[0;34m.\u001b[0m\u001b[0m_engine\u001b[0m\u001b[0;34m.\u001b[0m\u001b[0mget_loc\u001b[0m\u001b[0;34m(\u001b[0m\u001b[0mcasted_key\u001b[0m\u001b[0;34m)\u001b[0m\u001b[0;34m\u001b[0m\u001b[0;34m\u001b[0m\u001b[0m\n\u001b[0m\u001b[1;32m   3654\u001b[0m         \u001b[0;32mexcept\u001b[0m \u001b[0mKeyError\u001b[0m \u001b[0;32mas\u001b[0m \u001b[0merr\u001b[0m\u001b[0;34m:\u001b[0m\u001b[0;34m\u001b[0m\u001b[0;34m\u001b[0m\u001b[0m\n",
      "\u001b[0;32m/usr/local/sw/anaconda/anaconda3/lib/python3.9/site-packages/pandas/_libs/index.pyx\u001b[0m in \u001b[0;36mpandas._libs.index.IndexEngine.get_loc\u001b[0;34m()\u001b[0m\n",
      "\u001b[0;32m/usr/local/sw/anaconda/anaconda3/lib/python3.9/site-packages/pandas/_libs/index.pyx\u001b[0m in \u001b[0;36mpandas._libs.index.IndexEngine.get_loc\u001b[0;34m()\u001b[0m\n",
      "\u001b[0;32mpandas/_libs/hashtable_class_helper.pxi\u001b[0m in \u001b[0;36mpandas._libs.hashtable.PyObjectHashTable.get_item\u001b[0;34m()\u001b[0m\n",
      "\u001b[0;32mpandas/_libs/hashtable_class_helper.pxi\u001b[0m in \u001b[0;36mpandas._libs.hashtable.PyObjectHashTable.get_item\u001b[0;34m()\u001b[0m\n",
      "\u001b[0;31mKeyError\u001b[0m: 'Numbers'",
      "\nThe above exception was the direct cause of the following exception:\n",
      "\u001b[0;31mKeyError\u001b[0m                                  Traceback (most recent call last)",
      "\u001b[0;32m/tmp/ipykernel_3269938/398444312.py\u001b[0m in \u001b[0;36m<module>\u001b[0;34m\u001b[0m\n\u001b[0;32m----> 1\u001b[0;31m \u001b[0mprint\u001b[0m\u001b[0;34m(\u001b[0m\u001b[0mdf2\u001b[0m\u001b[0;34m[\u001b[0m\u001b[0;34m'Numbers'\u001b[0m\u001b[0;34m]\u001b[0m\u001b[0;34m)\u001b[0m\u001b[0;34m\u001b[0m\u001b[0;34m\u001b[0m\u001b[0m\n\u001b[0m",
      "\u001b[0;32m/usr/local/sw/anaconda/anaconda3/lib/python3.9/site-packages/pandas/core/frame.py\u001b[0m in \u001b[0;36m__getitem__\u001b[0;34m(self, key)\u001b[0m\n\u001b[1;32m   3759\u001b[0m             \u001b[0;32mif\u001b[0m \u001b[0mself\u001b[0m\u001b[0;34m.\u001b[0m\u001b[0mcolumns\u001b[0m\u001b[0;34m.\u001b[0m\u001b[0mnlevels\u001b[0m \u001b[0;34m>\u001b[0m \u001b[0;36m1\u001b[0m\u001b[0;34m:\u001b[0m\u001b[0;34m\u001b[0m\u001b[0;34m\u001b[0m\u001b[0m\n\u001b[1;32m   3760\u001b[0m                 \u001b[0;32mreturn\u001b[0m \u001b[0mself\u001b[0m\u001b[0;34m.\u001b[0m\u001b[0m_getitem_multilevel\u001b[0m\u001b[0;34m(\u001b[0m\u001b[0mkey\u001b[0m\u001b[0;34m)\u001b[0m\u001b[0;34m\u001b[0m\u001b[0;34m\u001b[0m\u001b[0m\n\u001b[0;32m-> 3761\u001b[0;31m             \u001b[0mindexer\u001b[0m \u001b[0;34m=\u001b[0m \u001b[0mself\u001b[0m\u001b[0;34m.\u001b[0m\u001b[0mcolumns\u001b[0m\u001b[0;34m.\u001b[0m\u001b[0mget_loc\u001b[0m\u001b[0;34m(\u001b[0m\u001b[0mkey\u001b[0m\u001b[0;34m)\u001b[0m\u001b[0;34m\u001b[0m\u001b[0;34m\u001b[0m\u001b[0m\n\u001b[0m\u001b[1;32m   3762\u001b[0m             \u001b[0;32mif\u001b[0m \u001b[0mis_integer\u001b[0m\u001b[0;34m(\u001b[0m\u001b[0mindexer\u001b[0m\u001b[0;34m)\u001b[0m\u001b[0;34m:\u001b[0m\u001b[0;34m\u001b[0m\u001b[0;34m\u001b[0m\u001b[0m\n\u001b[1;32m   3763\u001b[0m                 \u001b[0mindexer\u001b[0m \u001b[0;34m=\u001b[0m \u001b[0;34m[\u001b[0m\u001b[0mindexer\u001b[0m\u001b[0;34m]\u001b[0m\u001b[0;34m\u001b[0m\u001b[0;34m\u001b[0m\u001b[0m\n",
      "\u001b[0;32m/usr/local/sw/anaconda/anaconda3/lib/python3.9/site-packages/pandas/core/indexes/base.py\u001b[0m in \u001b[0;36mget_loc\u001b[0;34m(self, key)\u001b[0m\n\u001b[1;32m   3653\u001b[0m             \u001b[0;32mreturn\u001b[0m \u001b[0mself\u001b[0m\u001b[0;34m.\u001b[0m\u001b[0m_engine\u001b[0m\u001b[0;34m.\u001b[0m\u001b[0mget_loc\u001b[0m\u001b[0;34m(\u001b[0m\u001b[0mcasted_key\u001b[0m\u001b[0;34m)\u001b[0m\u001b[0;34m\u001b[0m\u001b[0;34m\u001b[0m\u001b[0m\n\u001b[1;32m   3654\u001b[0m         \u001b[0;32mexcept\u001b[0m \u001b[0mKeyError\u001b[0m \u001b[0;32mas\u001b[0m \u001b[0merr\u001b[0m\u001b[0;34m:\u001b[0m\u001b[0;34m\u001b[0m\u001b[0;34m\u001b[0m\u001b[0m\n\u001b[0;32m-> 3655\u001b[0;31m             \u001b[0;32mraise\u001b[0m \u001b[0mKeyError\u001b[0m\u001b[0;34m(\u001b[0m\u001b[0mkey\u001b[0m\u001b[0;34m)\u001b[0m \u001b[0;32mfrom\u001b[0m \u001b[0merr\u001b[0m\u001b[0;34m\u001b[0m\u001b[0;34m\u001b[0m\u001b[0m\n\u001b[0m\u001b[1;32m   3656\u001b[0m         \u001b[0;32mexcept\u001b[0m \u001b[0mTypeError\u001b[0m\u001b[0;34m:\u001b[0m\u001b[0;34m\u001b[0m\u001b[0;34m\u001b[0m\u001b[0m\n\u001b[1;32m   3657\u001b[0m             \u001b[0;31m# If we have a listlike key, _check_indexing_error will raise\u001b[0m\u001b[0;34m\u001b[0m\u001b[0;34m\u001b[0m\u001b[0m\n",
      "\u001b[0;31mKeyError\u001b[0m: 'Numbers'"
     ]
    }
   ],
   "source": [
    "print(df2['Numbers'])"
   ]
  },
  {
   "cell_type": "markdown",
   "metadata": {},
   "source": [
    "This long error message ends with \"KeyError: 'Numbers'\". This is saying 'Numbers' is not a key, so you can't use it to select those values. Instead, we must call the DataFrame indexes."
   ]
  },
  {
   "cell_type": "code",
   "execution_count": 20,
   "metadata": {},
   "outputs": [
    {
     "name": "stdout",
     "output_type": "stream",
     "text": [
      "Index([1, 2, 3, 4], dtype='int64', name='Numbers')\n"
     ]
    }
   ],
   "source": [
    "print(df2.index)"
   ]
  },
  {
   "cell_type": "markdown",
   "metadata": {},
   "source": [
    "Now let's change the column labels!"
   ]
  },
  {
   "cell_type": "code",
   "execution_count": 21,
   "metadata": {},
   "outputs": [
    {
     "name": "stdout",
     "output_type": "stream",
     "text": [
      "   Friday   Monday  Thursday\n",
      "0       1   apples      16.0\n",
      "1       2  bananas      12.0\n",
      "2       3  oranges      23.7\n",
      "3       4   lemons      18.2\n"
     ]
    }
   ],
   "source": [
    "df3 = df1.rename(columns={'Numbers':'Friday','Fruit':'Monday','Randoms':'Thursday'})\n",
    "print(df3)"
   ]
  },
  {
   "cell_type": "markdown",
   "metadata": {},
   "source": [
    "In the example above, we renamed all our columns using the rename command. We started with uur original df1, which had 3 columns. Columns 1, 2, and 3 of df1 now have new names: Friday, Monday, Thursday.\n",
    "\n",
    "We'll explore pandas in more detail in a later module. "
   ]
  },
  {
   "cell_type": "code",
   "execution_count": null,
   "metadata": {},
   "outputs": [],
   "source": []
  },
  {
   "cell_type": "markdown",
   "metadata": {},
   "source": [
    "## Applying our skills to ArcGIS Pro\n",
    "\n",
    "JUST ADD LINK TO PDF IF/WHEN TIME COMES\n",
    "\n",
    "\n",
    "\n",
    "\n"
   ]
  },
  {
   "cell_type": "code",
   "execution_count": null,
   "metadata": {},
   "outputs": [],
   "source": []
  },
  {
   "cell_type": "markdown",
   "metadata": {},
   "source": [
    "## Exercise 2.1: The Greeter\n",
    "A. Write a program that asks for the user's name and tells them hello. Try it first in a cell but then write it to a file and execute it in the Terminal.\n",
    "\n",
    "B. Add on to the script, making it ask for your year of birth. Make the script compute your age and print it in the following format: \n",
    "```\n",
    "Since you were born in 1988, your age is 28.\n",
    "```\n"
   ]
  },
  {
   "cell_type": "markdown",
   "metadata": {
    "collapsed": true
   },
   "source": [
    "## Exercise 2.2: Numbers, numbers everywhere\n",
    "A. Take Exercise 1.8 and re-write it so that the two numbers are inputted into the program rather than directly set to a variable. Have it print the fraction and decimal to screen as normal. Figure out how to make this program fail - how many can you come up with?\n",
    "\n",
    "**Exercise 1.8 Lazy...fractionator:** Set two variables **x** and **y** to any two numbers. Print out x/y in both fraction and decimal form.\n",
    "\n",
    "Try it out by inputting some numbers - check for any errors and record them as you go. \n",
    "\n",
    "B. Write a script where you read five numbers in. Print out their sum and mean.\n",
    "\n",
    "C. Enter two numbers and store these in two variables called **input1** and **input2**. Swap the values of the two variables so **input1** and **input2** switch values. However, do this in only one line of code and without introducing new variables.\n",
    "\n",
    "D. CHALLENGE: First, ask the user to specify a number of digits (e.g. 1-digit numbers, 2-digit numbers, etc.). Then, Ask the user to supply five numbers of that many digits separated by spaces. Parse these numbers out, and calculate sum and mean as in Exercise 2.2B. Try doing this without using any additional variables! (Use only the one that contains the string that you read in.)\n"
   ]
  },
  {
   "cell_type": "markdown",
   "metadata": {},
   "source": [
    "## Exercise 2.3: Crazy strings\n",
    "Reproduce the triple-quoted string from earlier\n",
    "```python\n",
    "s = '''hello \"world\", if that is your real name. \n",
    "That's World, to you'''\n",
    "```\n",
    "in just one string using single or double quotes. Make sure you have the line break and all the quotes and apostrophes in there!\n"
   ]
  },
  {
   "cell_type": "markdown",
   "metadata": {},
   "source": [
    "## Exercise 2.4: New Data Structures\n",
    "\n",
    "For each of the lines below, add comments detailing what each line in the script above is doing. Then run these commands and make sure you are correct. \n"
   ]
  },
  {
   "cell_type": "code",
   "execution_count": null,
   "metadata": {},
   "outputs": [],
   "source": [
    "L = [1,2,3] + [4,5,6]\n",
    "print (L, L[:], L[:0], L[-2], L[-2:])\n",
    "print ()\n",
    "\n",
    "L.reverse()\n",
    "print (L)\n",
    "print ()\n",
    "\n",
    "L.sort()\n",
    "print (L)\n",
    "print ()\n",
    "\n",
    "idx = L.index(4)\n",
    "print (idx)\n",
    "print ()\n",
    "\n",
    "print ({'a':1, 'b':2}['b'])\n",
    "print ()\n",
    "\n",
    "D = {'x':1, 'y':2, 'z':3}\n",
    "D['w'] = 0\n",
    "print (D['x'] + D['w'])\n",
    "print (D.keys(), D.values(), 'z' in D)"
   ]
  },
  {
   "cell_type": "markdown",
   "metadata": {},
   "source": [
    "## Exercise 2.5: Meet your classmates!\n",
    "Take a moment to list FIVE of your friends' names. Make a list (called **friends**) containing their names. \n",
    "\n",
    "A. What happens when you try to index out of bounds (eg. __friends[15]__)?\n",
    "\n",
    "B. What about slicing out of bounds (eg. __friends[-100:100]__, __friends[30:50]__, __friends[2:10]__)?\n",
    "\n",
    "C. What happens when you try to extract a sequence in reverse--with the lower bound greater than the higher bound (e.g. __friends[3:1]__)? What happens when you try assigning __friends[3:1] = ['?']__? \n",
    "\n",
    "D. Add your own name to the middle of the list by indexing, then add my name to the list ('Mel') by using the __insert()__ method that we discussed in class. See what happens if you use indexing to add the string 'AHHH' to the list using the index __[3:5]__ or __[4:2]__.\n"
   ]
  },
  {
   "cell_type": "markdown",
   "metadata": {},
   "source": [
    "## Exercise 2.6: Slicing\n",
    "A. Set a variable **x** to the string \"Yang Lab\" Apply the function **list**. What happens to the string?\n",
    "\n",
    "B. Now set the outcome of 2.6A to a new variable **y**. What happens in each of the cases below? \n",
    "```python\n",
    "print ('1', y)\n",
    "print ('2', y[2:])\n",
    "print ('3', y[:4])\n",
    "print ('4', y[1:3])\n",
    "print ('5', y[-1:])\n",
    "print ('6', y[-2:])\n",
    "print ('7', y[:-1])\n",
    "print ('8', y[1:4:2])\n",
    "print ('9', y[::-1])\n",
    "```\n",
    "\n",
    "C. Take this list of numbers: \n",
    "```python\n",
    "mylst = [0,1,2,3,4,5,6,7,8,9]\n",
    "```\n",
    "Using slicing, print a list of only even numbers, only odd numbers, and only numbers divisible by four. \n"
   ]
  },
  {
   "cell_type": "markdown",
   "metadata": {},
   "source": [
    "## Exercise 2.7: Make some friends\n",
    "For each friend in Exercise 2.5, we'll make a list of their favorite food, activity, and the month they were born.  Create a dictionary to store this information, making their names keys and their the list of information on them values. \n",
    "\n",
    "A. What happens if you try to index a non-existent key (e.g. `print (D['Terry'])`)?\n",
    "\n",
    "B. What happens if you try to assign to a non-existent key (e.g. `D['Terry'] = '?'`)?\n",
    "\n",
    "C. How does this compare to out-of-bound assignments for lists?\n",
    "\n",
    "D. Write the code to print the names of any classmates with a birthday in July (with no errors produced) - think about combining the **for loop** and the **if statement**. \n"
   ]
  },
  {
   "cell_type": "code",
   "execution_count": null,
   "metadata": {},
   "outputs": [],
   "source": []
  },
  {
   "cell_type": "markdown",
   "metadata": {},
   "source": [
    "## Exercise 2.8: Sets, sets, sets!\n",
    "\n",
    "This lesson, you learned about many ways to group data. Here is one more, Sets!  Like a set in mathematics, it has a bunch of elements with no repeats.  To build a set, you pass in a list, and it will automatically remove duplicates.\n",
    "```python\n",
    "myset = set([1,1,2,3,5,8])\n",
    "\n",
    "set([8, 1, 2, 3, 5])\n",
    "```\n",
    "\n",
    "Google \"python Sets\" and see if you can learn a bit more about them. They have many methods and we will learn a few. \n",
    "\n",
    "Take the following two sets:\n",
    "```python\n",
    "beijing_unis = {\"Beida\",\"CAS\",\"Qinghua\",\"Renmin\"}\n",
    "china_unis = {\"Beida\",\"CAS\",\"Qinghua\",\"Renmin\",\"Jilin\",\"Fudan\"}\n",
    "```\n",
    "Can you figure out how to get the union of these two sets? The intersection? The Chinese universities that are not in Beijing? Look up the methods associated with Sets, and consider using the **??** option when using Jupyter notebooks to see details on different methods. \n"
   ]
  },
  {
   "cell_type": "markdown",
   "metadata": {},
   "source": [
    "## Exercise 2.9: Pulling it all together (Challenge!)\n",
    "Your boss has asked you to do a small bioinformatics project on LeuT (pdb code 2Q6H), which is the neurotransmitter responsible for transporting antidepressants. To help you out, I am providing a script (see below) that will read in a file and save the protein sequence to a list called protSeq. I have commented the code, but there are many things in here you haven't learned yet.\n",
    "\n",
    "HINT: Protein Databank (PDB) structure files are stored at http://www.rcsb.org/. Use the pdb code to find the amino acid structure. The structure file can be downloaded from Download Files >> PDB Format (don't use the one with the 'gz' option). __Move the structure file into your `resources/` directory - try refreshing your memory on Linux commands.__\n",
    "\n",
    "So, using the code below, you can access the list of all amino acids stored as the list variable `protSeq` (you may need to rewrite the file path if you get an error and it says you can't find the file - it should work if you set it up like I did in your `resources/` folder). You can start by printing this variable and proving to yourself that the list contains the information you think it does. Then add to the code to answer the following questions:\n",
    "\n",
    "A. How many total amino acids are in the protein?\n",
    "B. Print out total count of each amino acid in alphabetical order.\n",
    "C. Can you do part B with **sets** instead?"
   ]
  },
  {
   "cell_type": "code",
   "execution_count": null,
   "metadata": {},
   "outputs": [],
   "source": [
    "#initialize list to store sequence\n",
    "protSeq = []\n",
    "#open pdb file\n",
    "f1 = open('../resources/2q6h.pdb', 'r')\n",
    "#loop over lines in file\n",
    "for next in f1:\n",
    "    #identify lines that contain sequences\n",
    "    if next[:6] == 'SEQRES':\n",
    "        #strip away white space and\n",
    "        #convert line into list\n",
    "        line = next.strip().split()\n",
    "        #delete descriptor information\n",
    "        #at beginning of each line\n",
    "        del line[:4]\n",
    "        #loop over amino acids in line\n",
    "        for aa in line:\n",
    "            #add to sequence list\n",
    "            protSeq.append(aa)\n",
    "#close file\n",
    "f1.close()\n"
   ]
  },
  {
   "cell_type": "markdown",
   "metadata": {},
   "source": [
    "## Exercise 2.10: Back to SGDPinfo.txt (Challenge!)\n",
    "\n",
    "A. In Lesson 2, I gave you a Python list of the unique population IDs from `SGDPinfo.txt`. This script is how I obtained that list. Most of it are things you haven't learned yet, but let's try to take the code and understand it a bit better. From Lesson 2, you should have some recognize some functions/methods from sections 2 and 4 of the code. Work through those lines, commenting as needed, to better understand what I did. \n",
    "\n",
    "B. Then, let's tweak the code to get other types of information. Edit the code to obtain the following:\n",
    "1. The total number of individuals in this dataset. Note that SGDP_ID should be unique, though you can doublecheck this by adding a line to the code. \n",
    "2. The unique list of all countries \n",
    "3. The number of males and females (Due to some bad line coding, the indices may not be lined up correctly - try thinking of alternative ways of accessing that column - let me know if you're having difficulty.)"
   ]
  },
  {
   "cell_type": "code",
   "execution_count": null,
   "metadata": {},
   "outputs": [],
   "source": [
    "## 1. Open file and display the column information.\n",
    "myfile=open(\"../resources/SGDPinfo.txt\",encoding=\"Latin 1\")\n",
    "header=myfile.readline().split()\n",
    "print (\"This is the header in list form:\", header)\n",
    "print ()\n",
    "\n",
    "## 2. Move information from the wanted column into the list mypopn\n",
    "mypopn=[]\n",
    "for line in myfile: #This you have not learned yet, but it basically allows you to loop over each line in the file. \n",
    "    x=line.split('\\t') #You haven't learned this yet either, but look up the split method - what is it doing?\n",
    "    if x[0]!=\"\": #You haven't learned if statements like this, but you will in Lesson 3!\n",
    "        mypopn.append(x[2]) \n",
    "        \n",
    "## 3. Close the file\n",
    "myfile.close()\n",
    "\n",
    "## 4. Get the unique set of population IDs. \n",
    "myuniqpopn = list(dict.fromkeys(mypopn))\n",
    "print (myuniqpopn)"
   ]
  },
  {
   "cell_type": "code",
   "execution_count": null,
   "metadata": {},
   "outputs": [],
   "source": []
  }
 ],
 "metadata": {
  "kernelspec": {
   "display_name": "Python 3 (ipykernel)",
   "language": "python",
   "name": "python3"
  },
  "language_info": {
   "codemirror_mode": {
    "name": "ipython",
    "version": 3
   },
   "file_extension": ".py",
   "mimetype": "text/x-python",
   "name": "python",
   "nbconvert_exporter": "python",
   "pygments_lexer": "ipython3",
   "version": "3.9.13"
  }
 },
 "nbformat": 4,
 "nbformat_minor": 1
}
