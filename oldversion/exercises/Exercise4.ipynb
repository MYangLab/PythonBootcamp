{
 "cells": [
  {
   "cell_type": "markdown",
   "metadata": {},
   "source": [
    "## Exercise 4.1: splits vs. partitions\n",
    "\n",
    "A. What happens if you specify a delimiter that is not present in the **split** method? What about the **partition** method? Can you think of any reason(s) related to this difference that would why you might prefer to use one method versus another?\n",
    "\n",
    "B. What happens if you join a list using the empty string as a delimiter? Make a reasonable guess and then test this out.\n"
   ]
  },
  {
   "cell_type": "markdown",
   "metadata": {},
   "source": [
    "## Exercise 4.2: Split drills ---\n",
    "Take the string \n",
    "```python\n",
    "mylab=\"Yang Lab, Department of Biology, University of Richmond, Richmond, Virginia, USA\"\n",
    "```\n",
    "and using something we learned, re-create the following lists.\n",
    "\n",
    "```python\n",
    "A. ['Yang', 'Lab,', 'Department', 'of', 'Biology,', 'University', 'of', 'Richmond,', 'Richmond,', 'Virginia,', 'USA']\n",
    "\n",
    "B. ['Yang Lab', ' Department of Biology', ' University of Richmond', ' Richmond', ' Virginia', ' USA']\n",
    "\n",
    "C. ['Yang Lab, Department ', ' Biology, University ', ' Richmond, Richmond, Virginia, USA']\n",
    "\n",
    "D. ['Yang Lab, Department of Biology, University of Richmond, Richmond, Virginia, USA']\n",
    "\n",
    "E. \"USA\"\n",
    "\n",
    "F. ['Yang Lab, Department of Biology, University of Richmond, ', ', Virginia, USA']\n",
    "```\n"
   ]
  },
  {
   "cell_type": "markdown",
   "metadata": {},
   "source": [
    "## Exercise 4.3: Formatting and manipulating strings ---\n",
    "\n",
    "Take the string `mylab` above and do the following:\n",
    "\n",
    "A. Make all letters upper case.\n",
    "\n",
    "B. Using the original string, switch the case of each letter. \n",
    "\n",
    "C. Using the original string, replace the word \"University of Richmond\" with \"UR\" and \"USA\" with \"U.S.A.\", and \"Department of Biology\" with \"Best Department Ever\". \n",
    "\n",
    "D. Turn the string in part C into a list of each word, and then join every other word starting with the first into a string, separated by commas. \n",
    "\n",
    "E. Using the string in part D, replace all commas with a tab, \"\\t\".\n"
   ]
  },
  {
   "cell_type": "markdown",
   "metadata": {},
   "source": [
    "## Exercise 4.4: read()\n",
    "\n",
    "What does the method **read** do that is different from **readlines** and **readline**?? Use a combination of searching this using \"??\", online searches, and test out a script using this method. \n"
   ]
  },
  {
   "cell_type": "markdown",
   "metadata": {},
   "source": [
    "## Exercise 4.5: Pairwise combos ---\n",
    "\n",
    "A. Within the four nucleotide bases \"AGCT\", there are six unique combinations. Write a script using a nested for loop that will write to a new file each of these pairs in a new line with a set number of dashes '------' separating the two.  (Ex. A------T)\n",
    "\n",
    "B. Then, reopen the file you made in part A, read in each of your pairs, and write them in reverse order, all in lower case. \n"
   ]
  },
  {
   "cell_type": "markdown",
   "metadata": {},
   "source": [
    "## Exercise 4.6: Baby's first Fasta parser, revisited\n",
    "\n",
    "Let's return to your script for reading in fasta files from Exercise 3.4. You will update this script to make it more flexible. Currently, the script reads in three genes and three sequences, putting all such information into a dictionary. You will make two major changes:\n",
    "\n",
    "A. You will first adjust the inputting genes/sequences part of the script so that you can indefinitely keep adding genes and sequences. Make sure you specify a way to tell the program you no longer want to input these data and you want to move to the next part of the script. Remember, software often has to be used by others who didn't write the script! Make sure to add commands that make it clear what the user must do, without them reading the raw script!\n",
    "\n",
    "B. Upon finishing inputting data, you will write a new fasta file (perhaps also ask the user to create a name for the new fasta file), containing the inputted data. Remember that a fasta file has the format:\n",
    "```\n",
    ">genename1\n",
    "AAGTTCT \n",
    ">genename2\n",
    "TTCACCATATAGGGGGGATATCCT\n",
    "```"
   ]
  },
  {
   "cell_type": "markdown",
   "metadata": {},
   "source": [
    "## Exercise 4.7: More Fasta file parsing\n",
    "\n",
    "Copy the text below into a text file in the resources/ folder and label it *seq.fasta*. Remember you can use %%writefile to do this.\n",
    "\n",
    "```\n",
    ">gene1\n",
    "ATGAGACGTAGTGCCAGTAGCGCGATGTAGCG\n",
    "ATGACGCATGACGCGCGACGCGCGAGTGAGCC\n",
    "ATACGCACGCATTGGCA\n",
    ">gene2\n",
    "ATGTTCGACGCATACGACGCGCAGTACCAGCA\n",
    "ATGACGCACCGGGATACACGACGCGGATTTTT\n",
    "ACGCACCGAGATAGCATAAAAGACCATTAG\n",
    ">gene3\n",
    "TTATGGCACCCACTAGAGCCAGATTATTTTAAA\n",
    "```\n",
    "\n",
    "Write a script called *read_fasta.py* that will open this file, read the lines, and store the data as a dictionary keyed by gene with the sequences as values. Make sure the sequences are contiguous (i.e. contain no endline ('\\n') characters), and make sure to remove the > from the names of the genes. \n",
    "\n",
    "Thus, you are using %%writefile to write the Pythons script, and you will run it in Terminal using the following. Make sure your python script prints out the dictionary so it's easy to check if you followed the instructions correctly. \n",
    "```bash\n",
    "python read_fasta.py\n",
    "```\n",
    "\n",
    "\n"
   ]
  },
  {
   "cell_type": "markdown",
   "metadata": {},
   "source": [
    "## Exercise 4.8: Neanderthals ---\n",
    "Here, the goal is to parse through two Neanderthal mtDNA sequences and count the number of differences between the two. The ones we will compare are [Mezmaiskaya 1](https://www.ncbi.nlm.nih.gov/nuccore/FM865411.1) and [El Sidron 1253](https://www.ncbi.nlm.nih.gov/nuccore/FM865409.1). \n",
    "\n",
    "A. The above links lead to the NCBI database where you will retrieve the mtDNA sequences. At the top right, you will see the \"Send to:\" button. Click it and then click \"File\" under \"Choose Destination\". Then click \"FASTA\" under \"Format\". Finally, click \"Create File\". \n",
    "\n",
    "B. Using Linux commands, move these two files to the resources/ folder (perhaps with a new more identifying name). Then, place them in the same FASTA file (by concatenating) under a new name **neanderthals.fasta**. \n",
    "\n",
    "C. Write a script where you read this file, and parse through the sequence data, storing them in a list or dictionary (You could start with the code from your script in Exercise 4.6!). \n",
    "\n",
    "D. Then compare the two sequences to each other and determine the fraction of the mtDNA sequence where there are mutations (the two nucleotide bases differ). \n"
   ]
  },
  {
   "cell_type": "markdown",
   "metadata": {},
   "source": [
    "## Exercise 4.9: Getting real and old, Python style! (CHALLENGE! Do if there's time)\n",
    "\n",
    "A. From Exercise 1.3, find your `cerevisiae_genome.fasta` file. From there, use Python to determine the number of chromosomes in the fasta file (Ex 1.3D) and the total number of base pairs in the genome (Ex 1.3E). Can you get the same numbers as in Exercise 1.3?\n",
    "\n",
    "B. In Exercise 1.7, parts C, D, and E. I asked you to use Linux commands to find the number of each sex, the amount of missing data, and whether certain individuals had genotype calls or only allele calls. Can you write a Python script that will do the equivalent of everything you did in Linux?"
   ]
  },
  {
   "cell_type": "markdown",
   "metadata": {},
   "source": [
    "## Exercise 4.10: Returning to the lesson ---\n",
    "\n",
    "If you haven't done it already, revisit the last question on Lesson 4. Can you successfully do this?\n",
    "\n",
    "**From Lesson 4**\n",
    "\n",
    "As a quick check, can you take the **51.2.2M.ind** file in the `resources/` folder, and then use Python to make a new file containing the same information, in all upper case, with only tabs separating between columns, with no extra white space at the beginning? Name the new file **51.2.2M.edited.ind** and put it in `scratchwork/`. \n",
    "\n",
    "The beginning of the file would look like this:\n",
    "```\n",
    "BICHON  M       BICHON\n",
    "KK1     M       KOTIAS\n",
    "SATP    M       SATSURBLIA\n",
    "MOTALA12        M       MOTALA12\n",
    "I9030   M       VILLABRUNA\n",
    "I0898   M       KOSTENKI12\n",
    "I0062   M       VESTONICE16\n",
    "I0876   M       KOSTENKI14\n",
    "I0066.DAMAGE    M       PAVLOV1\n",
    "I0909.DAMAGE    F       MUIERII2\n",
    "```"
   ]
  },
  {
   "cell_type": "code",
   "execution_count": null,
   "metadata": {},
   "outputs": [],
   "source": []
  }
 ],
 "metadata": {
  "kernelspec": {
   "display_name": "Python 3 (ipykernel)",
   "language": "python",
   "name": "python3"
  },
  "language_info": {
   "codemirror_mode": {
    "name": "ipython",
    "version": 3
   },
   "file_extension": ".py",
   "mimetype": "text/x-python",
   "name": "python",
   "nbconvert_exporter": "python",
   "pygments_lexer": "ipython3",
   "version": "3.9.13"
  }
 },
 "nbformat": 4,
 "nbformat_minor": 2
}
